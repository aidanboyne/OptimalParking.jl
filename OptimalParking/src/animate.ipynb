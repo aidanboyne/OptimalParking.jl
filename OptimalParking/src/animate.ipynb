{
 "cells": [
  {
   "attachments": {},
   "cell_type": "markdown",
   "metadata": {},
   "source": [
    "# Optimal Parking\n",
    "---\n",
    "\n",
    "In crowded urban areas, attempting to find street parking near your destination can be a stressful and aggravating task. You might attempt to pull into a spot only to find you lack the space (or perhaps the skill) to fit in the narrow gap. Even worse, you might find that inconsiderate drivers have managed to take up 5 potential spots with only three vehicles. Considering varying vehicle size, perfect use of curb space in a busy environment is unlikley. What we attempt to find in this paper is an optimal parking strategy, that if followed, would lead to the most vehicles finding a spot near their destination.\n",
    "\n",
    "To takle the problem, we consider example situations of increasing complexity, starting from a single curb and working up to a busy college residential neighborhood. \n",
    "\n",
    "Each driver with a specified car, skill, parking duration, distance tolerance, and parking policy. \n",
    "- For simplicity, the size of each car is modeled as a gaussian distrubution with mean of 4.25m and standard-deviation of .5m. During sampling, cars with a length of less than 3 or greater than 5.5 meters are rounded up or down to these respective bounds.\n",
    "- Skills dictate what percentage greater than the length of the car is required for the driver to actually park the car if parallel parking is necessary. Though parallel parking is technically feasable in any space longer than the car itself [[1]](http://www.damtp.cam.ac.uk/user/md327/ISlecture_notes_2012.pdf), drivers will not attempt to park in any space with less than 1 meter of free-room, regardless of skill. Skill also determines how close to other cars the driver will park in the case that the space does not require parallel parking (i.e they can pull in or back in directly).\n",
    "- Parking duration is the amount of time (measured in park attempts) that the driver will remain parked. For example, a driver with `park_time = 5` will vacate their parking spot after 5 other drivers attempt to park (regardless of the attempt's success).\n",
    "- Distance tolerance is only implemented in some scenarios where paid parking is present. Under the assumption that paid parking is always available, distance tolerance determines how much further a driver will look beyond the closest paid parking.\n",
    "- The driver policy is intended to capture the variability in driver mindset. For example, a driver in a rush will likley park less carefully than one with plenty of time. Some drivers may be more concious of leaving space for others, while some might not care and take up much more space than necessary. By manipulating the distribution of driver policies, we can observe how effectivley parking space is used in both ideal and real-world situations."
   ]
  },
  {
   "cell_type": "code",
   "execution_count": 6,
   "metadata": {},
   "outputs": [
    {
     "data": {
      "text/plain": [
       "Plots.GRBackend()"
      ]
     },
     "metadata": {},
     "output_type": "display_data"
    }
   ],
   "source": [
    "using Plots; gr()"
   ]
  },
  {
   "attachments": {},
   "cell_type": "markdown",
   "metadata": {},
   "source": [
    "## Drivers & Spots"
   ]
  },
  {
   "cell_type": "code",
   "execution_count": 12,
   "metadata": {},
   "outputs": [
    {
     "data": {
      "text/plain": [
       "required_space (generic function with 1 method)"
      ]
     },
     "metadata": {},
     "output_type": "display_data"
    }
   ],
   "source": [
    "mutable struct driver\n",
    "    car_length::Float32\n",
    "    driver_skill::Float32\n",
    "    parktime::Int\n",
    "    policy::Int\n",
    "    driverNo::Int\n",
    "end\n",
    "\n",
    "num_drivers = 100\n",
    "\n",
    "# Car length distribution\n",
    "mean_len = 4.25\n",
    "len_dev = 0.5\n",
    "\n",
    "function create_driver(driverNo, duration::Tuple{Int, Int})\n",
    "    car_length = round(mean_len .+ len_dev * randn(), digits=1)\n",
    "    driver_skill = abs(rand(0:0.05:0.9))\n",
    "    parktime = rand(duration[1]:duration[2])\n",
    "    policy = 0\n",
    "    return driver(car_length, driver_skill, parktime, policy, driverNo)\n",
    "end\n",
    "\n",
    "function create_n_drivers(n, duration::Tuple{Int, Int})\n",
    "    drivers = [create_driver(i, duration) for i in 1:n]\n",
    "    return drivers\n",
    "end\n",
    "\n",
    "function required_space(driver::driver)\n",
    "    return driver.car_length + 1 + (driver.car_length * (1-driver.driver_skill))\n",
    "end"
   ]
  },
  {
   "attachments": {},
   "cell_type": "markdown",
   "metadata": {},
   "source": [
    "## A single curb"
   ]
  },
  {
   "cell_type": "code",
   "execution_count": 13,
   "metadata": {},
   "outputs": [],
   "source": [
    "# scatter(1:100, [driver.car_length for driver in drivers], label = \"Car Length\") \n",
    "# scatter!(1:100, [driver.driver_skill for driver in drivers], label = \"Driver Skill\")\n",
    "# plot!(required_space.(drivers), label = \"Required Space\")"
   ]
  },
  {
   "attachments": {},
   "cell_type": "markdown",
   "metadata": {},
   "source": [
    "#### Construct curb\n",
    "1. set curb length\n",
    "\n",
    "#### Car parking\n",
    "1. select curb\n",
    "2. find length of available open spaces on curb (spot_length)\n",
    "3. if space exists that will fit car_length * driver_skill, the car will take the spot for the driver's parking duration and then vacate\n",
    "4. when excess space is available (i.e. car_length * driver_skill < spot_length), allocate the extra space according to the parking policy.\n",
    "    - Drivers will not perfectly fulfill the policy, rather, they will fail by driver_skill%, provided this will not cause them to hit another vehicle\n",
    "5. if no space is available, the a counter ticks up and the process repeats"
   ]
  },
  {
   "cell_type": "code",
   "execution_count": 14,
   "metadata": {},
   "outputs": [
    {
     "data": {
      "text/plain": [
       "animate_park (generic function with 1 method)"
      ]
     },
     "metadata": {},
     "output_type": "display_data"
    }
   ],
   "source": [
    "function animate_park(drivers::Vector{driver}, curb_length::Real)\n",
    "\n",
    "    tick = 0\n",
    "    no_spot = 0\n",
    "    available_spaces = [(0.0, Float64(curb_length), 0)] #rear, front, driver to right (0 if none)\n",
    "    parked_cars = []\n",
    "    frames = size(drivers)[1]\n",
    "\n",
    "    plot(size=(1000, 100), legend=false)\n",
    "    # xticks!(0:10:curb_length)\n",
    "    xaxis!(:off)\n",
    "    yaxis!(:off)\n",
    "    plot!([0, curb_length], [0.1, 0.1], linewidth=10, color=:black)\n",
    "    xlims!(-5, curb_length + 5)\n",
    "    ylims!(0, 2)\n",
    "\n",
    "    anim = @animate for i in 1:frames\n",
    "        tick += 1\n",
    "\n",
    "        # end simulation once all of drivers have searched for a spot\n",
    "        if isempty(drivers)\n",
    "            break \n",
    "        end\n",
    "\n",
    "        driver = pop!(drivers) # extract last driver from list\n",
    "        req_space = required_space(driver)\n",
    "        free_space = (req_space - driver.car_length)/2 #assume driver leaves same space in front/rear (change with policy)\n",
    "        spot_index = 0 #track where on curb the current driver is parking\n",
    "        found_spot = false\n",
    "        \n",
    "        # Note: this causes drivers to look for spots from start to end of curb\n",
    "        for (i, (rear, front, dNo)) in enumerate(available_spaces)\n",
    "            spot = front - rear # calculate length of available spot\n",
    "            if spot >= req_space\n",
    "                found_spot = true # driver found spot that will fit car with sufficient room\n",
    "                spot_index = i\n",
    "                break\n",
    "            end\n",
    "        end\n",
    "\n",
    "        if found_spot\n",
    "            # update available_spaces after car has parked\n",
    "            rear, front, dNo_right = available_spaces[spot_index]\n",
    "            car_start = rear+free_space\n",
    "            car_end = car_start+driver.car_length\n",
    "            splice!(available_spaces, spot_index, [(rear, car_start, driver.driverNo), (car_end, front, dNo_right)])\n",
    "            # add driver to list of parked cars\n",
    "            push!(parked_cars, (car_start, car_end, driver.parktime, driver.driverNo))\n",
    "            plot!([car_start, car_end], [1, 1], linewidth=5, label=\"\")\n",
    "        else\n",
    "            no_spot += 1 # update number of divers unable to park\n",
    "        end\n",
    "\n",
    "        # update parktime for each of the parked vehicles\n",
    "        if !isempty(parked_cars)\n",
    "            parked_cars = map(x -> (x[1], x[2], x[3] - 1, x[4]), parked_cars)\n",
    "        end\n",
    "\n",
    "        # reduce time left in spot, if zero, remove driver from parked cars list and reallocate their spot to available_spaces\n",
    "        for (i, (car_start, car_end, parktime, driverNo)) in enumerate(parked_cars)\n",
    "            if parktime <= 0\n",
    "                deleteat!(parked_cars, i)\n",
    "                parking_space = findfirst(x -> x[3] == driverNo, available_spaces)\n",
    "                now_available = (available_spaces[parking_space][1], available_spaces[parking_space+1][2], available_spaces[parking_space+1][3])\n",
    "                splice!(available_spaces, parking_space:parking_space+1, [now_available])\n",
    "                plot!([car_start, car_end], [1, 1], linewidth=6, color=:white, label=\"\")\n",
    "            end\n",
    "        end\n",
    "    end\n",
    "\n",
    "    println(\"Run Complete:\")\n",
    "    residual_space = curb_length - sum(map(x -> (x[2] - x[1]), parked_cars))\n",
    "    println(\"\\tThere were \", round(residual_space, digits = 3), \" meters of unused curb space at end of simulation. (\",\n",
    "             round(100(residual_space/curb_length), digits = 3), \"%)\")\n",
    "    println(\"\\t\", no_spot, \" out of \", frames, \" drivers were unable to find a spot.\")\n",
    "\n",
    "    gif(anim, \"cars_animation.gif\", fps = 10) # Save the animation as a GIF file\n",
    "end"
   ]
  },
  {
   "cell_type": "code",
   "execution_count": 15,
   "metadata": {},
   "outputs": [
    {
     "name": "stdout",
     "output_type": "stream",
     "text": [
      "Run Complete:\n",
      "\tThere were 21.3 meters of unused curb space at end of simulation. (42.6%)\n",
      "\t298 out of 400 drivers were unable to find a spot.\n"
     ]
    },
    {
     "name": "stderr",
     "output_type": "stream",
     "text": [
      "┌ Info: Saved animation to c:\\Users\\Aidan\\Documents\\GitHub\\OptimalParking.jl\\OptimalParking\\src\\cars_animation.gif\n",
      "└ @ Plots C:\\Users\\Aidan\\.julia\\packages\\Plots\\esM5q\\src\\animation.jl:156\n"
     ]
    },
    {
     "data": {
      "text/html": [
       "<img src=\"data:image/gif;base64,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\" />"
      ],
      "text/plain": [
       "Plots.AnimatedGif(\"c:\\\\Users\\\\Aidan\\\\Documents\\\\GitHub\\\\OptimalParking.jl\\\\OptimalParking\\\\src\\\\cars_animation.gif\")"
      ]
     },
     "metadata": {},
     "output_type": "display_data"
    }
   ],
   "source": [
    "curb_length = 50.0\n",
    "drivers = create_n_drivers(400, (10,50))\n",
    "\n",
    "animate_park(drivers, curb_length)"
   ]
  },
  {
   "attachments": {},
   "cell_type": "markdown",
   "metadata": {},
   "source": [
    "# TODO\n",
    "\n",
    "1. Add option to `park` so that drivers prefer bigger spaces (right now they always take the first spot that fits their car and skill level)\n",
    "2. Create driver policies to determine how they will chose a spot\n",
    "3. Compartmentalize functions as much as possible\n",
    "4. Create gif animation of parking lot over time"
   ]
  },
  {
   "attachments": {},
   "cell_type": "markdown",
   "metadata": {},
   "source": []
  }
 ],
 "metadata": {
  "kernelspec": {
   "display_name": "Julia 1.8.5",
   "language": "julia",
   "name": "julia-1.8"
  },
  "language_info": {
   "file_extension": ".jl",
   "mimetype": "application/julia",
   "name": "julia",
   "version": "1.8.5"
  },
  "orig_nbformat": 4
 },
 "nbformat": 4,
 "nbformat_minor": 2
}
