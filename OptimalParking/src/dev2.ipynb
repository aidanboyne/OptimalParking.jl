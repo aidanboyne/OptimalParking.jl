{
 "cells": [
  {
   "cell_type": "code",
   "execution_count": 51,
   "metadata": {},
   "outputs": [],
   "source": [
    "using PlotlyJS, DataFrames, LinearAlgebra"
   ]
  },
  {
   "cell_type": "code",
   "execution_count": 75,
   "metadata": {},
   "outputs": [
    {
     "data": {
      "text/plain": [
       "required_space (generic function with 1 method)"
      ]
     },
     "metadata": {},
     "output_type": "display_data"
    }
   ],
   "source": [
    "mutable struct driver\n",
    "    car_length::Float32\n",
    "    driver_skill::Float32\n",
    "    parktime::Int\n",
    "    policy::Tuple\n",
    "    driverNo::Int\n",
    "end\n",
    "\n",
    "function create_driver(driverNo::Int, policy_distribution::Vector)\n",
    "\n",
    "    # Car length distribution\n",
    "    mean_len = 4.25\n",
    "    len_dev = 0.5\n",
    "\n",
    "    car_length = round(mean_len .+ len_dev * randn(), digits=1)\n",
    "    driver_skill = abs(rand(0:0.05:0.8))\n",
    "    parktime = rand(10:50)\n",
    "    policy = rand(policy_distribution)\n",
    "    return driver(car_length, driver_skill, parktime, policy, driverNo)\n",
    "end\n",
    "\n",
    "function create_n_drivers(n::Int, policy_distribution::Vector)\n",
    "    drivers = [create_driver(i, policy_distribution) for i in 1:n]\n",
    "    return drivers\n",
    "end\n",
    "\n",
    "function required_space(driver::driver)\n",
    "    return driver.car_length + 1 + (driver.car_length * 0.2(1-driver.driver_skill))\n",
    "end"
   ]
  },
  {
   "cell_type": "code",
   "execution_count": 160,
   "metadata": {},
   "outputs": [
    {
     "data": {
      "text/plain": [
       "park! (generic function with 1 method)"
      ]
     },
     "metadata": {},
     "output_type": "display_data"
    }
   ],
   "source": [
    "function park!(driver::driver, available_spaces,\n",
    "     parked_cars::Vector, no_spot)\n",
    "\n",
    "    req_space = required_space(driver)\n",
    "    policy = driver.policy\n",
    "    spot_lens = map(x -> (x[2]-x[1]), available_spaces)\n",
    "    spot_index = 0\n",
    "    found_spot = false\n",
    "\n",
    "    # main policy: determine which spot to park in\n",
    "    if policy[1] == 1 # take first available spot\n",
    "        for (i, spot) in enumerate(spot_lens)\n",
    "            if spot >= req_space\n",
    "                found_spot = true\n",
    "                spot_index = i\n",
    "                break\n",
    "            end\n",
    "        end\n",
    "    elseif policy[1] == 2 # take smallest available spot\n",
    "        # not super efficient, could sort spot list before but then have to track indices...\n",
    "        for (i, spot) in enumerate(spot_lens)\n",
    "            if spot >= req_space\n",
    "                if found_spot == false\n",
    "                    found_spot = true\n",
    "                    spot_index = i\n",
    "                else # already found spot, check if this one is smaller\n",
    "                    if spot < spot_lens[spot_index]\n",
    "                        spot_index = i # select this smaller spot\n",
    "                    end\n",
    "                end\n",
    "            end\n",
    "        end\n",
    "    elseif policy[1] == 3 # take largest available spot\n",
    "        # not super efficient, could sort spot list before but then have to track indices...\n",
    "        for (i, spot) in enumerate(spot_lens)\n",
    "            if spot >= req_space\n",
    "                if found_spot == false\n",
    "                    found_spot = true\n",
    "                    spot_index = i\n",
    "                else # already found spot, check if this one is larger\n",
    "                    if spot > spot_lens[spot_index]\n",
    "                        spot_index = i # select this larger spot\n",
    "                    end\n",
    "                end\n",
    "            end\n",
    "        end \n",
    "    end\n",
    "\n",
    "    if  found_spot\n",
    "        free_space = (req_space - driver.car_length)\n",
    "        rear, front, dNo_right = available_spaces[spot_index]\n",
    "\n",
    "        # sub-policy: how to park in selected space\n",
    "        if policy[2] == 1 # pull up to front\n",
    "            car_start = rear + 0.2free_space #driver pulls very close to front car\n",
    "            car_end = car_start + driver.car_length # most open space in rear\n",
    "        elseif policy[2] == 2 # back up to rear\n",
    "            car_end = front - 0.2free_space #driver backs up close to rear car\n",
    "            car_start = car_end - driver.car_length\n",
    "        elseif policy[2] == 3 # park in middle\n",
    "            car_start = rear + 0.5free_space\n",
    "            car_end = car_start + driver.car_length\n",
    "        end\n",
    "\n",
    "        # update available spaces in place, drack driver positions\n",
    "        splice!(available_spaces, spot_index, [(rear, car_start, driver.driverNo), (car_end, front, dNo_right)])\n",
    "        # add driver to list of parked cars in place\n",
    "        push!(parked_cars, (car_start, car_end, driver.parktime, driver.driverNo))\n",
    "    else\n",
    "        no_spot[] +=1\n",
    "    end\n",
    "\n",
    "    # nothing is returned as the park! function only updates available_spaces, parked_cars\n",
    "    return Nothing\n",
    "end\n"
   ]
  },
  {
   "cell_type": "code",
   "execution_count": 161,
   "metadata": {},
   "outputs": [
    {
     "data": {
      "text/plain": [
       "park_sim (generic function with 1 method)"
      ]
     },
     "metadata": {},
     "output_type": "display_data"
    }
   ],
   "source": [
    "function park_sim(drivers::Vector{driver}, curb_length; verbose::Bool = false)\n",
    "\n",
    "    tick = 0\n",
    "    no_spot = Ref(0)\n",
    "    available_spaces = [(0.0, curb_length, 0)] #rear, front, driver to right (0 if none)\n",
    "    parked_cars = []\n",
    "\n",
    "    while true\n",
    "        tick += 1\n",
    "\n",
    "        # end simulation once all of drivers have searched for a spot\n",
    "        if isempty(drivers)\n",
    "            break \n",
    "        end\n",
    "\n",
    "        driver = pop!(drivers) # extract last driver from list\n",
    "        \n",
    "        # simulate driver searching parking\n",
    "        park!(driver, available_spaces, parked_cars, no_spot)\n",
    "\n",
    "        # update parktime for each of the parked vehicles\n",
    "        if !isempty(parked_cars)\n",
    "            parked_cars = map(x -> (x[1], x[2], x[3] - 1, x[4]), parked_cars)\n",
    "        end\n",
    "\n",
    "        # reduce time left in spot, if zero, remove driver from parked cars list and reallocate their spot to available_spaces\n",
    "        for (i, (car_start, car_end, parktime, driverNo)) in enumerate(parked_cars)\n",
    "            if parktime <= 0\n",
    "                deleteat!(parked_cars, i)\n",
    "                parking_space = findfirst(x -> x[3] == driverNo, available_spaces)\n",
    "                now_available = (available_spaces[parking_space][1], available_spaces[parking_space+1][2], available_spaces[parking_space+1][3])\n",
    "                splice!(available_spaces, parking_space:parking_space+1, [now_available])\n",
    "            end\n",
    "        end\n",
    "    end\n",
    "\n",
    "    residual_space = curb_length - sum(map(x -> (x[2] - x[1]), parked_cars))\n",
    "    \n",
    "    if verbose\n",
    "        println(\"There were \", round(residual_space, digits = 3), \" meters of unused curb space. (\",\n",
    "                round(100(residual_space/curb_length), digits = 3), \"%)\")\n",
    "        println(no_spot[], \" drivers were unable to find a spot.\")\n",
    "    end\n",
    "\n",
    "    park_results = Dict(\"parked_cars\" => parked_cars,\n",
    "                        \"residual_space\" => residual_space,\n",
    "                        \"no_spot\" => no_spot)\n",
    "\n",
    "    return(park_results)\n",
    "end"
   ]
  },
  {
   "cell_type": "code",
   "execution_count": 162,
   "metadata": {},
   "outputs": [
    {
     "data": {
      "text/plain": [
       "9-element Vector{Tuple{Int64, Int64}}:\n",
       " (1, 1)\n",
       " (1, 2)\n",
       " (1, 3)\n",
       " (2, 1)\n",
       " (2, 2)\n",
       " (2, 3)\n",
       " (3, 1)\n",
       " (3, 2)\n",
       " (3, 3)"
      ]
     },
     "metadata": {},
     "output_type": "display_data"
    }
   ],
   "source": [
    "policies = [(1,1), (1,2), (1,3), (2,1), (2,2), (2,3), (3,1), (3,2), (3,3)]"
   ]
  },
  {
   "cell_type": "code",
   "execution_count": 185,
   "metadata": {},
   "outputs": [
    {
     "data": {
      "text/plain": [
       "compare_policies (generic function with 1 method)"
      ]
     },
     "metadata": {},
     "output_type": "display_data"
    }
   ],
   "source": [
    "function compare_policies(policies, curb_len, number_of_drivers::Int, iterations::Int)\n",
    "\n",
    "    residual_space = []\n",
    "    sad_drivers = []\n",
    "    policy_names = []\n",
    "\n",
    "    for policy in policies\n",
    "\n",
    "        trial_space = 0\n",
    "        trial_drivers = 0\n",
    "\n",
    "        for i in 1:iterations\n",
    "            drivers = create_n_drivers(number_of_drivers, [policy])\n",
    "            simulation = park_sim(drivers, curb_len)\n",
    "            trial_space += simulation[\"residual_space\"]\n",
    "            trial_drivers += simulation[\"no_spot\"][]\n",
    "        end\n",
    "\n",
    "        average_space = trial_space/iterations\n",
    "        average_drivers = trial_drivers/iterations\n",
    "        policy_name = \"Policy \" * string(policy[1]) * \".\" * string(policy[2])\n",
    "\n",
    "        push!(residual_space, (average_space/curb_len)*100)\n",
    "        push!(sad_drivers, (average_drivers/number_of_drivers)*100)\n",
    "        push!(policy_names, policy_name)\n",
    "    end\n",
    "\n",
    "    results = DataFrame(space = residual_space, no_spot = sad_drivers, pol = policy_names)\n",
    "    return results\n",
    "end"
   ]
  },
  {
   "cell_type": "code",
   "execution_count": 199,
   "metadata": {},
   "outputs": [
    {
     "data": {
      "text/plain": [
       "plot_comparison (generic function with 2 methods)"
      ]
     },
     "metadata": {},
     "output_type": "display_data"
    }
   ],
   "source": [
    "function plot_comparison(comparison::DataFrame; title::String = \"Simulation Results\")\n",
    "    \n",
    "    p1 = plot(bar(comparison, x=:pol, y=:no_spot, name=\"No Spot (%)\"))\n",
    "    p2 = plot(bar(comparison, x=:pol, y=:space, name=\"Residual Space (%)\"))\n",
    "    p = [p1 p2]\n",
    "    relayout!(p, title_text=title)\n",
    "    return p\n",
    "end"
   ]
  },
  {
   "cell_type": "code",
   "execution_count": 207,
   "metadata": {},
   "outputs": [
    {
     "data": {
      "application/vnd.plotly.v1+json": {
       "config": {
        "editable": false,
        "responsive": true,
        "scrollZoom": true,
        "showLink": false,
        "staticPlot": false
       },
       "data": [
        {
         "name": "No Spot (%)",
         "type": "bar",
         "x": [
          "Policy 1.1",
          "Policy 1.2",
          "Policy 1.3",
          "Policy 2.1",
          "Policy 2.2",
          "Policy 2.3",
          "Policy 3.1",
          "Policy 3.2",
          "Policy 3.3"
         ],
         "xaxis": "x1",
         "y": [
          75.3305,
          75.29,
          74.853,
          75.201,
          75.3065,
          74.7265,
          75.403,
          75.3975,
          74.966
         ],
         "yaxis": "y1"
        },
        {
         "name": "Residual Space (%)",
         "type": "bar",
         "x": [
          "Policy 1.1",
          "Policy 1.2",
          "Policy 1.3",
          "Policy 2.1",
          "Policy 2.2",
          "Policy 2.3",
          "Policy 3.1",
          "Policy 3.2",
          "Policy 3.3"
         ],
         "xaxis": "x2",
         "y": [
          32.26450004339218,
          32.13175009727478,
          31.759500047564504,
          32.25125006735325,
          32.391250045895575,
          31.313000082969666,
          32.92650004327297,
          32.76800006389618,
          32.20375008463859
         ],
         "yaxis": "y2"
        }
       ],
       "frames": [],
       "layout": {
        "margin": {
         "b": 50,
         "l": 50,
         "r": 50,
         "t": 60
        },
        "template": {
         "data": {
          "bar": [
           {
            "error_x": {
             "color": "#2a3f5f"
            },
            "error_y": {
             "color": "#2a3f5f"
            },
            "marker": {
             "line": {
              "color": "#E5ECF6",
              "width": 0.5
             }
            },
            "type": "bar"
           }
          ],
          "barpolar": [
           {
            "marker": {
             "line": {
              "color": "#E5ECF6",
              "width": 0.5
             }
            },
            "type": "barpolar"
           }
          ],
          "carpet": [
           {
            "aaxis": {
             "endlinecolor": "#2a3f5f",
             "gridcolor": "white",
             "linecolor": "white",
             "minorgridcolor": "white",
             "startlinecolor": "#2a3f5f"
            },
            "baxis": {
             "endlinecolor": "#2a3f5f",
             "gridcolor": "white",
             "linecolor": "white",
             "minorgridcolor": "white",
             "startlinecolor": "#2a3f5f"
            },
            "type": "carpet"
           }
          ],
          "choropleth": [
           {
            "colorbar": {
             "outlinewidth": 0,
             "ticks": ""
            },
            "type": "choropleth"
           }
          ],
          "contour": [
           {
            "colorbar": {
             "outlinewidth": 0,
             "ticks": ""
            },
            "colorscale": [
             [
              0,
              "#0d0887"
             ],
             [
              0.1111111111111111,
              "#46039f"
             ],
             [
              0.2222222222222222,
              "#7201a8"
             ],
             [
              0.3333333333333333,
              "#9c179e"
             ],
             [
              0.4444444444444444,
              "#bd3786"
             ],
             [
              0.5555555555555556,
              "#d8576b"
             ],
             [
              0.6666666666666666,
              "#ed7953"
             ],
             [
              0.7777777777777778,
              "#fb9f3a"
             ],
             [
              0.8888888888888888,
              "#fdca26"
             ],
             [
              1,
              "#f0f921"
             ]
            ],
            "type": "contour"
           }
          ],
          "contourcarpet": [
           {
            "colorbar": {
             "outlinewidth": 0,
             "ticks": ""
            },
            "type": "contourcarpet"
           }
          ],
          "heatmap": [
           {
            "colorbar": {
             "outlinewidth": 0,
             "ticks": ""
            },
            "colorscale": [
             [
              0,
              "#0d0887"
             ],
             [
              0.1111111111111111,
              "#46039f"
             ],
             [
              0.2222222222222222,
              "#7201a8"
             ],
             [
              0.3333333333333333,
              "#9c179e"
             ],
             [
              0.4444444444444444,
              "#bd3786"
             ],
             [
              0.5555555555555556,
              "#d8576b"
             ],
             [
              0.6666666666666666,
              "#ed7953"
             ],
             [
              0.7777777777777778,
              "#fb9f3a"
             ],
             [
              0.8888888888888888,
              "#fdca26"
             ],
             [
              1,
              "#f0f921"
             ]
            ],
            "type": "heatmap"
           }
          ],
          "heatmapgl": [
           {
            "colorbar": {
             "outlinewidth": 0,
             "ticks": ""
            },
            "colorscale": [
             [
              0,
              "#0d0887"
             ],
             [
              0.1111111111111111,
              "#46039f"
             ],
             [
              0.2222222222222222,
              "#7201a8"
             ],
             [
              0.3333333333333333,
              "#9c179e"
             ],
             [
              0.4444444444444444,
              "#bd3786"
             ],
             [
              0.5555555555555556,
              "#d8576b"
             ],
             [
              0.6666666666666666,
              "#ed7953"
             ],
             [
              0.7777777777777778,
              "#fb9f3a"
             ],
             [
              0.8888888888888888,
              "#fdca26"
             ],
             [
              1,
              "#f0f921"
             ]
            ],
            "type": "heatmapgl"
           }
          ],
          "histogram": [
           {
            "marker": {
             "colorbar": {
              "outlinewidth": 0,
              "ticks": ""
             }
            },
            "type": "histogram"
           }
          ],
          "histogram2d": [
           {
            "colorbar": {
             "outlinewidth": 0,
             "ticks": ""
            },
            "colorscale": [
             [
              0,
              "#0d0887"
             ],
             [
              0.1111111111111111,
              "#46039f"
             ],
             [
              0.2222222222222222,
              "#7201a8"
             ],
             [
              0.3333333333333333,
              "#9c179e"
             ],
             [
              0.4444444444444444,
              "#bd3786"
             ],
             [
              0.5555555555555556,
              "#d8576b"
             ],
             [
              0.6666666666666666,
              "#ed7953"
             ],
             [
              0.7777777777777778,
              "#fb9f3a"
             ],
             [
              0.8888888888888888,
              "#fdca26"
             ],
             [
              1,
              "#f0f921"
             ]
            ],
            "type": "histogram2d"
           }
          ],
          "histogram2dcontour": [
           {
            "colorbar": {
             "outlinewidth": 0,
             "ticks": ""
            },
            "colorscale": [
             [
              0,
              "#0d0887"
             ],
             [
              0.1111111111111111,
              "#46039f"
             ],
             [
              0.2222222222222222,
              "#7201a8"
             ],
             [
              0.3333333333333333,
              "#9c179e"
             ],
             [
              0.4444444444444444,
              "#bd3786"
             ],
             [
              0.5555555555555556,
              "#d8576b"
             ],
             [
              0.6666666666666666,
              "#ed7953"
             ],
             [
              0.7777777777777778,
              "#fb9f3a"
             ],
             [
              0.8888888888888888,
              "#fdca26"
             ],
             [
              1,
              "#f0f921"
             ]
            ],
            "type": "histogram2dcontour"
           }
          ],
          "mesh3d": [
           {
            "colorbar": {
             "outlinewidth": 0,
             "ticks": ""
            },
            "type": "mesh3d"
           }
          ],
          "parcoords": [
           {
            "line": {
             "colorbar": {
              "outlinewidth": 0,
              "ticks": ""
             }
            },
            "type": "parcoords"
           }
          ],
          "pie": [
           {
            "automargin": true,
            "type": "pie"
           }
          ],
          "scatter": [
           {
            "marker": {
             "colorbar": {
              "outlinewidth": 0,
              "ticks": ""
             }
            },
            "type": "scatter"
           }
          ],
          "scatter3d": [
           {
            "line": {
             "colorbar": {
              "outlinewidth": 0,
              "ticks": ""
             }
            },
            "marker": {
             "colorbar": {
              "outlinewidth": 0,
              "ticks": ""
             }
            },
            "type": "scatter3d"
           }
          ],
          "scattercarpet": [
           {
            "marker": {
             "colorbar": {
              "outlinewidth": 0,
              "ticks": ""
             }
            },
            "type": "scattercarpet"
           }
          ],
          "scattergeo": [
           {
            "marker": {
             "colorbar": {
              "outlinewidth": 0,
              "ticks": ""
             }
            },
            "type": "scattergeo"
           }
          ],
          "scattergl": [
           {
            "marker": {
             "colorbar": {
              "outlinewidth": 0,
              "ticks": ""
             }
            },
            "type": "scattergl"
           }
          ],
          "scattermapbox": [
           {
            "marker": {
             "colorbar": {
              "outlinewidth": 0,
              "ticks": ""
             }
            },
            "type": "scattermapbox"
           }
          ],
          "scatterpolar": [
           {
            "marker": {
             "colorbar": {
              "outlinewidth": 0,
              "ticks": ""
             }
            },
            "type": "scatterpolar"
           }
          ],
          "scatterpolargl": [
           {
            "marker": {
             "colorbar": {
              "outlinewidth": 0,
              "ticks": ""
             }
            },
            "type": "scatterpolargl"
           }
          ],
          "scatterternary": [
           {
            "marker": {
             "colorbar": {
              "outlinewidth": 0,
              "ticks": ""
             }
            },
            "type": "scatterternary"
           }
          ],
          "surface": [
           {
            "colorbar": {
             "outlinewidth": 0,
             "ticks": ""
            },
            "colorscale": [
             [
              0,
              "#0d0887"
             ],
             [
              0.1111111111111111,
              "#46039f"
             ],
             [
              0.2222222222222222,
              "#7201a8"
             ],
             [
              0.3333333333333333,
              "#9c179e"
             ],
             [
              0.4444444444444444,
              "#bd3786"
             ],
             [
              0.5555555555555556,
              "#d8576b"
             ],
             [
              0.6666666666666666,
              "#ed7953"
             ],
             [
              0.7777777777777778,
              "#fb9f3a"
             ],
             [
              0.8888888888888888,
              "#fdca26"
             ],
             [
              1,
              "#f0f921"
             ]
            ],
            "type": "surface"
           }
          ],
          "table": [
           {
            "cells": {
             "fill": {
              "color": "#EBF0F8"
             },
             "line": {
              "color": "white"
             }
            },
            "header": {
             "fill": {
              "color": "#C8D4E3"
             },
             "line": {
              "color": "white"
             }
            },
            "type": "table"
           }
          ]
         },
         "layout": {
          "annotationdefaults": {
           "arrowcolor": "#2a3f5f",
           "arrowhead": 0,
           "arrowwidth": 1
          },
          "autotypenumbers": "strict",
          "coloraxis": {
           "colorbar": {
            "outlinewidth": 0,
            "ticks": ""
           }
          },
          "colorscale": {
           "diverging": [
            [
             0,
             "#8e0152"
            ],
            [
             0.1,
             "#c51b7d"
            ],
            [
             0.2,
             "#de77ae"
            ],
            [
             0.3,
             "#f1b6da"
            ],
            [
             0.4,
             "#fde0ef"
            ],
            [
             0.5,
             "#f7f7f7"
            ],
            [
             0.6,
             "#e6f5d0"
            ],
            [
             0.7,
             "#b8e186"
            ],
            [
             0.8,
             "#7fbc41"
            ],
            [
             0.9,
             "#4d9221"
            ],
            [
             1,
             "#276419"
            ]
           ],
           "sequential": [
            [
             0,
             "#0d0887"
            ],
            [
             0.1111111111111111,
             "#46039f"
            ],
            [
             0.2222222222222222,
             "#7201a8"
            ],
            [
             0.3333333333333333,
             "#9c179e"
            ],
            [
             0.4444444444444444,
             "#bd3786"
            ],
            [
             0.5555555555555556,
             "#d8576b"
            ],
            [
             0.6666666666666666,
             "#ed7953"
            ],
            [
             0.7777777777777778,
             "#fb9f3a"
            ],
            [
             0.8888888888888888,
             "#fdca26"
            ],
            [
             1,
             "#f0f921"
            ]
           ],
           "sequentialminus": [
            [
             0,
             "#0d0887"
            ],
            [
             0.1111111111111111,
             "#46039f"
            ],
            [
             0.2222222222222222,
             "#7201a8"
            ],
            [
             0.3333333333333333,
             "#9c179e"
            ],
            [
             0.4444444444444444,
             "#bd3786"
            ],
            [
             0.5555555555555556,
             "#d8576b"
            ],
            [
             0.6666666666666666,
             "#ed7953"
            ],
            [
             0.7777777777777778,
             "#fb9f3a"
            ],
            [
             0.8888888888888888,
             "#fdca26"
            ],
            [
             1,
             "#f0f921"
            ]
           ]
          },
          "colorway": [
           "#636efa",
           "#EF553B",
           "#00cc96",
           "#ab63fa",
           "#FFA15A",
           "#19d3f3",
           "#FF6692",
           "#B6E880",
           "#FF97FF",
           "#FECB52"
          ],
          "font": {
           "color": "#2a3f5f"
          },
          "geo": {
           "bgcolor": "white",
           "lakecolor": "white",
           "landcolor": "#E5ECF6",
           "showlakes": true,
           "showland": true,
           "subunitcolor": "white"
          },
          "hoverlabel": {
           "align": "left"
          },
          "hovermode": "closest",
          "mapbox": {
           "style": "light"
          },
          "paper_bgcolor": "white",
          "plot_bgcolor": "#E5ECF6",
          "polar": {
           "angularaxis": {
            "gridcolor": "white",
            "linecolor": "white",
            "ticks": ""
           },
           "bgcolor": "#E5ECF6",
           "radialaxis": {
            "gridcolor": "white",
            "linecolor": "white",
            "ticks": ""
           }
          },
          "scene": {
           "xaxis": {
            "backgroundcolor": "#E5ECF6",
            "gridcolor": "white",
            "gridwidth": 2,
            "linecolor": "white",
            "showbackground": true,
            "ticks": "",
            "zerolinecolor": "white"
           },
           "yaxis": {
            "backgroundcolor": "#E5ECF6",
            "gridcolor": "white",
            "gridwidth": 2,
            "linecolor": "white",
            "showbackground": true,
            "ticks": "",
            "zerolinecolor": "white"
           },
           "zaxis": {
            "backgroundcolor": "#E5ECF6",
            "gridcolor": "white",
            "gridwidth": 2,
            "linecolor": "white",
            "showbackground": true,
            "ticks": "",
            "zerolinecolor": "white"
           }
          },
          "shapedefaults": {
           "line": {
            "color": "#2a3f5f"
           }
          },
          "ternary": {
           "aaxis": {
            "gridcolor": "white",
            "linecolor": "white",
            "ticks": ""
           },
           "baxis": {
            "gridcolor": "white",
            "linecolor": "white",
            "ticks": ""
           },
           "bgcolor": "#E5ECF6",
           "caxis": {
            "gridcolor": "white",
            "linecolor": "white",
            "ticks": ""
           }
          },
          "title": {
           "x": 0.05
          },
          "xaxis": {
           "automargin": true,
           "gridcolor": "white",
           "linecolor": "white",
           "ticks": "",
           "title": {
            "standoff": 15
           },
           "zerolinecolor": "white",
           "zerolinewidth": 2
          },
          "yaxis": {
           "automargin": true,
           "gridcolor": "white",
           "linecolor": "white",
           "ticks": "",
           "title": {
            "standoff": 15
           },
           "zerolinecolor": "white",
           "zerolinewidth": 2
          }
         }
        },
        "title": {
         "text": "Parking Sim: 40.0m, 200 drivers, 1000 iterations per policy"
        },
        "xaxis1": {
         "anchor": "y1",
         "domain": [
          0,
          0.45
         ]
        },
        "xaxis2": {
         "anchor": "y2",
         "domain": [
          0.55,
          1
         ]
        },
        "yaxis1": {
         "anchor": "x1",
         "domain": [
          0,
          1
         ]
        },
        "yaxis2": {
         "anchor": "x2",
         "domain": [
          0,
          1
         ]
        }
       }
      },
      "image/png": "[encoded data removed]",
      "image/svg+xml": [
       "<svg class=\"main-svg\" xmlns=\"http://www.w3.org/2000/svg\" xmlns:xlink=\"http://www.w3.org/1999/xlink\" width=\"700\" height=\"500\" style=\"\" viewBox=\"0 0 700 500\"><rect x=\"0\" y=\"0\" width=\"700\" height=\"500\" style=\"fill: rgb(255, 255, 255); fill-opacity: 1;\"/><defs id=\"defs-dd1c9a\"><g class=\"clips\"><clipPath id=\"clipdd1c9axyplot\" class=\"plotclip\"><rect width=\"209.25\" height=\"363\"/></clipPath><clipPath id=\"clipdd1c9ax2y2plot\" class=\"plotclip\"><rect width=\"209.24999999999997\" height=\"363\"/></clipPath><clipPath class=\"axesclip\" id=\"clipdd1c9ax\"><rect x=\"50\" y=\"0\" width=\"209.25\" height=\"500\"/></clipPath><clipPath class=\"axesclip\" id=\"clipdd1c9ay\"><rect x=\"0\" y=\"60\" width=\"700\" height=\"363\"/></clipPath><clipPath class=\"axesclip\" id=\"clipdd1c9axy\"><rect x=\"50\" y=\"60\" width=\"209.25\" height=\"363\"/></clipPath><clipPath class=\"axesclip\" id=\"clipdd1c9ay2\"><rect x=\"0\" y=\"60\" width=\"700\" height=\"363\"/></clipPath><clipPath class=\"axesclip\" id=\"clipdd1c9axy2\"><rect x=\"50\" y=\"60\" width=\"209.25\" height=\"363\"/></clipPath><clipPath class=\"axesclip\" id=\"clipdd1c9ax2\"><rect x=\"305.75\" y=\"0\" width=\"209.24999999999997\" height=\"500\"/></clipPath><clipPath class=\"axesclip\" id=\"clipdd1c9ax2y\"><rect x=\"305.75\" y=\"60\" width=\"209.24999999999997\" height=\"363\"/></clipPath><clipPath class=\"axesclip\" id=\"clipdd1c9ax2y2\"><rect x=\"305.75\" y=\"60\" width=\"209.24999999999997\" height=\"363\"/></clipPath></g><g class=\"gradients\"/></defs><g class=\"bglayer\"><rect class=\"bg\" x=\"50\" y=\"60\" width=\"209.25\" height=\"363\" style=\"fill: rgb(229, 236, 246); fill-opacity: 1; stroke-width: 0;\"/><rect class=\"bg\" x=\"305.75\" y=\"60\" width=\"209.24999999999997\" height=\"363\" style=\"fill: rgb(229, 236, 246); fill-opacity: 1; stroke-width: 0;\"/></g><g class=\"layer-below\"><g class=\"imagelayer\"/><g class=\"shapelayer\"/></g><g class=\"cartesianlayer\"><g class=\"subplot xy\"><g class=\"layer-subplot\"><g class=\"shapelayer\"/><g class=\"imagelayer\"/></g><g class=\"gridlayer\"><g class=\"x\"/><g class=\"y\"><path class=\"ygrid crisp\" transform=\"translate(0,377.27)\" d=\"M50,0h209.25\" style=\"stroke: rgb(255, 255, 255); stroke-opacity: 1; stroke-width: 1px;\"/><path class=\"ygrid crisp\" transform=\"translate(0,331.53)\" d=\"M50,0h209.25\" style=\"stroke: rgb(255, 255, 255); stroke-opacity: 1; stroke-width: 1px;\"/><path class=\"ygrid crisp\" transform=\"translate(0,285.8)\" d=\"M50,0h209.25\" style=\"stroke: rgb(255, 255, 255); stroke-opacity: 1; stroke-width: 1px;\"/><path class=\"ygrid crisp\" transform=\"translate(0,240.06)\" d=\"M50,0h209.25\" style=\"stroke: rgb(255, 255, 255); stroke-opacity: 1; stroke-width: 1px;\"/><path class=\"ygrid crisp\" transform=\"translate(0,194.33)\" d=\"M50,0h209.25\" style=\"stroke: rgb(255, 255, 255); stroke-opacity: 1; stroke-width: 1px;\"/><path class=\"ygrid crisp\" transform=\"translate(0,148.59)\" d=\"M50,0h209.25\" style=\"stroke: rgb(255, 255, 255); stroke-opacity: 1; stroke-width: 1px;\"/><path class=\"ygrid crisp\" transform=\"translate(0,102.86)\" d=\"M50,0h209.25\" style=\"stroke: rgb(255, 255, 255); stroke-opacity: 1; stroke-width: 1px;\"/></g></g><g class=\"zerolinelayer\"><path class=\"yzl zl crisp\" transform=\"translate(0,423)\" d=\"M50,0h209.25\" style=\"stroke: rgb(255, 255, 255); stroke-opacity: 1; stroke-width: 2px;\"/></g><path class=\"xlines-below\"/><path class=\"ylines-below\"/><g class=\"overlines-below\"/><g class=\"xaxislayer-below\"/><g class=\"yaxislayer-below\"/><g class=\"overaxes-below\"/><g class=\"plot\" transform=\"translate(50,60)\" clip-path=\"url('#clipdd1c9axyplot')\"><g class=\"barlayer mlayer\"><g class=\"trace bars\" style=\"opacity: 1;\"><g class=\"points\"><g class=\"point\"><path d=\"M2.32,363V18.48H20.93V363Z\" style=\"vector-effect: non-scaling-stroke; opacity: 1; stroke-width: 0.5px; fill: rgb(99, 110, 250); fill-opacity: 1; stroke: rgb(229, 236, 246); stroke-opacity: 1;\"/></g><g class=\"point\"><path d=\"M25.58,363V18.67H44.18V363Z\" style=\"vector-effect: non-scaling-stroke; opacity: 1; stroke-width: 0.5px; fill: rgb(99, 110, 250); fill-opacity: 1; stroke: rgb(229, 236, 246); stroke-opacity: 1;\"/></g><g class=\"point\"><path d=\"M48.83,363V20.67H67.43V363Z\" style=\"vector-effect: non-scaling-stroke; opacity: 1; stroke-width: 0.5px; fill: rgb(99, 110, 250); fill-opacity: 1; stroke: rgb(229, 236, 246); stroke-opacity: 1;\"/></g><g class=\"point\"><path d=\"M72.08,363V19.07H90.68V363Z\" style=\"vector-effect: non-scaling-stroke; opacity: 1; stroke-width: 0.5px; fill: rgb(99, 110, 250); fill-opacity: 1; stroke: rgb(229, 236, 246); stroke-opacity: 1;\"/></g><g class=\"point\"><path d=\"M95.33,363V18.59H113.93V363Z\" style=\"vector-effect: non-scaling-stroke; opacity: 1; stroke-width: 0.5px; fill: rgb(99, 110, 250); fill-opacity: 1; stroke: rgb(229, 236, 246); stroke-opacity: 1;\"/></g><g class=\"point\"><path d=\"M118.57,363V21.24H137.17V363Z\" style=\"vector-effect: non-scaling-stroke; opacity: 1; stroke-width: 0.5px; fill: rgb(99, 110, 250); fill-opacity: 1; stroke: rgb(229, 236, 246); stroke-opacity: 1;\"/></g><g class=\"point\"><path d=\"M141.82,363V18.15H160.42V363Z\" style=\"vector-effect: non-scaling-stroke; opacity: 1; stroke-width: 0.5px; fill: rgb(99, 110, 250); fill-opacity: 1; stroke: rgb(229, 236, 246); stroke-opacity: 1;\"/></g><g class=\"point\"><path d=\"M165.08,363V18.18H183.68V363Z\" style=\"vector-effect: non-scaling-stroke; opacity: 1; stroke-width: 0.5px; fill: rgb(99, 110, 250); fill-opacity: 1; stroke: rgb(229, 236, 246); stroke-opacity: 1;\"/></g><g class=\"point\"><path d=\"M188.33,363V20.15H206.93V363Z\" style=\"vector-effect: non-scaling-stroke; opacity: 1; stroke-width: 0.5px; fill: rgb(99, 110, 250); fill-opacity: 1; stroke: rgb(229, 236, 246); stroke-opacity: 1;\"/></g></g></g></g></g><g class=\"overplot\"/><path class=\"xlines-above crisp\" d=\"M0,0\" style=\"fill: none;\"/><path class=\"ylines-above crisp\" d=\"M0,0\" style=\"fill: none;\"/><g class=\"overlines-above\"/><g class=\"xaxislayer-above\"><g class=\"xtick\"><text text-anchor=\"start\" x=\"0\" y=\"436\" transform=\"translate(61.63,0) rotate(90,0,430)\" style=\"font-family: 'Open Sans', verdana, arial, sans-serif; font-size: 12px; fill: rgb(42, 63, 95); fill-opacity: 1; white-space: pre;\">Policy 1.1</text></g><g class=\"xtick\"><text text-anchor=\"start\" x=\"0\" y=\"436\" transform=\"translate(84.88,0) rotate(90,0,430)\" style=\"font-family: 'Open Sans', verdana, arial, sans-serif; font-size: 12px; fill: rgb(42, 63, 95); fill-opacity: 1; white-space: pre;\">Policy 1.2</text></g><g class=\"xtick\"><text text-anchor=\"start\" x=\"0\" y=\"436\" transform=\"translate(108.13,0) rotate(90,0,430)\" style=\"font-family: 'Open Sans', verdana, arial, sans-serif; font-size: 12px; fill: rgb(42, 63, 95); fill-opacity: 1; white-space: pre;\">Policy 1.3</text></g><g class=\"xtick\"><text text-anchor=\"start\" x=\"0\" y=\"436\" transform=\"translate(131.38,0) rotate(90,0,430)\" style=\"font-family: 'Open Sans', verdana, arial, sans-serif; font-size: 12px; fill: rgb(42, 63, 95); fill-opacity: 1; white-space: pre;\">Policy 2.1</text></g><g class=\"xtick\"><text text-anchor=\"start\" x=\"0\" y=\"436\" transform=\"translate(154.63,0) rotate(90,0,430)\" style=\"font-family: 'Open Sans', verdana, arial, sans-serif; font-size: 12px; fill: rgb(42, 63, 95); fill-opacity: 1; white-space: pre;\">Policy 2.2</text></g><g class=\"xtick\"><text text-anchor=\"start\" x=\"0\" y=\"436\" transform=\"translate(177.88,0) rotate(90,0,430)\" style=\"font-family: 'Open Sans', verdana, arial, sans-serif; font-size: 12px; fill: rgb(42, 63, 95); fill-opacity: 1; white-space: pre;\">Policy 2.3</text></g><g class=\"xtick\"><text text-anchor=\"start\" x=\"0\" y=\"436\" transform=\"translate(201.13,0) rotate(90,0,430)\" style=\"font-family: 'Open Sans', verdana, arial, sans-serif; font-size: 12px; fill: rgb(42, 63, 95); fill-opacity: 1; white-space: pre;\">Policy 3.1</text></g><g class=\"xtick\"><text text-anchor=\"start\" x=\"0\" y=\"436\" transform=\"translate(224.38,0) rotate(90,0,430)\" style=\"font-family: 'Open Sans', verdana, arial, sans-serif; font-size: 12px; fill: rgb(42, 63, 95); fill-opacity: 1; white-space: pre;\">Policy 3.2</text></g><g class=\"xtick\"><text text-anchor=\"start\" x=\"0\" y=\"436\" transform=\"translate(247.63,0) rotate(90,0,430)\" style=\"font-family: 'Open Sans', verdana, arial, sans-serif; font-size: 12px; fill: rgb(42, 63, 95); fill-opacity: 1; white-space: pre;\">Policy 3.3</text></g></g><g class=\"yaxislayer-above\"><g class=\"ytick\"><text text-anchor=\"end\" x=\"49\" y=\"4.199999999999999\" transform=\"translate(0,423)\" style=\"font-family: 'Open Sans', verdana, arial, sans-serif; font-size: 12px; fill: rgb(42, 63, 95); fill-opacity: 1; white-space: pre;\">0</text></g><g class=\"ytick\"><text text-anchor=\"end\" x=\"49\" y=\"4.199999999999999\" transform=\"translate(0,377.27)\" style=\"font-family: 'Open Sans', verdana, arial, sans-serif; font-size: 12px; fill: rgb(42, 63, 95); fill-opacity: 1; white-space: pre;\">10</text></g><g class=\"ytick\"><text text-anchor=\"end\" x=\"49\" y=\"4.199999999999999\" transform=\"translate(0,331.53)\" style=\"font-family: 'Open Sans', verdana, arial, sans-serif; font-size: 12px; fill: rgb(42, 63, 95); fill-opacity: 1; white-space: pre;\">20</text></g><g class=\"ytick\"><text text-anchor=\"end\" x=\"49\" y=\"4.199999999999999\" transform=\"translate(0,285.8)\" style=\"font-family: 'Open Sans', verdana, arial, sans-serif; font-size: 12px; fill: rgb(42, 63, 95); fill-opacity: 1; white-space: pre;\">30</text></g><g class=\"ytick\"><text text-anchor=\"end\" x=\"49\" y=\"4.199999999999999\" transform=\"translate(0,240.06)\" style=\"font-family: 'Open Sans', verdana, arial, sans-serif; font-size: 12px; fill: rgb(42, 63, 95); fill-opacity: 1; white-space: pre;\">40</text></g><g class=\"ytick\"><text text-anchor=\"end\" x=\"49\" y=\"4.199999999999999\" transform=\"translate(0,194.33)\" style=\"font-family: 'Open Sans', verdana, arial, sans-serif; font-size: 12px; fill: rgb(42, 63, 95); fill-opacity: 1; white-space: pre;\">50</text></g><g class=\"ytick\"><text text-anchor=\"end\" x=\"49\" y=\"4.199999999999999\" transform=\"translate(0,148.59)\" style=\"font-family: 'Open Sans', verdana, arial, sans-serif; font-size: 12px; fill: rgb(42, 63, 95); fill-opacity: 1; white-space: pre;\">60</text></g><g class=\"ytick\"><text text-anchor=\"end\" x=\"49\" y=\"4.199999999999999\" transform=\"translate(0,102.86)\" style=\"font-family: 'Open Sans', verdana, arial, sans-serif; font-size: 12px; fill: rgb(42, 63, 95); fill-opacity: 1; white-space: pre;\">70</text></g></g><g class=\"overaxes-above\"/></g><g class=\"subplot x2y2\"><g class=\"layer-subplot\"><g class=\"shapelayer\"/><g class=\"imagelayer\"/></g><g class=\"gridlayer\"><g class=\"x2\"/><g class=\"y2\"><path class=\"y2grid crisp\" transform=\"translate(0,370.63)\" d=\"M305.75,0h209.24999999999997\" style=\"stroke: rgb(255, 255, 255); stroke-opacity: 1; stroke-width: 1px;\"/><path class=\"y2grid crisp\" transform=\"translate(0,318.27)\" d=\"M305.75,0h209.24999999999997\" style=\"stroke: rgb(255, 255, 255); stroke-opacity: 1; stroke-width: 1px;\"/><path class=\"y2grid crisp\" transform=\"translate(0,265.9)\" d=\"M305.75,0h209.24999999999997\" style=\"stroke: rgb(255, 255, 255); stroke-opacity: 1; stroke-width: 1px;\"/><path class=\"y2grid crisp\" transform=\"translate(0,213.53)\" d=\"M305.75,0h209.24999999999997\" style=\"stroke: rgb(255, 255, 255); stroke-opacity: 1; stroke-width: 1px;\"/><path class=\"y2grid crisp\" transform=\"translate(0,161.17000000000002)\" d=\"M305.75,0h209.24999999999997\" style=\"stroke: rgb(255, 255, 255); stroke-opacity: 1; stroke-width: 1px;\"/><path class=\"y2grid crisp\" transform=\"translate(0,108.8)\" d=\"M305.75,0h209.24999999999997\" style=\"stroke: rgb(255, 255, 255); stroke-opacity: 1; stroke-width: 1px;\"/></g></g><g class=\"zerolinelayer\"><path class=\"y2zl zl crisp\" transform=\"translate(0,423)\" d=\"M305.75,0h209.24999999999997\" style=\"stroke: rgb(255, 255, 255); stroke-opacity: 1; stroke-width: 2px;\"/></g><path class=\"xlines-below\"/><path class=\"ylines-below\"/><g class=\"overlines-below\"/><g class=\"xaxislayer-below\"/><g class=\"yaxislayer-below\"/><g class=\"overaxes-below\"/><g class=\"plot\" transform=\"translate(305.75,60)\" clip-path=\"url('#clipdd1c9ax2y2plot')\"><g class=\"barlayer mlayer\"><g class=\"trace bars\" style=\"opacity: 1;\"><g class=\"points\"><g class=\"point\"><path d=\"M2.32,363V25.08H20.92V363Z\" style=\"vector-effect: non-scaling-stroke; opacity: 1; stroke-width: 0.5px; fill: rgb(239, 85, 59); fill-opacity: 1; stroke: rgb(229, 236, 246); stroke-opacity: 1;\"/></g><g class=\"point\"><path d=\"M25.57,363V26.47H44.17V363Z\" style=\"vector-effect: non-scaling-stroke; opacity: 1; stroke-width: 0.5px; fill: rgb(239, 85, 59); fill-opacity: 1; stroke: rgb(229, 236, 246); stroke-opacity: 1;\"/></g><g class=\"point\"><path d=\"M48.83,363V30.37H67.43V363Z\" style=\"vector-effect: non-scaling-stroke; opacity: 1; stroke-width: 0.5px; fill: rgb(239, 85, 59); fill-opacity: 1; stroke: rgb(229, 236, 246); stroke-opacity: 1;\"/></g><g class=\"point\"><path d=\"M72.07,363V25.22H90.68V363Z\" style=\"vector-effect: non-scaling-stroke; opacity: 1; stroke-width: 0.5px; fill: rgb(239, 85, 59); fill-opacity: 1; stroke: rgb(229, 236, 246); stroke-opacity: 1;\"/></g><g class=\"point\"><path d=\"M95.32,363V23.76H113.93V363Z\" style=\"vector-effect: non-scaling-stroke; opacity: 1; stroke-width: 0.5px; fill: rgb(239, 85, 59); fill-opacity: 1; stroke: rgb(229, 236, 246); stroke-opacity: 1;\"/></g><g class=\"point\"><path d=\"M118.57,363V35.05H137.17V363Z\" style=\"vector-effect: non-scaling-stroke; opacity: 1; stroke-width: 0.5px; fill: rgb(239, 85, 59); fill-opacity: 1; stroke: rgb(229, 236, 246); stroke-opacity: 1;\"/></g><g class=\"point\"><path d=\"M141.82,363V18.15H160.42V363Z\" style=\"vector-effect: non-scaling-stroke; opacity: 1; stroke-width: 0.5px; fill: rgb(239, 85, 59); fill-opacity: 1; stroke: rgb(229, 236, 246); stroke-opacity: 1;\"/></g><g class=\"point\"><path d=\"M165.07,363V19.81H183.67V363Z\" style=\"vector-effect: non-scaling-stroke; opacity: 1; stroke-width: 0.5px; fill: rgb(239, 85, 59); fill-opacity: 1; stroke: rgb(229, 236, 246); stroke-opacity: 1;\"/></g><g class=\"point\"><path d=\"M188.32,363V25.72H206.93V363Z\" style=\"vector-effect: non-scaling-stroke; opacity: 1; stroke-width: 0.5px; fill: rgb(239, 85, 59); fill-opacity: 1; stroke: rgb(229, 236, 246); stroke-opacity: 1;\"/></g></g></g></g></g><g class=\"overplot\"/><path class=\"xlines-above crisp\" d=\"M0,0\" style=\"fill: none;\"/><path class=\"ylines-above crisp\" d=\"M0,0\" style=\"fill: none;\"/><g class=\"overlines-above\"/><g class=\"xaxislayer-above\"><g class=\"x2tick\"><text text-anchor=\"start\" x=\"0\" y=\"436\" transform=\"translate(317.37,0) rotate(90,0,430)\" style=\"font-family: 'Open Sans', verdana, arial, sans-serif; font-size: 12px; fill: rgb(42, 63, 95); fill-opacity: 1; white-space: pre;\">Policy 1.1</text></g><g class=\"x2tick\"><text text-anchor=\"start\" x=\"0\" y=\"436\" transform=\"translate(340.62,0) rotate(90,0,430)\" style=\"font-family: 'Open Sans', verdana, arial, sans-serif; font-size: 12px; fill: rgb(42, 63, 95); fill-opacity: 1; white-space: pre;\">Policy 1.2</text></g><g class=\"x2tick\"><text text-anchor=\"start\" x=\"0\" y=\"436\" transform=\"translate(363.87,0) rotate(90,0,430)\" style=\"font-family: 'Open Sans', verdana, arial, sans-serif; font-size: 12px; fill: rgb(42, 63, 95); fill-opacity: 1; white-space: pre;\">Policy 1.3</text></g><g class=\"x2tick\"><text text-anchor=\"start\" x=\"0\" y=\"436\" transform=\"translate(387.12,0) rotate(90,0,430)\" style=\"font-family: 'Open Sans', verdana, arial, sans-serif; font-size: 12px; fill: rgb(42, 63, 95); fill-opacity: 1; white-space: pre;\">Policy 2.1</text></g><g class=\"x2tick\"><text text-anchor=\"start\" x=\"0\" y=\"436\" transform=\"translate(410.37,0) rotate(90,0,430)\" style=\"font-family: 'Open Sans', verdana, arial, sans-serif; font-size: 12px; fill: rgb(42, 63, 95); fill-opacity: 1; white-space: pre;\">Policy 2.2</text></g><g class=\"x2tick\"><text text-anchor=\"start\" x=\"0\" y=\"436\" transform=\"translate(433.62,0) rotate(90,0,430)\" style=\"font-family: 'Open Sans', verdana, arial, sans-serif; font-size: 12px; fill: rgb(42, 63, 95); fill-opacity: 1; white-space: pre;\">Policy 2.3</text></g><g class=\"x2tick\"><text text-anchor=\"start\" x=\"0\" y=\"436\" transform=\"translate(456.87,0) rotate(90,0,430)\" style=\"font-family: 'Open Sans', verdana, arial, sans-serif; font-size: 12px; fill: rgb(42, 63, 95); fill-opacity: 1; white-space: pre;\">Policy 3.1</text></g><g class=\"x2tick\"><text text-anchor=\"start\" x=\"0\" y=\"436\" transform=\"translate(480.12,0) rotate(90,0,430)\" style=\"font-family: 'Open Sans', verdana, arial, sans-serif; font-size: 12px; fill: rgb(42, 63, 95); fill-opacity: 1; white-space: pre;\">Policy 3.2</text></g><g class=\"x2tick\"><text text-anchor=\"start\" x=\"0\" y=\"436\" transform=\"translate(503.37,0) rotate(90,0,430)\" style=\"font-family: 'Open Sans', verdana, arial, sans-serif; font-size: 12px; fill: rgb(42, 63, 95); fill-opacity: 1; white-space: pre;\">Policy 3.3</text></g></g><g class=\"yaxislayer-above\"><g class=\"y2tick\"><text text-anchor=\"end\" x=\"304.75\" y=\"4.199999999999999\" transform=\"translate(0,423)\" style=\"font-family: 'Open Sans', verdana, arial, sans-serif; font-size: 12px; fill: rgb(42, 63, 95); fill-opacity: 1; white-space: pre;\">0</text></g><g class=\"y2tick\"><text text-anchor=\"end\" x=\"304.75\" y=\"4.199999999999999\" transform=\"translate(0,370.63)\" style=\"font-family: 'Open Sans', verdana, arial, sans-serif; font-size: 12px; fill: rgb(42, 63, 95); fill-opacity: 1; white-space: pre;\">5</text></g><g class=\"y2tick\"><text text-anchor=\"end\" x=\"304.75\" y=\"4.199999999999999\" transform=\"translate(0,318.27)\" style=\"font-family: 'Open Sans', verdana, arial, sans-serif; font-size: 12px; fill: rgb(42, 63, 95); fill-opacity: 1; white-space: pre;\">10</text></g><g class=\"y2tick\"><text text-anchor=\"end\" x=\"304.75\" y=\"4.199999999999999\" transform=\"translate(0,265.9)\" style=\"font-family: 'Open Sans', verdana, arial, sans-serif; font-size: 12px; fill: rgb(42, 63, 95); fill-opacity: 1; white-space: pre;\">15</text></g><g class=\"y2tick\"><text text-anchor=\"end\" x=\"304.75\" y=\"4.199999999999999\" transform=\"translate(0,213.53)\" style=\"font-family: 'Open Sans', verdana, arial, sans-serif; font-size: 12px; fill: rgb(42, 63, 95); fill-opacity: 1; white-space: pre;\">20</text></g><g class=\"y2tick\"><text text-anchor=\"end\" x=\"304.75\" y=\"4.199999999999999\" transform=\"translate(0,161.17000000000002)\" style=\"font-family: 'Open Sans', verdana, arial, sans-serif; font-size: 12px; fill: rgb(42, 63, 95); fill-opacity: 1; white-space: pre;\">25</text></g><g class=\"y2tick\"><text text-anchor=\"end\" x=\"304.75\" y=\"4.199999999999999\" transform=\"translate(0,108.8)\" style=\"font-family: 'Open Sans', verdana, arial, sans-serif; font-size: 12px; fill: rgb(42, 63, 95); fill-opacity: 1; white-space: pre;\">30</text></g></g><g class=\"overaxes-above\"/></g></g><g class=\"polarlayer\"/><g class=\"ternarylayer\"/><g class=\"geolayer\"/><g class=\"funnelarealayer\"/><g class=\"pielayer\"/><g class=\"treemaplayer\"/><g class=\"sunburstlayer\"/><g class=\"glimages\"/><defs id=\"topdefs-dd1c9a\"><g class=\"clips\"/><clipPath id=\"legenddd1c9a\"><rect width=\"164\" height=\"48\" x=\"0\" y=\"0\"/></clipPath></defs><g class=\"layer-above\"><g class=\"imagelayer\"/><g class=\"shapelayer\"/></g><g class=\"infolayer\"><g class=\"legend\" pointer-events=\"all\" transform=\"translate(524.3,60)\"><rect class=\"bg\" shape-rendering=\"crispEdges\" width=\"164\" height=\"48\" x=\"0\" y=\"0\" style=\"stroke: rgb(68, 68, 68); stroke-opacity: 1; fill: rgb(255, 255, 255); fill-opacity: 1; stroke-width: 0px;\"/><g class=\"scrollbox\" transform=\"\" clip-path=\"url('#legenddd1c9a')\"><g class=\"groups\"><g class=\"traces\" transform=\"translate(0,14.5)\" style=\"opacity: 1;\"><text class=\"legendtext\" text-anchor=\"start\" x=\"40\" y=\"4.680000000000001\" style=\"font-family: 'Open Sans', verdana, arial, sans-serif; font-size: 12px; fill: rgb(42, 63, 95); fill-opacity: 1; white-space: pre;\">No Spot (%)</text><g class=\"layers\" style=\"opacity: 1;\"><g class=\"legendfill\"/><g class=\"legendlines\"/><g class=\"legendsymbols\"><g class=\"legendpoints\"><path class=\"legendundefined\" d=\"M6,6H-6V-6H6Z\" transform=\"translate(20,0)\" style=\"stroke-width: 0.5px; fill: rgb(99, 110, 250); fill-opacity: 1; stroke: rgb(229, 236, 246); stroke-opacity: 1;\"/></g></g></g><rect class=\"legendtoggle\" x=\"0\" y=\"-9.5\" width=\"158.859375\" height=\"19\" style=\"fill: rgb(0, 0, 0); fill-opacity: 0;\"/></g><g class=\"traces\" transform=\"translate(0,33.5)\" style=\"opacity: 1;\"><text class=\"legendtext\" text-anchor=\"start\" x=\"40\" y=\"4.680000000000001\" style=\"font-family: 'Open Sans', verdana, arial, sans-serif; font-size: 12px; fill: rgb(42, 63, 95); fill-opacity: 1; white-space: pre;\">Residual Space (%)</text><g class=\"layers\" style=\"opacity: 1;\"><g class=\"legendfill\"/><g class=\"legendlines\"/><g class=\"legendsymbols\"><g class=\"legendpoints\"><path class=\"legendundefined\" d=\"M6,6H-6V-6H6Z\" transform=\"translate(20,0)\" style=\"stroke-width: 0.5px; fill: rgb(239, 85, 59); fill-opacity: 1; stroke: rgb(229, 236, 246); stroke-opacity: 1;\"/></g></g></g><rect class=\"legendtoggle\" x=\"0\" y=\"-9.5\" width=\"158.859375\" height=\"19\" style=\"fill: rgb(0, 0, 0); fill-opacity: 0;\"/></g></g></g><rect class=\"scrollbar\" rx=\"20\" ry=\"3\" width=\"0\" height=\"0\" x=\"0\" y=\"0\" style=\"fill: rgb(128, 139, 164); fill-opacity: 1;\"/></g><g class=\"g-gtitle\"><text class=\"gtitle\" x=\"35\" y=\"30\" text-anchor=\"start\" dy=\"0em\" style=\"font-family: 'Open Sans', verdana, arial, sans-serif; font-size: 17px; fill: rgb(42, 63, 95); opacity: 1; font-weight: normal; white-space: pre;\">Parking Sim: 40.0m, 200 drivers, 1000 iterations per policy</text></g><g class=\"g-xtitle\"/><g class=\"g-x2title\"/><g class=\"g-ytitle\"/><g class=\"g-y2title\"/></g></svg>"
      ],
      "text/html": [
       "<div\n",
       "    class=\"webio-mountpoint\"\n",
       "    data-webio-mountpoint=\"9025259827942636359\"\n",
       ">\n",
       "    <script>\n",
       "    (function(){\n",
       "    // Some integrations (namely, IJulia/Jupyter) use an alternate render pathway than\n",
       "    // just putting the html on the page. If WebIO isn't defined, then it's pretty likely\n",
       "    // that we're in one of those situations and the integration just isn't installed\n",
       "    // correctly.\n",
       "    if (typeof window.WebIO === \"undefined\") {\n",
       "        document\n",
       "            .querySelector('[data-webio-mountpoint=\"9025259827942636359\"]')\n",
       "            .innerHTML = (\n",
       "                '<div style=\"padding: 1em; background-color: #f8d6da; border: 1px solid #f5c6cb; font-weight: bold;\">' +\n",
       "                '<p><strong>WebIO not detected.</strong></p>' +\n",
       "                '<p>Please read ' +\n",
       "                '<a href=\"https://juliagizmos.github.io/WebIO.jl/latest/troubleshooting/not-detected/\" target=\"_blank\">the troubleshooting guide</a> ' +\n",
       "                'for more information on how to resolve this issue.</p>' +\n",
       "                '<p><a href=\"https://juliagizmos.github.io/WebIO.jl/latest/troubleshooting/not-detected/\" target=\"_blank\">https://juliagizmos.github.io/WebIO.jl/latest/troubleshooting/not-detected/</a></p>' +\n",
       "                '</div>'\n",
       "            );\n",
       "        return;\n",
       "    }\n",
       "    WebIO.mount(\n",
       "        document.querySelector('[data-webio-mountpoint=\"9025259827942636359\"]'),\n",
       "        {\"props\":{},\"nodeType\":\"Scope\",\"type\":\"node\",\"instanceArgs\":{\"imports\":{\"data\":[{\"name\":\"Plotly\",\"type\":\"js\",\"url\":\"\\/assetserver\\/5369e54fe8d828ab0ae82f146492a98dbe6f40df-plotly.min.js\"},{\"name\":null,\"type\":\"js\",\"url\":\"\\/assetserver\\/23e257f104a73815a6c1d51a939a2bc0d6e8d7c9-plotly_webio.bundle.js\"}],\"type\":\"async_block\"},\"id\":\"3824563026120504016\",\"handlers\":{\"_toImage\":[\"(function (options){return this.Plotly.toImage(this.plotElem,options).then((function (data){return WebIO.setval({\\\"name\\\":\\\"image\\\",\\\"scope\\\":\\\"3824563026120504016\\\",\\\"id\\\":\\\"519222142892445599\\\",\\\"type\\\":\\\"observable\\\"},data)}))})\"],\"__get_gd_contents\":[\"(function (prop){prop==\\\"data\\\" ? (WebIO.setval({\\\"name\\\":\\\"__gd_contents\\\",\\\"scope\\\":\\\"3824563026120504016\\\",\\\"id\\\":\\\"2588981525342164641\\\",\\\"type\\\":\\\"observable\\\"},this.plotElem.data)) : undefined; return prop==\\\"layout\\\" ? (WebIO.setval({\\\"name\\\":\\\"__gd_contents\\\",\\\"scope\\\":\\\"3824563026120504016\\\",\\\"id\\\":\\\"2588981525342164641\\\",\\\"type\\\":\\\"observable\\\"},this.plotElem.layout)) : undefined})\"],\"_downloadImage\":[\"(function (options){return this.Plotly.downloadImage(this.plotElem,options)})\"],\"_commands\":[\"(function (args){var fn=args.shift(); var elem=this.plotElem; var Plotly=this.Plotly; args.unshift(elem); return Plotly[fn].apply(this,args)})\"]},\"systemjs_options\":null,\"mount_callbacks\":[\"function () {\\n    var handler = ((function (Plotly,PlotlyWebIO){PlotlyWebIO.init(WebIO); var gd=this.dom.querySelector(\\\"#plot-8087d464-f3a0-4f14-b83d-49768e21eeb0\\\"); this.plotElem=gd; this.Plotly=Plotly; (window.Blink!==undefined) ? (gd.style.width=\\\"100%\\\", gd.style.height=\\\"100vh\\\", gd.style.marginLeft=\\\"0%\\\", gd.style.marginTop=\\\"0vh\\\") : undefined; window.onresize=(function (){return Plotly.Plots.resize(gd)}); Plotly.newPlot(gd,[{\\\"xaxis\\\":\\\"x1\\\",\\\"y\\\":[75.3305,75.29,74.853,75.201,75.3065,74.7265,75.403,75.3975,74.966],\\\"type\\\":\\\"bar\\\",\\\"name\\\":\\\"No Spot (%)\\\",\\\"yaxis\\\":\\\"y1\\\",\\\"x\\\":[\\\"Policy 1.1\\\",\\\"Policy 1.2\\\",\\\"Policy 1.3\\\",\\\"Policy 2.1\\\",\\\"Policy 2.2\\\",\\\"Policy 2.3\\\",\\\"Policy 3.1\\\",\\\"Policy 3.2\\\",\\\"Policy 3.3\\\"]},{\\\"xaxis\\\":\\\"x2\\\",\\\"y\\\":[32.26450004339218,32.13175009727478,31.759500047564504,32.25125006735325,32.391250045895575,31.313000082969666,32.92650004327297,32.76800006389618,32.20375008463859],\\\"type\\\":\\\"bar\\\",\\\"name\\\":\\\"Residual Space (%)\\\",\\\"yaxis\\\":\\\"y2\\\",\\\"x\\\":[\\\"Policy 1.1\\\",\\\"Policy 1.2\\\",\\\"Policy 1.3\\\",\\\"Policy 2.1\\\",\\\"Policy 2.2\\\",\\\"Policy 2.3\\\",\\\"Policy 3.1\\\",\\\"Policy 3.2\\\",\\\"Policy 3.3\\\"]}],{\\\"xaxis1\\\":{\\\"domain\\\":[0.0,0.45],\\\"anchor\\\":\\\"y1\\\"},\\\"yaxis1\\\":{\\\"domain\\\":[0.0,1.0],\\\"anchor\\\":\\\"x1\\\"},\\\"template\\\":{\\\"layout\\\":{\\\"coloraxis\\\":{\\\"colorbar\\\":{\\\"ticks\\\":\\\"\\\",\\\"outlinewidth\\\":0}},\\\"xaxis\\\":{\\\"gridcolor\\\":\\\"white\\\",\\\"zerolinewidth\\\":2,\\\"title\\\":{\\\"standoff\\\":15},\\\"ticks\\\":\\\"\\\",\\\"zerolinecolor\\\":\\\"white\\\",\\\"automargin\\\":true,\\\"linecolor\\\":\\\"white\\\"},\\\"hovermode\\\":\\\"closest\\\",\\\"paper_bgcolor\\\":\\\"white\\\",\\\"geo\\\":{\\\"showlakes\\\":true,\\\"showland\\\":true,\\\"landcolor\\\":\\\"#E5ECF6\\\",\\\"bgcolor\\\":\\\"white\\\",\\\"subunitcolor\\\":\\\"white\\\",\\\"lakecolor\\\":\\\"white\\\"},\\\"colorscale\\\":{\\\"sequential\\\":[[0.0,\\\"#0d0887\\\"],[0.1111111111111111,\\\"#46039f\\\"],[0.2222222222222222,\\\"#7201a8\\\"],[0.3333333333333333,\\\"#9c179e\\\"],[0.4444444444444444,\\\"#bd3786\\\"],[0.5555555555555556,\\\"#d8576b\\\"],[0.6666666666666666,\\\"#ed7953\\\"],[0.7777777777777778,\\\"#fb9f3a\\\"],[0.8888888888888888,\\\"#fdca26\\\"],[1.0,\\\"#f0f921\\\"]],\\\"diverging\\\":[[0,\\\"#8e0152\\\"],[0.1,\\\"#c51b7d\\\"],[0.2,\\\"#de77ae\\\"],[0.3,\\\"#f1b6da\\\"],[0.4,\\\"#fde0ef\\\"],[0.5,\\\"#f7f7f7\\\"],[0.6,\\\"#e6f5d0\\\"],[0.7,\\\"#b8e186\\\"],[0.8,\\\"#7fbc41\\\"],[0.9,\\\"#4d9221\\\"],[1,\\\"#276419\\\"]],\\\"sequentialminus\\\":[[0.0,\\\"#0d0887\\\"],[0.1111111111111111,\\\"#46039f\\\"],[0.2222222222222222,\\\"#7201a8\\\"],[0.3333333333333333,\\\"#9c179e\\\"],[0.4444444444444444,\\\"#bd3786\\\"],[0.5555555555555556,\\\"#d8576b\\\"],[0.6666666666666666,\\\"#ed7953\\\"],[0.7777777777777778,\\\"#fb9f3a\\\"],[0.8888888888888888,\\\"#fdca26\\\"],[1.0,\\\"#f0f921\\\"]]},\\\"yaxis\\\":{\\\"gridcolor\\\":\\\"white\\\",\\\"zerolinewidth\\\":2,\\\"title\\\":{\\\"standoff\\\":15},\\\"ticks\\\":\\\"\\\",\\\"zerolinecolor\\\":\\\"white\\\",\\\"automargin\\\":true,\\\"linecolor\\\":\\\"white\\\"},\\\"shapedefaults\\\":{\\\"line\\\":{\\\"color\\\":\\\"#2a3f5f\\\"}},\\\"hoverlabel\\\":{\\\"align\\\":\\\"left\\\"},\\\"mapbox\\\":{\\\"style\\\":\\\"light\\\"},\\\"polar\\\":{\\\"angularaxis\\\":{\\\"gridcolor\\\":\\\"white\\\",\\\"ticks\\\":\\\"\\\",\\\"linecolor\\\":\\\"white\\\"},\\\"bgcolor\\\":\\\"#E5ECF6\\\",\\\"radialaxis\\\":{\\\"gridcolor\\\":\\\"white\\\",\\\"ticks\\\":\\\"\\\",\\\"linecolor\\\":\\\"white\\\"}},\\\"autotypenumbers\\\":\\\"strict\\\",\\\"font\\\":{\\\"color\\\":\\\"#2a3f5f\\\"},\\\"ternary\\\":{\\\"baxis\\\":{\\\"gridcolor\\\":\\\"white\\\",\\\"ticks\\\":\\\"\\\",\\\"linecolor\\\":\\\"white\\\"},\\\"bgcolor\\\":\\\"#E5ECF6\\\",\\\"caxis\\\":{\\\"gridcolor\\\":\\\"white\\\",\\\"ticks\\\":\\\"\\\",\\\"linecolor\\\":\\\"white\\\"},\\\"aaxis\\\":{\\\"gridcolor\\\":\\\"white\\\",\\\"ticks\\\":\\\"\\\",\\\"linecolor\\\":\\\"white\\\"}},\\\"annotationdefaults\\\":{\\\"arrowhead\\\":0,\\\"arrowwidth\\\":1,\\\"arrowcolor\\\":\\\"#2a3f5f\\\"},\\\"plot_bgcolor\\\":\\\"#E5ECF6\\\",\\\"title\\\":{\\\"x\\\":0.05},\\\"scene\\\":{\\\"xaxis\\\":{\\\"gridcolor\\\":\\\"white\\\",\\\"gridwidth\\\":2,\\\"backgroundcolor\\\":\\\"#E5ECF6\\\",\\\"ticks\\\":\\\"\\\",\\\"showbackground\\\":true,\\\"zerolinecolor\\\":\\\"white\\\",\\\"linecolor\\\":\\\"white\\\"},\\\"zaxis\\\":{\\\"gridcolor\\\":\\\"white\\\",\\\"gridwidth\\\":2,\\\"backgroundcolor\\\":\\\"#E5ECF6\\\",\\\"ticks\\\":\\\"\\\",\\\"showbackground\\\":true,\\\"zerolinecolor\\\":\\\"white\\\",\\\"linecolor\\\":\\\"white\\\"},\\\"yaxis\\\":{\\\"gridcolor\\\":\\\"white\\\",\\\"gridwidth\\\":2,\\\"backgroundcolor\\\":\\\"#E5ECF6\\\",\\\"ticks\\\":\\\"\\\",\\\"showbackground\\\":true,\\\"zerolinecolor\\\":\\\"white\\\",\\\"linecolor\\\":\\\"white\\\"}},\\\"colorway\\\":[\\\"#636efa\\\",\\\"#EF553B\\\",\\\"#00cc96\\\",\\\"#ab63fa\\\",\\\"#FFA15A\\\",\\\"#19d3f3\\\",\\\"#FF6692\\\",\\\"#B6E880\\\",\\\"#FF97FF\\\",\\\"#FECB52\\\"]},\\\"data\\\":{\\\"barpolar\\\":[{\\\"type\\\":\\\"barpolar\\\",\\\"marker\\\":{\\\"line\\\":{\\\"color\\\":\\\"#E5ECF6\\\",\\\"width\\\":0.5}}}],\\\"carpet\\\":[{\\\"aaxis\\\":{\\\"gridcolor\\\":\\\"white\\\",\\\"endlinecolor\\\":\\\"#2a3f5f\\\",\\\"minorgridcolor\\\":\\\"white\\\",\\\"startlinecolor\\\":\\\"#2a3f5f\\\",\\\"linecolor\\\":\\\"white\\\"},\\\"type\\\":\\\"carpet\\\",\\\"baxis\\\":{\\\"gridcolor\\\":\\\"white\\\",\\\"endlinecolor\\\":\\\"#2a3f5f\\\",\\\"minorgridcolor\\\":\\\"white\\\",\\\"startlinecolor\\\":\\\"#2a3f5f\\\",\\\"linecolor\\\":\\\"white\\\"}}],\\\"scatterpolar\\\":[{\\\"type\\\":\\\"scatterpolar\\\",\\\"marker\\\":{\\\"colorbar\\\":{\\\"ticks\\\":\\\"\\\",\\\"outlinewidth\\\":0}}}],\\\"parcoords\\\":[{\\\"line\\\":{\\\"colorbar\\\":{\\\"ticks\\\":\\\"\\\",\\\"outlinewidth\\\":0}},\\\"type\\\":\\\"parcoords\\\"}],\\\"scatter\\\":[{\\\"type\\\":\\\"scatter\\\",\\\"marker\\\":{\\\"colorbar\\\":{\\\"ticks\\\":\\\"\\\",\\\"outlinewidth\\\":0}}}],\\\"histogram2dcontour\\\":[{\\\"colorbar\\\":{\\\"ticks\\\":\\\"\\\",\\\"outlinewidth\\\":0},\\\"type\\\":\\\"histogram2dcontour\\\",\\\"colorscale\\\":[[0.0,\\\"#0d0887\\\"],[0.1111111111111111,\\\"#46039f\\\"],[0.2222222222222222,\\\"#7201a8\\\"],[0.3333333333333333,\\\"#9c179e\\\"],[0.4444444444444444,\\\"#bd3786\\\"],[0.5555555555555556,\\\"#d8576b\\\"],[0.6666666666666666,\\\"#ed7953\\\"],[0.7777777777777778,\\\"#fb9f3a\\\"],[0.8888888888888888,\\\"#fdca26\\\"],[1.0,\\\"#f0f921\\\"]]}],\\\"contour\\\":[{\\\"colorbar\\\":{\\\"ticks\\\":\\\"\\\",\\\"outlinewidth\\\":0},\\\"type\\\":\\\"contour\\\",\\\"colorscale\\\":[[0.0,\\\"#0d0887\\\"],[0.1111111111111111,\\\"#46039f\\\"],[0.2222222222222222,\\\"#7201a8\\\"],[0.3333333333333333,\\\"#9c179e\\\"],[0.4444444444444444,\\\"#bd3786\\\"],[0.5555555555555556,\\\"#d8576b\\\"],[0.6666666666666666,\\\"#ed7953\\\"],[0.7777777777777778,\\\"#fb9f3a\\\"],[0.8888888888888888,\\\"#fdca26\\\"],[1.0,\\\"#f0f921\\\"]]}],\\\"scattercarpet\\\":[{\\\"type\\\":\\\"scattercarpet\\\",\\\"marker\\\":{\\\"colorbar\\\":{\\\"ticks\\\":\\\"\\\",\\\"outlinewidth\\\":0}}}],\\\"mesh3d\\\":[{\\\"colorbar\\\":{\\\"ticks\\\":\\\"\\\",\\\"outlinewidth\\\":0},\\\"type\\\":\\\"mesh3d\\\"}],\\\"surface\\\":[{\\\"colorbar\\\":{\\\"ticks\\\":\\\"\\\",\\\"outlinewidth\\\":0},\\\"type\\\":\\\"surface\\\",\\\"colorscale\\\":[[0.0,\\\"#0d0887\\\"],[0.1111111111111111,\\\"#46039f\\\"],[0.2222222222222222,\\\"#7201a8\\\"],[0.3333333333333333,\\\"#9c179e\\\"],[0.4444444444444444,\\\"#bd3786\\\"],[0.5555555555555556,\\\"#d8576b\\\"],[0.6666666666666666,\\\"#ed7953\\\"],[0.7777777777777778,\\\"#fb9f3a\\\"],[0.8888888888888888,\\\"#fdca26\\\"],[1.0,\\\"#f0f921\\\"]]}],\\\"scattermapbox\\\":[{\\\"type\\\":\\\"scattermapbox\\\",\\\"marker\\\":{\\\"colorbar\\\":{\\\"ticks\\\":\\\"\\\",\\\"outlinewidth\\\":0}}}],\\\"scattergeo\\\":[{\\\"type\\\":\\\"scattergeo\\\",\\\"marker\\\":{\\\"colorbar\\\":{\\\"ticks\\\":\\\"\\\",\\\"outlinewidth\\\":0}}}],\\\"histogram\\\":[{\\\"type\\\":\\\"histogram\\\",\\\"marker\\\":{\\\"colorbar\\\":{\\\"ticks\\\":\\\"\\\",\\\"outlinewidth\\\":0}}}],\\\"pie\\\":[{\\\"type\\\":\\\"pie\\\",\\\"automargin\\\":true}],\\\"choropleth\\\":[{\\\"colorbar\\\":{\\\"ticks\\\":\\\"\\\",\\\"outlinewidth\\\":0},\\\"type\\\":\\\"choropleth\\\"}],\\\"heatmapgl\\\":[{\\\"colorbar\\\":{\\\"ticks\\\":\\\"\\\",\\\"outlinewidth\\\":0},\\\"type\\\":\\\"heatmapgl\\\",\\\"colorscale\\\":[[0.0,\\\"#0d0887\\\"],[0.1111111111111111,\\\"#46039f\\\"],[0.2222222222222222,\\\"#7201a8\\\"],[0.3333333333333333,\\\"#9c179e\\\"],[0.4444444444444444,\\\"#bd3786\\\"],[0.5555555555555556,\\\"#d8576b\\\"],[0.6666666666666666,\\\"#ed7953\\\"],[0.7777777777777778,\\\"#fb9f3a\\\"],[0.8888888888888888,\\\"#fdca26\\\"],[1.0,\\\"#f0f921\\\"]]}],\\\"bar\\\":[{\\\"type\\\":\\\"bar\\\",\\\"error_y\\\":{\\\"color\\\":\\\"#2a3f5f\\\"},\\\"error_x\\\":{\\\"color\\\":\\\"#2a3f5f\\\"},\\\"marker\\\":{\\\"line\\\":{\\\"color\\\":\\\"#E5ECF6\\\",\\\"width\\\":0.5}}}],\\\"heatmap\\\":[{\\\"colorbar\\\":{\\\"ticks\\\":\\\"\\\",\\\"outlinewidth\\\":0},\\\"type\\\":\\\"heatmap\\\",\\\"colorscale\\\":[[0.0,\\\"#0d0887\\\"],[0.1111111111111111,\\\"#46039f\\\"],[0.2222222222222222,\\\"#7201a8\\\"],[0.3333333333333333,\\\"#9c179e\\\"],[0.4444444444444444,\\\"#bd3786\\\"],[0.5555555555555556,\\\"#d8576b\\\"],[0.6666666666666666,\\\"#ed7953\\\"],[0.7777777777777778,\\\"#fb9f3a\\\"],[0.8888888888888888,\\\"#fdca26\\\"],[1.0,\\\"#f0f921\\\"]]}],\\\"contourcarpet\\\":[{\\\"colorbar\\\":{\\\"ticks\\\":\\\"\\\",\\\"outlinewidth\\\":0},\\\"type\\\":\\\"contourcarpet\\\"}],\\\"table\\\":[{\\\"type\\\":\\\"table\\\",\\\"header\\\":{\\\"line\\\":{\\\"color\\\":\\\"white\\\"},\\\"fill\\\":{\\\"color\\\":\\\"#C8D4E3\\\"}},\\\"cells\\\":{\\\"line\\\":{\\\"color\\\":\\\"white\\\"},\\\"fill\\\":{\\\"color\\\":\\\"#EBF0F8\\\"}}}],\\\"scatter3d\\\":[{\\\"line\\\":{\\\"colorbar\\\":{\\\"ticks\\\":\\\"\\\",\\\"outlinewidth\\\":0}},\\\"type\\\":\\\"scatter3d\\\",\\\"marker\\\":{\\\"colorbar\\\":{\\\"ticks\\\":\\\"\\\",\\\"outlinewidth\\\":0}}}],\\\"scattergl\\\":[{\\\"type\\\":\\\"scattergl\\\",\\\"marker\\\":{\\\"colorbar\\\":{\\\"ticks\\\":\\\"\\\",\\\"outlinewidth\\\":0}}}],\\\"histogram2d\\\":[{\\\"colorbar\\\":{\\\"ticks\\\":\\\"\\\",\\\"outlinewidth\\\":0},\\\"type\\\":\\\"histogram2d\\\",\\\"colorscale\\\":[[0.0,\\\"#0d0887\\\"],[0.1111111111111111,\\\"#46039f\\\"],[0.2222222222222222,\\\"#7201a8\\\"],[0.3333333333333333,\\\"#9c179e\\\"],[0.4444444444444444,\\\"#bd3786\\\"],[0.5555555555555556,\\\"#d8576b\\\"],[0.6666666666666666,\\\"#ed7953\\\"],[0.7777777777777778,\\\"#fb9f3a\\\"],[0.8888888888888888,\\\"#fdca26\\\"],[1.0,\\\"#f0f921\\\"]]}],\\\"scatterternary\\\":[{\\\"type\\\":\\\"scatterternary\\\",\\\"marker\\\":{\\\"colorbar\\\":{\\\"ticks\\\":\\\"\\\",\\\"outlinewidth\\\":0}}}],\\\"scatterpolargl\\\":[{\\\"type\\\":\\\"scatterpolargl\\\",\\\"marker\\\":{\\\"colorbar\\\":{\\\"ticks\\\":\\\"\\\",\\\"outlinewidth\\\":0}}}]}},\\\"xaxis2\\\":{\\\"domain\\\":[0.55,1.0],\\\"anchor\\\":\\\"y2\\\"},\\\"margin\\\":{\\\"l\\\":50,\\\"b\\\":50,\\\"r\\\":50,\\\"t\\\":60},\\\"yaxis2\\\":{\\\"domain\\\":[0.0,1.0],\\\"anchor\\\":\\\"x2\\\"}},{\\\"showLink\\\":false,\\\"editable\\\":false,\\\"responsive\\\":true,\\\"staticPlot\\\":false,\\\"scrollZoom\\\":true}); gd.on(\\\"plotly_hover\\\",(function (data){var filtered_data=WebIO.PlotlyCommands.filterEventData(gd,data,\\\"hover\\\"); return !(filtered_data.isnil) ? (WebIO.setval({\\\"name\\\":\\\"hover\\\",\\\"scope\\\":\\\"3824563026120504016\\\",\\\"id\\\":\\\"15194864242524402412\\\",\\\"type\\\":\\\"observable\\\"},filtered_data.out)) : undefined})); gd.on(\\\"plotly_unhover\\\",(function (){return WebIO.setval({\\\"name\\\":\\\"hover\\\",\\\"scope\\\":\\\"3824563026120504016\\\",\\\"id\\\":\\\"15194864242524402412\\\",\\\"type\\\":\\\"observable\\\"},{})})); gd.on(\\\"plotly_selected\\\",(function (data){var filtered_data=WebIO.PlotlyCommands.filterEventData(gd,data,\\\"selected\\\"); return !(filtered_data.isnil) ? (WebIO.setval({\\\"name\\\":\\\"selected\\\",\\\"scope\\\":\\\"3824563026120504016\\\",\\\"id\\\":\\\"7995613463179293356\\\",\\\"type\\\":\\\"observable\\\"},filtered_data.out)) : undefined})); gd.on(\\\"plotly_deselect\\\",(function (){return WebIO.setval({\\\"name\\\":\\\"selected\\\",\\\"scope\\\":\\\"3824563026120504016\\\",\\\"id\\\":\\\"7995613463179293356\\\",\\\"type\\\":\\\"observable\\\"},{})})); gd.on(\\\"plotly_relayout\\\",(function (data){var filtered_data=WebIO.PlotlyCommands.filterEventData(gd,data,\\\"relayout\\\"); return !(filtered_data.isnil) ? (WebIO.setval({\\\"name\\\":\\\"relayout\\\",\\\"scope\\\":\\\"3824563026120504016\\\",\\\"id\\\":\\\"10109518250389681028\\\",\\\"type\\\":\\\"observable\\\"},filtered_data.out)) : undefined})); return gd.on(\\\"plotly_click\\\",(function (data){var filtered_data=WebIO.PlotlyCommands.filterEventData(gd,data,\\\"click\\\"); return !(filtered_data.isnil) ? (WebIO.setval({\\\"name\\\":\\\"click\\\",\\\"scope\\\":\\\"3824563026120504016\\\",\\\"id\\\":\\\"5356876052396546721\\\",\\\"type\\\":\\\"observable\\\"},filtered_data.out)) : undefined}))}));\\n    (WebIO.importBlock({\\\"data\\\":[{\\\"name\\\":\\\"Plotly\\\",\\\"type\\\":\\\"js\\\",\\\"url\\\":\\\"\\/assetserver\\/5369e54fe8d828ab0ae82f146492a98dbe6f40df-plotly.min.js\\\"},{\\\"name\\\":null,\\\"type\\\":\\\"js\\\",\\\"url\\\":\\\"\\/assetserver\\/23e257f104a73815a6c1d51a939a2bc0d6e8d7c9-plotly_webio.bundle.js\\\"}],\\\"type\\\":\\\"async_block\\\"})).then((imports) => handler.apply(this, imports));\\n}\\n\"],\"observables\":{\"_toImage\":{\"sync\":false,\"id\":\"20841381094861796\",\"value\":{}},\"hover\":{\"sync\":false,\"id\":\"15194864242524402412\",\"value\":{}},\"selected\":{\"sync\":false,\"id\":\"7995613463179293356\",\"value\":{}},\"__gd_contents\":{\"sync\":false,\"id\":\"2588981525342164641\",\"value\":{}},\"click\":{\"sync\":false,\"id\":\"5356876052396546721\",\"value\":{}},\"image\":{\"sync\":true,\"id\":\"519222142892445599\",\"value\":\"\"},\"__get_gd_contents\":{\"sync\":false,\"id\":\"6123932638163946666\",\"value\":\"\"},\"_downloadImage\":{\"sync\":false,\"id\":\"5955591347674192848\",\"value\":{}},\"relayout\":{\"sync\":false,\"id\":\"10109518250389681028\",\"value\":{}},\"_commands\":{\"sync\":false,\"id\":\"11983698673358015116\",\"value\":[\"update\",{},{\"xaxis1\":{\"domain\":[0.0,0.45],\"anchor\":\"y1\"},\"yaxis1\":{\"domain\":[0.0,1.0],\"anchor\":\"x1\"},\"template\":{\"data\":{\"scatterpolargl\":[{\"type\":\"scatterpolargl\",\"marker\":{\"colorbar\":{\"ticks\":\"\",\"outlinewidth\":0}}}],\"carpet\":[{\"baxis\":{\"gridcolor\":\"white\",\"endlinecolor\":\"#2a3f5f\",\"minorgridcolor\":\"white\",\"startlinecolor\":\"#2a3f5f\",\"linecolor\":\"white\"},\"type\":\"carpet\",\"aaxis\":{\"gridcolor\":\"white\",\"endlinecolor\":\"#2a3f5f\",\"minorgridcolor\":\"white\",\"startlinecolor\":\"#2a3f5f\",\"linecolor\":\"white\"}}],\"scatterpolar\":[{\"type\":\"scatterpolar\",\"marker\":{\"colorbar\":{\"ticks\":\"\",\"outlinewidth\":0}}}],\"parcoords\":[{\"line\":{\"colorbar\":{\"ticks\":\"\",\"outlinewidth\":0}},\"type\":\"parcoords\"}],\"scatter\":[{\"type\":\"scatter\",\"marker\":{\"colorbar\":{\"ticks\":\"\",\"outlinewidth\":0}}}],\"histogram2dcontour\":[{\"colorbar\":{\"ticks\":\"\",\"outlinewidth\":0},\"type\":\"histogram2dcontour\",\"colorscale\":[[0.0,\"#0d0887\"],[0.1111111111111111,\"#46039f\"],[0.2222222222222222,\"#7201a8\"],[0.3333333333333333,\"#9c179e\"],[0.4444444444444444,\"#bd3786\"],[0.5555555555555556,\"#d8576b\"],[0.6666666666666666,\"#ed7953\"],[0.7777777777777778,\"#fb9f3a\"],[0.8888888888888888,\"#fdca26\"],[1.0,\"#f0f921\"]]}],\"contour\":[{\"colorbar\":{\"ticks\":\"\",\"outlinewidth\":0},\"type\":\"contour\",\"colorscale\":[[0.0,\"#0d0887\"],[0.1111111111111111,\"#46039f\"],[0.2222222222222222,\"#7201a8\"],[0.3333333333333333,\"#9c179e\"],[0.4444444444444444,\"#bd3786\"],[0.5555555555555556,\"#d8576b\"],[0.6666666666666666,\"#ed7953\"],[0.7777777777777778,\"#fb9f3a\"],[0.8888888888888888,\"#fdca26\"],[1.0,\"#f0f921\"]]}],\"scattercarpet\":[{\"type\":\"scattercarpet\",\"marker\":{\"colorbar\":{\"ticks\":\"\",\"outlinewidth\":0}}}],\"mesh3d\":[{\"colorbar\":{\"ticks\":\"\",\"outlinewidth\":0},\"type\":\"mesh3d\"}],\"surface\":[{\"colorbar\":{\"ticks\":\"\",\"outlinewidth\":0},\"type\":\"surface\",\"colorscale\":[[0.0,\"#0d0887\"],[0.1111111111111111,\"#46039f\"],[0.2222222222222222,\"#7201a8\"],[0.3333333333333333,\"#9c179e\"],[0.4444444444444444,\"#bd3786\"],[0.5555555555555556,\"#d8576b\"],[0.6666666666666666,\"#ed7953\"],[0.7777777777777778,\"#fb9f3a\"],[0.8888888888888888,\"#fdca26\"],[1.0,\"#f0f921\"]]}],\"scattermapbox\":[{\"type\":\"scattermapbox\",\"marker\":{\"colorbar\":{\"ticks\":\"\",\"outlinewidth\":0}}}],\"scattergeo\":[{\"type\":\"scattergeo\",\"marker\":{\"colorbar\":{\"ticks\":\"\",\"outlinewidth\":0}}}],\"histogram\":[{\"type\":\"histogram\",\"marker\":{\"colorbar\":{\"ticks\":\"\",\"outlinewidth\":0}}}],\"pie\":[{\"type\":\"pie\",\"automargin\":true}],\"choropleth\":[{\"colorbar\":{\"ticks\":\"\",\"outlinewidth\":0},\"type\":\"choropleth\"}],\"heatmapgl\":[{\"colorbar\":{\"ticks\":\"\",\"outlinewidth\":0},\"type\":\"heatmapgl\",\"colorscale\":[[0.0,\"#0d0887\"],[0.1111111111111111,\"#46039f\"],[0.2222222222222222,\"#7201a8\"],[0.3333333333333333,\"#9c179e\"],[0.4444444444444444,\"#bd3786\"],[0.5555555555555556,\"#d8576b\"],[0.6666666666666666,\"#ed7953\"],[0.7777777777777778,\"#fb9f3a\"],[0.8888888888888888,\"#fdca26\"],[1.0,\"#f0f921\"]]}],\"bar\":[{\"type\":\"bar\",\"error_y\":{\"color\":\"#2a3f5f\"},\"error_x\":{\"color\":\"#2a3f5f\"},\"marker\":{\"line\":{\"color\":\"#E5ECF6\",\"width\":0.5}}}],\"heatmap\":[{\"colorbar\":{\"ticks\":\"\",\"outlinewidth\":0},\"type\":\"heatmap\",\"colorscale\":[[0.0,\"#0d0887\"],[0.1111111111111111,\"#46039f\"],[0.2222222222222222,\"#7201a8\"],[0.3333333333333333,\"#9c179e\"],[0.4444444444444444,\"#bd3786\"],[0.5555555555555556,\"#d8576b\"],[0.6666666666666666,\"#ed7953\"],[0.7777777777777778,\"#fb9f3a\"],[0.8888888888888888,\"#fdca26\"],[1.0,\"#f0f921\"]]}],\"contourcarpet\":[{\"colorbar\":{\"ticks\":\"\",\"outlinewidth\":0},\"type\":\"contourcarpet\"}],\"table\":[{\"type\":\"table\",\"header\":{\"line\":{\"color\":\"white\"},\"fill\":{\"color\":\"#C8D4E3\"}},\"cells\":{\"line\":{\"color\":\"white\"},\"fill\":{\"color\":\"#EBF0F8\"}}}],\"scatter3d\":[{\"line\":{\"colorbar\":{\"ticks\":\"\",\"outlinewidth\":0}},\"type\":\"scatter3d\",\"marker\":{\"colorbar\":{\"ticks\":\"\",\"outlinewidth\":0}}}],\"scattergl\":[{\"type\":\"scattergl\",\"marker\":{\"colorbar\":{\"ticks\":\"\",\"outlinewidth\":0}}}],\"histogram2d\":[{\"colorbar\":{\"ticks\":\"\",\"outlinewidth\":0},\"type\":\"histogram2d\",\"colorscale\":[[0.0,\"#0d0887\"],[0.1111111111111111,\"#46039f\"],[0.2222222222222222,\"#7201a8\"],[0.3333333333333333,\"#9c179e\"],[0.4444444444444444,\"#bd3786\"],[0.5555555555555556,\"#d8576b\"],[0.6666666666666666,\"#ed7953\"],[0.7777777777777778,\"#fb9f3a\"],[0.8888888888888888,\"#fdca26\"],[1.0,\"#f0f921\"]]}],\"scatterternary\":[{\"type\":\"scatterternary\",\"marker\":{\"colorbar\":{\"ticks\":\"\",\"outlinewidth\":0}}}],\"barpolar\":[{\"type\":\"barpolar\",\"marker\":{\"line\":{\"color\":\"#E5ECF6\",\"width\":0.5}}}]},\"layout\":{\"xaxis\":{\"gridcolor\":\"white\",\"zerolinewidth\":2,\"title\":{\"standoff\":15},\"ticks\":\"\",\"zerolinecolor\":\"white\",\"automargin\":true,\"linecolor\":\"white\"},\"hovermode\":\"closest\",\"paper_bgcolor\":\"white\",\"geo\":{\"showlakes\":true,\"showland\":true,\"landcolor\":\"#E5ECF6\",\"bgcolor\":\"white\",\"subunitcolor\":\"white\",\"lakecolor\":\"white\"},\"colorscale\":{\"sequential\":[[0.0,\"#0d0887\"],[0.1111111111111111,\"#46039f\"],[0.2222222222222222,\"#7201a8\"],[0.3333333333333333,\"#9c179e\"],[0.4444444444444444,\"#bd3786\"],[0.5555555555555556,\"#d8576b\"],[0.6666666666666666,\"#ed7953\"],[0.7777777777777778,\"#fb9f3a\"],[0.8888888888888888,\"#fdca26\"],[1.0,\"#f0f921\"]],\"diverging\":[[0,\"#8e0152\"],[0.1,\"#c51b7d\"],[0.2,\"#de77ae\"],[0.3,\"#f1b6da\"],[0.4,\"#fde0ef\"],[0.5,\"#f7f7f7\"],[0.6,\"#e6f5d0\"],[0.7,\"#b8e186\"],[0.8,\"#7fbc41\"],[0.9,\"#4d9221\"],[1,\"#276419\"]],\"sequentialminus\":[[0.0,\"#0d0887\"],[0.1111111111111111,\"#46039f\"],[0.2222222222222222,\"#7201a8\"],[0.3333333333333333,\"#9c179e\"],[0.4444444444444444,\"#bd3786\"],[0.5555555555555556,\"#d8576b\"],[0.6666666666666666,\"#ed7953\"],[0.7777777777777778,\"#fb9f3a\"],[0.8888888888888888,\"#fdca26\"],[1.0,\"#f0f921\"]]},\"yaxis\":{\"gridcolor\":\"white\",\"zerolinewidth\":2,\"title\":{\"standoff\":15},\"ticks\":\"\",\"zerolinecolor\":\"white\",\"automargin\":true,\"linecolor\":\"white\"},\"shapedefaults\":{\"line\":{\"color\":\"#2a3f5f\"}},\"font\":{\"color\":\"#2a3f5f\"},\"annotationdefaults\":{\"arrowhead\":0,\"arrowwidth\":1,\"arrowcolor\":\"#2a3f5f\"},\"plot_bgcolor\":\"#E5ECF6\",\"title\":{\"x\":0.05},\"coloraxis\":{\"colorbar\":{\"ticks\":\"\",\"outlinewidth\":0}},\"hoverlabel\":{\"align\":\"left\"},\"mapbox\":{\"style\":\"light\"},\"polar\":{\"angularaxis\":{\"gridcolor\":\"white\",\"ticks\":\"\",\"linecolor\":\"white\"},\"bgcolor\":\"#E5ECF6\",\"radialaxis\":{\"gridcolor\":\"white\",\"ticks\":\"\",\"linecolor\":\"white\"}},\"autotypenumbers\":\"strict\",\"ternary\":{\"aaxis\":{\"gridcolor\":\"white\",\"ticks\":\"\",\"linecolor\":\"white\"},\"bgcolor\":\"#E5ECF6\",\"caxis\":{\"gridcolor\":\"white\",\"ticks\":\"\",\"linecolor\":\"white\"},\"baxis\":{\"gridcolor\":\"white\",\"ticks\":\"\",\"linecolor\":\"white\"}},\"scene\":{\"xaxis\":{\"gridcolor\":\"white\",\"gridwidth\":2,\"backgroundcolor\":\"#E5ECF6\",\"ticks\":\"\",\"showbackground\":true,\"zerolinecolor\":\"white\",\"linecolor\":\"white\"},\"zaxis\":{\"gridcolor\":\"white\",\"gridwidth\":2,\"backgroundcolor\":\"#E5ECF6\",\"ticks\":\"\",\"showbackground\":true,\"zerolinecolor\":\"white\",\"linecolor\":\"white\"},\"yaxis\":{\"gridcolor\":\"white\",\"gridwidth\":2,\"backgroundcolor\":\"#E5ECF6\",\"ticks\":\"\",\"showbackground\":true,\"zerolinecolor\":\"white\",\"linecolor\":\"white\"}},\"colorway\":[\"#636efa\",\"#EF553B\",\"#00cc96\",\"#ab63fa\",\"#FFA15A\",\"#19d3f3\",\"#FF6692\",\"#B6E880\",\"#FF97FF\",\"#FECB52\"]}},\"xaxis2\":{\"domain\":[0.55,1.0],\"anchor\":\"y2\"},\"margin\":{\"l\":50,\"b\":50,\"r\":50,\"t\":60},\"yaxis2\":{\"domain\":[0.0,1.0],\"anchor\":\"x2\"},\"title\":{\"text\":\"Parking Sim: 40.0m, 200 drivers, 1000 iterations per policy\"}}]}}},\"children\":[{\"props\":{\"id\":\"plot-8087d464-f3a0-4f14-b83d-49768e21eeb0\"},\"nodeType\":\"DOM\",\"type\":\"node\",\"instanceArgs\":{\"namespace\":\"html\",\"tag\":\"div\"},\"children\":[]}]},\n",
       "        window,\n",
       "    );\n",
       "    })()\n",
       "    </script>\n",
       "</div>\n"
      ],
      "text/plain": [
       "data: [\n",
       "  \"bar with fields name, type, x, xaxis, y, and yaxis\",\n",
       "  \"bar with fields name, type, x, xaxis, y, and yaxis\"\n",
       "]\n",
       "\n",
       "layout: \"layout with fields margin, template, title, xaxis1, xaxis2, yaxis1, and yaxis2\"\n",
       "\n"
      ]
     },
     "metadata": {},
     "output_type": "display_data"
    }
   ],
   "source": [
    "curb = 40.0\n",
    "no_drivers = 200\n",
    "iterations = 1000\n",
    "title = \"Parking Sim: \" * string(curb) * \"m, \" * string(no_drivers) * \" drivers, \" * string(iterations) * \" iterations per policy\"\n",
    "comparison = compare_policies(policies, curb, no_drivers, iterations)\n",
    "plot_comparison(comparison, title=title)"
   ]
  },
  {
   "cell_type": "code",
   "execution_count": 215,
   "metadata": {},
   "outputs": [
    {
     "data": {
      "text/plain": [
       "plot_cars (generic function with 2 methods)"
      ]
     },
     "metadata": {},
     "output_type": "display_data"
    }
   ],
   "source": [
    "# Interactive plot with PlotlyJS backend\n",
    "function plot_cars(policies, curb_length, number_of_drivers::Int; title::String=\"End state with varying policies\")\n",
    "\n",
    "    plot_list = []\n",
    "\n",
    "    for policy in policies\n",
    "        drivers = create_n_drivers(number_of_drivers, [policy])\n",
    "        simulation = park_sim(drivers, curb_length)\n",
    "\n",
    "        starts = map(x -> x[1], simulation[\"parked_cars\"])\n",
    "        ends = map(x -> x[2], simulation[\"parked_cars\"])\n",
    "        driverNo = map(x -> x[4], simulation[\"parked_cars\"])\n",
    "\n",
    "        x = [starts; ends]\n",
    "        y = ones(2*size(x)[1])\n",
    "        traces = [scatter(x=[0, curb_length], y=[0.1, 0.1], mode=\"lines\", line=attr(width=100, color=\"black\", label=\"\"))]\n",
    "        \n",
    "        for i in eachindex(starts)\n",
    "            trace = scatter(x=[starts[i],ends[i]], y=[0.2,0.2], text=\"Driver $(driverNo[i])\", mode=\"lines\", line=attr(width=30), label=\"\")\n",
    "            push!(traces, trace)\n",
    "        end\n",
    "\n",
    "        policy_name = \"Policy \" * string(policy[1]) * \".\" * string(policy[2])\n",
    "        layout = Layout(title=policy_name, showlegend=false, xaxis=attr(ticks=\"outside\", tick0=0, dtick=10),\n",
    "                        yaxis=attr(showticklabels=false, range=[0, 0.3]), label=false)\n",
    "        \n",
    "        p = plot(traces, layout)\n",
    "        push!(plot_list, p)\n",
    "    end\n",
    "\n",
    "    plots = [plot_list[1] plot_list[2] plot_list[3];\n",
    "     plot_list[4] plot_list[5] plot_list[6];\n",
    "     plot_list[7] plot_list[8] plot_list[9]]\n",
    "\n",
    "    relayout!(plots, title_text=title, showlegend=false)\n",
    "    return plots\n",
    "end"
   ]
  },
  {
   "cell_type": "code",
   "execution_count": 216,
   "metadata": {},
   "outputs": [
    {
     "data": {
      "application/vnd.plotly.v1+json": {
       "config": {
        "editable": false,
        "responsive": true,
        "scrollZoom": true,
        "showLink": false,
        "staticPlot": false
       },
       "data": [
        {
         "line": {
          "color": "black",
          "label": "",
          "width": 100
         },
         "mode": "lines",
         "type": "scatter",
         "x": [
          0,
          40
         ],
         "xaxis": "x1",
         "y": [
          0.1,
          0.1
         ],
         "yaxis": "y1"
        },
        {
         "label": "",
         "line": {
          "width": 30
         },
         "mode": "lines",
         "text": "Driver 37",
         "type": "scatter",
         "x": [
          12.630800000381472,
          16.930800191116333
         ],
         "xaxis": "x1",
         "y": [
          0.2,
          0.2
         ],
         "yaxis": "y1"
        },
        {
         "label": "",
         "line": {
          "width": 30
         },
         "mode": "lines",
         "text": "Driver 28",
         "type": "scatter",
         "x": [
          27.565999595880506,
          32.165999500513074
         ],
         "xaxis": "x1",
         "y": [
          0.2,
          0.2
         ],
         "yaxis": "y1"
        },
        {
         "label": "",
         "line": {
          "width": 30
         },
         "mode": "lines",
         "text": "Driver 27",
         "type": "scatter",
         "x": [
          0.38399999618530284,
          4.983999900817871
         ],
         "xaxis": "x1",
         "y": [
          0.2,
          0.2
         ],
         "yaxis": "y1"
        },
        {
         "label": "",
         "line": {
          "width": 30
         },
         "mode": "lines",
         "text": "Driver 17",
         "type": "scatter",
         "x": [
          20.79820019226074,
          24.198200287628172
         ],
         "xaxis": "x1",
         "y": [
          0.2,
          0.2
         ],
         "yaxis": "y1"
        },
        {
         "label": "",
         "line": {
          "width": 30
         },
         "mode": "lines",
         "text": "Driver 11",
         "type": "scatter",
         "x": [
          32.495999495744705,
          37.495999495744705
         ],
         "xaxis": "x1",
         "y": [
          0.2,
          0.2
         ],
         "yaxis": "y1"
        },
        {
         "label": "",
         "line": {
          "width": 30
         },
         "mode": "lines",
         "text": "Driver 2",
         "type": "scatter",
         "x": [
          5.237999902963638,
          9.737999902963638
         ],
         "xaxis": "x1",
         "y": [
          0.2,
          0.2
         ],
         "yaxis": "y1"
        },
        {
         "line": {
          "color": "black",
          "label": "",
          "width": 100
         },
         "mode": "lines",
         "type": "scatter",
         "x": [
          0,
          40
         ],
         "xaxis": "x2",
         "y": [
          0.1,
          0.1
         ],
         "yaxis": "y2"
        },
        {
         "label": "",
         "line": {
          "width": 30
         },
         "mode": "lines",
         "text": "Driver 31",
         "type": "scatter",
         "x": [
          2.8544002996444684,
          7.554400108909605
         ],
         "xaxis": "x2",
         "y": [
          0.2,
          0.2
         ],
         "yaxis": "y2"
        },
        {
         "label": "",
         "line": {
          "width": 30
         },
         "mode": "lines",
         "text": "Driver 29",
         "type": "scatter",
         "x": [
          22.221200479078295,
          25.92120052676201
         ],
         "xaxis": "x2",
         "y": [
          0.2,
          0.2
         ],
         "yaxis": "y2"
        },
        {
         "label": "",
         "line": {
          "width": 30
         },
         "mode": "lines",
         "text": "Driver 24",
         "type": "scatter",
         "x": [
          10.147800204467776,
          14.44780039520264
         ],
         "xaxis": "x2",
         "y": [
          0.2,
          0.2
         ],
         "yaxis": "y2"
        },
        {
         "label": "",
         "line": {
          "width": 30
         },
         "mode": "lines",
         "text": "Driver 7",
         "type": "scatter",
         "x": [
          31.825199996757505,
          35.62519994907379
         ],
         "xaxis": "x2",
         "y": [
          0.2,
          0.2
         ],
         "yaxis": "y2"
        },
        {
         "label": "",
         "line": {
          "width": 30
         },
         "mode": "lines",
         "text": "Driver 6",
         "type": "scatter",
         "x": [
          27.576999899625775,
          31.476999994993207
         ],
         "xaxis": "x2",
         "y": [
          0.2,
          0.2
         ],
         "yaxis": "y2"
        },
        {
         "label": "",
         "line": {
          "width": 30
         },
         "mode": "lines",
         "text": "Driver 2",
         "type": "scatter",
         "x": [
          18.907200480508806,
          21.907200480508806
         ],
         "xaxis": "x2",
         "y": [
          0.2,
          0.2
         ],
         "yaxis": "y2"
        },
        {
         "line": {
          "color": "black",
          "label": "",
          "width": 100
         },
         "mode": "lines",
         "type": "scatter",
         "x": [
          0,
          40
         ],
         "xaxis": "x3",
         "y": [
          0.1,
          0.1
         ],
         "yaxis": "y3"
        },
        {
         "label": "",
         "line": {
          "width": 30
         },
         "mode": "lines",
         "text": "Driver 38",
         "type": "scatter",
         "x": [
          23.386000150084495,
          28.085999959349632
         ],
         "xaxis": "x3",
         "y": [
          0.2,
          0.2
         ],
         "yaxis": "y3"
        },
        {
         "label": "",
         "line": {
          "width": 30
         },
         "mode": "lines",
         "text": "Driver 37",
         "type": "scatter",
         "x": [
          0.6505000169277197,
          4.950500207662583
         ],
         "xaxis": "x3",
         "y": [
          0.2,
          0.2
         ],
         "yaxis": "y3"
        },
        {
         "label": "",
         "line": {
          "width": 30
         },
         "mode": "lines",
         "text": "Driver 29",
         "type": "scatter",
         "x": [
          34.56600040638447,
          38.4660005017519
         ],
         "xaxis": "x3",
         "y": [
          0.2,
          0.2
         ],
         "yaxis": "y3"
        },
        {
         "label": "",
         "line": {
          "width": 30
         },
         "mode": "lines",
         "text": "Driver 20",
         "type": "scatter",
         "x": [
          28.995999949812887,
          33.09599985444545
         ],
         "xaxis": "x3",
         "y": [
          0.2,
          0.2
         ],
         "yaxis": "y3"
        },
        {
         "label": "",
         "line": {
          "width": 30
         },
         "mode": "lines",
         "text": "Driver 14",
         "type": "scatter",
         "x": [
          5.6785003330707555,
          9.478500285387039
         ],
         "xaxis": "x3",
         "y": [
          0.2,
          0.2
         ],
         "yaxis": "y3"
        },
        {
         "label": "",
         "line": {
          "width": 30
         },
         "mode": "lines",
         "text": "Driver 10",
         "type": "scatter",
         "x": [
          10.158500280618668,
          14.158500280618668
         ],
         "xaxis": "x3",
         "y": [
          0.2,
          0.2
         ],
         "yaxis": "y3"
        },
        {
         "label": "",
         "line": {
          "width": 30
         },
         "mode": "lines",
         "text": "Driver 9",
         "type": "scatter",
         "x": [
          14.7705002720356,
          17.570500224351882
         ],
         "xaxis": "x3",
         "y": [
          0.2,
          0.2
         ],
         "yaxis": "y3"
        },
        {
         "label": "",
         "line": {
          "width": 30
         },
         "mode": "lines",
         "text": "Driver 1",
         "type": "scatter",
         "x": [
          18.18050022673607,
          22.5805003221035
         ],
         "xaxis": "x3",
         "y": [
          0.2,
          0.2
         ],
         "yaxis": "y3"
        },
        {
         "line": {
          "color": "black",
          "label": "",
          "width": 100
         },
         "mode": "lines",
         "type": "scatter",
         "x": [
          0,
          40
         ],
         "xaxis": "x4",
         "y": [
          0.1,
          0.1
         ],
         "yaxis": "y4"
        },
        {
         "label": "",
         "line": {
          "width": 30
         },
         "mode": "lines",
         "text": "Driver 47",
         "type": "scatter",
         "x": [
          29.279400284147265,
          33.4794000934124
         ],
         "xaxis": "x4",
         "y": [
          0.2,
          0.2
         ],
         "yaxis": "y4"
        },
        {
         "label": "",
         "line": {
          "width": 30
         },
         "mode": "lines",
         "text": "Driver 37",
         "type": "scatter",
         "x": [
          19.949400106763843,
          23.54940001139641
         ],
         "xaxis": "x4",
         "y": [
          0.2,
          0.2
         ],
         "yaxis": "y4"
        },
        {
         "label": "",
         "line": {
          "width": 30
         },
         "mode": "lines",
         "text": "Driver 19",
         "type": "scatter",
         "x": [
          3.8469999980926515,
          7.44699990272522
         ],
         "xaxis": "x4",
         "y": [
          0.2,
          0.2
         ],
         "yaxis": "y4"
        },
        {
         "label": "",
         "line": {
          "width": 30
         },
         "mode": "lines",
         "text": "Driver 16",
         "type": "scatter",
         "x": [
          7.714999904632569,
          11.115
         ],
         "xaxis": "x4",
         "y": [
          0.2,
          0.2
         ],
         "yaxis": "y4"
        },
        {
         "label": "",
         "line": {
          "width": 30
         },
         "mode": "lines",
         "text": "Driver 12",
         "type": "scatter",
         "x": [
          23.82540005812645,
          27.625400010442736
         ],
         "xaxis": "x4",
         "y": [
          0.2,
          0.2
         ],
         "yaxis": "y4"
        },
        {
         "label": "",
         "line": {
          "width": 30
         },
         "mode": "lines",
         "text": "Driver 8",
         "type": "scatter",
         "x": [
          33.73120004992485,
          37.43120009760857
         ],
         "xaxis": "x4",
         "y": [
          0.2,
          0.2
         ],
         "yaxis": "y4"
        },
        {
         "label": "",
         "line": {
          "width": 30
         },
         "mode": "lines",
         "text": "Driver 7",
         "type": "scatter",
         "x": [
          11.449399995899201,
          15.649399805164338
         ],
         "xaxis": "x4",
         "y": [
          0.2,
          0.2
         ],
         "yaxis": "y4"
        },
        {
         "line": {
          "color": "black",
          "label": "",
          "width": 100
         },
         "mode": "lines",
         "type": "scatter",
         "x": [
          0,
          40
         ],
         "xaxis": "x5",
         "y": [
          0.1,
          0.1
         ],
         "yaxis": "y5"
        },
        {
         "label": "",
         "line": {
          "width": 30
         },
         "mode": "lines",
         "text": "Driver 16",
         "type": "scatter",
         "x": [
          3.6606002801895148,
          7.760600184822083
         ],
         "xaxis": "x5",
         "y": [
          0.2,
          0.2
         ],
         "yaxis": "y5"
        },
        {
         "label": "",
         "line": {
          "width": 30
         },
         "mode": "lines",
         "text": "Driver 14",
         "type": "scatter",
         "x": [
          14.835799995851517,
          18.235800091218948
         ],
         "xaxis": "x5",
         "y": [
          0.2,
          0.2
         ],
         "yaxis": "y5"
        },
        {
         "label": "",
         "line": {
          "width": 30
         },
         "mode": "lines",
         "text": "Driver 13",
         "type": "scatter",
         "x": [
          26.29580029363632,
          30.995800102901455
         ],
         "xaxis": "x5",
         "y": [
          0.2,
          0.2
         ],
         "yaxis": "y5"
        },
        {
         "label": "",
         "line": {
          "width": 30
         },
         "mode": "lines",
         "text": "Driver 9",
         "type": "scatter",
         "x": [
          21.107600198888775,
          26.007600294256207
         ],
         "xaxis": "x5",
         "y": [
          0.2,
          0.2
         ],
         "yaxis": "y5"
        },
        {
         "label": "",
         "line": {
          "width": 30
         },
         "mode": "lines",
         "text": "Driver 4",
         "type": "scatter",
         "x": [
          35.939200004386905,
          39.73919995670319
         ],
         "xaxis": "x5",
         "y": [
          0.2,
          0.2
         ],
         "yaxis": "y5"
        },
        {
         "label": "",
         "line": {
          "width": 30
         },
         "mode": "lines",
         "text": "Driver 2",
         "type": "scatter",
         "x": [
          10.232599796438217,
          14.53259998717308
         ],
         "xaxis": "x5",
         "y": [
          0.2,
          0.2
         ],
         "yaxis": "y5"
        },
        {
         "line": {
          "color": "black",
          "label": "",
          "width": 100
         },
         "mode": "lines",
         "type": "scatter",
         "x": [
          0,
          40
         ],
         "xaxis": "x6",
         "y": [
          0.1,
          0.1
         ],
         "yaxis": "y6"
        },
        {
         "label": "",
         "line": {
          "width": 30
         },
         "mode": "lines",
         "text": "Driver 23",
         "type": "scatter",
         "x": [
          5.548499911665917,
          9.94850000703335
         ],
         "xaxis": "x6",
         "y": [
          0.2,
          0.2
         ],
         "yaxis": "y6"
        },
        {
         "label": "",
         "line": {
          "width": 30
         },
         "mode": "lines",
         "text": "Driver 19",
         "type": "scatter",
         "x": [
          17.112500401735304,
          21.212500306367872
         ],
         "xaxis": "x6",
         "y": [
          0.2,
          0.2
         ],
         "yaxis": "y6"
        },
        {
         "label": "",
         "line": {
          "width": 30
         },
         "mode": "lines",
         "text": "Driver 18",
         "type": "scatter",
         "x": [
          21.802500301003455,
          26.302500301003455
         ],
         "xaxis": "x6",
         "y": [
          0.2,
          0.2
         ],
         "yaxis": "y6"
        },
        {
         "label": "",
         "line": {
          "width": 30
         },
         "mode": "lines",
         "text": "Driver 12",
         "type": "scatter",
         "x": [
          10.835500013947488,
          15.135500204682351
         ],
         "xaxis": "x6",
         "y": [
          0.2,
          0.2
         ],
         "yaxis": "y6"
        },
        {
         "label": "",
         "line": {
          "width": 30
         },
         "mode": "lines",
         "text": "Driver 9",
         "type": "scatter",
         "x": [
          27.096500282645223,
          31.29650009191036
         ],
         "xaxis": "x6",
         "y": [
          0.2,
          0.2
         ],
         "yaxis": "y6"
        },
        {
         "label": "",
         "line": {
          "width": 30
         },
         "mode": "lines",
         "text": "Driver 4",
         "type": "scatter",
         "x": [
          0.6200000047683716,
          4.620000004768372
         ],
         "xaxis": "x6",
         "y": [
          0.2,
          0.2
         ],
         "yaxis": "y6"
        },
        {
         "label": "",
         "line": {
          "width": 30
         },
         "mode": "lines",
         "text": "Driver 1",
         "type": "scatter",
         "x": [
          32.26650007283688,
          36.96649988210201
         ],
         "xaxis": "x6",
         "y": [
          0.2,
          0.2
         ],
         "yaxis": "y6"
        },
        {
         "line": {
          "color": "black",
          "label": "",
          "width": 100
         },
         "mode": "lines",
         "type": "scatter",
         "x": [
          0,
          40
         ],
         "xaxis": "x7",
         "y": [
          0.1,
          0.1
         ],
         "yaxis": "y7"
        },
        {
         "label": "",
         "line": {
          "width": 30
         },
         "mode": "lines",
         "text": "Driver 29",
         "type": "scatter",
         "x": [
          0.2575999950408937,
          3.857599899673462
         ],
         "xaxis": "x7",
         "y": [
          0.2,
          0.2
         ],
         "yaxis": "y7"
        },
        {
         "label": "",
         "line": {
          "width": 30
         },
         "mode": "lines",
         "text": "Driver 27",
         "type": "scatter",
         "x": [
          16.58640004572868,
          20.286400093412396
         ],
         "xaxis": "x7",
         "y": [
          0.2,
          0.2
         ],
         "yaxis": "y7"
        },
        {
         "label": "",
         "line": {
          "width": 30
         },
         "mode": "lines",
         "text": "Driver 17",
         "type": "scatter",
         "x": [
          4.177999902963638,
          8.478000093698501
         ],
         "xaxis": "x7",
         "y": [
          0.2,
          0.2
         ],
         "yaxis": "y7"
        },
        {
         "label": "",
         "line": {
          "width": 30
         },
         "mode": "lines",
         "text": "Driver 14",
         "type": "scatter",
         "x": [
          8.814800088357925,
          12.414799992990494
         ],
         "xaxis": "x7",
         "y": [
          0.2,
          0.2
         ],
         "yaxis": "y7"
        },
        {
         "label": "",
         "line": {
          "width": 30
         },
         "mode": "lines",
         "text": "Driver 7",
         "type": "scatter",
         "x": [
          20.63940009770393,
          25.13940009770393
         ],
         "xaxis": "x7",
         "y": [
          0.2,
          0.2
         ],
         "yaxis": "y7"
        },
        {
         "label": "",
         "line": {
          "width": 30
         },
         "mode": "lines",
         "text": "Driver 6",
         "type": "scatter",
         "x": [
          25.45420009307861,
          29.55419999771118
         ],
         "xaxis": "x7",
         "y": [
          0.2,
          0.2
         ],
         "yaxis": "y7"
        },
        {
         "label": "",
         "line": {
          "width": 30
         },
         "mode": "lines",
         "text": "Driver 2",
         "type": "scatter",
         "x": [
          29.84880000395775,
          34.14880019469261
         ],
         "xaxis": "x7",
         "y": [
          0.2,
          0.2
         ],
         "yaxis": "y7"
        },
        {
         "label": "",
         "line": {
          "width": 30
         },
         "mode": "lines",
         "text": "Driver 1",
         "type": "scatter",
         "x": [
          34.49700019645691,
          38.39700029182434
         ],
         "xaxis": "x7",
         "y": [
          0.2,
          0.2
         ],
         "yaxis": "y7"
        },
        {
         "line": {
          "color": "black",
          "label": "",
          "width": 100
         },
         "mode": "lines",
         "type": "scatter",
         "x": [
          0,
          40
         ],
         "xaxis": "x8",
         "y": [
          0.1,
          0.1
         ],
         "yaxis": "y8"
        },
        {
         "label": "",
         "line": {
          "width": 30
         },
         "mode": "lines",
         "text": "Driver 46",
         "type": "scatter",
         "x": [
          35.31199990272522,
          39.71199999809265
         ],
         "xaxis": "x8",
         "y": [
          0.2,
          0.2
         ],
         "yaxis": "y8"
        },
        {
         "label": "",
         "line": {
          "width": 30
         },
         "mode": "lines",
         "text": "Driver 40",
         "type": "scatter",
         "x": [
          8.720800158691407,
          12.720800158691407
         ],
         "xaxis": "x8",
         "y": [
          0.2,
          0.2
         ],
         "yaxis": "y8"
        },
        {
         "label": "",
         "line": {
          "width": 30
         },
         "mode": "lines",
         "text": "Driver 9",
         "type": "scatter",
         "x": [
          4.943800157022476,
          8.443800157022476
         ],
         "xaxis": "x8",
         "y": [
          0.2,
          0.2
         ],
         "yaxis": "y8"
        },
        {
         "label": "",
         "line": {
          "width": 30
         },
         "mode": "lines",
         "text": "Driver 5",
         "type": "scatter",
         "x": [
          30.17279980893135,
          35.07279990429878
         ],
         "xaxis": "x8",
         "y": [
          0.2,
          0.2
         ],
         "yaxis": "y8"
        },
        {
         "label": "",
         "line": {
          "width": 30
         },
         "mode": "lines",
         "text": "Driver 4",
         "type": "scatter",
         "x": [
          19.908399900054928,
          24.008399804687496
         ],
         "xaxis": "x8",
         "y": [
          0.2,
          0.2
         ],
         "yaxis": "y8"
        },
        {
         "label": "",
         "line": {
          "width": 30
         },
         "mode": "lines",
         "text": "Driver 3",
         "type": "scatter",
         "x": [
          15.786799899768827,
          19.58679985208511
         ],
         "xaxis": "x8",
         "y": [
          0.2,
          0.2
         ],
         "yaxis": "y8"
        },
        {
         "line": {
          "color": "black",
          "label": "",
          "width": 100
         },
         "mode": "lines",
         "type": "scatter",
         "x": [
          0,
          40
         ],
         "xaxis": "x9",
         "y": [
          0.1,
          0.1
         ],
         "yaxis": "y9"
        },
        {
         "label": "",
         "line": {
          "width": 30
         },
         "mode": "lines",
         "text": "Driver 30",
         "type": "scatter",
         "x": [
          4.93699993956089,
          8.536999844193458
         ],
         "xaxis": "x9",
         "y": [
          0.2,
          0.2
         ],
         "yaxis": "y9"
        },
        {
         "label": "",
         "line": {
          "width": 30
         },
         "mode": "lines",
         "text": "Driver 24",
         "type": "scatter",
         "x": [
          34.92749924302102,
          39.22749943375588
         ],
         "xaxis": "x9",
         "y": [
          0.2,
          0.2
         ],
         "yaxis": "y9"
        },
        {
         "label": "",
         "line": {
          "width": 30
         },
         "mode": "lines",
         "text": "Driver 18",
         "type": "scatter",
         "x": [
          25.031499644875527,
          29.131499549508096
         ],
         "xaxis": "x9",
         "y": [
          0.2,
          0.2
         ],
         "yaxis": "y9"
        },
        {
         "label": "",
         "line": {
          "width": 30
         },
         "mode": "lines",
         "text": "Driver 7",
         "type": "scatter",
         "x": [
          14.607499849796296,
          17.907499802112582
         ],
         "xaxis": "x9",
         "y": [
          0.2,
          0.2
         ],
         "yaxis": "y9"
        },
        {
         "label": "",
         "line": {
          "width": 30
         },
         "mode": "lines",
         "text": "Driver 6",
         "type": "scatter",
         "x": [
          9.267999956130982,
          12.567999908447266
         ],
         "xaxis": "x9",
         "y": [
          0.2,
          0.2
         ],
         "yaxis": "y9"
        },
        {
         "label": "",
         "line": {
          "width": 30
         },
         "mode": "lines",
         "text": "Driver 1",
         "type": "scatter",
         "x": [
          18.569499793529513,
          22.16949969816208
         ],
         "xaxis": "x9",
         "y": [
          0.2,
          0.2
         ],
         "yaxis": "y9"
        }
       ],
       "frames": [],
       "layout": {
        "annotations": [
         {
          "font": {
           "size": 16
          },
          "showarrow": false,
          "text": "Policy 1.1",
          "x": 0.14444444444444446,
          "xanchor": "center",
          "xref": "paper",
          "y": 1,
          "yanchor": "bottom",
          "yref": "paper"
         },
         {
          "font": {
           "size": 16
          },
          "showarrow": false,
          "text": "Policy 1.2",
          "x": 0.5,
          "xanchor": "center",
          "xref": "paper",
          "y": 1,
          "yanchor": "bottom",
          "yref": "paper"
         },
         {
          "font": {
           "size": 16
          },
          "showarrow": false,
          "text": "Policy 1.3",
          "x": 0.8555555555555556,
          "xanchor": "center",
          "xref": "paper",
          "y": 1,
          "yanchor": "bottom",
          "yref": "paper"
         },
         {
          "font": {
           "size": 16
          },
          "showarrow": false,
          "text": "Policy 2.1",
          "x": 0.14444444444444446,
          "xanchor": "center",
          "xref": "paper",
          "y": 0.6055555555555555,
          "yanchor": "bottom",
          "yref": "paper"
         },
         {
          "font": {
           "size": 16
          },
          "showarrow": false,
          "text": "Policy 2.2",
          "x": 0.5,
          "xanchor": "center",
          "xref": "paper",
          "y": 0.6055555555555555,
          "yanchor": "bottom",
          "yref": "paper"
         },
         {
          "font": {
           "size": 16
          },
          "showarrow": false,
          "text": "Policy 2.3",
          "x": 0.8555555555555556,
          "xanchor": "center",
          "xref": "paper",
          "y": 0.6055555555555555,
          "yanchor": "bottom",
          "yref": "paper"
         },
         {
          "font": {
           "size": 16
          },
          "showarrow": false,
          "text": "Policy 3.1",
          "x": 0.14444444444444446,
          "xanchor": "center",
          "xref": "paper",
          "y": 0.21111111111111103,
          "yanchor": "bottom",
          "yref": "paper"
         },
         {
          "font": {
           "size": 16
          },
          "showarrow": false,
          "text": "Policy 3.2",
          "x": 0.5,
          "xanchor": "center",
          "xref": "paper",
          "y": 0.21111111111111103,
          "yanchor": "bottom",
          "yref": "paper"
         },
         {
          "font": {
           "size": 16
          },
          "showarrow": false,
          "text": "Policy 3.3",
          "x": 0.8555555555555556,
          "xanchor": "center",
          "xref": "paper",
          "y": 0.21111111111111103,
          "yanchor": "bottom",
          "yref": "paper"
         }
        ],
        "margin": {
         "b": 50,
         "l": 50,
         "r": 50,
         "t": 60
        },
        "showlegend": false,
        "template": {
         "data": {
          "bar": [
           {
            "error_x": {
             "color": "#2a3f5f"
            },
            "error_y": {
             "color": "#2a3f5f"
            },
            "marker": {
             "line": {
              "color": "#E5ECF6",
              "width": 0.5
             }
            },
            "type": "bar"
           }
          ],
          "barpolar": [
           {
            "marker": {
             "line": {
              "color": "#E5ECF6",
              "width": 0.5
             }
            },
            "type": "barpolar"
           }
          ],
          "carpet": [
           {
            "aaxis": {
             "endlinecolor": "#2a3f5f",
             "gridcolor": "white",
             "linecolor": "white",
             "minorgridcolor": "white",
             "startlinecolor": "#2a3f5f"
            },
            "baxis": {
             "endlinecolor": "#2a3f5f",
             "gridcolor": "white",
             "linecolor": "white",
             "minorgridcolor": "white",
             "startlinecolor": "#2a3f5f"
            },
            "type": "carpet"
           }
          ],
          "choropleth": [
           {
            "colorbar": {
             "outlinewidth": 0,
             "ticks": ""
            },
            "type": "choropleth"
           }
          ],
          "contour": [
           {
            "colorbar": {
             "outlinewidth": 0,
             "ticks": ""
            },
            "colorscale": [
             [
              0,
              "#0d0887"
             ],
             [
              0.1111111111111111,
              "#46039f"
             ],
             [
              0.2222222222222222,
              "#7201a8"
             ],
             [
              0.3333333333333333,
              "#9c179e"
             ],
             [
              0.4444444444444444,
              "#bd3786"
             ],
             [
              0.5555555555555556,
              "#d8576b"
             ],
             [
              0.6666666666666666,
              "#ed7953"
             ],
             [
              0.7777777777777778,
              "#fb9f3a"
             ],
             [
              0.8888888888888888,
              "#fdca26"
             ],
             [
              1,
              "#f0f921"
             ]
            ],
            "type": "contour"
           }
          ],
          "contourcarpet": [
           {
            "colorbar": {
             "outlinewidth": 0,
             "ticks": ""
            },
            "type": "contourcarpet"
           }
          ],
          "heatmap": [
           {
            "colorbar": {
             "outlinewidth": 0,
             "ticks": ""
            },
            "colorscale": [
             [
              0,
              "#0d0887"
             ],
             [
              0.1111111111111111,
              "#46039f"
             ],
             [
              0.2222222222222222,
              "#7201a8"
             ],
             [
              0.3333333333333333,
              "#9c179e"
             ],
             [
              0.4444444444444444,
              "#bd3786"
             ],
             [
              0.5555555555555556,
              "#d8576b"
             ],
             [
              0.6666666666666666,
              "#ed7953"
             ],
             [
              0.7777777777777778,
              "#fb9f3a"
             ],
             [
              0.8888888888888888,
              "#fdca26"
             ],
             [
              1,
              "#f0f921"
             ]
            ],
            "type": "heatmap"
           }
          ],
          "heatmapgl": [
           {
            "colorbar": {
             "outlinewidth": 0,
             "ticks": ""
            },
            "colorscale": [
             [
              0,
              "#0d0887"
             ],
             [
              0.1111111111111111,
              "#46039f"
             ],
             [
              0.2222222222222222,
              "#7201a8"
             ],
             [
              0.3333333333333333,
              "#9c179e"
             ],
             [
              0.4444444444444444,
              "#bd3786"
             ],
             [
              0.5555555555555556,
              "#d8576b"
             ],
             [
              0.6666666666666666,
              "#ed7953"
             ],
             [
              0.7777777777777778,
              "#fb9f3a"
             ],
             [
              0.8888888888888888,
              "#fdca26"
             ],
             [
              1,
              "#f0f921"
             ]
            ],
            "type": "heatmapgl"
           }
          ],
          "histogram": [
           {
            "marker": {
             "colorbar": {
              "outlinewidth": 0,
              "ticks": ""
             }
            },
            "type": "histogram"
           }
          ],
          "histogram2d": [
           {
            "colorbar": {
             "outlinewidth": 0,
             "ticks": ""
            },
            "colorscale": [
             [
              0,
              "#0d0887"
             ],
             [
              0.1111111111111111,
              "#46039f"
             ],
             [
              0.2222222222222222,
              "#7201a8"
             ],
             [
              0.3333333333333333,
              "#9c179e"
             ],
             [
              0.4444444444444444,
              "#bd3786"
             ],
             [
              0.5555555555555556,
              "#d8576b"
             ],
             [
              0.6666666666666666,
              "#ed7953"
             ],
             [
              0.7777777777777778,
              "#fb9f3a"
             ],
             [
              0.8888888888888888,
              "#fdca26"
             ],
             [
              1,
              "#f0f921"
             ]
            ],
            "type": "histogram2d"
           }
          ],
          "histogram2dcontour": [
           {
            "colorbar": {
             "outlinewidth": 0,
             "ticks": ""
            },
            "colorscale": [
             [
              0,
              "#0d0887"
             ],
             [
              0.1111111111111111,
              "#46039f"
             ],
             [
              0.2222222222222222,
              "#7201a8"
             ],
             [
              0.3333333333333333,
              "#9c179e"
             ],
             [
              0.4444444444444444,
              "#bd3786"
             ],
             [
              0.5555555555555556,
              "#d8576b"
             ],
             [
              0.6666666666666666,
              "#ed7953"
             ],
             [
              0.7777777777777778,
              "#fb9f3a"
             ],
             [
              0.8888888888888888,
              "#fdca26"
             ],
             [
              1,
              "#f0f921"
             ]
            ],
            "type": "histogram2dcontour"
           }
          ],
          "mesh3d": [
           {
            "colorbar": {
             "outlinewidth": 0,
             "ticks": ""
            },
            "type": "mesh3d"
           }
          ],
          "parcoords": [
           {
            "line": {
             "colorbar": {
              "outlinewidth": 0,
              "ticks": ""
             }
            },
            "type": "parcoords"
           }
          ],
          "pie": [
           {
            "automargin": true,
            "type": "pie"
           }
          ],
          "scatter": [
           {
            "marker": {
             "colorbar": {
              "outlinewidth": 0,
              "ticks": ""
             }
            },
            "type": "scatter"
           }
          ],
          "scatter3d": [
           {
            "line": {
             "colorbar": {
              "outlinewidth": 0,
              "ticks": ""
             }
            },
            "marker": {
             "colorbar": {
              "outlinewidth": 0,
              "ticks": ""
             }
            },
            "type": "scatter3d"
           }
          ],
          "scattercarpet": [
           {
            "marker": {
             "colorbar": {
              "outlinewidth": 0,
              "ticks": ""
             }
            },
            "type": "scattercarpet"
           }
          ],
          "scattergeo": [
           {
            "marker": {
             "colorbar": {
              "outlinewidth": 0,
              "ticks": ""
             }
            },
            "type": "scattergeo"
           }
          ],
          "scattergl": [
           {
            "marker": {
             "colorbar": {
              "outlinewidth": 0,
              "ticks": ""
             }
            },
            "type": "scattergl"
           }
          ],
          "scattermapbox": [
           {
            "marker": {
             "colorbar": {
              "outlinewidth": 0,
              "ticks": ""
             }
            },
            "type": "scattermapbox"
           }
          ],
          "scatterpolar": [
           {
            "marker": {
             "colorbar": {
              "outlinewidth": 0,
              "ticks": ""
             }
            },
            "type": "scatterpolar"
           }
          ],
          "scatterpolargl": [
           {
            "marker": {
             "colorbar": {
              "outlinewidth": 0,
              "ticks": ""
             }
            },
            "type": "scatterpolargl"
           }
          ],
          "scatterternary": [
           {
            "marker": {
             "colorbar": {
              "outlinewidth": 0,
              "ticks": ""
             }
            },
            "type": "scatterternary"
           }
          ],
          "surface": [
           {
            "colorbar": {
             "outlinewidth": 0,
             "ticks": ""
            },
            "colorscale": [
             [
              0,
              "#0d0887"
             ],
             [
              0.1111111111111111,
              "#46039f"
             ],
             [
              0.2222222222222222,
              "#7201a8"
             ],
             [
              0.3333333333333333,
              "#9c179e"
             ],
             [
              0.4444444444444444,
              "#bd3786"
             ],
             [
              0.5555555555555556,
              "#d8576b"
             ],
             [
              0.6666666666666666,
              "#ed7953"
             ],
             [
              0.7777777777777778,
              "#fb9f3a"
             ],
             [
              0.8888888888888888,
              "#fdca26"
             ],
             [
              1,
              "#f0f921"
             ]
            ],
            "type": "surface"
           }
          ],
          "table": [
           {
            "cells": {
             "fill": {
              "color": "#EBF0F8"
             },
             "line": {
              "color": "white"
             }
            },
            "header": {
             "fill": {
              "color": "#C8D4E3"
             },
             "line": {
              "color": "white"
             }
            },
            "type": "table"
           }
          ]
         },
         "layout": {
          "annotationdefaults": {
           "arrowcolor": "#2a3f5f",
           "arrowhead": 0,
           "arrowwidth": 1
          },
          "autotypenumbers": "strict",
          "coloraxis": {
           "colorbar": {
            "outlinewidth": 0,
            "ticks": ""
           }
          },
          "colorscale": {
           "diverging": [
            [
             0,
             "#8e0152"
            ],
            [
             0.1,
             "#c51b7d"
            ],
            [
             0.2,
             "#de77ae"
            ],
            [
             0.3,
             "#f1b6da"
            ],
            [
             0.4,
             "#fde0ef"
            ],
            [
             0.5,
             "#f7f7f7"
            ],
            [
             0.6,
             "#e6f5d0"
            ],
            [
             0.7,
             "#b8e186"
            ],
            [
             0.8,
             "#7fbc41"
            ],
            [
             0.9,
             "#4d9221"
            ],
            [
             1,
             "#276419"
            ]
           ],
           "sequential": [
            [
             0,
             "#0d0887"
            ],
            [
             0.1111111111111111,
             "#46039f"
            ],
            [
             0.2222222222222222,
             "#7201a8"
            ],
            [
             0.3333333333333333,
             "#9c179e"
            ],
            [
             0.4444444444444444,
             "#bd3786"
            ],
            [
             0.5555555555555556,
             "#d8576b"
            ],
            [
             0.6666666666666666,
             "#ed7953"
            ],
            [
             0.7777777777777778,
             "#fb9f3a"
            ],
            [
             0.8888888888888888,
             "#fdca26"
            ],
            [
             1,
             "#f0f921"
            ]
           ],
           "sequentialminus": [
            [
             0,
             "#0d0887"
            ],
            [
             0.1111111111111111,
             "#46039f"
            ],
            [
             0.2222222222222222,
             "#7201a8"
            ],
            [
             0.3333333333333333,
             "#9c179e"
            ],
            [
             0.4444444444444444,
             "#bd3786"
            ],
            [
             0.5555555555555556,
             "#d8576b"
            ],
            [
             0.6666666666666666,
             "#ed7953"
            ],
            [
             0.7777777777777778,
             "#fb9f3a"
            ],
            [
             0.8888888888888888,
             "#fdca26"
            ],
            [
             1,
             "#f0f921"
            ]
           ]
          },
          "colorway": [
           "#636efa",
           "#EF553B",
           "#00cc96",
           "#ab63fa",
           "#FFA15A",
           "#19d3f3",
           "#FF6692",
           "#B6E880",
           "#FF97FF",
           "#FECB52"
          ],
          "font": {
           "color": "#2a3f5f"
          },
          "geo": {
           "bgcolor": "white",
           "lakecolor": "white",
           "landcolor": "#E5ECF6",
           "showlakes": true,
           "showland": true,
           "subunitcolor": "white"
          },
          "hoverlabel": {
           "align": "left"
          },
          "hovermode": "closest",
          "mapbox": {
           "style": "light"
          },
          "paper_bgcolor": "white",
          "plot_bgcolor": "#E5ECF6",
          "polar": {
           "angularaxis": {
            "gridcolor": "white",
            "linecolor": "white",
            "ticks": ""
           },
           "bgcolor": "#E5ECF6",
           "radialaxis": {
            "gridcolor": "white",
            "linecolor": "white",
            "ticks": ""
           }
          },
          "scene": {
           "xaxis": {
            "backgroundcolor": "#E5ECF6",
            "gridcolor": "white",
            "gridwidth": 2,
            "linecolor": "white",
            "showbackground": true,
            "ticks": "",
            "zerolinecolor": "white"
           },
           "yaxis": {
            "backgroundcolor": "#E5ECF6",
            "gridcolor": "white",
            "gridwidth": 2,
            "linecolor": "white",
            "showbackground": true,
            "ticks": "",
            "zerolinecolor": "white"
           },
           "zaxis": {
            "backgroundcolor": "#E5ECF6",
            "gridcolor": "white",
            "gridwidth": 2,
            "linecolor": "white",
            "showbackground": true,
            "ticks": "",
            "zerolinecolor": "white"
           }
          },
          "shapedefaults": {
           "line": {
            "color": "#2a3f5f"
           }
          },
          "ternary": {
           "aaxis": {
            "gridcolor": "white",
            "linecolor": "white",
            "ticks": ""
           },
           "baxis": {
            "gridcolor": "white",
            "linecolor": "white",
            "ticks": ""
           },
           "bgcolor": "#E5ECF6",
           "caxis": {
            "gridcolor": "white",
            "linecolor": "white",
            "ticks": ""
           }
          },
          "title": {
           "x": 0.05
          },
          "xaxis": {
           "automargin": true,
           "gridcolor": "white",
           "linecolor": "white",
           "ticks": "",
           "title": {
            "standoff": 15
           },
           "zerolinecolor": "white",
           "zerolinewidth": 2
          },
          "yaxis": {
           "automargin": true,
           "gridcolor": "white",
           "linecolor": "white",
           "ticks": "",
           "title": {
            "standoff": 15
           },
           "zerolinecolor": "white",
           "zerolinewidth": 2
          }
         }
        },
        "title": {
         "text": "Single Curb End States"
        },
        "xaxis1": {
         "anchor": "y1",
         "domain": [
          0,
          0.2888888888888889
         ],
         "dtick": 10,
         "tick0": 0,
         "ticks": "outside"
        },
        "xaxis2": {
         "anchor": "y2",
         "domain": [
          0.35555555555555557,
          0.6444444444444445
         ],
         "dtick": 10,
         "tick0": 0,
         "ticks": "outside"
        },
        "xaxis3": {
         "anchor": "y3",
         "domain": [
          0.7111111111111111,
          1
         ],
         "dtick": 10,
         "tick0": 0,
         "ticks": "outside"
        },
        "xaxis4": {
         "anchor": "y4",
         "domain": [
          0,
          0.2888888888888889
         ],
         "dtick": 10,
         "tick0": 0,
         "ticks": "outside"
        },
        "xaxis5": {
         "anchor": "y5",
         "domain": [
          0.35555555555555557,
          0.6444444444444445
         ],
         "dtick": 10,
         "tick0": 0,
         "ticks": "outside"
        },
        "xaxis6": {
         "anchor": "y6",
         "domain": [
          0.7111111111111111,
          1
         ],
         "dtick": 10,
         "tick0": 0,
         "ticks": "outside"
        },
        "xaxis7": {
         "anchor": "y7",
         "domain": [
          0,
          0.2888888888888889
         ],
         "dtick": 10,
         "tick0": 0,
         "ticks": "outside"
        },
        "xaxis8": {
         "anchor": "y8",
         "domain": [
          0.35555555555555557,
          0.6444444444444445
         ],
         "dtick": 10,
         "tick0": 0,
         "ticks": "outside"
        },
        "xaxis9": {
         "anchor": "y9",
         "domain": [
          0.7111111111111111,
          1
         ],
         "dtick": 10,
         "tick0": 0,
         "ticks": "outside"
        },
        "yaxis1": {
         "anchor": "x1",
         "domain": [
          0.7888888888888889,
          1
         ],
         "range": [
          0,
          0.3
         ],
         "showticklabels": false
        },
        "yaxis2": {
         "anchor": "x2",
         "domain": [
          0.7888888888888889,
          1
         ],
         "range": [
          0,
          0.3
         ],
         "showticklabels": false
        },
        "yaxis3": {
         "anchor": "x3",
         "domain": [
          0.7888888888888889,
          1
         ],
         "range": [
          0,
          0.3
         ],
         "showticklabels": false
        },
        "yaxis4": {
         "anchor": "x4",
         "domain": [
          0.3944444444444444,
          0.6055555555555555
         ],
         "range": [
          0,
          0.3
         ],
         "showticklabels": false
        },
        "yaxis5": {
         "anchor": "x5",
         "domain": [
          0.3944444444444444,
          0.6055555555555555
         ],
         "range": [
          0,
          0.3
         ],
         "showticklabels": false
        },
        "yaxis6": {
         "anchor": "x6",
         "domain": [
          0.3944444444444444,
          0.6055555555555555
         ],
         "range": [
          0,
          0.3
         ],
         "showticklabels": false
        },
        "yaxis7": {
         "anchor": "x7",
         "domain": [
          -8.326672684688674e-17,
          0.21111111111111103
         ],
         "range": [
          0,
          0.3
         ],
         "showticklabels": false
        },
        "yaxis8": {
         "anchor": "x8",
         "domain": [
          -8.326672684688674e-17,
          0.21111111111111103
         ],
         "range": [
          0,
          0.3
         ],
         "showticklabels": false
        },
        "yaxis9": {
         "anchor": "x9",
         "domain": [
          -8.326672684688674e-17,
          0.21111111111111103
         ],
         "range": [
          0,
          0.3
         ],
         "showticklabels": false
        }
       }
      },
      "image/png": "[encoded data removed]",
      "image/svg+xml": [
       "<svg class=\"main-svg\" xmlns=\"http://www.w3.org/2000/svg\" xmlns:xlink=\"http://www.w3.org/1999/xlink\" width=\"700\" height=\"500\" style=\"\" viewBox=\"0 0 700 500\"><rect x=\"0\" y=\"0\" width=\"700\" height=\"500\" style=\"fill: rgb(255, 255, 255); fill-opacity: 1;\"/><defs id=\"defs-fc5f46\"><g class=\"clips\"><clipPath id=\"clipfc5f46xyplot\" class=\"plotclip\"><rect width=\"173.33333333333334\" height=\"82.33333333333334\"/></clipPath><clipPath id=\"clipfc5f46x2y2plot\" class=\"plotclip\"><rect width=\"173.33333333333334\" height=\"82.33333333333334\"/></clipPath><clipPath id=\"clipfc5f46x3y3plot\" class=\"plotclip\"><rect width=\"173.33333333333331\" height=\"82.33333333333334\"/></clipPath><clipPath id=\"clipfc5f46x4y4plot\" class=\"plotclip\"><rect width=\"173.33333333333334\" height=\"82.33333333333334\"/></clipPath><clipPath id=\"clipfc5f46x5y5plot\" class=\"plotclip\"><rect width=\"173.33333333333334\" height=\"82.33333333333334\"/></clipPath><clipPath id=\"clipfc5f46x6y6plot\" class=\"plotclip\"><rect width=\"173.33333333333331\" height=\"82.33333333333334\"/></clipPath><clipPath id=\"clipfc5f46x7y7plot\" class=\"plotclip\"><rect width=\"173.33333333333334\" height=\"82.3333333333333\"/></clipPath><clipPath id=\"clipfc5f46x8y8plot\" class=\"plotclip\"><rect width=\"173.33333333333334\" height=\"82.3333333333333\"/></clipPath><clipPath id=\"clipfc5f46x9y9plot\" class=\"plotclip\"><rect width=\"173.33333333333331\" height=\"82.3333333333333\"/></clipPath><clipPath class=\"axesclip\" id=\"clipfc5f46x\"><rect x=\"50\" y=\"0\" width=\"173.33333333333334\" height=\"500\"/></clipPath><clipPath class=\"axesclip\" id=\"clipfc5f46y\"><rect x=\"0\" y=\"60\" width=\"700\" height=\"82.33333333333334\"/></clipPath><clipPath class=\"axesclip\" id=\"clipfc5f46xy\"><rect x=\"50\" y=\"60\" width=\"173.33333333333334\" height=\"82.33333333333334\"/></clipPath><clipPath class=\"axesclip\" id=\"clipfc5f46y2\"><rect x=\"0\" y=\"60\" width=\"700\" height=\"82.33333333333334\"/></clipPath><clipPath class=\"axesclip\" id=\"clipfc5f46xy2\"><rect x=\"50\" y=\"60\" width=\"173.33333333333334\" height=\"82.33333333333334\"/></clipPath><clipPath class=\"axesclip\" id=\"clipfc5f46y3\"><rect x=\"0\" y=\"60\" width=\"700\" height=\"82.33333333333334\"/></clipPath><clipPath class=\"axesclip\" id=\"clipfc5f46xy3\"><rect x=\"50\" y=\"60\" width=\"173.33333333333334\" height=\"82.33333333333334\"/></clipPath><clipPath class=\"axesclip\" id=\"clipfc5f46y4\"><rect x=\"0\" y=\"213.83333333333334\" width=\"700\" height=\"82.33333333333334\"/></clipPath><clipPath class=\"axesclip\" id=\"clipfc5f46xy4\"><rect x=\"50\" y=\"213.83333333333334\" width=\"173.33333333333334\" height=\"82.33333333333334\"/></clipPath><clipPath class=\"axesclip\" id=\"clipfc5f46y5\"><rect x=\"0\" y=\"213.83333333333334\" width=\"700\" height=\"82.33333333333334\"/></clipPath><clipPath class=\"axesclip\" id=\"clipfc5f46xy5\"><rect x=\"50\" y=\"213.83333333333334\" width=\"173.33333333333334\" height=\"82.33333333333334\"/></clipPath><clipPath class=\"axesclip\" id=\"clipfc5f46y6\"><rect x=\"0\" y=\"213.83333333333334\" width=\"700\" height=\"82.33333333333334\"/></clipPath><clipPath class=\"axesclip\" id=\"clipfc5f46xy6\"><rect x=\"50\" y=\"213.83333333333334\" width=\"173.33333333333334\" height=\"82.33333333333334\"/></clipPath><clipPath class=\"axesclip\" id=\"clipfc5f46y7\"><rect x=\"0\" y=\"367.6666666666667\" width=\"700\" height=\"82.3333333333333\"/></clipPath><clipPath class=\"axesclip\" id=\"clipfc5f46xy7\"><rect x=\"50\" y=\"367.6666666666667\" width=\"173.33333333333334\" height=\"82.3333333333333\"/></clipPath><clipPath class=\"axesclip\" id=\"clipfc5f46y8\"><rect x=\"0\" y=\"367.6666666666667\" width=\"700\" height=\"82.3333333333333\"/></clipPath><clipPath class=\"axesclip\" id=\"clipfc5f46xy8\"><rect x=\"50\" y=\"367.6666666666667\" width=\"173.33333333333334\" height=\"82.3333333333333\"/></clipPath><clipPath class=\"axesclip\" id=\"clipfc5f46y9\"><rect x=\"0\" y=\"367.6666666666667\" width=\"700\" height=\"82.3333333333333\"/></clipPath><clipPath class=\"axesclip\" id=\"clipfc5f46xy9\"><rect x=\"50\" y=\"367.6666666666667\" width=\"173.33333333333334\" height=\"82.3333333333333\"/></clipPath><clipPath class=\"axesclip\" id=\"clipfc5f46x2\"><rect x=\"263.33333333333337\" y=\"0\" width=\"173.33333333333334\" height=\"500\"/></clipPath><clipPath class=\"axesclip\" id=\"clipfc5f46x2y\"><rect x=\"263.33333333333337\" y=\"60\" width=\"173.33333333333334\" height=\"82.33333333333334\"/></clipPath><clipPath class=\"axesclip\" id=\"clipfc5f46x2y2\"><rect x=\"263.33333333333337\" y=\"60\" width=\"173.33333333333334\" height=\"82.33333333333334\"/></clipPath><clipPath class=\"axesclip\" id=\"clipfc5f46x2y3\"><rect x=\"263.33333333333337\" y=\"60\" width=\"173.33333333333334\" height=\"82.33333333333334\"/></clipPath><clipPath class=\"axesclip\" id=\"clipfc5f46x2y4\"><rect x=\"263.33333333333337\" y=\"213.83333333333334\" width=\"173.33333333333334\" height=\"82.33333333333334\"/></clipPath><clipPath class=\"axesclip\" id=\"clipfc5f46x2y5\"><rect x=\"263.33333333333337\" y=\"213.83333333333334\" width=\"173.33333333333334\" height=\"82.33333333333334\"/></clipPath><clipPath class=\"axesclip\" id=\"clipfc5f46x2y6\"><rect x=\"263.33333333333337\" y=\"213.83333333333334\" width=\"173.33333333333334\" height=\"82.33333333333334\"/></clipPath><clipPath class=\"axesclip\" id=\"clipfc5f46x2y7\"><rect x=\"263.33333333333337\" y=\"367.6666666666667\" width=\"173.33333333333334\" height=\"82.3333333333333\"/></clipPath><clipPath class=\"axesclip\" id=\"clipfc5f46x2y8\"><rect x=\"263.33333333333337\" y=\"367.6666666666667\" width=\"173.33333333333334\" height=\"82.3333333333333\"/></clipPath><clipPath class=\"axesclip\" id=\"clipfc5f46x2y9\"><rect x=\"263.33333333333337\" y=\"367.6666666666667\" width=\"173.33333333333334\" height=\"82.3333333333333\"/></clipPath><clipPath class=\"axesclip\" id=\"clipfc5f46x3\"><rect x=\"476.6666666666667\" y=\"0\" width=\"173.33333333333331\" height=\"500\"/></clipPath><clipPath class=\"axesclip\" id=\"clipfc5f46x3y\"><rect x=\"476.6666666666667\" y=\"60\" width=\"173.33333333333331\" height=\"82.33333333333334\"/></clipPath><clipPath class=\"axesclip\" id=\"clipfc5f46x3y2\"><rect x=\"476.6666666666667\" y=\"60\" width=\"173.33333333333331\" height=\"82.33333333333334\"/></clipPath><clipPath class=\"axesclip\" id=\"clipfc5f46x3y3\"><rect x=\"476.6666666666667\" y=\"60\" width=\"173.33333333333331\" height=\"82.33333333333334\"/></clipPath><clipPath class=\"axesclip\" id=\"clipfc5f46x3y4\"><rect x=\"476.6666666666667\" y=\"213.83333333333334\" width=\"173.33333333333331\" height=\"82.33333333333334\"/></clipPath><clipPath class=\"axesclip\" id=\"clipfc5f46x3y5\"><rect x=\"476.6666666666667\" y=\"213.83333333333334\" width=\"173.33333333333331\" height=\"82.33333333333334\"/></clipPath><clipPath class=\"axesclip\" id=\"clipfc5f46x3y6\"><rect x=\"476.6666666666667\" y=\"213.83333333333334\" width=\"173.33333333333331\" height=\"82.33333333333334\"/></clipPath><clipPath class=\"axesclip\" id=\"clipfc5f46x3y7\"><rect x=\"476.6666666666667\" y=\"367.6666666666667\" width=\"173.33333333333331\" height=\"82.3333333333333\"/></clipPath><clipPath class=\"axesclip\" id=\"clipfc5f46x3y8\"><rect x=\"476.6666666666667\" y=\"367.6666666666667\" width=\"173.33333333333331\" height=\"82.3333333333333\"/></clipPath><clipPath class=\"axesclip\" id=\"clipfc5f46x3y9\"><rect x=\"476.6666666666667\" y=\"367.6666666666667\" width=\"173.33333333333331\" height=\"82.3333333333333\"/></clipPath><clipPath class=\"axesclip\" id=\"clipfc5f46x4\"><rect x=\"50\" y=\"0\" width=\"173.33333333333334\" height=\"500\"/></clipPath><clipPath class=\"axesclip\" id=\"clipfc5f46x4y\"><rect x=\"50\" y=\"60\" width=\"173.33333333333334\" height=\"82.33333333333334\"/></clipPath><clipPath class=\"axesclip\" id=\"clipfc5f46x4y2\"><rect x=\"50\" y=\"60\" width=\"173.33333333333334\" height=\"82.33333333333334\"/></clipPath><clipPath class=\"axesclip\" id=\"clipfc5f46x4y3\"><rect x=\"50\" y=\"60\" width=\"173.33333333333334\" height=\"82.33333333333334\"/></clipPath><clipPath class=\"axesclip\" id=\"clipfc5f46x4y4\"><rect x=\"50\" y=\"213.83333333333334\" width=\"173.33333333333334\" height=\"82.33333333333334\"/></clipPath><clipPath class=\"axesclip\" id=\"clipfc5f46x4y5\"><rect x=\"50\" y=\"213.83333333333334\" width=\"173.33333333333334\" height=\"82.33333333333334\"/></clipPath><clipPath class=\"axesclip\" id=\"clipfc5f46x4y6\"><rect x=\"50\" y=\"213.83333333333334\" width=\"173.33333333333334\" height=\"82.33333333333334\"/></clipPath><clipPath class=\"axesclip\" id=\"clipfc5f46x4y7\"><rect x=\"50\" y=\"367.6666666666667\" width=\"173.33333333333334\" height=\"82.3333333333333\"/></clipPath><clipPath class=\"axesclip\" id=\"clipfc5f46x4y8\"><rect x=\"50\" y=\"367.6666666666667\" width=\"173.33333333333334\" height=\"82.3333333333333\"/></clipPath><clipPath class=\"axesclip\" id=\"clipfc5f46x4y9\"><rect x=\"50\" y=\"367.6666666666667\" width=\"173.33333333333334\" height=\"82.3333333333333\"/></clipPath><clipPath class=\"axesclip\" id=\"clipfc5f46x5\"><rect x=\"263.33333333333337\" y=\"0\" width=\"173.33333333333334\" height=\"500\"/></clipPath><clipPath class=\"axesclip\" id=\"clipfc5f46x5y\"><rect x=\"263.33333333333337\" y=\"60\" width=\"173.33333333333334\" height=\"82.33333333333334\"/></clipPath><clipPath class=\"axesclip\" id=\"clipfc5f46x5y2\"><rect x=\"263.33333333333337\" y=\"60\" width=\"173.33333333333334\" height=\"82.33333333333334\"/></clipPath><clipPath class=\"axesclip\" id=\"clipfc5f46x5y3\"><rect x=\"263.33333333333337\" y=\"60\" width=\"173.33333333333334\" height=\"82.33333333333334\"/></clipPath><clipPath class=\"axesclip\" id=\"clipfc5f46x5y4\"><rect x=\"263.33333333333337\" y=\"213.83333333333334\" width=\"173.33333333333334\" height=\"82.33333333333334\"/></clipPath><clipPath class=\"axesclip\" id=\"clipfc5f46x5y5\"><rect x=\"263.33333333333337\" y=\"213.83333333333334\" width=\"173.33333333333334\" height=\"82.33333333333334\"/></clipPath><clipPath class=\"axesclip\" id=\"clipfc5f46x5y6\"><rect x=\"263.33333333333337\" y=\"213.83333333333334\" width=\"173.33333333333334\" height=\"82.33333333333334\"/></clipPath><clipPath class=\"axesclip\" id=\"clipfc5f46x5y7\"><rect x=\"263.33333333333337\" y=\"367.6666666666667\" width=\"173.33333333333334\" height=\"82.3333333333333\"/></clipPath><clipPath class=\"axesclip\" id=\"clipfc5f46x5y8\"><rect x=\"263.33333333333337\" y=\"367.6666666666667\" width=\"173.33333333333334\" height=\"82.3333333333333\"/></clipPath><clipPath class=\"axesclip\" id=\"clipfc5f46x5y9\"><rect x=\"263.33333333333337\" y=\"367.6666666666667\" width=\"173.33333333333334\" height=\"82.3333333333333\"/></clipPath><clipPath class=\"axesclip\" id=\"clipfc5f46x6\"><rect x=\"476.6666666666667\" y=\"0\" width=\"173.33333333333331\" height=\"500\"/></clipPath><clipPath class=\"axesclip\" id=\"clipfc5f46x6y\"><rect x=\"476.6666666666667\" y=\"60\" width=\"173.33333333333331\" height=\"82.33333333333334\"/></clipPath><clipPath class=\"axesclip\" id=\"clipfc5f46x6y2\"><rect x=\"476.6666666666667\" y=\"60\" width=\"173.33333333333331\" height=\"82.33333333333334\"/></clipPath><clipPath class=\"axesclip\" id=\"clipfc5f46x6y3\"><rect x=\"476.6666666666667\" y=\"60\" width=\"173.33333333333331\" height=\"82.33333333333334\"/></clipPath><clipPath class=\"axesclip\" id=\"clipfc5f46x6y4\"><rect x=\"476.6666666666667\" y=\"213.83333333333334\" width=\"173.33333333333331\" height=\"82.33333333333334\"/></clipPath><clipPath class=\"axesclip\" id=\"clipfc5f46x6y5\"><rect x=\"476.6666666666667\" y=\"213.83333333333334\" width=\"173.33333333333331\" height=\"82.33333333333334\"/></clipPath><clipPath class=\"axesclip\" id=\"clipfc5f46x6y6\"><rect x=\"476.6666666666667\" y=\"213.83333333333334\" width=\"173.33333333333331\" height=\"82.33333333333334\"/></clipPath><clipPath class=\"axesclip\" id=\"clipfc5f46x6y7\"><rect x=\"476.6666666666667\" y=\"367.6666666666667\" width=\"173.33333333333331\" height=\"82.3333333333333\"/></clipPath><clipPath class=\"axesclip\" id=\"clipfc5f46x6y8\"><rect x=\"476.6666666666667\" y=\"367.6666666666667\" width=\"173.33333333333331\" height=\"82.3333333333333\"/></clipPath><clipPath class=\"axesclip\" id=\"clipfc5f46x6y9\"><rect x=\"476.6666666666667\" y=\"367.6666666666667\" width=\"173.33333333333331\" height=\"82.3333333333333\"/></clipPath><clipPath class=\"axesclip\" id=\"clipfc5f46x7\"><rect x=\"50\" y=\"0\" width=\"173.33333333333334\" height=\"500\"/></clipPath><clipPath class=\"axesclip\" id=\"clipfc5f46x7y\"><rect x=\"50\" y=\"60\" width=\"173.33333333333334\" height=\"82.33333333333334\"/></clipPath><clipPath class=\"axesclip\" id=\"clipfc5f46x7y2\"><rect x=\"50\" y=\"60\" width=\"173.33333333333334\" height=\"82.33333333333334\"/></clipPath><clipPath class=\"axesclip\" id=\"clipfc5f46x7y3\"><rect x=\"50\" y=\"60\" width=\"173.33333333333334\" height=\"82.33333333333334\"/></clipPath><clipPath class=\"axesclip\" id=\"clipfc5f46x7y4\"><rect x=\"50\" y=\"213.83333333333334\" width=\"173.33333333333334\" height=\"82.33333333333334\"/></clipPath><clipPath class=\"axesclip\" id=\"clipfc5f46x7y5\"><rect x=\"50\" y=\"213.83333333333334\" width=\"173.33333333333334\" height=\"82.33333333333334\"/></clipPath><clipPath class=\"axesclip\" id=\"clipfc5f46x7y6\"><rect x=\"50\" y=\"213.83333333333334\" width=\"173.33333333333334\" height=\"82.33333333333334\"/></clipPath><clipPath class=\"axesclip\" id=\"clipfc5f46x7y7\"><rect x=\"50\" y=\"367.6666666666667\" width=\"173.33333333333334\" height=\"82.3333333333333\"/></clipPath><clipPath class=\"axesclip\" id=\"clipfc5f46x7y8\"><rect x=\"50\" y=\"367.6666666666667\" width=\"173.33333333333334\" height=\"82.3333333333333\"/></clipPath><clipPath class=\"axesclip\" id=\"clipfc5f46x7y9\"><rect x=\"50\" y=\"367.6666666666667\" width=\"173.33333333333334\" height=\"82.3333333333333\"/></clipPath><clipPath class=\"axesclip\" id=\"clipfc5f46x8\"><rect x=\"263.33333333333337\" y=\"0\" width=\"173.33333333333334\" height=\"500\"/></clipPath><clipPath class=\"axesclip\" id=\"clipfc5f46x8y\"><rect x=\"263.33333333333337\" y=\"60\" width=\"173.33333333333334\" height=\"82.33333333333334\"/></clipPath><clipPath class=\"axesclip\" id=\"clipfc5f46x8y2\"><rect x=\"263.33333333333337\" y=\"60\" width=\"173.33333333333334\" height=\"82.33333333333334\"/></clipPath><clipPath class=\"axesclip\" id=\"clipfc5f46x8y3\"><rect x=\"263.33333333333337\" y=\"60\" width=\"173.33333333333334\" height=\"82.33333333333334\"/></clipPath><clipPath class=\"axesclip\" id=\"clipfc5f46x8y4\"><rect x=\"263.33333333333337\" y=\"213.83333333333334\" width=\"173.33333333333334\" height=\"82.33333333333334\"/></clipPath><clipPath class=\"axesclip\" id=\"clipfc5f46x8y5\"><rect x=\"263.33333333333337\" y=\"213.83333333333334\" width=\"173.33333333333334\" height=\"82.33333333333334\"/></clipPath><clipPath class=\"axesclip\" id=\"clipfc5f46x8y6\"><rect x=\"263.33333333333337\" y=\"213.83333333333334\" width=\"173.33333333333334\" height=\"82.33333333333334\"/></clipPath><clipPath class=\"axesclip\" id=\"clipfc5f46x8y7\"><rect x=\"263.33333333333337\" y=\"367.6666666666667\" width=\"173.33333333333334\" height=\"82.3333333333333\"/></clipPath><clipPath class=\"axesclip\" id=\"clipfc5f46x8y8\"><rect x=\"263.33333333333337\" y=\"367.6666666666667\" width=\"173.33333333333334\" height=\"82.3333333333333\"/></clipPath><clipPath class=\"axesclip\" id=\"clipfc5f46x8y9\"><rect x=\"263.33333333333337\" y=\"367.6666666666667\" width=\"173.33333333333334\" height=\"82.3333333333333\"/></clipPath><clipPath class=\"axesclip\" id=\"clipfc5f46x9\"><rect x=\"476.6666666666667\" y=\"0\" width=\"173.33333333333331\" height=\"500\"/></clipPath><clipPath class=\"axesclip\" id=\"clipfc5f46x9y\"><rect x=\"476.6666666666667\" y=\"60\" width=\"173.33333333333331\" height=\"82.33333333333334\"/></clipPath><clipPath class=\"axesclip\" id=\"clipfc5f46x9y2\"><rect x=\"476.6666666666667\" y=\"60\" width=\"173.33333333333331\" height=\"82.33333333333334\"/></clipPath><clipPath class=\"axesclip\" id=\"clipfc5f46x9y3\"><rect x=\"476.6666666666667\" y=\"60\" width=\"173.33333333333331\" height=\"82.33333333333334\"/></clipPath><clipPath class=\"axesclip\" id=\"clipfc5f46x9y4\"><rect x=\"476.6666666666667\" y=\"213.83333333333334\" width=\"173.33333333333331\" height=\"82.33333333333334\"/></clipPath><clipPath class=\"axesclip\" id=\"clipfc5f46x9y5\"><rect x=\"476.6666666666667\" y=\"213.83333333333334\" width=\"173.33333333333331\" height=\"82.33333333333334\"/></clipPath><clipPath class=\"axesclip\" id=\"clipfc5f46x9y6\"><rect x=\"476.6666666666667\" y=\"213.83333333333334\" width=\"173.33333333333331\" height=\"82.33333333333334\"/></clipPath><clipPath class=\"axesclip\" id=\"clipfc5f46x9y7\"><rect x=\"476.6666666666667\" y=\"367.6666666666667\" width=\"173.33333333333331\" height=\"82.3333333333333\"/></clipPath><clipPath class=\"axesclip\" id=\"clipfc5f46x9y8\"><rect x=\"476.6666666666667\" y=\"367.6666666666667\" width=\"173.33333333333331\" height=\"82.3333333333333\"/></clipPath><clipPath class=\"axesclip\" id=\"clipfc5f46x9y9\"><rect x=\"476.6666666666667\" y=\"367.6666666666667\" width=\"173.33333333333331\" height=\"82.3333333333333\"/></clipPath></g><g class=\"gradients\"/></defs><g class=\"bglayer\"><rect class=\"bg\" x=\"50\" y=\"60\" width=\"173.33333333333334\" height=\"82.33333333333334\" style=\"fill: rgb(229, 236, 246); fill-opacity: 1; stroke-width: 0;\"/><rect class=\"bg\" x=\"263.33333333333337\" y=\"60\" width=\"173.33333333333334\" height=\"82.33333333333334\" style=\"fill: rgb(229, 236, 246); fill-opacity: 1; stroke-width: 0;\"/><rect class=\"bg\" x=\"476.6666666666667\" y=\"60\" width=\"173.33333333333331\" height=\"82.33333333333334\" style=\"fill: rgb(229, 236, 246); fill-opacity: 1; stroke-width: 0;\"/><rect class=\"bg\" x=\"50\" y=\"213.83333333333334\" width=\"173.33333333333334\" height=\"82.33333333333334\" style=\"fill: rgb(229, 236, 246); fill-opacity: 1; stroke-width: 0;\"/><rect class=\"bg\" x=\"263.33333333333337\" y=\"213.83333333333334\" width=\"173.33333333333334\" height=\"82.33333333333334\" style=\"fill: rgb(229, 236, 246); fill-opacity: 1; stroke-width: 0;\"/><rect class=\"bg\" x=\"476.6666666666667\" y=\"213.83333333333334\" width=\"173.33333333333331\" height=\"82.33333333333334\" style=\"fill: rgb(229, 236, 246); fill-opacity: 1; stroke-width: 0;\"/><rect class=\"bg\" x=\"50\" y=\"367.6666666666667\" width=\"173.33333333333334\" height=\"82.3333333333333\" style=\"fill: rgb(229, 236, 246); fill-opacity: 1; stroke-width: 0;\"/><rect class=\"bg\" x=\"263.33333333333337\" y=\"367.6666666666667\" width=\"173.33333333333334\" height=\"82.3333333333333\" style=\"fill: rgb(229, 236, 246); fill-opacity: 1; stroke-width: 0;\"/><rect class=\"bg\" x=\"476.6666666666667\" y=\"367.6666666666667\" width=\"173.33333333333331\" height=\"82.3333333333333\" style=\"fill: rgb(229, 236, 246); fill-opacity: 1; stroke-width: 0;\"/></g><g class=\"layer-below\"><g class=\"imagelayer\"/><g class=\"shapelayer\"/></g><g class=\"cartesianlayer\"><g class=\"subplot xy\"><g class=\"layer-subplot\"><g class=\"shapelayer\"/><g class=\"imagelayer\"/></g><g class=\"gridlayer\"><g class=\"x\"><path class=\"xgrid crisp\" transform=\"translate(93.33,0)\" d=\"M0,60v82.33333333333334\" style=\"stroke: rgb(255, 255, 255); stroke-opacity: 1; stroke-width: 1px;\"/><path class=\"xgrid crisp\" transform=\"translate(136.67000000000002,0)\" d=\"M0,60v82.33333333333334\" style=\"stroke: rgb(255, 255, 255); stroke-opacity: 1; stroke-width: 1px;\"/><path class=\"xgrid crisp\" transform=\"translate(180,0)\" d=\"M0,60v82.33333333333334\" style=\"stroke: rgb(255, 255, 255); stroke-opacity: 1; stroke-width: 1px;\"/></g><g class=\"y\"><path class=\"ygrid crisp\" transform=\"translate(0,114.89)\" d=\"M50,0h173.33333333333334\" style=\"stroke: rgb(255, 255, 255); stroke-opacity: 1; stroke-width: 1px;\"/><path class=\"ygrid crisp\" transform=\"translate(0,87.44)\" d=\"M50,0h173.33333333333334\" style=\"stroke: rgb(255, 255, 255); stroke-opacity: 1; stroke-width: 1px;\"/></g></g><g class=\"zerolinelayer\"><path class=\"xzl zl crisp\" transform=\"translate(50,0)\" d=\"M0,60v82.33333333333334\" style=\"stroke: rgb(255, 255, 255); stroke-opacity: 1; stroke-width: 2px;\"/><path class=\"yzl zl crisp\" transform=\"translate(0,142.32999999999998)\" d=\"M50,0h173.33333333333334\" style=\"stroke: rgb(255, 255, 255); stroke-opacity: 1; stroke-width: 2px;\"/></g><path class=\"xlines-below\"/><path class=\"ylines-below\"/><g class=\"overlines-below\"/><g class=\"xaxislayer-below\"/><g class=\"yaxislayer-below\"/><g class=\"overaxes-below\"/><g class=\"plot\" transform=\"translate(50,60)\" clip-path=\"url('#clipfc5f46xyplot')\"><g class=\"scatterlayer mlayer\"><g class=\"trace scatter traced26fdb\" style=\"stroke-miterlimit: 2; opacity: 1;\"><g class=\"fills\"/><g class=\"errorbars\"/><g class=\"lines\"><path class=\"js-line\" d=\"M0,54.89L173.33,54.89\" style=\"vector-effect: non-scaling-stroke; fill: none; stroke: rgb(0, 0, 0); stroke-opacity: 1; stroke-width: 100px; opacity: 1;\"/></g><g class=\"points\"/><g class=\"text\"/></g><g class=\"trace scatter tracefc6e6f\" style=\"stroke-miterlimit: 2; opacity: 1;\"><g class=\"fills\"/><g class=\"errorbars\"/><g class=\"lines\"><path class=\"js-line\" d=\"M54.73,27.44L73.37,27.44\" style=\"vector-effect: non-scaling-stroke; fill: none; stroke: rgb(239, 85, 59); stroke-opacity: 1; stroke-width: 30px; opacity: 1;\"/></g><g class=\"points\"/><g class=\"text\"/></g><g class=\"trace scatter traceeaa78b\" style=\"stroke-miterlimit: 2; opacity: 1;\"><g class=\"fills\"/><g class=\"errorbars\"/><g class=\"lines\"><path class=\"js-line\" d=\"M119.45,27.44L139.39,27.44\" style=\"vector-effect: non-scaling-stroke; fill: none; stroke: rgb(0, 204, 150); stroke-opacity: 1; stroke-width: 30px; opacity: 1;\"/></g><g class=\"points\"/><g class=\"text\"/></g><g class=\"trace scatter tracefbda5d\" style=\"stroke-miterlimit: 2; opacity: 1;\"><g class=\"fills\"/><g class=\"errorbars\"/><g class=\"lines\"><path class=\"js-line\" d=\"M1.66,27.44L21.6,27.44\" style=\"vector-effect: non-scaling-stroke; fill: none; stroke: rgb(171, 99, 250); stroke-opacity: 1; stroke-width: 30px; opacity: 1;\"/></g><g class=\"points\"/><g class=\"text\"/></g><g class=\"trace scatter tracea780d3\" style=\"stroke-miterlimit: 2; opacity: 1;\"><g class=\"fills\"/><g class=\"errorbars\"/><g class=\"lines\"><path class=\"js-line\" d=\"M90.13,27.44L104.86,27.44\" style=\"vector-effect: non-scaling-stroke; fill: none; stroke: rgb(255, 161, 90); stroke-opacity: 1; stroke-width: 30px; opacity: 1;\"/></g><g class=\"points\"/><g class=\"text\"/></g><g class=\"trace scatter trace781f6d\" style=\"stroke-miterlimit: 2; opacity: 1;\"><g class=\"fills\"/><g class=\"errorbars\"/><g class=\"lines\"><path class=\"js-line\" d=\"M140.82,27.44L162.48,27.44\" style=\"vector-effect: non-scaling-stroke; fill: none; stroke: rgb(25, 211, 243); stroke-opacity: 1; stroke-width: 30px; opacity: 1;\"/></g><g class=\"points\"/><g class=\"text\"/></g><g class=\"trace scatter trace0a6360\" style=\"stroke-miterlimit: 2; opacity: 1;\"><g class=\"fills\"/><g class=\"errorbars\"/><g class=\"lines\"><path class=\"js-line\" d=\"M22.7,27.44L42.2,27.44\" style=\"vector-effect: non-scaling-stroke; fill: none; stroke: rgb(255, 102, 146); stroke-opacity: 1; stroke-width: 30px; opacity: 1;\"/></g><g class=\"points\"/><g class=\"text\"/></g></g></g><g class=\"overplot\"/><path class=\"xlines-above crisp\" d=\"\" style=\"fill: none; stroke-width: 1px; stroke: rgb(0, 0, 0); stroke-opacity: 0;\"/><path class=\"ylines-above crisp\" d=\"M0,0\" style=\"fill: none;\"/><g class=\"overlines-above\"/><g class=\"xaxislayer-above\"><path class=\"xtick ticks crisp\" d=\"M0,143.33333333333334v5\" transform=\"translate(50,0)\" style=\"stroke: rgb(68, 68, 68); stroke-opacity: 1; stroke-width: 1px;\"/><path class=\"xtick ticks crisp\" d=\"M0,143.33333333333334v5\" transform=\"translate(93.33,0)\" style=\"stroke: rgb(68, 68, 68); stroke-opacity: 1; stroke-width: 1px;\"/><path class=\"xtick ticks crisp\" d=\"M0,143.33333333333334v5\" transform=\"translate(136.67000000000002,0)\" style=\"stroke: rgb(68, 68, 68); stroke-opacity: 1; stroke-width: 1px;\"/><path class=\"xtick ticks crisp\" d=\"M0,143.33333333333334v5\" transform=\"translate(180,0)\" style=\"stroke: rgb(68, 68, 68); stroke-opacity: 1; stroke-width: 1px;\"/><path class=\"xtick ticks crisp\" d=\"M0,143.33333333333334v5\" transform=\"translate(223.33,0)\" style=\"stroke: rgb(68, 68, 68); stroke-opacity: 1; stroke-width: 1px;\"/><g class=\"xtick\"><text text-anchor=\"middle\" x=\"0\" y=\"162.73333333333335\" transform=\"translate(50,0)\" style=\"font-family: 'Open Sans', verdana, arial, sans-serif; font-size: 12px; fill: rgb(42, 63, 95); fill-opacity: 1; white-space: pre;\">0</text></g><g class=\"xtick\"><text text-anchor=\"middle\" x=\"0\" y=\"162.73333333333335\" transform=\"translate(93.33,0)\" style=\"font-family: 'Open Sans', verdana, arial, sans-serif; font-size: 12px; fill: rgb(42, 63, 95); fill-opacity: 1; white-space: pre;\">10</text></g><g class=\"xtick\"><text text-anchor=\"middle\" x=\"0\" y=\"162.73333333333335\" transform=\"translate(136.67000000000002,0)\" style=\"font-family: 'Open Sans', verdana, arial, sans-serif; font-size: 12px; fill: rgb(42, 63, 95); fill-opacity: 1; white-space: pre;\">20</text></g><g class=\"xtick\"><text text-anchor=\"middle\" x=\"0\" y=\"162.73333333333335\" transform=\"translate(180,0)\" style=\"font-family: 'Open Sans', verdana, arial, sans-serif; font-size: 12px; fill: rgb(42, 63, 95); fill-opacity: 1; white-space: pre;\">30</text></g><g class=\"xtick\"><text text-anchor=\"middle\" x=\"0\" y=\"162.73333333333335\" transform=\"translate(223.33,0)\" style=\"font-family: 'Open Sans', verdana, arial, sans-serif; font-size: 12px; fill: rgb(42, 63, 95); fill-opacity: 1; white-space: pre;\">40</text></g></g><g class=\"yaxislayer-above\"/><g class=\"overaxes-above\"/></g><g class=\"subplot x2y2\"><g class=\"layer-subplot\"><g class=\"shapelayer\"/><g class=\"imagelayer\"/></g><g class=\"gridlayer\"><g class=\"x2\"><path class=\"x2grid crisp\" transform=\"translate(306.66333333333336,0)\" d=\"M0,60v82.33333333333334\" style=\"stroke: rgb(255, 255, 255); stroke-opacity: 1; stroke-width: 1px;\"/><path class=\"x2grid crisp\" transform=\"translate(350.0033333333334,0)\" d=\"M0,60v82.33333333333334\" style=\"stroke: rgb(255, 255, 255); stroke-opacity: 1; stroke-width: 1px;\"/><path class=\"x2grid crisp\" transform=\"translate(393.33333333333337,0)\" d=\"M0,60v82.33333333333334\" style=\"stroke: rgb(255, 255, 255); stroke-opacity: 1; stroke-width: 1px;\"/></g><g class=\"y2\"><path class=\"y2grid crisp\" transform=\"translate(0,114.89)\" d=\"M263.33333333333337,0h173.33333333333334\" style=\"stroke: rgb(255, 255, 255); stroke-opacity: 1; stroke-width: 1px;\"/><path class=\"y2grid crisp\" transform=\"translate(0,87.44)\" d=\"M263.33333333333337,0h173.33333333333334\" style=\"stroke: rgb(255, 255, 255); stroke-opacity: 1; stroke-width: 1px;\"/></g></g><g class=\"zerolinelayer\"><path class=\"x2zl zl crisp\" transform=\"translate(263.33333333333337,0)\" d=\"M0,60v82.33333333333334\" style=\"stroke: rgb(255, 255, 255); stroke-opacity: 1; stroke-width: 2px;\"/><path class=\"y2zl zl crisp\" transform=\"translate(0,142.32999999999998)\" d=\"M263.33333333333337,0h173.33333333333334\" style=\"stroke: rgb(255, 255, 255); stroke-opacity: 1; stroke-width: 2px;\"/></g><path class=\"xlines-below\"/><path class=\"ylines-below\"/><g class=\"overlines-below\"/><g class=\"xaxislayer-below\"/><g class=\"yaxislayer-below\"/><g class=\"overaxes-below\"/><g class=\"plot\" transform=\"translate(263.33333333333337,60)\" clip-path=\"url('#clipfc5f46x2y2plot')\"><g class=\"scatterlayer mlayer\"><g class=\"trace scatter trace480922\" style=\"stroke-miterlimit: 2; opacity: 1;\"><g class=\"fills\"/><g class=\"errorbars\"/><g class=\"lines\"><path class=\"js-line\" d=\"M0,54.89L173.33,54.89\" style=\"vector-effect: non-scaling-stroke; fill: none; stroke: rgb(0, 0, 0); stroke-opacity: 1; stroke-width: 100px; opacity: 1;\"/></g><g class=\"points\"/><g class=\"text\"/></g><g class=\"trace scatter tracef6ea1c\" style=\"stroke-miterlimit: 2; opacity: 1;\"><g class=\"fills\"/><g class=\"errorbars\"/><g class=\"lines\"><path class=\"js-line\" d=\"M12.37,27.44L32.74,27.44\" style=\"vector-effect: non-scaling-stroke; fill: none; stroke: rgb(255, 151, 255); stroke-opacity: 1; stroke-width: 30px; opacity: 1;\"/></g><g class=\"points\"/><g class=\"text\"/></g><g class=\"trace scatter trace1064da\" style=\"stroke-miterlimit: 2; opacity: 1;\"><g class=\"fills\"/><g class=\"errorbars\"/><g class=\"lines\"><path class=\"js-line\" d=\"M96.29,27.44L112.33,27.44\" style=\"vector-effect: non-scaling-stroke; fill: none; stroke: rgb(254, 203, 82); stroke-opacity: 1; stroke-width: 30px; opacity: 1;\"/></g><g class=\"points\"/><g class=\"text\"/></g><g class=\"trace scatter tracec0cead\" style=\"stroke-miterlimit: 2; opacity: 1;\"><g class=\"fills\"/><g class=\"errorbars\"/><g class=\"lines\"><path class=\"js-line\" d=\"M43.97,27.44L62.61,27.44\" style=\"vector-effect: non-scaling-stroke; fill: none; stroke: rgb(99, 110, 250); stroke-opacity: 1; stroke-width: 30px; opacity: 1;\"/></g><g class=\"points\"/><g class=\"text\"/></g><g class=\"trace scatter trace4fdeea\" style=\"stroke-miterlimit: 2; opacity: 1;\"><g class=\"fills\"/><g class=\"errorbars\"/><g class=\"lines\"><path class=\"js-line\" d=\"M137.91,27.44L154.38,27.44\" style=\"vector-effect: non-scaling-stroke; fill: none; stroke: rgb(239, 85, 59); stroke-opacity: 1; stroke-width: 30px; opacity: 1;\"/></g><g class=\"points\"/><g class=\"text\"/></g><g class=\"trace scatter trace6a3df8\" style=\"stroke-miterlimit: 2; opacity: 1;\"><g class=\"fills\"/><g class=\"errorbars\"/><g class=\"lines\"><path class=\"js-line\" d=\"M119.5,27.44L136.4,27.44\" style=\"vector-effect: non-scaling-stroke; fill: none; stroke: rgb(0, 204, 150); stroke-opacity: 1; stroke-width: 30px; opacity: 1;\"/></g><g class=\"points\"/><g class=\"text\"/></g><g class=\"trace scatter traceb5c00b\" style=\"stroke-miterlimit: 2; opacity: 1;\"><g class=\"fills\"/><g class=\"errorbars\"/><g class=\"lines\"><path class=\"js-line\" d=\"M81.93,27.44L94.93,27.44\" style=\"vector-effect: non-scaling-stroke; fill: none; stroke: rgb(171, 99, 250); stroke-opacity: 1; stroke-width: 30px; opacity: 1;\"/></g><g class=\"points\"/><g class=\"text\"/></g></g></g><g class=\"overplot\"/><path class=\"xlines-above crisp\" d=\"\" style=\"fill: none; stroke-width: 1px; stroke: rgb(0, 0, 0); stroke-opacity: 0;\"/><path class=\"ylines-above crisp\" d=\"M0,0\" style=\"fill: none;\"/><g class=\"overlines-above\"/><g class=\"xaxislayer-above\"><path class=\"x2tick ticks crisp\" d=\"M0,143.33333333333334v5\" transform=\"translate(263.33333333333337,0)\" style=\"stroke: rgb(68, 68, 68); stroke-opacity: 1; stroke-width: 1px;\"/><path class=\"x2tick ticks crisp\" d=\"M0,143.33333333333334v5\" transform=\"translate(306.66333333333336,0)\" style=\"stroke: rgb(68, 68, 68); stroke-opacity: 1; stroke-width: 1px;\"/><path class=\"x2tick ticks crisp\" d=\"M0,143.33333333333334v5\" transform=\"translate(350.0033333333334,0)\" style=\"stroke: rgb(68, 68, 68); stroke-opacity: 1; stroke-width: 1px;\"/><path class=\"x2tick ticks crisp\" d=\"M0,143.33333333333334v5\" transform=\"translate(393.33333333333337,0)\" style=\"stroke: rgb(68, 68, 68); stroke-opacity: 1; stroke-width: 1px;\"/><path class=\"x2tick ticks crisp\" d=\"M0,143.33333333333334v5\" transform=\"translate(436.6633333333334,0)\" style=\"stroke: rgb(68, 68, 68); stroke-opacity: 1; stroke-width: 1px;\"/><g class=\"x2tick\"><text text-anchor=\"middle\" x=\"0\" y=\"162.73333333333335\" transform=\"translate(263.33333333333337,0)\" style=\"font-family: 'Open Sans', verdana, arial, sans-serif; font-size: 12px; fill: rgb(42, 63, 95); fill-opacity: 1; white-space: pre;\">0</text></g><g class=\"x2tick\"><text text-anchor=\"middle\" x=\"0\" y=\"162.73333333333335\" transform=\"translate(306.66333333333336,0)\" style=\"font-family: 'Open Sans', verdana, arial, sans-serif; font-size: 12px; fill: rgb(42, 63, 95); fill-opacity: 1; white-space: pre;\">10</text></g><g class=\"x2tick\"><text text-anchor=\"middle\" x=\"0\" y=\"162.73333333333335\" transform=\"translate(350.0033333333334,0)\" style=\"font-family: 'Open Sans', verdana, arial, sans-serif; font-size: 12px; fill: rgb(42, 63, 95); fill-opacity: 1; white-space: pre;\">20</text></g><g class=\"x2tick\"><text text-anchor=\"middle\" x=\"0\" y=\"162.73333333333335\" transform=\"translate(393.33333333333337,0)\" style=\"font-family: 'Open Sans', verdana, arial, sans-serif; font-size: 12px; fill: rgb(42, 63, 95); fill-opacity: 1; white-space: pre;\">30</text></g><g class=\"x2tick\"><text text-anchor=\"middle\" x=\"0\" y=\"162.73333333333335\" transform=\"translate(436.6633333333334,0)\" style=\"font-family: 'Open Sans', verdana, arial, sans-serif; font-size: 12px; fill: rgb(42, 63, 95); fill-opacity: 1; white-space: pre;\">40</text></g></g><g class=\"yaxislayer-above\"/><g class=\"overaxes-above\"/></g><g class=\"subplot x3y3\"><g class=\"layer-subplot\"><g class=\"shapelayer\"/><g class=\"imagelayer\"/></g><g class=\"gridlayer\"><g class=\"x3\"><path class=\"x3grid crisp\" transform=\"translate(519.9966666666667,0)\" d=\"M0,60v82.33333333333334\" style=\"stroke: rgb(255, 255, 255); stroke-opacity: 1; stroke-width: 1px;\"/><path class=\"x3grid crisp\" transform=\"translate(563.3366666666667,0)\" d=\"M0,60v82.33333333333334\" style=\"stroke: rgb(255, 255, 255); stroke-opacity: 1; stroke-width: 1px;\"/><path class=\"x3grid crisp\" transform=\"translate(606.6666666666667,0)\" d=\"M0,60v82.33333333333334\" style=\"stroke: rgb(255, 255, 255); stroke-opacity: 1; stroke-width: 1px;\"/></g><g class=\"y3\"><path class=\"y3grid crisp\" transform=\"translate(0,114.89)\" d=\"M476.6666666666667,0h173.33333333333331\" style=\"stroke: rgb(255, 255, 255); stroke-opacity: 1; stroke-width: 1px;\"/><path class=\"y3grid crisp\" transform=\"translate(0,87.44)\" d=\"M476.6666666666667,0h173.33333333333331\" style=\"stroke: rgb(255, 255, 255); stroke-opacity: 1; stroke-width: 1px;\"/></g></g><g class=\"zerolinelayer\"><path class=\"x3zl zl crisp\" transform=\"translate(476.6666666666667,0)\" d=\"M0,60v82.33333333333334\" style=\"stroke: rgb(255, 255, 255); stroke-opacity: 1; stroke-width: 2px;\"/><path class=\"y3zl zl crisp\" transform=\"translate(0,142.32999999999998)\" d=\"M476.6666666666667,0h173.33333333333331\" style=\"stroke: rgb(255, 255, 255); stroke-opacity: 1; stroke-width: 2px;\"/></g><path class=\"xlines-below\"/><path class=\"ylines-below\"/><g class=\"overlines-below\"/><g class=\"xaxislayer-below\"/><g class=\"yaxislayer-below\"/><g class=\"overaxes-below\"/><g class=\"plot\" transform=\"translate(476.6666666666667,60)\" clip-path=\"url('#clipfc5f46x3y3plot')\"><g class=\"scatterlayer mlayer\"><g class=\"trace scatter traceaa1916\" style=\"stroke-miterlimit: 2; opacity: 1;\"><g class=\"fills\"/><g class=\"errorbars\"/><g class=\"lines\"><path class=\"js-line\" d=\"M0,54.89L173.33,54.89\" style=\"vector-effect: non-scaling-stroke; fill: none; stroke: rgb(0, 0, 0); stroke-opacity: 1; stroke-width: 100px; opacity: 1;\"/></g><g class=\"points\"/><g class=\"text\"/></g><g class=\"trace scatter trace00c3ab\" style=\"stroke-miterlimit: 2; opacity: 1;\"><g class=\"fills\"/><g class=\"errorbars\"/><g class=\"lines\"><path class=\"js-line\" d=\"M101.34,27.44L121.71,27.44\" style=\"vector-effect: non-scaling-stroke; fill: none; stroke: rgb(25, 211, 243); stroke-opacity: 1; stroke-width: 30px; opacity: 1;\"/></g><g class=\"points\"/><g class=\"text\"/></g><g class=\"trace scatter trace75034d\" style=\"stroke-miterlimit: 2; opacity: 1;\"><g class=\"fills\"/><g class=\"errorbars\"/><g class=\"lines\"><path class=\"js-line\" d=\"M2.82,27.44L21.45,27.44\" style=\"vector-effect: non-scaling-stroke; fill: none; stroke: rgb(255, 102, 146); stroke-opacity: 1; stroke-width: 30px; opacity: 1;\"/></g><g class=\"points\"/><g class=\"text\"/></g><g class=\"trace scatter tracec1126a\" style=\"stroke-miterlimit: 2; opacity: 1;\"><g class=\"fills\"/><g class=\"errorbars\"/><g class=\"lines\"><path class=\"js-line\" d=\"M149.79,27.44L166.69,27.44\" style=\"vector-effect: non-scaling-stroke; fill: none; stroke: rgb(182, 232, 128); stroke-opacity: 1; stroke-width: 30px; opacity: 1;\"/></g><g class=\"points\"/><g class=\"text\"/></g><g class=\"trace scatter trace84798e\" style=\"stroke-miterlimit: 2; opacity: 1;\"><g class=\"fills\"/><g class=\"errorbars\"/><g class=\"lines\"><path class=\"js-line\" d=\"M125.65,27.44L143.42,27.44\" style=\"vector-effect: non-scaling-stroke; fill: none; stroke: rgb(255, 151, 255); stroke-opacity: 1; stroke-width: 30px; opacity: 1;\"/></g><g class=\"points\"/><g class=\"text\"/></g><g class=\"trace scatter trace33e552\" style=\"stroke-miterlimit: 2; opacity: 1;\"><g class=\"fills\"/><g class=\"errorbars\"/><g class=\"lines\"><path class=\"js-line\" d=\"M24.61,27.44L41.07,27.44\" style=\"vector-effect: non-scaling-stroke; fill: none; stroke: rgb(254, 203, 82); stroke-opacity: 1; stroke-width: 30px; opacity: 1;\"/></g><g class=\"points\"/><g class=\"text\"/></g><g class=\"trace scatter trace2f6f93\" style=\"stroke-miterlimit: 2; opacity: 1;\"><g class=\"fills\"/><g class=\"errorbars\"/><g class=\"lines\"><path class=\"js-line\" d=\"M44.02,27.44L61.35,27.44\" style=\"vector-effect: non-scaling-stroke; fill: none; stroke: rgb(99, 110, 250); stroke-opacity: 1; stroke-width: 30px; opacity: 1;\"/></g><g class=\"points\"/><g class=\"text\"/></g><g class=\"trace scatter trace1a5d30\" style=\"stroke-miterlimit: 2; opacity: 1;\"><g class=\"fills\"/><g class=\"errorbars\"/><g class=\"lines\"><path class=\"js-line\" d=\"M64.01,27.44L76.14,27.44\" style=\"vector-effect: non-scaling-stroke; fill: none; stroke: rgb(239, 85, 59); stroke-opacity: 1; stroke-width: 30px; opacity: 1;\"/></g><g class=\"points\"/><g class=\"text\"/></g><g class=\"trace scatter tracee99cbc\" style=\"stroke-miterlimit: 2; opacity: 1;\"><g class=\"fills\"/><g class=\"errorbars\"/><g class=\"lines\"><path class=\"js-line\" d=\"M78.78,27.44L97.85,27.44\" style=\"vector-effect: non-scaling-stroke; fill: none; stroke: rgb(0, 204, 150); stroke-opacity: 1; stroke-width: 30px; opacity: 1;\"/></g><g class=\"points\"/><g class=\"text\"/></g></g></g><g class=\"overplot\"/><path class=\"xlines-above crisp\" d=\"\" style=\"fill: none; stroke-width: 1px; stroke: rgb(0, 0, 0); stroke-opacity: 0;\"/><path class=\"ylines-above crisp\" d=\"M0,0\" style=\"fill: none;\"/><g class=\"overlines-above\"/><g class=\"xaxislayer-above\"><path class=\"x3tick ticks crisp\" d=\"M0,143.33333333333334v5\" transform=\"translate(476.6666666666667,0)\" style=\"stroke: rgb(68, 68, 68); stroke-opacity: 1; stroke-width: 1px;\"/><path class=\"x3tick ticks crisp\" d=\"M0,143.33333333333334v5\" transform=\"translate(519.9966666666667,0)\" style=\"stroke: rgb(68, 68, 68); stroke-opacity: 1; stroke-width: 1px;\"/><path class=\"x3tick ticks crisp\" d=\"M0,143.33333333333334v5\" transform=\"translate(563.3366666666667,0)\" style=\"stroke: rgb(68, 68, 68); stroke-opacity: 1; stroke-width: 1px;\"/><path class=\"x3tick ticks crisp\" d=\"M0,143.33333333333334v5\" transform=\"translate(606.6666666666667,0)\" style=\"stroke: rgb(68, 68, 68); stroke-opacity: 1; stroke-width: 1px;\"/><path class=\"x3tick ticks crisp\" d=\"M0,143.33333333333334v5\" transform=\"translate(649.9966666666667,0)\" style=\"stroke: rgb(68, 68, 68); stroke-opacity: 1; stroke-width: 1px;\"/><g class=\"x3tick\"><text text-anchor=\"middle\" x=\"0\" y=\"162.73333333333335\" transform=\"translate(476.6666666666667,0)\" style=\"font-family: 'Open Sans', verdana, arial, sans-serif; font-size: 12px; fill: rgb(42, 63, 95); fill-opacity: 1; white-space: pre;\">0</text></g><g class=\"x3tick\"><text text-anchor=\"middle\" x=\"0\" y=\"162.73333333333335\" transform=\"translate(519.9966666666667,0)\" style=\"font-family: 'Open Sans', verdana, arial, sans-serif; font-size: 12px; fill: rgb(42, 63, 95); fill-opacity: 1; white-space: pre;\">10</text></g><g class=\"x3tick\"><text text-anchor=\"middle\" x=\"0\" y=\"162.73333333333335\" transform=\"translate(563.3366666666667,0)\" style=\"font-family: 'Open Sans', verdana, arial, sans-serif; font-size: 12px; fill: rgb(42, 63, 95); fill-opacity: 1; white-space: pre;\">20</text></g><g class=\"x3tick\"><text text-anchor=\"middle\" x=\"0\" y=\"162.73333333333335\" transform=\"translate(606.6666666666667,0)\" style=\"font-family: 'Open Sans', verdana, arial, sans-serif; font-size: 12px; fill: rgb(42, 63, 95); fill-opacity: 1; white-space: pre;\">30</text></g><g class=\"x3tick\"><text text-anchor=\"middle\" x=\"0\" y=\"162.73333333333335\" transform=\"translate(649.9966666666667,0)\" style=\"font-family: 'Open Sans', verdana, arial, sans-serif; font-size: 12px; fill: rgb(42, 63, 95); fill-opacity: 1; white-space: pre;\">40</text></g></g><g class=\"yaxislayer-above\"/><g class=\"overaxes-above\"/></g><g class=\"subplot x4y4\"><g class=\"layer-subplot\"><g class=\"shapelayer\"/><g class=\"imagelayer\"/></g><g class=\"gridlayer\"><g class=\"x4\"><path class=\"x4grid crisp\" transform=\"translate(93.33,0)\" d=\"M0,213.83333333333334v82.33333333333334\" style=\"stroke: rgb(255, 255, 255); stroke-opacity: 1; stroke-width: 1px;\"/><path class=\"x4grid crisp\" transform=\"translate(136.67000000000002,0)\" d=\"M0,213.83333333333334v82.33333333333334\" style=\"stroke: rgb(255, 255, 255); stroke-opacity: 1; stroke-width: 1px;\"/><path class=\"x4grid crisp\" transform=\"translate(180,0)\" d=\"M0,213.83333333333334v82.33333333333334\" style=\"stroke: rgb(255, 255, 255); stroke-opacity: 1; stroke-width: 1px;\"/></g><g class=\"y4\"><path class=\"y4grid crisp\" transform=\"translate(0,268.72333333333336)\" d=\"M50,0h173.33333333333334\" style=\"stroke: rgb(255, 255, 255); stroke-opacity: 1; stroke-width: 1px;\"/><path class=\"y4grid crisp\" transform=\"translate(0,241.27333333333334)\" d=\"M50,0h173.33333333333334\" style=\"stroke: rgb(255, 255, 255); stroke-opacity: 1; stroke-width: 1px;\"/></g></g><g class=\"zerolinelayer\"><path class=\"x4zl zl crisp\" transform=\"translate(50,0)\" d=\"M0,213.83333333333334v82.33333333333334\" style=\"stroke: rgb(255, 255, 255); stroke-opacity: 1; stroke-width: 2px;\"/><path class=\"y4zl zl crisp\" transform=\"translate(0,296.16333333333336)\" d=\"M50,0h173.33333333333334\" style=\"stroke: rgb(255, 255, 255); stroke-opacity: 1; stroke-width: 2px;\"/></g><path class=\"xlines-below\"/><path class=\"ylines-below\"/><g class=\"overlines-below\"/><g class=\"xaxislayer-below\"/><g class=\"yaxislayer-below\"/><g class=\"overaxes-below\"/><g class=\"plot\" transform=\"translate(50,213.83333333333334)\" clip-path=\"url('#clipfc5f46x4y4plot')\"><g class=\"scatterlayer mlayer\"><g class=\"trace scatter trace4a8b89\" style=\"stroke-miterlimit: 2; opacity: 1;\"><g class=\"fills\"/><g class=\"errorbars\"/><g class=\"lines\"><path class=\"js-line\" d=\"M0,54.89L173.33,54.89\" style=\"vector-effect: non-scaling-stroke; fill: none; stroke: rgb(0, 0, 0); stroke-opacity: 1; stroke-width: 100px; opacity: 1;\"/></g><g class=\"points\"/><g class=\"text\"/></g><g class=\"trace scatter traceda7707\" style=\"stroke-miterlimit: 2; opacity: 1;\"><g class=\"fills\"/><g class=\"errorbars\"/><g class=\"lines\"><path class=\"js-line\" d=\"M126.88,27.44L145.08,27.44\" style=\"vector-effect: non-scaling-stroke; fill: none; stroke: rgb(255, 161, 90); stroke-opacity: 1; stroke-width: 30px; opacity: 1;\"/></g><g class=\"points\"/><g class=\"text\"/></g><g class=\"trace scatter trace62d427\" style=\"stroke-miterlimit: 2; opacity: 1;\"><g class=\"fills\"/><g class=\"errorbars\"/><g class=\"lines\"><path class=\"js-line\" d=\"M86.45,27.44L102.05,27.44\" style=\"vector-effect: non-scaling-stroke; fill: none; stroke: rgb(25, 211, 243); stroke-opacity: 1; stroke-width: 30px; opacity: 1;\"/></g><g class=\"points\"/><g class=\"text\"/></g><g class=\"trace scatter trace6e78b8\" style=\"stroke-miterlimit: 2; opacity: 1;\"><g class=\"fills\"/><g class=\"errorbars\"/><g class=\"lines\"><path class=\"js-line\" d=\"M16.67,27.44L32.27,27.44\" style=\"vector-effect: non-scaling-stroke; fill: none; stroke: rgb(255, 102, 146); stroke-opacity: 1; stroke-width: 30px; opacity: 1;\"/></g><g class=\"points\"/><g class=\"text\"/></g><g class=\"trace scatter trace73d911\" style=\"stroke-miterlimit: 2; opacity: 1;\"><g class=\"fills\"/><g class=\"errorbars\"/><g class=\"lines\"><path class=\"js-line\" d=\"M33.43,27.44L48.17,27.44\" style=\"vector-effect: non-scaling-stroke; fill: none; stroke: rgb(182, 232, 128); stroke-opacity: 1; stroke-width: 30px; opacity: 1;\"/></g><g class=\"points\"/><g class=\"text\"/></g><g class=\"trace scatter tracefe60c4\" style=\"stroke-miterlimit: 2; opacity: 1;\"><g class=\"fills\"/><g class=\"errorbars\"/><g class=\"lines\"><path class=\"js-line\" d=\"M103.24,27.44L119.71,27.44\" style=\"vector-effect: non-scaling-stroke; fill: none; stroke: rgb(255, 151, 255); stroke-opacity: 1; stroke-width: 30px; opacity: 1;\"/></g><g class=\"points\"/><g class=\"text\"/></g><g class=\"trace scatter tracea09e57\" style=\"stroke-miterlimit: 2; opacity: 1;\"><g class=\"fills\"/><g class=\"errorbars\"/><g class=\"lines\"><path class=\"js-line\" d=\"M146.17,27.44L162.2,27.44\" style=\"vector-effect: non-scaling-stroke; fill: none; stroke: rgb(254, 203, 82); stroke-opacity: 1; stroke-width: 30px; opacity: 1;\"/></g><g class=\"points\"/><g class=\"text\"/></g><g class=\"trace scatter trace4209bd\" style=\"stroke-miterlimit: 2; opacity: 1;\"><g class=\"fills\"/><g class=\"errorbars\"/><g class=\"lines\"><path class=\"js-line\" d=\"M49.61,27.44L67.81,27.44\" style=\"vector-effect: non-scaling-stroke; fill: none; stroke: rgb(99, 110, 250); stroke-opacity: 1; stroke-width: 30px; opacity: 1;\"/></g><g class=\"points\"/><g class=\"text\"/></g></g></g><g class=\"overplot\"/><path class=\"xlines-above crisp\" d=\"\" style=\"fill: none; stroke-width: 1px; stroke: rgb(0, 0, 0); stroke-opacity: 0;\"/><path class=\"ylines-above crisp\" d=\"M0,0\" style=\"fill: none;\"/><g class=\"overlines-above\"/><g class=\"xaxislayer-above\"><path class=\"x4tick ticks crisp\" d=\"M0,297.1666666666667v5\" transform=\"translate(50,0)\" style=\"stroke: rgb(68, 68, 68); stroke-opacity: 1; stroke-width: 1px;\"/><path class=\"x4tick ticks crisp\" d=\"M0,297.1666666666667v5\" transform=\"translate(93.33,0)\" style=\"stroke: rgb(68, 68, 68); stroke-opacity: 1; stroke-width: 1px;\"/><path class=\"x4tick ticks crisp\" d=\"M0,297.1666666666667v5\" transform=\"translate(136.67000000000002,0)\" style=\"stroke: rgb(68, 68, 68); stroke-opacity: 1; stroke-width: 1px;\"/><path class=\"x4tick ticks crisp\" d=\"M0,297.1666666666667v5\" transform=\"translate(180,0)\" style=\"stroke: rgb(68, 68, 68); stroke-opacity: 1; stroke-width: 1px;\"/><path class=\"x4tick ticks crisp\" d=\"M0,297.1666666666667v5\" transform=\"translate(223.33,0)\" style=\"stroke: rgb(68, 68, 68); stroke-opacity: 1; stroke-width: 1px;\"/><g class=\"x4tick\"><text text-anchor=\"middle\" x=\"0\" y=\"316.56666666666666\" transform=\"translate(50,0)\" style=\"font-family: 'Open Sans', verdana, arial, sans-serif; font-size: 12px; fill: rgb(42, 63, 95); fill-opacity: 1; white-space: pre;\">0</text></g><g class=\"x4tick\"><text text-anchor=\"middle\" x=\"0\" y=\"316.56666666666666\" transform=\"translate(93.33,0)\" style=\"font-family: 'Open Sans', verdana, arial, sans-serif; font-size: 12px; fill: rgb(42, 63, 95); fill-opacity: 1; white-space: pre;\">10</text></g><g class=\"x4tick\"><text text-anchor=\"middle\" x=\"0\" y=\"316.56666666666666\" transform=\"translate(136.67000000000002,0)\" style=\"font-family: 'Open Sans', verdana, arial, sans-serif; font-size: 12px; fill: rgb(42, 63, 95); fill-opacity: 1; white-space: pre;\">20</text></g><g class=\"x4tick\"><text text-anchor=\"middle\" x=\"0\" y=\"316.56666666666666\" transform=\"translate(180,0)\" style=\"font-family: 'Open Sans', verdana, arial, sans-serif; font-size: 12px; fill: rgb(42, 63, 95); fill-opacity: 1; white-space: pre;\">30</text></g><g class=\"x4tick\"><text text-anchor=\"middle\" x=\"0\" y=\"316.56666666666666\" transform=\"translate(223.33,0)\" style=\"font-family: 'Open Sans', verdana, arial, sans-serif; font-size: 12px; fill: rgb(42, 63, 95); fill-opacity: 1; white-space: pre;\">40</text></g></g><g class=\"yaxislayer-above\"/><g class=\"overaxes-above\"/></g><g class=\"subplot x5y5\"><g class=\"layer-subplot\"><g class=\"shapelayer\"/><g class=\"imagelayer\"/></g><g class=\"gridlayer\"><g class=\"x5\"><path class=\"x5grid crisp\" transform=\"translate(306.66333333333336,0)\" d=\"M0,213.83333333333334v82.33333333333334\" style=\"stroke: rgb(255, 255, 255); stroke-opacity: 1; stroke-width: 1px;\"/><path class=\"x5grid crisp\" transform=\"translate(350.0033333333334,0)\" d=\"M0,213.83333333333334v82.33333333333334\" style=\"stroke: rgb(255, 255, 255); stroke-opacity: 1; stroke-width: 1px;\"/><path class=\"x5grid crisp\" transform=\"translate(393.33333333333337,0)\" d=\"M0,213.83333333333334v82.33333333333334\" style=\"stroke: rgb(255, 255, 255); stroke-opacity: 1; stroke-width: 1px;\"/></g><g class=\"y5\"><path class=\"y5grid crisp\" transform=\"translate(0,268.72333333333336)\" d=\"M263.33333333333337,0h173.33333333333334\" style=\"stroke: rgb(255, 255, 255); stroke-opacity: 1; stroke-width: 1px;\"/><path class=\"y5grid crisp\" transform=\"translate(0,241.27333333333334)\" d=\"M263.33333333333337,0h173.33333333333334\" style=\"stroke: rgb(255, 255, 255); stroke-opacity: 1; stroke-width: 1px;\"/></g></g><g class=\"zerolinelayer\"><path class=\"x5zl zl crisp\" transform=\"translate(263.33333333333337,0)\" d=\"M0,213.83333333333334v82.33333333333334\" style=\"stroke: rgb(255, 255, 255); stroke-opacity: 1; stroke-width: 2px;\"/><path class=\"y5zl zl crisp\" transform=\"translate(0,296.16333333333336)\" d=\"M263.33333333333337,0h173.33333333333334\" style=\"stroke: rgb(255, 255, 255); stroke-opacity: 1; stroke-width: 2px;\"/></g><path class=\"xlines-below\"/><path class=\"ylines-below\"/><g class=\"overlines-below\"/><g class=\"xaxislayer-below\"/><g class=\"yaxislayer-below\"/><g class=\"overaxes-below\"/><g class=\"plot\" transform=\"translate(263.33333333333337,213.83333333333334)\" clip-path=\"url('#clipfc5f46x5y5plot')\"><g class=\"scatterlayer mlayer\"><g class=\"trace scatter tracef8f5ee\" style=\"stroke-miterlimit: 2; opacity: 1;\"><g class=\"fills\"/><g class=\"errorbars\"/><g class=\"lines\"><path class=\"js-line\" d=\"M0,54.89L173.33,54.89\" style=\"vector-effect: non-scaling-stroke; fill: none; stroke: rgb(0, 0, 0); stroke-opacity: 1; stroke-width: 100px; opacity: 1;\"/></g><g class=\"points\"/><g class=\"text\"/></g><g class=\"trace scatter trace6b3439\" style=\"stroke-miterlimit: 2; opacity: 1;\"><g class=\"fills\"/><g class=\"errorbars\"/><g class=\"lines\"><path class=\"js-line\" d=\"M15.86,27.44L33.63,27.44\" style=\"vector-effect: non-scaling-stroke; fill: none; stroke: rgb(0, 204, 150); stroke-opacity: 1; stroke-width: 30px; opacity: 1;\"/></g><g class=\"points\"/><g class=\"text\"/></g><g class=\"trace scatter trace3ecca9\" style=\"stroke-miterlimit: 2; opacity: 1;\"><g class=\"fills\"/><g class=\"errorbars\"/><g class=\"lines\"><path class=\"js-line\" d=\"M64.29,27.44L79.02,27.44\" style=\"vector-effect: non-scaling-stroke; fill: none; stroke: rgb(171, 99, 250); stroke-opacity: 1; stroke-width: 30px; opacity: 1;\"/></g><g class=\"points\"/><g class=\"text\"/></g><g class=\"trace scatter traceeeb7fa\" style=\"stroke-miterlimit: 2; opacity: 1;\"><g class=\"fills\"/><g class=\"errorbars\"/><g class=\"lines\"><path class=\"js-line\" d=\"M113.95,27.44L134.32,27.44\" style=\"vector-effect: non-scaling-stroke; fill: none; stroke: rgb(255, 161, 90); stroke-opacity: 1; stroke-width: 30px; opacity: 1;\"/></g><g class=\"points\"/><g class=\"text\"/></g><g class=\"trace scatter trace753ca0\" style=\"stroke-miterlimit: 2; opacity: 1;\"><g class=\"fills\"/><g class=\"errorbars\"/><g class=\"lines\"><path class=\"js-line\" d=\"M91.47,27.44L112.7,27.44\" style=\"vector-effect: non-scaling-stroke; fill: none; stroke: rgb(25, 211, 243); stroke-opacity: 1; stroke-width: 30px; opacity: 1;\"/></g><g class=\"points\"/><g class=\"text\"/></g><g class=\"trace scatter trace0fec52\" style=\"stroke-miterlimit: 2; opacity: 1;\"><g class=\"fills\"/><g class=\"errorbars\"/><g class=\"lines\"><path class=\"js-line\" d=\"M155.74,27.44L172.2,27.44\" style=\"vector-effect: non-scaling-stroke; fill: none; stroke: rgb(255, 102, 146); stroke-opacity: 1; stroke-width: 30px; opacity: 1;\"/></g><g class=\"points\"/><g class=\"text\"/></g><g class=\"trace scatter traceb8e51f\" style=\"stroke-miterlimit: 2; opacity: 1;\"><g class=\"fills\"/><g class=\"errorbars\"/><g class=\"lines\"><path class=\"js-line\" d=\"M44.34,27.44L62.97,27.44\" style=\"vector-effect: non-scaling-stroke; fill: none; stroke: rgb(182, 232, 128); stroke-opacity: 1; stroke-width: 30px; opacity: 1;\"/></g><g class=\"points\"/><g class=\"text\"/></g></g></g><g class=\"overplot\"/><path class=\"xlines-above crisp\" d=\"\" style=\"fill: none; stroke-width: 1px; stroke: rgb(0, 0, 0); stroke-opacity: 0;\"/><path class=\"ylines-above crisp\" d=\"M0,0\" style=\"fill: none;\"/><g class=\"overlines-above\"/><g class=\"xaxislayer-above\"><path class=\"x5tick ticks crisp\" d=\"M0,297.1666666666667v5\" transform=\"translate(263.33333333333337,0)\" style=\"stroke: rgb(68, 68, 68); stroke-opacity: 1; stroke-width: 1px;\"/><path class=\"x5tick ticks crisp\" d=\"M0,297.1666666666667v5\" transform=\"translate(306.66333333333336,0)\" style=\"stroke: rgb(68, 68, 68); stroke-opacity: 1; stroke-width: 1px;\"/><path class=\"x5tick ticks crisp\" d=\"M0,297.1666666666667v5\" transform=\"translate(350.0033333333334,0)\" style=\"stroke: rgb(68, 68, 68); stroke-opacity: 1; stroke-width: 1px;\"/><path class=\"x5tick ticks crisp\" d=\"M0,297.1666666666667v5\" transform=\"translate(393.33333333333337,0)\" style=\"stroke: rgb(68, 68, 68); stroke-opacity: 1; stroke-width: 1px;\"/><path class=\"x5tick ticks crisp\" d=\"M0,297.1666666666667v5\" transform=\"translate(436.6633333333334,0)\" style=\"stroke: rgb(68, 68, 68); stroke-opacity: 1; stroke-width: 1px;\"/><g class=\"x5tick\"><text text-anchor=\"middle\" x=\"0\" y=\"316.56666666666666\" transform=\"translate(263.33333333333337,0)\" style=\"font-family: 'Open Sans', verdana, arial, sans-serif; font-size: 12px; fill: rgb(42, 63, 95); fill-opacity: 1; white-space: pre;\">0</text></g><g class=\"x5tick\"><text text-anchor=\"middle\" x=\"0\" y=\"316.56666666666666\" transform=\"translate(306.66333333333336,0)\" style=\"font-family: 'Open Sans', verdana, arial, sans-serif; font-size: 12px; fill: rgb(42, 63, 95); fill-opacity: 1; white-space: pre;\">10</text></g><g class=\"x5tick\"><text text-anchor=\"middle\" x=\"0\" y=\"316.56666666666666\" transform=\"translate(350.0033333333334,0)\" style=\"font-family: 'Open Sans', verdana, arial, sans-serif; font-size: 12px; fill: rgb(42, 63, 95); fill-opacity: 1; white-space: pre;\">20</text></g><g class=\"x5tick\"><text text-anchor=\"middle\" x=\"0\" y=\"316.56666666666666\" transform=\"translate(393.33333333333337,0)\" style=\"font-family: 'Open Sans', verdana, arial, sans-serif; font-size: 12px; fill: rgb(42, 63, 95); fill-opacity: 1; white-space: pre;\">30</text></g><g class=\"x5tick\"><text text-anchor=\"middle\" x=\"0\" y=\"316.56666666666666\" transform=\"translate(436.6633333333334,0)\" style=\"font-family: 'Open Sans', verdana, arial, sans-serif; font-size: 12px; fill: rgb(42, 63, 95); fill-opacity: 1; white-space: pre;\">40</text></g></g><g class=\"yaxislayer-above\"/><g class=\"overaxes-above\"/></g><g class=\"subplot x6y6\"><g class=\"layer-subplot\"><g class=\"shapelayer\"/><g class=\"imagelayer\"/></g><g class=\"gridlayer\"><g class=\"x6\"><path class=\"x6grid crisp\" transform=\"translate(519.9966666666667,0)\" d=\"M0,213.83333333333334v82.33333333333334\" style=\"stroke: rgb(255, 255, 255); stroke-opacity: 1; stroke-width: 1px;\"/><path class=\"x6grid crisp\" transform=\"translate(563.3366666666667,0)\" d=\"M0,213.83333333333334v82.33333333333334\" style=\"stroke: rgb(255, 255, 255); stroke-opacity: 1; stroke-width: 1px;\"/><path class=\"x6grid crisp\" transform=\"translate(606.6666666666667,0)\" d=\"M0,213.83333333333334v82.33333333333334\" style=\"stroke: rgb(255, 255, 255); stroke-opacity: 1; stroke-width: 1px;\"/></g><g class=\"y6\"><path class=\"y6grid crisp\" transform=\"translate(0,268.72333333333336)\" d=\"M476.6666666666667,0h173.33333333333331\" style=\"stroke: rgb(255, 255, 255); stroke-opacity: 1; stroke-width: 1px;\"/><path class=\"y6grid crisp\" transform=\"translate(0,241.27333333333334)\" d=\"M476.6666666666667,0h173.33333333333331\" style=\"stroke: rgb(255, 255, 255); stroke-opacity: 1; stroke-width: 1px;\"/></g></g><g class=\"zerolinelayer\"><path class=\"x6zl zl crisp\" transform=\"translate(476.6666666666667,0)\" d=\"M0,213.83333333333334v82.33333333333334\" style=\"stroke: rgb(255, 255, 255); stroke-opacity: 1; stroke-width: 2px;\"/><path class=\"y6zl zl crisp\" transform=\"translate(0,296.16333333333336)\" d=\"M476.6666666666667,0h173.33333333333331\" style=\"stroke: rgb(255, 255, 255); stroke-opacity: 1; stroke-width: 2px;\"/></g><path class=\"xlines-below\"/><path class=\"ylines-below\"/><g class=\"overlines-below\"/><g class=\"xaxislayer-below\"/><g class=\"yaxislayer-below\"/><g class=\"overaxes-below\"/><g class=\"plot\" transform=\"translate(476.6666666666667,213.83333333333334)\" clip-path=\"url('#clipfc5f46x6y6plot')\"><g class=\"scatterlayer mlayer\"><g class=\"trace scatter trace21b359\" style=\"stroke-miterlimit: 2; opacity: 1;\"><g class=\"fills\"/><g class=\"errorbars\"/><g class=\"lines\"><path class=\"js-line\" d=\"M0,54.89L173.33,54.89\" style=\"vector-effect: non-scaling-stroke; fill: none; stroke: rgb(0, 0, 0); stroke-opacity: 1; stroke-width: 100px; opacity: 1;\"/></g><g class=\"points\"/><g class=\"text\"/></g><g class=\"trace scatter tracec59691\" style=\"stroke-miterlimit: 2; opacity: 1;\"><g class=\"fills\"/><g class=\"errorbars\"/><g class=\"lines\"><path class=\"js-line\" d=\"M24.04,27.44L43.11,27.44\" style=\"vector-effect: non-scaling-stroke; fill: none; stroke: rgb(254, 203, 82); stroke-opacity: 1; stroke-width: 30px; opacity: 1;\"/></g><g class=\"points\"/><g class=\"text\"/></g><g class=\"trace scatter trace34cb01\" style=\"stroke-miterlimit: 2; opacity: 1;\"><g class=\"fills\"/><g class=\"errorbars\"/><g class=\"lines\"><path class=\"js-line\" d=\"M74.15,27.44L91.92,27.44\" style=\"vector-effect: non-scaling-stroke; fill: none; stroke: rgb(99, 110, 250); stroke-opacity: 1; stroke-width: 30px; opacity: 1;\"/></g><g class=\"points\"/><g class=\"text\"/></g><g class=\"trace scatter trace9b2de3\" style=\"stroke-miterlimit: 2; opacity: 1;\"><g class=\"fills\"/><g class=\"errorbars\"/><g class=\"lines\"><path class=\"js-line\" d=\"M94.48,27.44L113.98,27.44\" style=\"vector-effect: non-scaling-stroke; fill: none; stroke: rgb(239, 85, 59); stroke-opacity: 1; stroke-width: 30px; opacity: 1;\"/></g><g class=\"points\"/><g class=\"text\"/></g><g class=\"trace scatter trace33c5bd\" style=\"stroke-miterlimit: 2; opacity: 1;\"><g class=\"fills\"/><g class=\"errorbars\"/><g class=\"lines\"><path class=\"js-line\" d=\"M46.95,27.44L65.59,27.44\" style=\"vector-effect: non-scaling-stroke; fill: none; stroke: rgb(0, 204, 150); stroke-opacity: 1; stroke-width: 30px; opacity: 1;\"/></g><g class=\"points\"/><g class=\"text\"/></g><g class=\"trace scatter trace7cbd13\" style=\"stroke-miterlimit: 2; opacity: 1;\"><g class=\"fills\"/><g class=\"errorbars\"/><g class=\"lines\"><path class=\"js-line\" d=\"M117.42,27.44L135.62,27.44\" style=\"vector-effect: non-scaling-stroke; fill: none; stroke: rgb(171, 99, 250); stroke-opacity: 1; stroke-width: 30px; opacity: 1;\"/></g><g class=\"points\"/><g class=\"text\"/></g><g class=\"trace scatter trace09c41c\" style=\"stroke-miterlimit: 2; opacity: 1;\"><g class=\"fills\"/><g class=\"errorbars\"/><g class=\"lines\"><path class=\"js-line\" d=\"M2.69,27.44L20.02,27.44\" style=\"vector-effect: non-scaling-stroke; fill: none; stroke: rgb(255, 161, 90); stroke-opacity: 1; stroke-width: 30px; opacity: 1;\"/></g><g class=\"points\"/><g class=\"text\"/></g><g class=\"trace scatter trace43e05f\" style=\"stroke-miterlimit: 2; opacity: 1;\"><g class=\"fills\"/><g class=\"errorbars\"/><g class=\"lines\"><path class=\"js-line\" d=\"M139.82,27.44L160.19,27.44\" style=\"vector-effect: non-scaling-stroke; fill: none; stroke: rgb(25, 211, 243); stroke-opacity: 1; stroke-width: 30px; opacity: 1;\"/></g><g class=\"points\"/><g class=\"text\"/></g></g></g><g class=\"overplot\"/><path class=\"xlines-above crisp\" d=\"\" style=\"fill: none; stroke-width: 1px; stroke: rgb(0, 0, 0); stroke-opacity: 0;\"/><path class=\"ylines-above crisp\" d=\"M0,0\" style=\"fill: none;\"/><g class=\"overlines-above\"/><g class=\"xaxislayer-above\"><path class=\"x6tick ticks crisp\" d=\"M0,297.1666666666667v5\" transform=\"translate(476.6666666666667,0)\" style=\"stroke: rgb(68, 68, 68); stroke-opacity: 1; stroke-width: 1px;\"/><path class=\"x6tick ticks crisp\" d=\"M0,297.1666666666667v5\" transform=\"translate(519.9966666666667,0)\" style=\"stroke: rgb(68, 68, 68); stroke-opacity: 1; stroke-width: 1px;\"/><path class=\"x6tick ticks crisp\" d=\"M0,297.1666666666667v5\" transform=\"translate(563.3366666666667,0)\" style=\"stroke: rgb(68, 68, 68); stroke-opacity: 1; stroke-width: 1px;\"/><path class=\"x6tick ticks crisp\" d=\"M0,297.1666666666667v5\" transform=\"translate(606.6666666666667,0)\" style=\"stroke: rgb(68, 68, 68); stroke-opacity: 1; stroke-width: 1px;\"/><path class=\"x6tick ticks crisp\" d=\"M0,297.1666666666667v5\" transform=\"translate(649.9966666666667,0)\" style=\"stroke: rgb(68, 68, 68); stroke-opacity: 1; stroke-width: 1px;\"/><g class=\"x6tick\"><text text-anchor=\"middle\" x=\"0\" y=\"316.56666666666666\" transform=\"translate(476.6666666666667,0)\" style=\"font-family: 'Open Sans', verdana, arial, sans-serif; font-size: 12px; fill: rgb(42, 63, 95); fill-opacity: 1; white-space: pre;\">0</text></g><g class=\"x6tick\"><text text-anchor=\"middle\" x=\"0\" y=\"316.56666666666666\" transform=\"translate(519.9966666666667,0)\" style=\"font-family: 'Open Sans', verdana, arial, sans-serif; font-size: 12px; fill: rgb(42, 63, 95); fill-opacity: 1; white-space: pre;\">10</text></g><g class=\"x6tick\"><text text-anchor=\"middle\" x=\"0\" y=\"316.56666666666666\" transform=\"translate(563.3366666666667,0)\" style=\"font-family: 'Open Sans', verdana, arial, sans-serif; font-size: 12px; fill: rgb(42, 63, 95); fill-opacity: 1; white-space: pre;\">20</text></g><g class=\"x6tick\"><text text-anchor=\"middle\" x=\"0\" y=\"316.56666666666666\" transform=\"translate(606.6666666666667,0)\" style=\"font-family: 'Open Sans', verdana, arial, sans-serif; font-size: 12px; fill: rgb(42, 63, 95); fill-opacity: 1; white-space: pre;\">30</text></g><g class=\"x6tick\"><text text-anchor=\"middle\" x=\"0\" y=\"316.56666666666666\" transform=\"translate(649.9966666666667,0)\" style=\"font-family: 'Open Sans', verdana, arial, sans-serif; font-size: 12px; fill: rgb(42, 63, 95); fill-opacity: 1; white-space: pre;\">40</text></g></g><g class=\"yaxislayer-above\"/><g class=\"overaxes-above\"/></g><g class=\"subplot x7y7\"><g class=\"layer-subplot\"><g class=\"shapelayer\"/><g class=\"imagelayer\"/></g><g class=\"gridlayer\"><g class=\"x7\"><path class=\"x7grid crisp\" transform=\"translate(93.33,0)\" d=\"M0,367.6666666666667v82.3333333333333\" style=\"stroke: rgb(255, 255, 255); stroke-opacity: 1; stroke-width: 1px;\"/><path class=\"x7grid crisp\" transform=\"translate(136.67000000000002,0)\" d=\"M0,367.6666666666667v82.3333333333333\" style=\"stroke: rgb(255, 255, 255); stroke-opacity: 1; stroke-width: 1px;\"/><path class=\"x7grid crisp\" transform=\"translate(180,0)\" d=\"M0,367.6666666666667v82.3333333333333\" style=\"stroke: rgb(255, 255, 255); stroke-opacity: 1; stroke-width: 1px;\"/></g><g class=\"y7\"><path class=\"y7grid crisp\" transform=\"translate(0,422.5566666666667)\" d=\"M50,0h173.33333333333334\" style=\"stroke: rgb(255, 255, 255); stroke-opacity: 1; stroke-width: 1px;\"/><path class=\"y7grid crisp\" transform=\"translate(0,395.1066666666667)\" d=\"M50,0h173.33333333333334\" style=\"stroke: rgb(255, 255, 255); stroke-opacity: 1; stroke-width: 1px;\"/></g></g><g class=\"zerolinelayer\"><path class=\"x7zl zl crisp\" transform=\"translate(50,0)\" d=\"M0,367.6666666666667v82.3333333333333\" style=\"stroke: rgb(255, 255, 255); stroke-opacity: 1; stroke-width: 2px;\"/><path class=\"y7zl zl crisp\" transform=\"translate(0,449.99666666666667)\" d=\"M50,0h173.33333333333334\" style=\"stroke: rgb(255, 255, 255); stroke-opacity: 1; stroke-width: 2px;\"/></g><path class=\"xlines-below\"/><path class=\"ylines-below\"/><g class=\"overlines-below\"/><g class=\"xaxislayer-below\"/><g class=\"yaxislayer-below\"/><g class=\"overaxes-below\"/><g class=\"plot\" transform=\"translate(50,367.6666666666667)\" clip-path=\"url('#clipfc5f46x7y7plot')\"><g class=\"scatterlayer mlayer\"><g class=\"trace scatter trace515568\" style=\"stroke-miterlimit: 2; opacity: 1;\"><g class=\"fills\"/><g class=\"errorbars\"/><g class=\"lines\"><path class=\"js-line\" d=\"M0,54.89L173.33,54.89\" style=\"vector-effect: non-scaling-stroke; fill: none; stroke: rgb(0, 0, 0); stroke-opacity: 1; stroke-width: 100px; opacity: 1;\"/></g><g class=\"points\"/><g class=\"text\"/></g><g class=\"trace scatter traceeba55c\" style=\"stroke-miterlimit: 2; opacity: 1;\"><g class=\"fills\"/><g class=\"errorbars\"/><g class=\"lines\"><path class=\"js-line\" d=\"M1.12,27.44L16.72,27.44\" style=\"vector-effect: non-scaling-stroke; fill: none; stroke: rgb(182, 232, 128); stroke-opacity: 1; stroke-width: 30px; opacity: 1;\"/></g><g class=\"points\"/><g class=\"text\"/></g><g class=\"trace scatter trace5a4e0c\" style=\"stroke-miterlimit: 2; opacity: 1;\"><g class=\"fills\"/><g class=\"errorbars\"/><g class=\"lines\"><path class=\"js-line\" d=\"M71.87,27.44L87.91,27.44\" style=\"vector-effect: non-scaling-stroke; fill: none; stroke: rgb(255, 151, 255); stroke-opacity: 1; stroke-width: 30px; opacity: 1;\"/></g><g class=\"points\"/><g class=\"text\"/></g><g class=\"trace scatter traced73fa5\" style=\"stroke-miterlimit: 2; opacity: 1;\"><g class=\"fills\"/><g class=\"errorbars\"/><g class=\"lines\"><path class=\"js-line\" d=\"M18.1,27.44L36.74,27.44\" style=\"vector-effect: non-scaling-stroke; fill: none; stroke: rgb(254, 203, 82); stroke-opacity: 1; stroke-width: 30px; opacity: 1;\"/></g><g class=\"points\"/><g class=\"text\"/></g><g class=\"trace scatter tracef13141\" style=\"stroke-miterlimit: 2; opacity: 1;\"><g class=\"fills\"/><g class=\"errorbars\"/><g class=\"lines\"><path class=\"js-line\" d=\"M38.2,27.44L53.8,27.44\" style=\"vector-effect: non-scaling-stroke; fill: none; stroke: rgb(99, 110, 250); stroke-opacity: 1; stroke-width: 30px; opacity: 1;\"/></g><g class=\"points\"/><g class=\"text\"/></g><g class=\"trace scatter trace39c6f9\" style=\"stroke-miterlimit: 2; opacity: 1;\"><g class=\"fills\"/><g class=\"errorbars\"/><g class=\"lines\"><path class=\"js-line\" d=\"M89.44,27.44L108.94,27.44\" style=\"vector-effect: non-scaling-stroke; fill: none; stroke: rgb(239, 85, 59); stroke-opacity: 1; stroke-width: 30px; opacity: 1;\"/></g><g class=\"points\"/><g class=\"text\"/></g><g class=\"trace scatter trace8bccd6\" style=\"stroke-miterlimit: 2; opacity: 1;\"><g class=\"fills\"/><g class=\"errorbars\"/><g class=\"lines\"><path class=\"js-line\" d=\"M110.3,27.44L128.07,27.44\" style=\"vector-effect: non-scaling-stroke; fill: none; stroke: rgb(0, 204, 150); stroke-opacity: 1; stroke-width: 30px; opacity: 1;\"/></g><g class=\"points\"/><g class=\"text\"/></g><g class=\"trace scatter trace511b5e\" style=\"stroke-miterlimit: 2; opacity: 1;\"><g class=\"fills\"/><g class=\"errorbars\"/><g class=\"lines\"><path class=\"js-line\" d=\"M129.34,27.44L147.98,27.44\" style=\"vector-effect: non-scaling-stroke; fill: none; stroke: rgb(171, 99, 250); stroke-opacity: 1; stroke-width: 30px; opacity: 1;\"/></g><g class=\"points\"/><g class=\"text\"/></g><g class=\"trace scatter trace177fab\" style=\"stroke-miterlimit: 2; opacity: 1;\"><g class=\"fills\"/><g class=\"errorbars\"/><g class=\"lines\"><path class=\"js-line\" d=\"M149.49,27.44L166.39,27.44\" style=\"vector-effect: non-scaling-stroke; fill: none; stroke: rgb(255, 161, 90); stroke-opacity: 1; stroke-width: 30px; opacity: 1;\"/></g><g class=\"points\"/><g class=\"text\"/></g></g></g><g class=\"overplot\"/><path class=\"xlines-above crisp\" d=\"\" style=\"fill: none; stroke-width: 1px; stroke: rgb(0, 0, 0); stroke-opacity: 0;\"/><path class=\"ylines-above crisp\" d=\"M0,0\" style=\"fill: none;\"/><g class=\"overlines-above\"/><g class=\"xaxislayer-above\"><path class=\"x7tick ticks crisp\" d=\"M0,451v5\" transform=\"translate(50,0)\" style=\"stroke: rgb(68, 68, 68); stroke-opacity: 1; stroke-width: 1px;\"/><path class=\"x7tick ticks crisp\" d=\"M0,451v5\" transform=\"translate(93.33,0)\" style=\"stroke: rgb(68, 68, 68); stroke-opacity: 1; stroke-width: 1px;\"/><path class=\"x7tick ticks crisp\" d=\"M0,451v5\" transform=\"translate(136.67000000000002,0)\" style=\"stroke: rgb(68, 68, 68); stroke-opacity: 1; stroke-width: 1px;\"/><path class=\"x7tick ticks crisp\" d=\"M0,451v5\" transform=\"translate(180,0)\" style=\"stroke: rgb(68, 68, 68); stroke-opacity: 1; stroke-width: 1px;\"/><path class=\"x7tick ticks crisp\" d=\"M0,451v5\" transform=\"translate(223.33,0)\" style=\"stroke: rgb(68, 68, 68); stroke-opacity: 1; stroke-width: 1px;\"/><g class=\"x7tick\"><text text-anchor=\"middle\" x=\"0\" y=\"470.4\" transform=\"translate(50,0)\" style=\"font-family: 'Open Sans', verdana, arial, sans-serif; font-size: 12px; fill: rgb(42, 63, 95); fill-opacity: 1; white-space: pre;\">0</text></g><g class=\"x7tick\"><text text-anchor=\"middle\" x=\"0\" y=\"470.4\" transform=\"translate(93.33,0)\" style=\"font-family: 'Open Sans', verdana, arial, sans-serif; font-size: 12px; fill: rgb(42, 63, 95); fill-opacity: 1; white-space: pre;\">10</text></g><g class=\"x7tick\"><text text-anchor=\"middle\" x=\"0\" y=\"470.4\" transform=\"translate(136.67000000000002,0)\" style=\"font-family: 'Open Sans', verdana, arial, sans-serif; font-size: 12px; fill: rgb(42, 63, 95); fill-opacity: 1; white-space: pre;\">20</text></g><g class=\"x7tick\"><text text-anchor=\"middle\" x=\"0\" y=\"470.4\" transform=\"translate(180,0)\" style=\"font-family: 'Open Sans', verdana, arial, sans-serif; font-size: 12px; fill: rgb(42, 63, 95); fill-opacity: 1; white-space: pre;\">30</text></g><g class=\"x7tick\"><text text-anchor=\"middle\" x=\"0\" y=\"470.4\" transform=\"translate(223.33,0)\" style=\"font-family: 'Open Sans', verdana, arial, sans-serif; font-size: 12px; fill: rgb(42, 63, 95); fill-opacity: 1; white-space: pre;\">40</text></g></g><g class=\"yaxislayer-above\"/><g class=\"overaxes-above\"/></g><g class=\"subplot x8y8\"><g class=\"layer-subplot\"><g class=\"shapelayer\"/><g class=\"imagelayer\"/></g><g class=\"gridlayer\"><g class=\"x8\"><path class=\"x8grid crisp\" transform=\"translate(306.66333333333336,0)\" d=\"M0,367.6666666666667v82.3333333333333\" style=\"stroke: rgb(255, 255, 255); stroke-opacity: 1; stroke-width: 1px;\"/><path class=\"x8grid crisp\" transform=\"translate(350.0033333333334,0)\" d=\"M0,367.6666666666667v82.3333333333333\" style=\"stroke: rgb(255, 255, 255); stroke-opacity: 1; stroke-width: 1px;\"/><path class=\"x8grid crisp\" transform=\"translate(393.33333333333337,0)\" d=\"M0,367.6666666666667v82.3333333333333\" style=\"stroke: rgb(255, 255, 255); stroke-opacity: 1; stroke-width: 1px;\"/></g><g class=\"y8\"><path class=\"y8grid crisp\" transform=\"translate(0,422.5566666666667)\" d=\"M263.33333333333337,0h173.33333333333334\" style=\"stroke: rgb(255, 255, 255); stroke-opacity: 1; stroke-width: 1px;\"/><path class=\"y8grid crisp\" transform=\"translate(0,395.1066666666667)\" d=\"M263.33333333333337,0h173.33333333333334\" style=\"stroke: rgb(255, 255, 255); stroke-opacity: 1; stroke-width: 1px;\"/></g></g><g class=\"zerolinelayer\"><path class=\"x8zl zl crisp\" transform=\"translate(263.33333333333337,0)\" d=\"M0,367.6666666666667v82.3333333333333\" style=\"stroke: rgb(255, 255, 255); stroke-opacity: 1; stroke-width: 2px;\"/><path class=\"y8zl zl crisp\" transform=\"translate(0,449.99666666666667)\" d=\"M263.33333333333337,0h173.33333333333334\" style=\"stroke: rgb(255, 255, 255); stroke-opacity: 1; stroke-width: 2px;\"/></g><path class=\"xlines-below\"/><path class=\"ylines-below\"/><g class=\"overlines-below\"/><g class=\"xaxislayer-below\"/><g class=\"yaxislayer-below\"/><g class=\"overaxes-below\"/><g class=\"plot\" transform=\"translate(263.33333333333337,367.6666666666667)\" clip-path=\"url('#clipfc5f46x8y8plot')\"><g class=\"scatterlayer mlayer\"><g class=\"trace scatter traced88618\" style=\"stroke-miterlimit: 2; opacity: 1;\"><g class=\"fills\"/><g class=\"errorbars\"/><g class=\"lines\"><path class=\"js-line\" d=\"M0,54.89L173.33,54.89\" style=\"vector-effect: non-scaling-stroke; fill: none; stroke: rgb(0, 0, 0); stroke-opacity: 1; stroke-width: 100px; opacity: 1;\"/></g><g class=\"points\"/><g class=\"text\"/></g><g class=\"trace scatter traced4752f\" style=\"stroke-miterlimit: 2; opacity: 1;\"><g class=\"fills\"/><g class=\"errorbars\"/><g class=\"lines\"><path class=\"js-line\" d=\"M153.02,27.44L172.09,27.44\" style=\"vector-effect: non-scaling-stroke; fill: none; stroke: rgb(255, 102, 146); stroke-opacity: 1; stroke-width: 30px; opacity: 1;\"/></g><g class=\"points\"/><g class=\"text\"/></g><g class=\"trace scatter tracea53cdc\" style=\"stroke-miterlimit: 2; opacity: 1;\"><g class=\"fills\"/><g class=\"errorbars\"/><g class=\"lines\"><path class=\"js-line\" d=\"M37.79,27.44L55.12,27.44\" style=\"vector-effect: non-scaling-stroke; fill: none; stroke: rgb(182, 232, 128); stroke-opacity: 1; stroke-width: 30px; opacity: 1;\"/></g><g class=\"points\"/><g class=\"text\"/></g><g class=\"trace scatter traceae765a\" style=\"stroke-miterlimit: 2; opacity: 1;\"><g class=\"fills\"/><g class=\"errorbars\"/><g class=\"lines\"><path class=\"js-line\" d=\"M21.42,27.44L36.59,27.44\" style=\"vector-effect: non-scaling-stroke; fill: none; stroke: rgb(255, 151, 255); stroke-opacity: 1; stroke-width: 30px; opacity: 1;\"/></g><g class=\"points\"/><g class=\"text\"/></g><g class=\"trace scatter tracebf384b\" style=\"stroke-miterlimit: 2; opacity: 1;\"><g class=\"fills\"/><g class=\"errorbars\"/><g class=\"lines\"><path class=\"js-line\" d=\"M130.75,27.44L151.98,27.44\" style=\"vector-effect: non-scaling-stroke; fill: none; stroke: rgb(254, 203, 82); stroke-opacity: 1; stroke-width: 30px; opacity: 1;\"/></g><g class=\"points\"/><g class=\"text\"/></g><g class=\"trace scatter trace15cb4a\" style=\"stroke-miterlimit: 2; opacity: 1;\"><g class=\"fills\"/><g class=\"errorbars\"/><g class=\"lines\"><path class=\"js-line\" d=\"M86.27,27.44L104.04,27.44\" style=\"vector-effect: non-scaling-stroke; fill: none; stroke: rgb(99, 110, 250); stroke-opacity: 1; stroke-width: 30px; opacity: 1;\"/></g><g class=\"points\"/><g class=\"text\"/></g><g class=\"trace scatter tracef545ec\" style=\"stroke-miterlimit: 2; opacity: 1;\"><g class=\"fills\"/><g class=\"errorbars\"/><g class=\"lines\"><path class=\"js-line\" d=\"M68.41,27.44L84.88,27.44\" style=\"vector-effect: non-scaling-stroke; fill: none; stroke: rgb(239, 85, 59); stroke-opacity: 1; stroke-width: 30px; opacity: 1;\"/></g><g class=\"points\"/><g class=\"text\"/></g></g></g><g class=\"overplot\"/><path class=\"xlines-above crisp\" d=\"\" style=\"fill: none; stroke-width: 1px; stroke: rgb(0, 0, 0); stroke-opacity: 0;\"/><path class=\"ylines-above crisp\" d=\"M0,0\" style=\"fill: none;\"/><g class=\"overlines-above\"/><g class=\"xaxislayer-above\"><path class=\"x8tick ticks crisp\" d=\"M0,451v5\" transform=\"translate(263.33333333333337,0)\" style=\"stroke: rgb(68, 68, 68); stroke-opacity: 1; stroke-width: 1px;\"/><path class=\"x8tick ticks crisp\" d=\"M0,451v5\" transform=\"translate(306.66333333333336,0)\" style=\"stroke: rgb(68, 68, 68); stroke-opacity: 1; stroke-width: 1px;\"/><path class=\"x8tick ticks crisp\" d=\"M0,451v5\" transform=\"translate(350.0033333333334,0)\" style=\"stroke: rgb(68, 68, 68); stroke-opacity: 1; stroke-width: 1px;\"/><path class=\"x8tick ticks crisp\" d=\"M0,451v5\" transform=\"translate(393.33333333333337,0)\" style=\"stroke: rgb(68, 68, 68); stroke-opacity: 1; stroke-width: 1px;\"/><path class=\"x8tick ticks crisp\" d=\"M0,451v5\" transform=\"translate(436.6633333333334,0)\" style=\"stroke: rgb(68, 68, 68); stroke-opacity: 1; stroke-width: 1px;\"/><g class=\"x8tick\"><text text-anchor=\"middle\" x=\"0\" y=\"470.4\" transform=\"translate(263.33333333333337,0)\" style=\"font-family: 'Open Sans', verdana, arial, sans-serif; font-size: 12px; fill: rgb(42, 63, 95); fill-opacity: 1; white-space: pre;\">0</text></g><g class=\"x8tick\"><text text-anchor=\"middle\" x=\"0\" y=\"470.4\" transform=\"translate(306.66333333333336,0)\" style=\"font-family: 'Open Sans', verdana, arial, sans-serif; font-size: 12px; fill: rgb(42, 63, 95); fill-opacity: 1; white-space: pre;\">10</text></g><g class=\"x8tick\"><text text-anchor=\"middle\" x=\"0\" y=\"470.4\" transform=\"translate(350.0033333333334,0)\" style=\"font-family: 'Open Sans', verdana, arial, sans-serif; font-size: 12px; fill: rgb(42, 63, 95); fill-opacity: 1; white-space: pre;\">20</text></g><g class=\"x8tick\"><text text-anchor=\"middle\" x=\"0\" y=\"470.4\" transform=\"translate(393.33333333333337,0)\" style=\"font-family: 'Open Sans', verdana, arial, sans-serif; font-size: 12px; fill: rgb(42, 63, 95); fill-opacity: 1; white-space: pre;\">30</text></g><g class=\"x8tick\"><text text-anchor=\"middle\" x=\"0\" y=\"470.4\" transform=\"translate(436.6633333333334,0)\" style=\"font-family: 'Open Sans', verdana, arial, sans-serif; font-size: 12px; fill: rgb(42, 63, 95); fill-opacity: 1; white-space: pre;\">40</text></g></g><g class=\"yaxislayer-above\"/><g class=\"overaxes-above\"/></g><g class=\"subplot x9y9\"><g class=\"layer-subplot\"><g class=\"shapelayer\"/><g class=\"imagelayer\"/></g><g class=\"gridlayer\"><g class=\"x9\"><path class=\"x9grid crisp\" transform=\"translate(519.9966666666667,0)\" d=\"M0,367.6666666666667v82.3333333333333\" style=\"stroke: rgb(255, 255, 255); stroke-opacity: 1; stroke-width: 1px;\"/><path class=\"x9grid crisp\" transform=\"translate(563.3366666666667,0)\" d=\"M0,367.6666666666667v82.3333333333333\" style=\"stroke: rgb(255, 255, 255); stroke-opacity: 1; stroke-width: 1px;\"/><path class=\"x9grid crisp\" transform=\"translate(606.6666666666667,0)\" d=\"M0,367.6666666666667v82.3333333333333\" style=\"stroke: rgb(255, 255, 255); stroke-opacity: 1; stroke-width: 1px;\"/></g><g class=\"y9\"><path class=\"y9grid crisp\" transform=\"translate(0,422.5566666666667)\" d=\"M476.6666666666667,0h173.33333333333331\" style=\"stroke: rgb(255, 255, 255); stroke-opacity: 1; stroke-width: 1px;\"/><path class=\"y9grid crisp\" transform=\"translate(0,395.1066666666667)\" d=\"M476.6666666666667,0h173.33333333333331\" style=\"stroke: rgb(255, 255, 255); stroke-opacity: 1; stroke-width: 1px;\"/></g></g><g class=\"zerolinelayer\"><path class=\"x9zl zl crisp\" transform=\"translate(476.6666666666667,0)\" d=\"M0,367.6666666666667v82.3333333333333\" style=\"stroke: rgb(255, 255, 255); stroke-opacity: 1; stroke-width: 2px;\"/><path class=\"y9zl zl crisp\" transform=\"translate(0,449.99666666666667)\" d=\"M476.6666666666667,0h173.33333333333331\" style=\"stroke: rgb(255, 255, 255); stroke-opacity: 1; stroke-width: 2px;\"/></g><path class=\"xlines-below\"/><path class=\"ylines-below\"/><g class=\"overlines-below\"/><g class=\"xaxislayer-below\"/><g class=\"yaxislayer-below\"/><g class=\"overaxes-below\"/><g class=\"plot\" transform=\"translate(476.6666666666667,367.6666666666667)\" clip-path=\"url('#clipfc5f46x9y9plot')\"><g class=\"scatterlayer mlayer\"><g class=\"trace scatter trace413fe0\" style=\"stroke-miterlimit: 2; opacity: 1;\"><g class=\"fills\"/><g class=\"errorbars\"/><g class=\"lines\"><path class=\"js-line\" d=\"M0,54.89L173.33,54.89\" style=\"vector-effect: non-scaling-stroke; fill: none; stroke: rgb(0, 0, 0); stroke-opacity: 1; stroke-width: 100px; opacity: 1;\"/></g><g class=\"points\"/><g class=\"text\"/></g><g class=\"trace scatter tracec2c34d\" style=\"stroke-miterlimit: 2; opacity: 1;\"><g class=\"fills\"/><g class=\"errorbars\"/><g class=\"lines\"><path class=\"js-line\" d=\"M21.39,27.44L36.99,27.44\" style=\"vector-effect: non-scaling-stroke; fill: none; stroke: rgb(171, 99, 250); stroke-opacity: 1; stroke-width: 30px; opacity: 1;\"/></g><g class=\"points\"/><g class=\"text\"/></g><g class=\"trace scatter trace6ae720\" style=\"stroke-miterlimit: 2; opacity: 1;\"><g class=\"fills\"/><g class=\"errorbars\"/><g class=\"lines\"><path class=\"js-line\" d=\"M151.35,27.44L169.99,27.44\" style=\"vector-effect: non-scaling-stroke; fill: none; stroke: rgb(255, 161, 90); stroke-opacity: 1; stroke-width: 30px; opacity: 1;\"/></g><g class=\"points\"/><g class=\"text\"/></g><g class=\"trace scatter trace421afd\" style=\"stroke-miterlimit: 2; opacity: 1;\"><g class=\"fills\"/><g class=\"errorbars\"/><g class=\"lines\"><path class=\"js-line\" d=\"M108.47,27.44L126.24,27.44\" style=\"vector-effect: non-scaling-stroke; fill: none; stroke: rgb(25, 211, 243); stroke-opacity: 1; stroke-width: 30px; opacity: 1;\"/></g><g class=\"points\"/><g class=\"text\"/></g><g class=\"trace scatter trace3dbf81\" style=\"stroke-miterlimit: 2; opacity: 1;\"><g class=\"fills\"/><g class=\"errorbars\"/><g class=\"lines\"><path class=\"js-line\" d=\"M63.3,27.44L77.6,27.44\" style=\"vector-effect: non-scaling-stroke; fill: none; stroke: rgb(255, 102, 146); stroke-opacity: 1; stroke-width: 30px; opacity: 1;\"/></g><g class=\"points\"/><g class=\"text\"/></g><g class=\"trace scatter trace4966e6\" style=\"stroke-miterlimit: 2; opacity: 1;\"><g class=\"fills\"/><g class=\"errorbars\"/><g class=\"lines\"><path class=\"js-line\" d=\"M40.16,27.44L54.46,27.44\" style=\"vector-effect: non-scaling-stroke; fill: none; stroke: rgb(182, 232, 128); stroke-opacity: 1; stroke-width: 30px; opacity: 1;\"/></g><g class=\"points\"/><g class=\"text\"/></g><g class=\"trace scatter tracee7754a\" style=\"stroke-miterlimit: 2; opacity: 1;\"><g class=\"fills\"/><g class=\"errorbars\"/><g class=\"lines\"><path class=\"js-line\" d=\"M80.47,27.44L96.07,27.44\" style=\"vector-effect: non-scaling-stroke; fill: none; stroke: rgb(255, 151, 255); stroke-opacity: 1; stroke-width: 30px; opacity: 1;\"/></g><g class=\"points\"/><g class=\"text\"/></g></g></g><g class=\"overplot\"/><path class=\"xlines-above crisp\" d=\"\" style=\"fill: none; stroke-width: 1px; stroke: rgb(0, 0, 0); stroke-opacity: 0;\"/><path class=\"ylines-above crisp\" d=\"M0,0\" style=\"fill: none;\"/><g class=\"overlines-above\"/><g class=\"xaxislayer-above\"><path class=\"x9tick ticks crisp\" d=\"M0,451v5\" transform=\"translate(476.6666666666667,0)\" style=\"stroke: rgb(68, 68, 68); stroke-opacity: 1; stroke-width: 1px;\"/><path class=\"x9tick ticks crisp\" d=\"M0,451v5\" transform=\"translate(519.9966666666667,0)\" style=\"stroke: rgb(68, 68, 68); stroke-opacity: 1; stroke-width: 1px;\"/><path class=\"x9tick ticks crisp\" d=\"M0,451v5\" transform=\"translate(563.3366666666667,0)\" style=\"stroke: rgb(68, 68, 68); stroke-opacity: 1; stroke-width: 1px;\"/><path class=\"x9tick ticks crisp\" d=\"M0,451v5\" transform=\"translate(606.6666666666667,0)\" style=\"stroke: rgb(68, 68, 68); stroke-opacity: 1; stroke-width: 1px;\"/><path class=\"x9tick ticks crisp\" d=\"M0,451v5\" transform=\"translate(649.9966666666667,0)\" style=\"stroke: rgb(68, 68, 68); stroke-opacity: 1; stroke-width: 1px;\"/><g class=\"x9tick\"><text text-anchor=\"middle\" x=\"0\" y=\"470.4\" transform=\"translate(476.6666666666667,0)\" style=\"font-family: 'Open Sans', verdana, arial, sans-serif; font-size: 12px; fill: rgb(42, 63, 95); fill-opacity: 1; white-space: pre;\">0</text></g><g class=\"x9tick\"><text text-anchor=\"middle\" x=\"0\" y=\"470.4\" transform=\"translate(519.9966666666667,0)\" style=\"font-family: 'Open Sans', verdana, arial, sans-serif; font-size: 12px; fill: rgb(42, 63, 95); fill-opacity: 1; white-space: pre;\">10</text></g><g class=\"x9tick\"><text text-anchor=\"middle\" x=\"0\" y=\"470.4\" transform=\"translate(563.3366666666667,0)\" style=\"font-family: 'Open Sans', verdana, arial, sans-serif; font-size: 12px; fill: rgb(42, 63, 95); fill-opacity: 1; white-space: pre;\">20</text></g><g class=\"x9tick\"><text text-anchor=\"middle\" x=\"0\" y=\"470.4\" transform=\"translate(606.6666666666667,0)\" style=\"font-family: 'Open Sans', verdana, arial, sans-serif; font-size: 12px; fill: rgb(42, 63, 95); fill-opacity: 1; white-space: pre;\">30</text></g><g class=\"x9tick\"><text text-anchor=\"middle\" x=\"0\" y=\"470.4\" transform=\"translate(649.9966666666667,0)\" style=\"font-family: 'Open Sans', verdana, arial, sans-serif; font-size: 12px; fill: rgb(42, 63, 95); fill-opacity: 1; white-space: pre;\">40</text></g></g><g class=\"yaxislayer-above\"/><g class=\"overaxes-above\"/></g></g><g class=\"polarlayer\"/><g class=\"ternarylayer\"/><g class=\"geolayer\"/><g class=\"funnelarealayer\"/><g class=\"pielayer\"/><g class=\"treemaplayer\"/><g class=\"sunburstlayer\"/><g class=\"glimages\"/><defs id=\"topdefs-fc5f46\"><g class=\"clips\"/></defs><g class=\"layer-above\"><g class=\"imagelayer\"/><g class=\"shapelayer\"/></g><g class=\"infolayer\"><g class=\"g-gtitle\"><text class=\"gtitle\" x=\"35\" y=\"30\" text-anchor=\"start\" dy=\"0em\" style=\"font-family: 'Open Sans', verdana, arial, sans-serif; font-size: 17px; fill: rgb(42, 63, 95); opacity: 1; font-weight: normal; white-space: pre;\">Single Curb End States</text></g><g class=\"g-xtitle\"/><g class=\"g-x2title\"/><g class=\"g-x3title\"/><g class=\"g-x4title\"/><g class=\"g-x5title\"/><g class=\"g-x6title\"/><g class=\"g-x7title\"/><g class=\"g-x8title\"/><g class=\"g-x9title\"/><g class=\"g-ytitle\"/><g class=\"g-y2title\"/><g class=\"g-y3title\"/><g class=\"g-y4title\"/><g class=\"g-y5title\"/><g class=\"g-y6title\"/><g class=\"g-y7title\"/><g class=\"g-y8title\"/><g class=\"g-y9title\"/><g class=\"annotation\" data-index=\"0\" style=\"opacity: 1;\"><g class=\"annotation-text-g\" transform=\"rotate(0,136.66666666666669,48.5)\"><g class=\"cursor-pointer\" transform=\"translate(96,37)\"><rect class=\"bg\" x=\"0.5\" y=\"0.5\" width=\"80\" height=\"22\" style=\"stroke-width: 1px; stroke: rgb(0, 0, 0); stroke-opacity: 0; fill: rgb(0, 0, 0); fill-opacity: 0;\"/><text class=\"annotation-text\" text-anchor=\"middle\" x=\"40.671875\" y=\"18\" style=\"font-family: 'Open Sans', verdana, arial, sans-serif; font-size: 16px; fill: rgb(42, 63, 95); fill-opacity: 1; white-space: pre;\">Policy 1.1</text></g></g></g><g class=\"annotation\" data-index=\"1\" style=\"opacity: 1;\"><g class=\"annotation-text-g\" transform=\"rotate(0,350,48.5)\"><g class=\"cursor-pointer\" transform=\"translate(310,37)\"><rect class=\"bg\" x=\"0.5\" y=\"0.5\" width=\"80\" height=\"22\" style=\"stroke-width: 1px; stroke: rgb(0, 0, 0); stroke-opacity: 0; fill: rgb(0, 0, 0); fill-opacity: 0;\"/><text class=\"annotation-text\" text-anchor=\"middle\" x=\"40.671875\" y=\"18\" style=\"font-family: 'Open Sans', verdana, arial, sans-serif; font-size: 16px; fill: rgb(42, 63, 95); fill-opacity: 1; white-space: pre;\">Policy 1.2</text></g></g></g><g class=\"annotation\" data-index=\"2\" style=\"opacity: 1;\"><g class=\"annotation-text-g\" transform=\"rotate(0,563.3333333333334,48.5)\"><g class=\"cursor-pointer\" transform=\"translate(523,37)\"><rect class=\"bg\" x=\"0.5\" y=\"0.5\" width=\"80\" height=\"22\" style=\"stroke-width: 1px; stroke: rgb(0, 0, 0); stroke-opacity: 0; fill: rgb(0, 0, 0); fill-opacity: 0;\"/><text class=\"annotation-text\" text-anchor=\"middle\" x=\"40.671875\" y=\"18\" style=\"font-family: 'Open Sans', verdana, arial, sans-serif; font-size: 16px; fill: rgb(42, 63, 95); fill-opacity: 1; white-space: pre;\">Policy 1.3</text></g></g></g><g class=\"annotation\" data-index=\"3\" style=\"opacity: 1;\"><g class=\"annotation-text-g\" transform=\"rotate(0,136.66666666666669,202.33333333333334)\"><g class=\"cursor-pointer\" transform=\"translate(96,191)\"><rect class=\"bg\" x=\"0.5\" y=\"0.5\" width=\"80\" height=\"22\" style=\"stroke-width: 1px; stroke: rgb(0, 0, 0); stroke-opacity: 0; fill: rgb(0, 0, 0); fill-opacity: 0;\"/><text class=\"annotation-text\" text-anchor=\"middle\" x=\"40.671875\" y=\"18\" style=\"font-family: 'Open Sans', verdana, arial, sans-serif; font-size: 16px; fill: rgb(42, 63, 95); fill-opacity: 1; white-space: pre;\">Policy 2.1</text></g></g></g><g class=\"annotation\" data-index=\"4\" style=\"opacity: 1;\"><g class=\"annotation-text-g\" transform=\"rotate(0,350,202.33333333333334)\"><g class=\"cursor-pointer\" transform=\"translate(310,191)\"><rect class=\"bg\" x=\"0.5\" y=\"0.5\" width=\"80\" height=\"22\" style=\"stroke-width: 1px; stroke: rgb(0, 0, 0); stroke-opacity: 0; fill: rgb(0, 0, 0); fill-opacity: 0;\"/><text class=\"annotation-text\" text-anchor=\"middle\" x=\"40.671875\" y=\"18\" style=\"font-family: 'Open Sans', verdana, arial, sans-serif; font-size: 16px; fill: rgb(42, 63, 95); fill-opacity: 1; white-space: pre;\">Policy 2.2</text></g></g></g><g class=\"annotation\" data-index=\"5\" style=\"opacity: 1;\"><g class=\"annotation-text-g\" transform=\"rotate(0,563.3333333333334,202.33333333333334)\"><g class=\"cursor-pointer\" transform=\"translate(523,191)\"><rect class=\"bg\" x=\"0.5\" y=\"0.5\" width=\"80\" height=\"22\" style=\"stroke-width: 1px; stroke: rgb(0, 0, 0); stroke-opacity: 0; fill: rgb(0, 0, 0); fill-opacity: 0;\"/><text class=\"annotation-text\" text-anchor=\"middle\" x=\"40.671875\" y=\"18\" style=\"font-family: 'Open Sans', verdana, arial, sans-serif; font-size: 16px; fill: rgb(42, 63, 95); fill-opacity: 1; white-space: pre;\">Policy 2.3</text></g></g></g><g class=\"annotation\" data-index=\"6\" style=\"opacity: 1;\"><g class=\"annotation-text-g\" transform=\"rotate(0,136.66666666666669,356.1666666666667)\"><g class=\"cursor-pointer\" transform=\"translate(96,345)\"><rect class=\"bg\" x=\"0.5\" y=\"0.5\" width=\"80\" height=\"22\" style=\"stroke-width: 1px; stroke: rgb(0, 0, 0); stroke-opacity: 0; fill: rgb(0, 0, 0); fill-opacity: 0;\"/><text class=\"annotation-text\" text-anchor=\"middle\" x=\"40.671875\" y=\"18\" style=\"font-family: 'Open Sans', verdana, arial, sans-serif; font-size: 16px; fill: rgb(42, 63, 95); fill-opacity: 1; white-space: pre;\">Policy 3.1</text></g></g></g><g class=\"annotation\" data-index=\"7\" style=\"opacity: 1;\"><g class=\"annotation-text-g\" transform=\"rotate(0,350,356.1666666666667)\"><g class=\"cursor-pointer\" transform=\"translate(310,345)\"><rect class=\"bg\" x=\"0.5\" y=\"0.5\" width=\"80\" height=\"22\" style=\"stroke-width: 1px; stroke: rgb(0, 0, 0); stroke-opacity: 0; fill: rgb(0, 0, 0); fill-opacity: 0;\"/><text class=\"annotation-text\" text-anchor=\"middle\" x=\"40.671875\" y=\"18\" style=\"font-family: 'Open Sans', verdana, arial, sans-serif; font-size: 16px; fill: rgb(42, 63, 95); fill-opacity: 1; white-space: pre;\">Policy 3.2</text></g></g></g><g class=\"annotation\" data-index=\"8\" style=\"opacity: 1;\"><g class=\"annotation-text-g\" transform=\"rotate(0,563.3333333333334,356.1666666666667)\"><g class=\"cursor-pointer\" transform=\"translate(523,345)\"><rect class=\"bg\" x=\"0.5\" y=\"0.5\" width=\"80\" height=\"22\" style=\"stroke-width: 1px; stroke: rgb(0, 0, 0); stroke-opacity: 0; fill: rgb(0, 0, 0); fill-opacity: 0;\"/><text class=\"annotation-text\" text-anchor=\"middle\" x=\"40.671875\" y=\"18\" style=\"font-family: 'Open Sans', verdana, arial, sans-serif; font-size: 16px; fill: rgb(42, 63, 95); fill-opacity: 1; white-space: pre;\">Policy 3.3</text></g></g></g></g></svg>"
      ],
      "text/html": [
       "<div\n",
       "    class=\"webio-mountpoint\"\n",
       "    data-webio-mountpoint=\"9713783461267757350\"\n",
       ">\n",
       "    <script>\n",
       "    (function(){\n",
       "    // Some integrations (namely, IJulia/Jupyter) use an alternate render pathway than\n",
       "    // just putting the html on the page. If WebIO isn't defined, then it's pretty likely\n",
       "    // that we're in one of those situations and the integration just isn't installed\n",
       "    // correctly.\n",
       "    if (typeof window.WebIO === \"undefined\") {\n",
       "        document\n",
       "            .querySelector('[data-webio-mountpoint=\"9713783461267757350\"]')\n",
       "            .innerHTML = (\n",
       "                '<div style=\"padding: 1em; background-color: #f8d6da; border: 1px solid #f5c6cb; font-weight: bold;\">' +\n",
       "                '<p><strong>WebIO not detected.</strong></p>' +\n",
       "                '<p>Please read ' +\n",
       "                '<a href=\"https://juliagizmos.github.io/WebIO.jl/latest/troubleshooting/not-detected/\" target=\"_blank\">the troubleshooting guide</a> ' +\n",
       "                'for more information on how to resolve this issue.</p>' +\n",
       "                '<p><a href=\"https://juliagizmos.github.io/WebIO.jl/latest/troubleshooting/not-detected/\" target=\"_blank\">https://juliagizmos.github.io/WebIO.jl/latest/troubleshooting/not-detected/</a></p>' +\n",
       "                '</div>'\n",
       "            );\n",
       "        return;\n",
       "    }\n",
       "    WebIO.mount(\n",
       "        document.querySelector('[data-webio-mountpoint=\"9713783461267757350\"]'),\n",
       "        {\"props\":{},\"nodeType\":\"Scope\",\"type\":\"node\",\"instanceArgs\":{\"imports\":{\"data\":[{\"name\":\"Plotly\",\"type\":\"js\",\"url\":\"\\/assetserver\\/5369e54fe8d828ab0ae82f146492a98dbe6f40df-plotly.min.js\"},{\"name\":null,\"type\":\"js\",\"url\":\"\\/assetserver\\/23e257f104a73815a6c1d51a939a2bc0d6e8d7c9-plotly_webio.bundle.js\"}],\"type\":\"async_block\"},\"id\":\"2792463131442378315\",\"handlers\":{\"_toImage\":[\"(function (options){return this.Plotly.toImage(this.plotElem,options).then((function (data){return WebIO.setval({\\\"name\\\":\\\"image\\\",\\\"scope\\\":\\\"2792463131442378315\\\",\\\"id\\\":\\\"6863837656932226417\\\",\\\"type\\\":\\\"observable\\\"},data)}))})\"],\"__get_gd_contents\":[\"(function (prop){prop==\\\"data\\\" ? (WebIO.setval({\\\"name\\\":\\\"__gd_contents\\\",\\\"scope\\\":\\\"2792463131442378315\\\",\\\"id\\\":\\\"11909861990798146307\\\",\\\"type\\\":\\\"observable\\\"},this.plotElem.data)) : undefined; return prop==\\\"layout\\\" ? (WebIO.setval({\\\"name\\\":\\\"__gd_contents\\\",\\\"scope\\\":\\\"2792463131442378315\\\",\\\"id\\\":\\\"11909861990798146307\\\",\\\"type\\\":\\\"observable\\\"},this.plotElem.layout)) : undefined})\"],\"_downloadImage\":[\"(function (options){return this.Plotly.downloadImage(this.plotElem,options)})\"],\"_commands\":[\"(function (args){var fn=args.shift(); var elem=this.plotElem; var Plotly=this.Plotly; args.unshift(elem); return Plotly[fn].apply(this,args)})\"]},\"systemjs_options\":null,\"mount_callbacks\":[\"function () {\\n    var handler = ((function (Plotly,PlotlyWebIO){PlotlyWebIO.init(WebIO); var gd=this.dom.querySelector(\\\"#plot-e9fe16d5-64f2-436a-95a1-967ddc542514\\\"); this.plotElem=gd; this.Plotly=Plotly; (window.Blink!==undefined) ? (gd.style.width=\\\"100%\\\", gd.style.height=\\\"100vh\\\", gd.style.marginLeft=\\\"0%\\\", gd.style.marginTop=\\\"0vh\\\") : undefined; window.onresize=(function (){return Plotly.Plots.resize(gd)}); Plotly.newPlot(gd,[{\\\"mode\\\":\\\"lines\\\",\\\"line\\\":{\\\"color\\\":\\\"black\\\",\\\"label\\\":\\\"\\\",\\\"width\\\":100},\\\"xaxis\\\":\\\"x1\\\",\\\"y\\\":[0.1,0.1],\\\"type\\\":\\\"scatter\\\",\\\"yaxis\\\":\\\"y1\\\",\\\"x\\\":[0.0,40.0]},{\\\"mode\\\":\\\"lines\\\",\\\"line\\\":{\\\"width\\\":30},\\\"xaxis\\\":\\\"x1\\\",\\\"y\\\":[0.2,0.2],\\\"type\\\":\\\"scatter\\\",\\\"label\\\":\\\"\\\",\\\"text\\\":\\\"Driver 37\\\",\\\"yaxis\\\":\\\"y1\\\",\\\"x\\\":[12.630800000381472,16.930800191116333]},{\\\"mode\\\":\\\"lines\\\",\\\"line\\\":{\\\"width\\\":30},\\\"xaxis\\\":\\\"x1\\\",\\\"y\\\":[0.2,0.2],\\\"type\\\":\\\"scatter\\\",\\\"label\\\":\\\"\\\",\\\"text\\\":\\\"Driver 28\\\",\\\"yaxis\\\":\\\"y1\\\",\\\"x\\\":[27.565999595880506,32.165999500513074]},{\\\"mode\\\":\\\"lines\\\",\\\"line\\\":{\\\"width\\\":30},\\\"xaxis\\\":\\\"x1\\\",\\\"y\\\":[0.2,0.2],\\\"type\\\":\\\"scatter\\\",\\\"label\\\":\\\"\\\",\\\"text\\\":\\\"Driver 27\\\",\\\"yaxis\\\":\\\"y1\\\",\\\"x\\\":[0.38399999618530284,4.983999900817871]},{\\\"mode\\\":\\\"lines\\\",\\\"line\\\":{\\\"width\\\":30},\\\"xaxis\\\":\\\"x1\\\",\\\"y\\\":[0.2,0.2],\\\"type\\\":\\\"scatter\\\",\\\"label\\\":\\\"\\\",\\\"text\\\":\\\"Driver 17\\\",\\\"yaxis\\\":\\\"y1\\\",\\\"x\\\":[20.79820019226074,24.198200287628172]},{\\\"mode\\\":\\\"lines\\\",\\\"line\\\":{\\\"width\\\":30},\\\"xaxis\\\":\\\"x1\\\",\\\"y\\\":[0.2,0.2],\\\"type\\\":\\\"scatter\\\",\\\"label\\\":\\\"\\\",\\\"text\\\":\\\"Driver 11\\\",\\\"yaxis\\\":\\\"y1\\\",\\\"x\\\":[32.495999495744705,37.495999495744705]},{\\\"mode\\\":\\\"lines\\\",\\\"line\\\":{\\\"width\\\":30},\\\"xaxis\\\":\\\"x1\\\",\\\"y\\\":[0.2,0.2],\\\"type\\\":\\\"scatter\\\",\\\"label\\\":\\\"\\\",\\\"text\\\":\\\"Driver 2\\\",\\\"yaxis\\\":\\\"y1\\\",\\\"x\\\":[5.237999902963638,9.737999902963638]},{\\\"mode\\\":\\\"lines\\\",\\\"line\\\":{\\\"color\\\":\\\"black\\\",\\\"label\\\":\\\"\\\",\\\"width\\\":100},\\\"xaxis\\\":\\\"x2\\\",\\\"y\\\":[0.1,0.1],\\\"type\\\":\\\"scatter\\\",\\\"yaxis\\\":\\\"y2\\\",\\\"x\\\":[0.0,40.0]},{\\\"mode\\\":\\\"lines\\\",\\\"line\\\":{\\\"width\\\":30},\\\"xaxis\\\":\\\"x2\\\",\\\"y\\\":[0.2,0.2],\\\"type\\\":\\\"scatter\\\",\\\"label\\\":\\\"\\\",\\\"text\\\":\\\"Driver 31\\\",\\\"yaxis\\\":\\\"y2\\\",\\\"x\\\":[2.8544002996444684,7.554400108909605]},{\\\"mode\\\":\\\"lines\\\",\\\"line\\\":{\\\"width\\\":30},\\\"xaxis\\\":\\\"x2\\\",\\\"y\\\":[0.2,0.2],\\\"type\\\":\\\"scatter\\\",\\\"label\\\":\\\"\\\",\\\"text\\\":\\\"Driver 29\\\",\\\"yaxis\\\":\\\"y2\\\",\\\"x\\\":[22.221200479078295,25.92120052676201]},{\\\"mode\\\":\\\"lines\\\",\\\"line\\\":{\\\"width\\\":30},\\\"xaxis\\\":\\\"x2\\\",\\\"y\\\":[0.2,0.2],\\\"type\\\":\\\"scatter\\\",\\\"label\\\":\\\"\\\",\\\"text\\\":\\\"Driver 24\\\",\\\"yaxis\\\":\\\"y2\\\",\\\"x\\\":[10.147800204467776,14.44780039520264]},{\\\"mode\\\":\\\"lines\\\",\\\"line\\\":{\\\"width\\\":30},\\\"xaxis\\\":\\\"x2\\\",\\\"y\\\":[0.2,0.2],\\\"type\\\":\\\"scatter\\\",\\\"label\\\":\\\"\\\",\\\"text\\\":\\\"Driver 7\\\",\\\"yaxis\\\":\\\"y2\\\",\\\"x\\\":[31.825199996757505,35.62519994907379]},{\\\"mode\\\":\\\"lines\\\",\\\"line\\\":{\\\"width\\\":30},\\\"xaxis\\\":\\\"x2\\\",\\\"y\\\":[0.2,0.2],\\\"type\\\":\\\"scatter\\\",\\\"label\\\":\\\"\\\",\\\"text\\\":\\\"Driver 6\\\",\\\"yaxis\\\":\\\"y2\\\",\\\"x\\\":[27.576999899625775,31.476999994993207]},{\\\"mode\\\":\\\"lines\\\",\\\"line\\\":{\\\"width\\\":30},\\\"xaxis\\\":\\\"x2\\\",\\\"y\\\":[0.2,0.2],\\\"type\\\":\\\"scatter\\\",\\\"label\\\":\\\"\\\",\\\"text\\\":\\\"Driver 2\\\",\\\"yaxis\\\":\\\"y2\\\",\\\"x\\\":[18.907200480508806,21.907200480508806]},{\\\"mode\\\":\\\"lines\\\",\\\"line\\\":{\\\"color\\\":\\\"black\\\",\\\"label\\\":\\\"\\\",\\\"width\\\":100},\\\"xaxis\\\":\\\"x3\\\",\\\"y\\\":[0.1,0.1],\\\"type\\\":\\\"scatter\\\",\\\"yaxis\\\":\\\"y3\\\",\\\"x\\\":[0.0,40.0]},{\\\"mode\\\":\\\"lines\\\",\\\"line\\\":{\\\"width\\\":30},\\\"xaxis\\\":\\\"x3\\\",\\\"y\\\":[0.2,0.2],\\\"type\\\":\\\"scatter\\\",\\\"label\\\":\\\"\\\",\\\"text\\\":\\\"Driver 38\\\",\\\"yaxis\\\":\\\"y3\\\",\\\"x\\\":[23.386000150084495,28.085999959349632]},{\\\"mode\\\":\\\"lines\\\",\\\"line\\\":{\\\"width\\\":30},\\\"xaxis\\\":\\\"x3\\\",\\\"y\\\":[0.2,0.2],\\\"type\\\":\\\"scatter\\\",\\\"label\\\":\\\"\\\",\\\"text\\\":\\\"Driver 37\\\",\\\"yaxis\\\":\\\"y3\\\",\\\"x\\\":[0.6505000169277197,4.950500207662583]},{\\\"mode\\\":\\\"lines\\\",\\\"line\\\":{\\\"width\\\":30},\\\"xaxis\\\":\\\"x3\\\",\\\"y\\\":[0.2,0.2],\\\"type\\\":\\\"scatter\\\",\\\"label\\\":\\\"\\\",\\\"text\\\":\\\"Driver 29\\\",\\\"yaxis\\\":\\\"y3\\\",\\\"x\\\":[34.56600040638447,38.4660005017519]},{\\\"mode\\\":\\\"lines\\\",\\\"line\\\":{\\\"width\\\":30},\\\"xaxis\\\":\\\"x3\\\",\\\"y\\\":[0.2,0.2],\\\"type\\\":\\\"scatter\\\",\\\"label\\\":\\\"\\\",\\\"text\\\":\\\"Driver 20\\\",\\\"yaxis\\\":\\\"y3\\\",\\\"x\\\":[28.995999949812887,33.09599985444545]},{\\\"mode\\\":\\\"lines\\\",\\\"line\\\":{\\\"width\\\":30},\\\"xaxis\\\":\\\"x3\\\",\\\"y\\\":[0.2,0.2],\\\"type\\\":\\\"scatter\\\",\\\"label\\\":\\\"\\\",\\\"text\\\":\\\"Driver 14\\\",\\\"yaxis\\\":\\\"y3\\\",\\\"x\\\":[5.6785003330707555,9.478500285387039]},{\\\"mode\\\":\\\"lines\\\",\\\"line\\\":{\\\"width\\\":30},\\\"xaxis\\\":\\\"x3\\\",\\\"y\\\":[0.2,0.2],\\\"type\\\":\\\"scatter\\\",\\\"label\\\":\\\"\\\",\\\"text\\\":\\\"Driver 10\\\",\\\"yaxis\\\":\\\"y3\\\",\\\"x\\\":[10.158500280618668,14.158500280618668]},{\\\"mode\\\":\\\"lines\\\",\\\"line\\\":{\\\"width\\\":30},\\\"xaxis\\\":\\\"x3\\\",\\\"y\\\":[0.2,0.2],\\\"type\\\":\\\"scatter\\\",\\\"label\\\":\\\"\\\",\\\"text\\\":\\\"Driver 9\\\",\\\"yaxis\\\":\\\"y3\\\",\\\"x\\\":[14.7705002720356,17.570500224351882]},{\\\"mode\\\":\\\"lines\\\",\\\"line\\\":{\\\"width\\\":30},\\\"xaxis\\\":\\\"x3\\\",\\\"y\\\":[0.2,0.2],\\\"type\\\":\\\"scatter\\\",\\\"label\\\":\\\"\\\",\\\"text\\\":\\\"Driver 1\\\",\\\"yaxis\\\":\\\"y3\\\",\\\"x\\\":[18.18050022673607,22.5805003221035]},{\\\"mode\\\":\\\"lines\\\",\\\"line\\\":{\\\"color\\\":\\\"black\\\",\\\"label\\\":\\\"\\\",\\\"width\\\":100},\\\"xaxis\\\":\\\"x4\\\",\\\"y\\\":[0.1,0.1],\\\"type\\\":\\\"scatter\\\",\\\"yaxis\\\":\\\"y4\\\",\\\"x\\\":[0.0,40.0]},{\\\"mode\\\":\\\"lines\\\",\\\"line\\\":{\\\"width\\\":30},\\\"xaxis\\\":\\\"x4\\\",\\\"y\\\":[0.2,0.2],\\\"type\\\":\\\"scatter\\\",\\\"label\\\":\\\"\\\",\\\"text\\\":\\\"Driver 47\\\",\\\"yaxis\\\":\\\"y4\\\",\\\"x\\\":[29.279400284147265,33.4794000934124]},{\\\"mode\\\":\\\"lines\\\",\\\"line\\\":{\\\"width\\\":30},\\\"xaxis\\\":\\\"x4\\\",\\\"y\\\":[0.2,0.2],\\\"type\\\":\\\"scatter\\\",\\\"label\\\":\\\"\\\",\\\"text\\\":\\\"Driver 37\\\",\\\"yaxis\\\":\\\"y4\\\",\\\"x\\\":[19.949400106763843,23.54940001139641]},{\\\"mode\\\":\\\"lines\\\",\\\"line\\\":{\\\"width\\\":30},\\\"xaxis\\\":\\\"x4\\\",\\\"y\\\":[0.2,0.2],\\\"type\\\":\\\"scatter\\\",\\\"label\\\":\\\"\\\",\\\"text\\\":\\\"Driver 19\\\",\\\"yaxis\\\":\\\"y4\\\",\\\"x\\\":[3.8469999980926515,7.44699990272522]},{\\\"mode\\\":\\\"lines\\\",\\\"line\\\":{\\\"width\\\":30},\\\"xaxis\\\":\\\"x4\\\",\\\"y\\\":[0.2,0.2],\\\"type\\\":\\\"scatter\\\",\\\"label\\\":\\\"\\\",\\\"text\\\":\\\"Driver 16\\\",\\\"yaxis\\\":\\\"y4\\\",\\\"x\\\":[7.714999904632569,11.115]},{\\\"mode\\\":\\\"lines\\\",\\\"line\\\":{\\\"width\\\":30},\\\"xaxis\\\":\\\"x4\\\",\\\"y\\\":[0.2,0.2],\\\"type\\\":\\\"scatter\\\",\\\"label\\\":\\\"\\\",\\\"text\\\":\\\"Driver 12\\\",\\\"yaxis\\\":\\\"y4\\\",\\\"x\\\":[23.82540005812645,27.625400010442736]},{\\\"mode\\\":\\\"lines\\\",\\\"line\\\":{\\\"width\\\":30},\\\"xaxis\\\":\\\"x4\\\",\\\"y\\\":[0.2,0.2],\\\"type\\\":\\\"scatter\\\",\\\"label\\\":\\\"\\\",\\\"text\\\":\\\"Driver 8\\\",\\\"yaxis\\\":\\\"y4\\\",\\\"x\\\":[33.73120004992485,37.43120009760857]},{\\\"mode\\\":\\\"lines\\\",\\\"line\\\":{\\\"width\\\":30},\\\"xaxis\\\":\\\"x4\\\",\\\"y\\\":[0.2,0.2],\\\"type\\\":\\\"scatter\\\",\\\"label\\\":\\\"\\\",\\\"text\\\":\\\"Driver 7\\\",\\\"yaxis\\\":\\\"y4\\\",\\\"x\\\":[11.449399995899201,15.649399805164338]},{\\\"mode\\\":\\\"lines\\\",\\\"line\\\":{\\\"color\\\":\\\"black\\\",\\\"label\\\":\\\"\\\",\\\"width\\\":100},\\\"xaxis\\\":\\\"x5\\\",\\\"y\\\":[0.1,0.1],\\\"type\\\":\\\"scatter\\\",\\\"yaxis\\\":\\\"y5\\\",\\\"x\\\":[0.0,40.0]},{\\\"mode\\\":\\\"lines\\\",\\\"line\\\":{\\\"width\\\":30},\\\"xaxis\\\":\\\"x5\\\",\\\"y\\\":[0.2,0.2],\\\"type\\\":\\\"scatter\\\",\\\"label\\\":\\\"\\\",\\\"text\\\":\\\"Driver 16\\\",\\\"yaxis\\\":\\\"y5\\\",\\\"x\\\":[3.6606002801895148,7.760600184822083]},{\\\"mode\\\":\\\"lines\\\",\\\"line\\\":{\\\"width\\\":30},\\\"xaxis\\\":\\\"x5\\\",\\\"y\\\":[0.2,0.2],\\\"type\\\":\\\"scatter\\\",\\\"label\\\":\\\"\\\",\\\"text\\\":\\\"Driver 14\\\",\\\"yaxis\\\":\\\"y5\\\",\\\"x\\\":[14.835799995851517,18.235800091218948]},{\\\"mode\\\":\\\"lines\\\",\\\"line\\\":{\\\"width\\\":30},\\\"xaxis\\\":\\\"x5\\\",\\\"y\\\":[0.2,0.2],\\\"type\\\":\\\"scatter\\\",\\\"label\\\":\\\"\\\",\\\"text\\\":\\\"Driver 13\\\",\\\"yaxis\\\":\\\"y5\\\",\\\"x\\\":[26.29580029363632,30.995800102901455]},{\\\"mode\\\":\\\"lines\\\",\\\"line\\\":{\\\"width\\\":30},\\\"xaxis\\\":\\\"x5\\\",\\\"y\\\":[0.2,0.2],\\\"type\\\":\\\"scatter\\\",\\\"label\\\":\\\"\\\",\\\"text\\\":\\\"Driver 9\\\",\\\"yaxis\\\":\\\"y5\\\",\\\"x\\\":[21.107600198888775,26.007600294256207]},{\\\"mode\\\":\\\"lines\\\",\\\"line\\\":{\\\"width\\\":30},\\\"xaxis\\\":\\\"x5\\\",\\\"y\\\":[0.2,0.2],\\\"type\\\":\\\"scatter\\\",\\\"label\\\":\\\"\\\",\\\"text\\\":\\\"Driver 4\\\",\\\"yaxis\\\":\\\"y5\\\",\\\"x\\\":[35.939200004386905,39.73919995670319]},{\\\"mode\\\":\\\"lines\\\",\\\"line\\\":{\\\"width\\\":30},\\\"xaxis\\\":\\\"x5\\\",\\\"y\\\":[0.2,0.2],\\\"type\\\":\\\"scatter\\\",\\\"label\\\":\\\"\\\",\\\"text\\\":\\\"Driver 2\\\",\\\"yaxis\\\":\\\"y5\\\",\\\"x\\\":[10.232599796438217,14.53259998717308]},{\\\"mode\\\":\\\"lines\\\",\\\"line\\\":{\\\"color\\\":\\\"black\\\",\\\"label\\\":\\\"\\\",\\\"width\\\":100},\\\"xaxis\\\":\\\"x6\\\",\\\"y\\\":[0.1,0.1],\\\"type\\\":\\\"scatter\\\",\\\"yaxis\\\":\\\"y6\\\",\\\"x\\\":[0.0,40.0]},{\\\"mode\\\":\\\"lines\\\",\\\"line\\\":{\\\"width\\\":30},\\\"xaxis\\\":\\\"x6\\\",\\\"y\\\":[0.2,0.2],\\\"type\\\":\\\"scatter\\\",\\\"label\\\":\\\"\\\",\\\"text\\\":\\\"Driver 23\\\",\\\"yaxis\\\":\\\"y6\\\",\\\"x\\\":[5.548499911665917,9.94850000703335]},{\\\"mode\\\":\\\"lines\\\",\\\"line\\\":{\\\"width\\\":30},\\\"xaxis\\\":\\\"x6\\\",\\\"y\\\":[0.2,0.2],\\\"type\\\":\\\"scatter\\\",\\\"label\\\":\\\"\\\",\\\"text\\\":\\\"Driver 19\\\",\\\"yaxis\\\":\\\"y6\\\",\\\"x\\\":[17.112500401735304,21.212500306367872]},{\\\"mode\\\":\\\"lines\\\",\\\"line\\\":{\\\"width\\\":30},\\\"xaxis\\\":\\\"x6\\\",\\\"y\\\":[0.2,0.2],\\\"type\\\":\\\"scatter\\\",\\\"label\\\":\\\"\\\",\\\"text\\\":\\\"Driver 18\\\",\\\"yaxis\\\":\\\"y6\\\",\\\"x\\\":[21.802500301003455,26.302500301003455]},{\\\"mode\\\":\\\"lines\\\",\\\"line\\\":{\\\"width\\\":30},\\\"xaxis\\\":\\\"x6\\\",\\\"y\\\":[0.2,0.2],\\\"type\\\":\\\"scatter\\\",\\\"label\\\":\\\"\\\",\\\"text\\\":\\\"Driver 12\\\",\\\"yaxis\\\":\\\"y6\\\",\\\"x\\\":[10.835500013947488,15.135500204682351]},{\\\"mode\\\":\\\"lines\\\",\\\"line\\\":{\\\"width\\\":30},\\\"xaxis\\\":\\\"x6\\\",\\\"y\\\":[0.2,0.2],\\\"type\\\":\\\"scatter\\\",\\\"label\\\":\\\"\\\",\\\"text\\\":\\\"Driver 9\\\",\\\"yaxis\\\":\\\"y6\\\",\\\"x\\\":[27.096500282645223,31.29650009191036]},{\\\"mode\\\":\\\"lines\\\",\\\"line\\\":{\\\"width\\\":30},\\\"xaxis\\\":\\\"x6\\\",\\\"y\\\":[0.2,0.2],\\\"type\\\":\\\"scatter\\\",\\\"label\\\":\\\"\\\",\\\"text\\\":\\\"Driver 4\\\",\\\"yaxis\\\":\\\"y6\\\",\\\"x\\\":[0.6200000047683716,4.620000004768372]},{\\\"mode\\\":\\\"lines\\\",\\\"line\\\":{\\\"width\\\":30},\\\"xaxis\\\":\\\"x6\\\",\\\"y\\\":[0.2,0.2],\\\"type\\\":\\\"scatter\\\",\\\"label\\\":\\\"\\\",\\\"text\\\":\\\"Driver 1\\\",\\\"yaxis\\\":\\\"y6\\\",\\\"x\\\":[32.26650007283688,36.96649988210201]},{\\\"mode\\\":\\\"lines\\\",\\\"line\\\":{\\\"color\\\":\\\"black\\\",\\\"label\\\":\\\"\\\",\\\"width\\\":100},\\\"xaxis\\\":\\\"x7\\\",\\\"y\\\":[0.1,0.1],\\\"type\\\":\\\"scatter\\\",\\\"yaxis\\\":\\\"y7\\\",\\\"x\\\":[0.0,40.0]},{\\\"mode\\\":\\\"lines\\\",\\\"line\\\":{\\\"width\\\":30},\\\"xaxis\\\":\\\"x7\\\",\\\"y\\\":[0.2,0.2],\\\"type\\\":\\\"scatter\\\",\\\"label\\\":\\\"\\\",\\\"text\\\":\\\"Driver 29\\\",\\\"yaxis\\\":\\\"y7\\\",\\\"x\\\":[0.2575999950408937,3.857599899673462]},{\\\"mode\\\":\\\"lines\\\",\\\"line\\\":{\\\"width\\\":30},\\\"xaxis\\\":\\\"x7\\\",\\\"y\\\":[0.2,0.2],\\\"type\\\":\\\"scatter\\\",\\\"label\\\":\\\"\\\",\\\"text\\\":\\\"Driver 27\\\",\\\"yaxis\\\":\\\"y7\\\",\\\"x\\\":[16.58640004572868,20.286400093412396]},{\\\"mode\\\":\\\"lines\\\",\\\"line\\\":{\\\"width\\\":30},\\\"xaxis\\\":\\\"x7\\\",\\\"y\\\":[0.2,0.2],\\\"type\\\":\\\"scatter\\\",\\\"label\\\":\\\"\\\",\\\"text\\\":\\\"Driver 17\\\",\\\"yaxis\\\":\\\"y7\\\",\\\"x\\\":[4.177999902963638,8.478000093698501]},{\\\"mode\\\":\\\"lines\\\",\\\"line\\\":{\\\"width\\\":30},\\\"xaxis\\\":\\\"x7\\\",\\\"y\\\":[0.2,0.2],\\\"type\\\":\\\"scatter\\\",\\\"label\\\":\\\"\\\",\\\"text\\\":\\\"Driver 14\\\",\\\"yaxis\\\":\\\"y7\\\",\\\"x\\\":[8.814800088357925,12.414799992990494]},{\\\"mode\\\":\\\"lines\\\",\\\"line\\\":{\\\"width\\\":30},\\\"xaxis\\\":\\\"x7\\\",\\\"y\\\":[0.2,0.2],\\\"type\\\":\\\"scatter\\\",\\\"label\\\":\\\"\\\",\\\"text\\\":\\\"Driver 7\\\",\\\"yaxis\\\":\\\"y7\\\",\\\"x\\\":[20.63940009770393,25.13940009770393]},{\\\"mode\\\":\\\"lines\\\",\\\"line\\\":{\\\"width\\\":30},\\\"xaxis\\\":\\\"x7\\\",\\\"y\\\":[0.2,0.2],\\\"type\\\":\\\"scatter\\\",\\\"label\\\":\\\"\\\",\\\"text\\\":\\\"Driver 6\\\",\\\"yaxis\\\":\\\"y7\\\",\\\"x\\\":[25.45420009307861,29.55419999771118]},{\\\"mode\\\":\\\"lines\\\",\\\"line\\\":{\\\"width\\\":30},\\\"xaxis\\\":\\\"x7\\\",\\\"y\\\":[0.2,0.2],\\\"type\\\":\\\"scatter\\\",\\\"label\\\":\\\"\\\",\\\"text\\\":\\\"Driver 2\\\",\\\"yaxis\\\":\\\"y7\\\",\\\"x\\\":[29.84880000395775,34.14880019469261]},{\\\"mode\\\":\\\"lines\\\",\\\"line\\\":{\\\"width\\\":30},\\\"xaxis\\\":\\\"x7\\\",\\\"y\\\":[0.2,0.2],\\\"type\\\":\\\"scatter\\\",\\\"label\\\":\\\"\\\",\\\"text\\\":\\\"Driver 1\\\",\\\"yaxis\\\":\\\"y7\\\",\\\"x\\\":[34.49700019645691,38.39700029182434]},{\\\"mode\\\":\\\"lines\\\",\\\"line\\\":{\\\"color\\\":\\\"black\\\",\\\"label\\\":\\\"\\\",\\\"width\\\":100},\\\"xaxis\\\":\\\"x8\\\",\\\"y\\\":[0.1,0.1],\\\"type\\\":\\\"scatter\\\",\\\"yaxis\\\":\\\"y8\\\",\\\"x\\\":[0.0,40.0]},{\\\"mode\\\":\\\"lines\\\",\\\"line\\\":{\\\"width\\\":30},\\\"xaxis\\\":\\\"x8\\\",\\\"y\\\":[0.2,0.2],\\\"type\\\":\\\"scatter\\\",\\\"label\\\":\\\"\\\",\\\"text\\\":\\\"Driver 46\\\",\\\"yaxis\\\":\\\"y8\\\",\\\"x\\\":[35.31199990272522,39.71199999809265]},{\\\"mode\\\":\\\"lines\\\",\\\"line\\\":{\\\"width\\\":30},\\\"xaxis\\\":\\\"x8\\\",\\\"y\\\":[0.2,0.2],\\\"type\\\":\\\"scatter\\\",\\\"label\\\":\\\"\\\",\\\"text\\\":\\\"Driver 40\\\",\\\"yaxis\\\":\\\"y8\\\",\\\"x\\\":[8.720800158691407,12.720800158691407]},{\\\"mode\\\":\\\"lines\\\",\\\"line\\\":{\\\"width\\\":30},\\\"xaxis\\\":\\\"x8\\\",\\\"y\\\":[0.2,0.2],\\\"type\\\":\\\"scatter\\\",\\\"label\\\":\\\"\\\",\\\"text\\\":\\\"Driver 9\\\",\\\"yaxis\\\":\\\"y8\\\",\\\"x\\\":[4.943800157022476,8.443800157022476]},{\\\"mode\\\":\\\"lines\\\",\\\"line\\\":{\\\"width\\\":30},\\\"xaxis\\\":\\\"x8\\\",\\\"y\\\":[0.2,0.2],\\\"type\\\":\\\"scatter\\\",\\\"label\\\":\\\"\\\",\\\"text\\\":\\\"Driver 5\\\",\\\"yaxis\\\":\\\"y8\\\",\\\"x\\\":[30.17279980893135,35.07279990429878]},{\\\"mode\\\":\\\"lines\\\",\\\"line\\\":{\\\"width\\\":30},\\\"xaxis\\\":\\\"x8\\\",\\\"y\\\":[0.2,0.2],\\\"type\\\":\\\"scatter\\\",\\\"label\\\":\\\"\\\",\\\"text\\\":\\\"Driver 4\\\",\\\"yaxis\\\":\\\"y8\\\",\\\"x\\\":[19.908399900054928,24.008399804687496]},{\\\"mode\\\":\\\"lines\\\",\\\"line\\\":{\\\"width\\\":30},\\\"xaxis\\\":\\\"x8\\\",\\\"y\\\":[0.2,0.2],\\\"type\\\":\\\"scatter\\\",\\\"label\\\":\\\"\\\",\\\"text\\\":\\\"Driver 3\\\",\\\"yaxis\\\":\\\"y8\\\",\\\"x\\\":[15.786799899768827,19.58679985208511]},{\\\"mode\\\":\\\"lines\\\",\\\"line\\\":{\\\"color\\\":\\\"black\\\",\\\"label\\\":\\\"\\\",\\\"width\\\":100},\\\"xaxis\\\":\\\"x9\\\",\\\"y\\\":[0.1,0.1],\\\"type\\\":\\\"scatter\\\",\\\"yaxis\\\":\\\"y9\\\",\\\"x\\\":[0.0,40.0]},{\\\"mode\\\":\\\"lines\\\",\\\"line\\\":{\\\"width\\\":30},\\\"xaxis\\\":\\\"x9\\\",\\\"y\\\":[0.2,0.2],\\\"type\\\":\\\"scatter\\\",\\\"label\\\":\\\"\\\",\\\"text\\\":\\\"Driver 30\\\",\\\"yaxis\\\":\\\"y9\\\",\\\"x\\\":[4.93699993956089,8.536999844193458]},{\\\"mode\\\":\\\"lines\\\",\\\"line\\\":{\\\"width\\\":30},\\\"xaxis\\\":\\\"x9\\\",\\\"y\\\":[0.2,0.2],\\\"type\\\":\\\"scatter\\\",\\\"label\\\":\\\"\\\",\\\"text\\\":\\\"Driver 24\\\",\\\"yaxis\\\":\\\"y9\\\",\\\"x\\\":[34.92749924302102,39.22749943375588]},{\\\"mode\\\":\\\"lines\\\",\\\"line\\\":{\\\"width\\\":30},\\\"xaxis\\\":\\\"x9\\\",\\\"y\\\":[0.2,0.2],\\\"type\\\":\\\"scatter\\\",\\\"label\\\":\\\"\\\",\\\"text\\\":\\\"Driver 18\\\",\\\"yaxis\\\":\\\"y9\\\",\\\"x\\\":[25.031499644875527,29.131499549508096]},{\\\"mode\\\":\\\"lines\\\",\\\"line\\\":{\\\"width\\\":30},\\\"xaxis\\\":\\\"x9\\\",\\\"y\\\":[0.2,0.2],\\\"type\\\":\\\"scatter\\\",\\\"label\\\":\\\"\\\",\\\"text\\\":\\\"Driver 7\\\",\\\"yaxis\\\":\\\"y9\\\",\\\"x\\\":[14.607499849796296,17.907499802112582]},{\\\"mode\\\":\\\"lines\\\",\\\"line\\\":{\\\"width\\\":30},\\\"xaxis\\\":\\\"x9\\\",\\\"y\\\":[0.2,0.2],\\\"type\\\":\\\"scatter\\\",\\\"label\\\":\\\"\\\",\\\"text\\\":\\\"Driver 6\\\",\\\"yaxis\\\":\\\"y9\\\",\\\"x\\\":[9.267999956130982,12.567999908447266]},{\\\"mode\\\":\\\"lines\\\",\\\"line\\\":{\\\"width\\\":30},\\\"xaxis\\\":\\\"x9\\\",\\\"y\\\":[0.2,0.2],\\\"type\\\":\\\"scatter\\\",\\\"label\\\":\\\"\\\",\\\"text\\\":\\\"Driver 1\\\",\\\"yaxis\\\":\\\"y9\\\",\\\"x\\\":[18.569499793529513,22.16949969816208]}],{\\\"xaxis9\\\":{\\\"dtick\\\":10,\\\"ticks\\\":\\\"outside\\\",\\\"domain\\\":[0.7111111111111111,1.0],\\\"tick0\\\":0,\\\"anchor\\\":\\\"y9\\\"},\\\"xaxis8\\\":{\\\"dtick\\\":10,\\\"ticks\\\":\\\"outside\\\",\\\"domain\\\":[0.35555555555555557,0.6444444444444445],\\\"tick0\\\":0,\\\"anchor\\\":\\\"y8\\\"},\\\"xaxis7\\\":{\\\"dtick\\\":10,\\\"ticks\\\":\\\"outside\\\",\\\"domain\\\":[0.0,0.2888888888888889],\\\"tick0\\\":0,\\\"anchor\\\":\\\"y7\\\"},\\\"template\\\":{\\\"layout\\\":{\\\"coloraxis\\\":{\\\"colorbar\\\":{\\\"ticks\\\":\\\"\\\",\\\"outlinewidth\\\":0}},\\\"xaxis\\\":{\\\"gridcolor\\\":\\\"white\\\",\\\"zerolinewidth\\\":2,\\\"title\\\":{\\\"standoff\\\":15},\\\"ticks\\\":\\\"\\\",\\\"zerolinecolor\\\":\\\"white\\\",\\\"automargin\\\":true,\\\"linecolor\\\":\\\"white\\\"},\\\"hovermode\\\":\\\"closest\\\",\\\"paper_bgcolor\\\":\\\"white\\\",\\\"geo\\\":{\\\"showlakes\\\":true,\\\"showland\\\":true,\\\"landcolor\\\":\\\"#E5ECF6\\\",\\\"bgcolor\\\":\\\"white\\\",\\\"subunitcolor\\\":\\\"white\\\",\\\"lakecolor\\\":\\\"white\\\"},\\\"colorscale\\\":{\\\"sequential\\\":[[0.0,\\\"#0d0887\\\"],[0.1111111111111111,\\\"#46039f\\\"],[0.2222222222222222,\\\"#7201a8\\\"],[0.3333333333333333,\\\"#9c179e\\\"],[0.4444444444444444,\\\"#bd3786\\\"],[0.5555555555555556,\\\"#d8576b\\\"],[0.6666666666666666,\\\"#ed7953\\\"],[0.7777777777777778,\\\"#fb9f3a\\\"],[0.8888888888888888,\\\"#fdca26\\\"],[1.0,\\\"#f0f921\\\"]],\\\"diverging\\\":[[0,\\\"#8e0152\\\"],[0.1,\\\"#c51b7d\\\"],[0.2,\\\"#de77ae\\\"],[0.3,\\\"#f1b6da\\\"],[0.4,\\\"#fde0ef\\\"],[0.5,\\\"#f7f7f7\\\"],[0.6,\\\"#e6f5d0\\\"],[0.7,\\\"#b8e186\\\"],[0.8,\\\"#7fbc41\\\"],[0.9,\\\"#4d9221\\\"],[1,\\\"#276419\\\"]],\\\"sequentialminus\\\":[[0.0,\\\"#0d0887\\\"],[0.1111111111111111,\\\"#46039f\\\"],[0.2222222222222222,\\\"#7201a8\\\"],[0.3333333333333333,\\\"#9c179e\\\"],[0.4444444444444444,\\\"#bd3786\\\"],[0.5555555555555556,\\\"#d8576b\\\"],[0.6666666666666666,\\\"#ed7953\\\"],[0.7777777777777778,\\\"#fb9f3a\\\"],[0.8888888888888888,\\\"#fdca26\\\"],[1.0,\\\"#f0f921\\\"]]},\\\"yaxis\\\":{\\\"gridcolor\\\":\\\"white\\\",\\\"zerolinewidth\\\":2,\\\"title\\\":{\\\"standoff\\\":15},\\\"ticks\\\":\\\"\\\",\\\"zerolinecolor\\\":\\\"white\\\",\\\"automargin\\\":true,\\\"linecolor\\\":\\\"white\\\"},\\\"shapedefaults\\\":{\\\"line\\\":{\\\"color\\\":\\\"#2a3f5f\\\"}},\\\"hoverlabel\\\":{\\\"align\\\":\\\"left\\\"},\\\"mapbox\\\":{\\\"style\\\":\\\"light\\\"},\\\"polar\\\":{\\\"angularaxis\\\":{\\\"gridcolor\\\":\\\"white\\\",\\\"ticks\\\":\\\"\\\",\\\"linecolor\\\":\\\"white\\\"},\\\"bgcolor\\\":\\\"#E5ECF6\\\",\\\"radialaxis\\\":{\\\"gridcolor\\\":\\\"white\\\",\\\"ticks\\\":\\\"\\\",\\\"linecolor\\\":\\\"white\\\"}},\\\"autotypenumbers\\\":\\\"strict\\\",\\\"font\\\":{\\\"color\\\":\\\"#2a3f5f\\\"},\\\"ternary\\\":{\\\"baxis\\\":{\\\"gridcolor\\\":\\\"white\\\",\\\"ticks\\\":\\\"\\\",\\\"linecolor\\\":\\\"white\\\"},\\\"bgcolor\\\":\\\"#E5ECF6\\\",\\\"caxis\\\":{\\\"gridcolor\\\":\\\"white\\\",\\\"ticks\\\":\\\"\\\",\\\"linecolor\\\":\\\"white\\\"},\\\"aaxis\\\":{\\\"gridcolor\\\":\\\"white\\\",\\\"ticks\\\":\\\"\\\",\\\"linecolor\\\":\\\"white\\\"}},\\\"annotationdefaults\\\":{\\\"arrowhead\\\":0,\\\"arrowwidth\\\":1,\\\"arrowcolor\\\":\\\"#2a3f5f\\\"},\\\"plot_bgcolor\\\":\\\"#E5ECF6\\\",\\\"title\\\":{\\\"x\\\":0.05},\\\"scene\\\":{\\\"xaxis\\\":{\\\"gridcolor\\\":\\\"white\\\",\\\"gridwidth\\\":2,\\\"backgroundcolor\\\":\\\"#E5ECF6\\\",\\\"ticks\\\":\\\"\\\",\\\"showbackground\\\":true,\\\"zerolinecolor\\\":\\\"white\\\",\\\"linecolor\\\":\\\"white\\\"},\\\"zaxis\\\":{\\\"gridcolor\\\":\\\"white\\\",\\\"gridwidth\\\":2,\\\"backgroundcolor\\\":\\\"#E5ECF6\\\",\\\"ticks\\\":\\\"\\\",\\\"showbackground\\\":true,\\\"zerolinecolor\\\":\\\"white\\\",\\\"linecolor\\\":\\\"white\\\"},\\\"yaxis\\\":{\\\"gridcolor\\\":\\\"white\\\",\\\"gridwidth\\\":2,\\\"backgroundcolor\\\":\\\"#E5ECF6\\\",\\\"ticks\\\":\\\"\\\",\\\"showbackground\\\":true,\\\"zerolinecolor\\\":\\\"white\\\",\\\"linecolor\\\":\\\"white\\\"}},\\\"colorway\\\":[\\\"#636efa\\\",\\\"#EF553B\\\",\\\"#00cc96\\\",\\\"#ab63fa\\\",\\\"#FFA15A\\\",\\\"#19d3f3\\\",\\\"#FF6692\\\",\\\"#B6E880\\\",\\\"#FF97FF\\\",\\\"#FECB52\\\"]},\\\"data\\\":{\\\"barpolar\\\":[{\\\"type\\\":\\\"barpolar\\\",\\\"marker\\\":{\\\"line\\\":{\\\"color\\\":\\\"#E5ECF6\\\",\\\"width\\\":0.5}}}],\\\"carpet\\\":[{\\\"aaxis\\\":{\\\"gridcolor\\\":\\\"white\\\",\\\"endlinecolor\\\":\\\"#2a3f5f\\\",\\\"minorgridcolor\\\":\\\"white\\\",\\\"startlinecolor\\\":\\\"#2a3f5f\\\",\\\"linecolor\\\":\\\"white\\\"},\\\"type\\\":\\\"carpet\\\",\\\"baxis\\\":{\\\"gridcolor\\\":\\\"white\\\",\\\"endlinecolor\\\":\\\"#2a3f5f\\\",\\\"minorgridcolor\\\":\\\"white\\\",\\\"startlinecolor\\\":\\\"#2a3f5f\\\",\\\"linecolor\\\":\\\"white\\\"}}],\\\"scatterpolar\\\":[{\\\"type\\\":\\\"scatterpolar\\\",\\\"marker\\\":{\\\"colorbar\\\":{\\\"ticks\\\":\\\"\\\",\\\"outlinewidth\\\":0}}}],\\\"parcoords\\\":[{\\\"line\\\":{\\\"colorbar\\\":{\\\"ticks\\\":\\\"\\\",\\\"outlinewidth\\\":0}},\\\"type\\\":\\\"parcoords\\\"}],\\\"scatter\\\":[{\\\"type\\\":\\\"scatter\\\",\\\"marker\\\":{\\\"colorbar\\\":{\\\"ticks\\\":\\\"\\\",\\\"outlinewidth\\\":0}}}],\\\"histogram2dcontour\\\":[{\\\"colorbar\\\":{\\\"ticks\\\":\\\"\\\",\\\"outlinewidth\\\":0},\\\"type\\\":\\\"histogram2dcontour\\\",\\\"colorscale\\\":[[0.0,\\\"#0d0887\\\"],[0.1111111111111111,\\\"#46039f\\\"],[0.2222222222222222,\\\"#7201a8\\\"],[0.3333333333333333,\\\"#9c179e\\\"],[0.4444444444444444,\\\"#bd3786\\\"],[0.5555555555555556,\\\"#d8576b\\\"],[0.6666666666666666,\\\"#ed7953\\\"],[0.7777777777777778,\\\"#fb9f3a\\\"],[0.8888888888888888,\\\"#fdca26\\\"],[1.0,\\\"#f0f921\\\"]]}],\\\"contour\\\":[{\\\"colorbar\\\":{\\\"ticks\\\":\\\"\\\",\\\"outlinewidth\\\":0},\\\"type\\\":\\\"contour\\\",\\\"colorscale\\\":[[0.0,\\\"#0d0887\\\"],[0.1111111111111111,\\\"#46039f\\\"],[0.2222222222222222,\\\"#7201a8\\\"],[0.3333333333333333,\\\"#9c179e\\\"],[0.4444444444444444,\\\"#bd3786\\\"],[0.5555555555555556,\\\"#d8576b\\\"],[0.6666666666666666,\\\"#ed7953\\\"],[0.7777777777777778,\\\"#fb9f3a\\\"],[0.8888888888888888,\\\"#fdca26\\\"],[1.0,\\\"#f0f921\\\"]]}],\\\"scattercarpet\\\":[{\\\"type\\\":\\\"scattercarpet\\\",\\\"marker\\\":{\\\"colorbar\\\":{\\\"ticks\\\":\\\"\\\",\\\"outlinewidth\\\":0}}}],\\\"mesh3d\\\":[{\\\"colorbar\\\":{\\\"ticks\\\":\\\"\\\",\\\"outlinewidth\\\":0},\\\"type\\\":\\\"mesh3d\\\"}],\\\"surface\\\":[{\\\"colorbar\\\":{\\\"ticks\\\":\\\"\\\",\\\"outlinewidth\\\":0},\\\"type\\\":\\\"surface\\\",\\\"colorscale\\\":[[0.0,\\\"#0d0887\\\"],[0.1111111111111111,\\\"#46039f\\\"],[0.2222222222222222,\\\"#7201a8\\\"],[0.3333333333333333,\\\"#9c179e\\\"],[0.4444444444444444,\\\"#bd3786\\\"],[0.5555555555555556,\\\"#d8576b\\\"],[0.6666666666666666,\\\"#ed7953\\\"],[0.7777777777777778,\\\"#fb9f3a\\\"],[0.8888888888888888,\\\"#fdca26\\\"],[1.0,\\\"#f0f921\\\"]]}],\\\"scattermapbox\\\":[{\\\"type\\\":\\\"scattermapbox\\\",\\\"marker\\\":{\\\"colorbar\\\":{\\\"ticks\\\":\\\"\\\",\\\"outlinewidth\\\":0}}}],\\\"scattergeo\\\":[{\\\"type\\\":\\\"scattergeo\\\",\\\"marker\\\":{\\\"colorbar\\\":{\\\"ticks\\\":\\\"\\\",\\\"outlinewidth\\\":0}}}],\\\"histogram\\\":[{\\\"type\\\":\\\"histogram\\\",\\\"marker\\\":{\\\"colorbar\\\":{\\\"ticks\\\":\\\"\\\",\\\"outlinewidth\\\":0}}}],\\\"pie\\\":[{\\\"type\\\":\\\"pie\\\",\\\"automargin\\\":true}],\\\"choropleth\\\":[{\\\"colorbar\\\":{\\\"ticks\\\":\\\"\\\",\\\"outlinewidth\\\":0},\\\"type\\\":\\\"choropleth\\\"}],\\\"heatmapgl\\\":[{\\\"colorbar\\\":{\\\"ticks\\\":\\\"\\\",\\\"outlinewidth\\\":0},\\\"type\\\":\\\"heatmapgl\\\",\\\"colorscale\\\":[[0.0,\\\"#0d0887\\\"],[0.1111111111111111,\\\"#46039f\\\"],[0.2222222222222222,\\\"#7201a8\\\"],[0.3333333333333333,\\\"#9c179e\\\"],[0.4444444444444444,\\\"#bd3786\\\"],[0.5555555555555556,\\\"#d8576b\\\"],[0.6666666666666666,\\\"#ed7953\\\"],[0.7777777777777778,\\\"#fb9f3a\\\"],[0.8888888888888888,\\\"#fdca26\\\"],[1.0,\\\"#f0f921\\\"]]}],\\\"bar\\\":[{\\\"type\\\":\\\"bar\\\",\\\"error_y\\\":{\\\"color\\\":\\\"#2a3f5f\\\"},\\\"error_x\\\":{\\\"color\\\":\\\"#2a3f5f\\\"},\\\"marker\\\":{\\\"line\\\":{\\\"color\\\":\\\"#E5ECF6\\\",\\\"width\\\":0.5}}}],\\\"heatmap\\\":[{\\\"colorbar\\\":{\\\"ticks\\\":\\\"\\\",\\\"outlinewidth\\\":0},\\\"type\\\":\\\"heatmap\\\",\\\"colorscale\\\":[[0.0,\\\"#0d0887\\\"],[0.1111111111111111,\\\"#46039f\\\"],[0.2222222222222222,\\\"#7201a8\\\"],[0.3333333333333333,\\\"#9c179e\\\"],[0.4444444444444444,\\\"#bd3786\\\"],[0.5555555555555556,\\\"#d8576b\\\"],[0.6666666666666666,\\\"#ed7953\\\"],[0.7777777777777778,\\\"#fb9f3a\\\"],[0.8888888888888888,\\\"#fdca26\\\"],[1.0,\\\"#f0f921\\\"]]}],\\\"contourcarpet\\\":[{\\\"colorbar\\\":{\\\"ticks\\\":\\\"\\\",\\\"outlinewidth\\\":0},\\\"type\\\":\\\"contourcarpet\\\"}],\\\"table\\\":[{\\\"type\\\":\\\"table\\\",\\\"header\\\":{\\\"line\\\":{\\\"color\\\":\\\"white\\\"},\\\"fill\\\":{\\\"color\\\":\\\"#C8D4E3\\\"}},\\\"cells\\\":{\\\"line\\\":{\\\"color\\\":\\\"white\\\"},\\\"fill\\\":{\\\"color\\\":\\\"#EBF0F8\\\"}}}],\\\"scatter3d\\\":[{\\\"line\\\":{\\\"colorbar\\\":{\\\"ticks\\\":\\\"\\\",\\\"outlinewidth\\\":0}},\\\"type\\\":\\\"scatter3d\\\",\\\"marker\\\":{\\\"colorbar\\\":{\\\"ticks\\\":\\\"\\\",\\\"outlinewidth\\\":0}}}],\\\"scattergl\\\":[{\\\"type\\\":\\\"scattergl\\\",\\\"marker\\\":{\\\"colorbar\\\":{\\\"ticks\\\":\\\"\\\",\\\"outlinewidth\\\":0}}}],\\\"histogram2d\\\":[{\\\"colorbar\\\":{\\\"ticks\\\":\\\"\\\",\\\"outlinewidth\\\":0},\\\"type\\\":\\\"histogram2d\\\",\\\"colorscale\\\":[[0.0,\\\"#0d0887\\\"],[0.1111111111111111,\\\"#46039f\\\"],[0.2222222222222222,\\\"#7201a8\\\"],[0.3333333333333333,\\\"#9c179e\\\"],[0.4444444444444444,\\\"#bd3786\\\"],[0.5555555555555556,\\\"#d8576b\\\"],[0.6666666666666666,\\\"#ed7953\\\"],[0.7777777777777778,\\\"#fb9f3a\\\"],[0.8888888888888888,\\\"#fdca26\\\"],[1.0,\\\"#f0f921\\\"]]}],\\\"scatterternary\\\":[{\\\"type\\\":\\\"scatterternary\\\",\\\"marker\\\":{\\\"colorbar\\\":{\\\"ticks\\\":\\\"\\\",\\\"outlinewidth\\\":0}}}],\\\"scatterpolargl\\\":[{\\\"type\\\":\\\"scatterpolargl\\\",\\\"marker\\\":{\\\"colorbar\\\":{\\\"ticks\\\":\\\"\\\",\\\"outlinewidth\\\":0}}}]}},\\\"yaxis4\\\":{\\\"showticklabels\\\":false,\\\"range\\\":[0.0,0.3],\\\"domain\\\":[0.3944444444444444,0.6055555555555555],\\\"anchor\\\":\\\"x4\\\"},\\\"xaxis1\\\":{\\\"dtick\\\":10,\\\"ticks\\\":\\\"outside\\\",\\\"domain\\\":[0.0,0.2888888888888889],\\\"tick0\\\":0,\\\"anchor\\\":\\\"y1\\\"},\\\"yaxis2\\\":{\\\"showticklabels\\\":false,\\\"range\\\":[0.0,0.3],\\\"domain\\\":[0.7888888888888889,1.0],\\\"anchor\\\":\\\"x2\\\"},\\\"xaxis3\\\":{\\\"dtick\\\":10,\\\"ticks\\\":\\\"outside\\\",\\\"domain\\\":[0.7111111111111111,1.0],\\\"tick0\\\":0,\\\"anchor\\\":\\\"y3\\\"},\\\"yaxis8\\\":{\\\"showticklabels\\\":false,\\\"range\\\":[0.0,0.3],\\\"domain\\\":[-8.326672684688674e-17,0.21111111111111103],\\\"anchor\\\":\\\"x8\\\"},\\\"yaxis3\\\":{\\\"showticklabels\\\":false,\\\"range\\\":[0.0,0.3],\\\"domain\\\":[0.7888888888888889,1.0],\\\"anchor\\\":\\\"x3\\\"},\\\"yaxis9\\\":{\\\"showticklabels\\\":false,\\\"range\\\":[0.0,0.3],\\\"domain\\\":[-8.326672684688674e-17,0.21111111111111103],\\\"anchor\\\":\\\"x9\\\"},\\\"yaxis5\\\":{\\\"showticklabels\\\":false,\\\"range\\\":[0.0,0.3],\\\"domain\\\":[0.3944444444444444,0.6055555555555555],\\\"anchor\\\":\\\"x5\\\"},\\\"yaxis7\\\":{\\\"showticklabels\\\":false,\\\"range\\\":[0.0,0.3],\\\"domain\\\":[-8.326672684688674e-17,0.21111111111111103],\\\"anchor\\\":\\\"x7\\\"},\\\"xaxis4\\\":{\\\"dtick\\\":10,\\\"ticks\\\":\\\"outside\\\",\\\"domain\\\":[0.0,0.2888888888888889],\\\"tick0\\\":0,\\\"anchor\\\":\\\"y4\\\"},\\\"yaxis1\\\":{\\\"showticklabels\\\":false,\\\"range\\\":[0.0,0.3],\\\"domain\\\":[0.7888888888888889,1.0],\\\"anchor\\\":\\\"x1\\\"},\\\"annotations\\\":[{\\\"yanchor\\\":\\\"bottom\\\",\\\"xanchor\\\":\\\"center\\\",\\\"y\\\":1.0,\\\"font\\\":{\\\"size\\\":16},\\\"showarrow\\\":false,\\\"yref\\\":\\\"paper\\\",\\\"text\\\":\\\"Policy 1.1\\\",\\\"xref\\\":\\\"paper\\\",\\\"x\\\":0.14444444444444446},{\\\"yanchor\\\":\\\"bottom\\\",\\\"xanchor\\\":\\\"center\\\",\\\"y\\\":1.0,\\\"font\\\":{\\\"size\\\":16},\\\"showarrow\\\":false,\\\"yref\\\":\\\"paper\\\",\\\"text\\\":\\\"Policy 1.2\\\",\\\"xref\\\":\\\"paper\\\",\\\"x\\\":0.5},{\\\"yanchor\\\":\\\"bottom\\\",\\\"xanchor\\\":\\\"center\\\",\\\"y\\\":1.0,\\\"font\\\":{\\\"size\\\":16},\\\"showarrow\\\":false,\\\"yref\\\":\\\"paper\\\",\\\"text\\\":\\\"Policy 1.3\\\",\\\"xref\\\":\\\"paper\\\",\\\"x\\\":0.8555555555555556},{\\\"yanchor\\\":\\\"bottom\\\",\\\"xanchor\\\":\\\"center\\\",\\\"y\\\":0.6055555555555555,\\\"font\\\":{\\\"size\\\":16},\\\"showarrow\\\":false,\\\"yref\\\":\\\"paper\\\",\\\"text\\\":\\\"Policy 2.1\\\",\\\"xref\\\":\\\"paper\\\",\\\"x\\\":0.14444444444444446},{\\\"yanchor\\\":\\\"bottom\\\",\\\"xanchor\\\":\\\"center\\\",\\\"y\\\":0.6055555555555555,\\\"font\\\":{\\\"size\\\":16},\\\"showarrow\\\":false,\\\"yref\\\":\\\"paper\\\",\\\"text\\\":\\\"Policy 2.2\\\",\\\"xref\\\":\\\"paper\\\",\\\"x\\\":0.5},{\\\"yanchor\\\":\\\"bottom\\\",\\\"xanchor\\\":\\\"center\\\",\\\"y\\\":0.6055555555555555,\\\"font\\\":{\\\"size\\\":16},\\\"showarrow\\\":false,\\\"yref\\\":\\\"paper\\\",\\\"text\\\":\\\"Policy 2.3\\\",\\\"xref\\\":\\\"paper\\\",\\\"x\\\":0.8555555555555556},{\\\"yanchor\\\":\\\"bottom\\\",\\\"xanchor\\\":\\\"center\\\",\\\"y\\\":0.21111111111111103,\\\"font\\\":{\\\"size\\\":16},\\\"showarrow\\\":false,\\\"yref\\\":\\\"paper\\\",\\\"text\\\":\\\"Policy 3.1\\\",\\\"xref\\\":\\\"paper\\\",\\\"x\\\":0.14444444444444446},{\\\"yanchor\\\":\\\"bottom\\\",\\\"xanchor\\\":\\\"center\\\",\\\"y\\\":0.21111111111111103,\\\"font\\\":{\\\"size\\\":16},\\\"showarrow\\\":false,\\\"yref\\\":\\\"paper\\\",\\\"text\\\":\\\"Policy 3.2\\\",\\\"xref\\\":\\\"paper\\\",\\\"x\\\":0.5},{\\\"yanchor\\\":\\\"bottom\\\",\\\"xanchor\\\":\\\"center\\\",\\\"y\\\":0.21111111111111103,\\\"font\\\":{\\\"size\\\":16},\\\"showarrow\\\":false,\\\"yref\\\":\\\"paper\\\",\\\"text\\\":\\\"Policy 3.3\\\",\\\"xref\\\":\\\"paper\\\",\\\"x\\\":0.8555555555555556}],\\\"yaxis6\\\":{\\\"showticklabels\\\":false,\\\"range\\\":[0.0,0.3],\\\"domain\\\":[0.3944444444444444,0.6055555555555555],\\\"anchor\\\":\\\"x6\\\"},\\\"xaxis2\\\":{\\\"dtick\\\":10,\\\"ticks\\\":\\\"outside\\\",\\\"domain\\\":[0.35555555555555557,0.6444444444444445],\\\"tick0\\\":0,\\\"anchor\\\":\\\"y2\\\"},\\\"xaxis6\\\":{\\\"dtick\\\":10,\\\"ticks\\\":\\\"outside\\\",\\\"domain\\\":[0.7111111111111111,1.0],\\\"tick0\\\":0,\\\"anchor\\\":\\\"y6\\\"},\\\"margin\\\":{\\\"l\\\":50,\\\"b\\\":50,\\\"r\\\":50,\\\"t\\\":60},\\\"xaxis5\\\":{\\\"dtick\\\":10,\\\"ticks\\\":\\\"outside\\\",\\\"domain\\\":[0.35555555555555557,0.6444444444444445],\\\"tick0\\\":0,\\\"anchor\\\":\\\"y5\\\"}},{\\\"showLink\\\":false,\\\"editable\\\":false,\\\"responsive\\\":true,\\\"staticPlot\\\":false,\\\"scrollZoom\\\":true}); gd.on(\\\"plotly_hover\\\",(function (data){var filtered_data=WebIO.PlotlyCommands.filterEventData(gd,data,\\\"hover\\\"); return !(filtered_data.isnil) ? (WebIO.setval({\\\"name\\\":\\\"hover\\\",\\\"scope\\\":\\\"2792463131442378315\\\",\\\"id\\\":\\\"829024300321113034\\\",\\\"type\\\":\\\"observable\\\"},filtered_data.out)) : undefined})); gd.on(\\\"plotly_unhover\\\",(function (){return WebIO.setval({\\\"name\\\":\\\"hover\\\",\\\"scope\\\":\\\"2792463131442378315\\\",\\\"id\\\":\\\"829024300321113034\\\",\\\"type\\\":\\\"observable\\\"},{})})); gd.on(\\\"plotly_selected\\\",(function (data){var filtered_data=WebIO.PlotlyCommands.filterEventData(gd,data,\\\"selected\\\"); return !(filtered_data.isnil) ? (WebIO.setval({\\\"name\\\":\\\"selected\\\",\\\"scope\\\":\\\"2792463131442378315\\\",\\\"id\\\":\\\"8058872214096291283\\\",\\\"type\\\":\\\"observable\\\"},filtered_data.out)) : undefined})); gd.on(\\\"plotly_deselect\\\",(function (){return WebIO.setval({\\\"name\\\":\\\"selected\\\",\\\"scope\\\":\\\"2792463131442378315\\\",\\\"id\\\":\\\"8058872214096291283\\\",\\\"type\\\":\\\"observable\\\"},{})})); gd.on(\\\"plotly_relayout\\\",(function (data){var filtered_data=WebIO.PlotlyCommands.filterEventData(gd,data,\\\"relayout\\\"); return !(filtered_data.isnil) ? (WebIO.setval({\\\"name\\\":\\\"relayout\\\",\\\"scope\\\":\\\"2792463131442378315\\\",\\\"id\\\":\\\"3156264472599671444\\\",\\\"type\\\":\\\"observable\\\"},filtered_data.out)) : undefined})); return gd.on(\\\"plotly_click\\\",(function (data){var filtered_data=WebIO.PlotlyCommands.filterEventData(gd,data,\\\"click\\\"); return !(filtered_data.isnil) ? (WebIO.setval({\\\"name\\\":\\\"click\\\",\\\"scope\\\":\\\"2792463131442378315\\\",\\\"id\\\":\\\"17038209573492824475\\\",\\\"type\\\":\\\"observable\\\"},filtered_data.out)) : undefined}))}));\\n    (WebIO.importBlock({\\\"data\\\":[{\\\"name\\\":\\\"Plotly\\\",\\\"type\\\":\\\"js\\\",\\\"url\\\":\\\"\\/assetserver\\/5369e54fe8d828ab0ae82f146492a98dbe6f40df-plotly.min.js\\\"},{\\\"name\\\":null,\\\"type\\\":\\\"js\\\",\\\"url\\\":\\\"\\/assetserver\\/23e257f104a73815a6c1d51a939a2bc0d6e8d7c9-plotly_webio.bundle.js\\\"}],\\\"type\\\":\\\"async_block\\\"})).then((imports) => handler.apply(this, imports));\\n}\\n\"],\"observables\":{\"_toImage\":{\"sync\":false,\"id\":\"4967134803410293433\",\"value\":{}},\"hover\":{\"sync\":false,\"id\":\"829024300321113034\",\"value\":{}},\"selected\":{\"sync\":false,\"id\":\"8058872214096291283\",\"value\":{}},\"__gd_contents\":{\"sync\":false,\"id\":\"11909861990798146307\",\"value\":{}},\"click\":{\"sync\":false,\"id\":\"17038209573492824475\",\"value\":{}},\"image\":{\"sync\":true,\"id\":\"6863837656932226417\",\"value\":\"\"},\"__get_gd_contents\":{\"sync\":false,\"id\":\"8183056265027686468\",\"value\":\"\"},\"_downloadImage\":{\"sync\":false,\"id\":\"14939123359748149523\",\"value\":{}},\"relayout\":{\"sync\":false,\"id\":\"3156264472599671444\",\"value\":{}},\"_commands\":{\"sync\":false,\"id\":\"8944124968449495152\",\"value\":[\"update\",{},{\"xaxis8\":{\"dtick\":10,\"ticks\":\"outside\",\"domain\":[0.35555555555555557,0.6444444444444445],\"tick0\":0,\"anchor\":\"y8\"},\"xaxis7\":{\"dtick\":10,\"ticks\":\"outside\",\"domain\":[0.0,0.2888888888888889],\"tick0\":0,\"anchor\":\"y7\"},\"template\":{\"data\":{\"scatterpolargl\":[{\"type\":\"scatterpolargl\",\"marker\":{\"colorbar\":{\"ticks\":\"\",\"outlinewidth\":0}}}],\"carpet\":[{\"baxis\":{\"gridcolor\":\"white\",\"endlinecolor\":\"#2a3f5f\",\"minorgridcolor\":\"white\",\"startlinecolor\":\"#2a3f5f\",\"linecolor\":\"white\"},\"type\":\"carpet\",\"aaxis\":{\"gridcolor\":\"white\",\"endlinecolor\":\"#2a3f5f\",\"minorgridcolor\":\"white\",\"startlinecolor\":\"#2a3f5f\",\"linecolor\":\"white\"}}],\"scatterpolar\":[{\"type\":\"scatterpolar\",\"marker\":{\"colorbar\":{\"ticks\":\"\",\"outlinewidth\":0}}}],\"parcoords\":[{\"line\":{\"colorbar\":{\"ticks\":\"\",\"outlinewidth\":0}},\"type\":\"parcoords\"}],\"scatter\":[{\"type\":\"scatter\",\"marker\":{\"colorbar\":{\"ticks\":\"\",\"outlinewidth\":0}}}],\"histogram2dcontour\":[{\"colorbar\":{\"ticks\":\"\",\"outlinewidth\":0},\"type\":\"histogram2dcontour\",\"colorscale\":[[0.0,\"#0d0887\"],[0.1111111111111111,\"#46039f\"],[0.2222222222222222,\"#7201a8\"],[0.3333333333333333,\"#9c179e\"],[0.4444444444444444,\"#bd3786\"],[0.5555555555555556,\"#d8576b\"],[0.6666666666666666,\"#ed7953\"],[0.7777777777777778,\"#fb9f3a\"],[0.8888888888888888,\"#fdca26\"],[1.0,\"#f0f921\"]]}],\"contour\":[{\"colorbar\":{\"ticks\":\"\",\"outlinewidth\":0},\"type\":\"contour\",\"colorscale\":[[0.0,\"#0d0887\"],[0.1111111111111111,\"#46039f\"],[0.2222222222222222,\"#7201a8\"],[0.3333333333333333,\"#9c179e\"],[0.4444444444444444,\"#bd3786\"],[0.5555555555555556,\"#d8576b\"],[0.6666666666666666,\"#ed7953\"],[0.7777777777777778,\"#fb9f3a\"],[0.8888888888888888,\"#fdca26\"],[1.0,\"#f0f921\"]]}],\"scattercarpet\":[{\"type\":\"scattercarpet\",\"marker\":{\"colorbar\":{\"ticks\":\"\",\"outlinewidth\":0}}}],\"mesh3d\":[{\"colorbar\":{\"ticks\":\"\",\"outlinewidth\":0},\"type\":\"mesh3d\"}],\"surface\":[{\"colorbar\":{\"ticks\":\"\",\"outlinewidth\":0},\"type\":\"surface\",\"colorscale\":[[0.0,\"#0d0887\"],[0.1111111111111111,\"#46039f\"],[0.2222222222222222,\"#7201a8\"],[0.3333333333333333,\"#9c179e\"],[0.4444444444444444,\"#bd3786\"],[0.5555555555555556,\"#d8576b\"],[0.6666666666666666,\"#ed7953\"],[0.7777777777777778,\"#fb9f3a\"],[0.8888888888888888,\"#fdca26\"],[1.0,\"#f0f921\"]]}],\"scattermapbox\":[{\"type\":\"scattermapbox\",\"marker\":{\"colorbar\":{\"ticks\":\"\",\"outlinewidth\":0}}}],\"scattergeo\":[{\"type\":\"scattergeo\",\"marker\":{\"colorbar\":{\"ticks\":\"\",\"outlinewidth\":0}}}],\"histogram\":[{\"type\":\"histogram\",\"marker\":{\"colorbar\":{\"ticks\":\"\",\"outlinewidth\":0}}}],\"pie\":[{\"type\":\"pie\",\"automargin\":true}],\"choropleth\":[{\"colorbar\":{\"ticks\":\"\",\"outlinewidth\":0},\"type\":\"choropleth\"}],\"heatmapgl\":[{\"colorbar\":{\"ticks\":\"\",\"outlinewidth\":0},\"type\":\"heatmapgl\",\"colorscale\":[[0.0,\"#0d0887\"],[0.1111111111111111,\"#46039f\"],[0.2222222222222222,\"#7201a8\"],[0.3333333333333333,\"#9c179e\"],[0.4444444444444444,\"#bd3786\"],[0.5555555555555556,\"#d8576b\"],[0.6666666666666666,\"#ed7953\"],[0.7777777777777778,\"#fb9f3a\"],[0.8888888888888888,\"#fdca26\"],[1.0,\"#f0f921\"]]}],\"bar\":[{\"type\":\"bar\",\"error_y\":{\"color\":\"#2a3f5f\"},\"error_x\":{\"color\":\"#2a3f5f\"},\"marker\":{\"line\":{\"color\":\"#E5ECF6\",\"width\":0.5}}}],\"heatmap\":[{\"colorbar\":{\"ticks\":\"\",\"outlinewidth\":0},\"type\":\"heatmap\",\"colorscale\":[[0.0,\"#0d0887\"],[0.1111111111111111,\"#46039f\"],[0.2222222222222222,\"#7201a8\"],[0.3333333333333333,\"#9c179e\"],[0.4444444444444444,\"#bd3786\"],[0.5555555555555556,\"#d8576b\"],[0.6666666666666666,\"#ed7953\"],[0.7777777777777778,\"#fb9f3a\"],[0.8888888888888888,\"#fdca26\"],[1.0,\"#f0f921\"]]}],\"contourcarpet\":[{\"colorbar\":{\"ticks\":\"\",\"outlinewidth\":0},\"type\":\"contourcarpet\"}],\"table\":[{\"type\":\"table\",\"header\":{\"line\":{\"color\":\"white\"},\"fill\":{\"color\":\"#C8D4E3\"}},\"cells\":{\"line\":{\"color\":\"white\"},\"fill\":{\"color\":\"#EBF0F8\"}}}],\"scatter3d\":[{\"line\":{\"colorbar\":{\"ticks\":\"\",\"outlinewidth\":0}},\"type\":\"scatter3d\",\"marker\":{\"colorbar\":{\"ticks\":\"\",\"outlinewidth\":0}}}],\"scattergl\":[{\"type\":\"scattergl\",\"marker\":{\"colorbar\":{\"ticks\":\"\",\"outlinewidth\":0}}}],\"histogram2d\":[{\"colorbar\":{\"ticks\":\"\",\"outlinewidth\":0},\"type\":\"histogram2d\",\"colorscale\":[[0.0,\"#0d0887\"],[0.1111111111111111,\"#46039f\"],[0.2222222222222222,\"#7201a8\"],[0.3333333333333333,\"#9c179e\"],[0.4444444444444444,\"#bd3786\"],[0.5555555555555556,\"#d8576b\"],[0.6666666666666666,\"#ed7953\"],[0.7777777777777778,\"#fb9f3a\"],[0.8888888888888888,\"#fdca26\"],[1.0,\"#f0f921\"]]}],\"scatterternary\":[{\"type\":\"scatterternary\",\"marker\":{\"colorbar\":{\"ticks\":\"\",\"outlinewidth\":0}}}],\"barpolar\":[{\"type\":\"barpolar\",\"marker\":{\"line\":{\"color\":\"#E5ECF6\",\"width\":0.5}}}]},\"layout\":{\"xaxis\":{\"gridcolor\":\"white\",\"zerolinewidth\":2,\"title\":{\"standoff\":15},\"ticks\":\"\",\"zerolinecolor\":\"white\",\"automargin\":true,\"linecolor\":\"white\"},\"hovermode\":\"closest\",\"paper_bgcolor\":\"white\",\"geo\":{\"showlakes\":true,\"showland\":true,\"landcolor\":\"#E5ECF6\",\"bgcolor\":\"white\",\"subunitcolor\":\"white\",\"lakecolor\":\"white\"},\"colorscale\":{\"sequential\":[[0.0,\"#0d0887\"],[0.1111111111111111,\"#46039f\"],[0.2222222222222222,\"#7201a8\"],[0.3333333333333333,\"#9c179e\"],[0.4444444444444444,\"#bd3786\"],[0.5555555555555556,\"#d8576b\"],[0.6666666666666666,\"#ed7953\"],[0.7777777777777778,\"#fb9f3a\"],[0.8888888888888888,\"#fdca26\"],[1.0,\"#f0f921\"]],\"diverging\":[[0,\"#8e0152\"],[0.1,\"#c51b7d\"],[0.2,\"#de77ae\"],[0.3,\"#f1b6da\"],[0.4,\"#fde0ef\"],[0.5,\"#f7f7f7\"],[0.6,\"#e6f5d0\"],[0.7,\"#b8e186\"],[0.8,\"#7fbc41\"],[0.9,\"#4d9221\"],[1,\"#276419\"]],\"sequentialminus\":[[0.0,\"#0d0887\"],[0.1111111111111111,\"#46039f\"],[0.2222222222222222,\"#7201a8\"],[0.3333333333333333,\"#9c179e\"],[0.4444444444444444,\"#bd3786\"],[0.5555555555555556,\"#d8576b\"],[0.6666666666666666,\"#ed7953\"],[0.7777777777777778,\"#fb9f3a\"],[0.8888888888888888,\"#fdca26\"],[1.0,\"#f0f921\"]]},\"yaxis\":{\"gridcolor\":\"white\",\"zerolinewidth\":2,\"title\":{\"standoff\":15},\"ticks\":\"\",\"zerolinecolor\":\"white\",\"automargin\":true,\"linecolor\":\"white\"},\"shapedefaults\":{\"line\":{\"color\":\"#2a3f5f\"}},\"font\":{\"color\":\"#2a3f5f\"},\"annotationdefaults\":{\"arrowhead\":0,\"arrowwidth\":1,\"arrowcolor\":\"#2a3f5f\"},\"plot_bgcolor\":\"#E5ECF6\",\"title\":{\"x\":0.05},\"coloraxis\":{\"colorbar\":{\"ticks\":\"\",\"outlinewidth\":0}},\"hoverlabel\":{\"align\":\"left\"},\"mapbox\":{\"style\":\"light\"},\"polar\":{\"angularaxis\":{\"gridcolor\":\"white\",\"ticks\":\"\",\"linecolor\":\"white\"},\"bgcolor\":\"#E5ECF6\",\"radialaxis\":{\"gridcolor\":\"white\",\"ticks\":\"\",\"linecolor\":\"white\"}},\"autotypenumbers\":\"strict\",\"ternary\":{\"aaxis\":{\"gridcolor\":\"white\",\"ticks\":\"\",\"linecolor\":\"white\"},\"bgcolor\":\"#E5ECF6\",\"caxis\":{\"gridcolor\":\"white\",\"ticks\":\"\",\"linecolor\":\"white\"},\"baxis\":{\"gridcolor\":\"white\",\"ticks\":\"\",\"linecolor\":\"white\"}},\"scene\":{\"xaxis\":{\"gridcolor\":\"white\",\"gridwidth\":2,\"backgroundcolor\":\"#E5ECF6\",\"ticks\":\"\",\"showbackground\":true,\"zerolinecolor\":\"white\",\"linecolor\":\"white\"},\"zaxis\":{\"gridcolor\":\"white\",\"gridwidth\":2,\"backgroundcolor\":\"#E5ECF6\",\"ticks\":\"\",\"showbackground\":true,\"zerolinecolor\":\"white\",\"linecolor\":\"white\"},\"yaxis\":{\"gridcolor\":\"white\",\"gridwidth\":2,\"backgroundcolor\":\"#E5ECF6\",\"ticks\":\"\",\"showbackground\":true,\"zerolinecolor\":\"white\",\"linecolor\":\"white\"}},\"colorway\":[\"#636efa\",\"#EF553B\",\"#00cc96\",\"#ab63fa\",\"#FFA15A\",\"#19d3f3\",\"#FF6692\",\"#B6E880\",\"#FF97FF\",\"#FECB52\"]}},\"yaxis4\":{\"showticklabels\":false,\"range\":[0.0,0.3],\"domain\":[0.3944444444444444,0.6055555555555555],\"anchor\":\"x4\"},\"yaxis2\":{\"showticklabels\":false,\"range\":[0.0,0.3],\"domain\":[0.7888888888888889,1.0],\"anchor\":\"x2\"},\"xaxis3\":{\"dtick\":10,\"ticks\":\"outside\",\"domain\":[0.7111111111111111,1.0],\"tick0\":0,\"anchor\":\"y3\"},\"xaxis4\":{\"dtick\":10,\"ticks\":\"outside\",\"domain\":[0.0,0.2888888888888889],\"tick0\":0,\"anchor\":\"y4\"},\"yaxis1\":{\"showticklabels\":false,\"range\":[0.0,0.3],\"domain\":[0.7888888888888889,1.0],\"anchor\":\"x1\"},\"annotations\":[{\"yanchor\":\"bottom\",\"xanchor\":\"center\",\"y\":1.0,\"font\":{\"size\":16},\"showarrow\":false,\"yref\":\"paper\",\"text\":\"Policy 1.1\",\"xref\":\"paper\",\"x\":0.14444444444444446},{\"yanchor\":\"bottom\",\"xanchor\":\"center\",\"y\":1.0,\"font\":{\"size\":16},\"showarrow\":false,\"yref\":\"paper\",\"text\":\"Policy 1.2\",\"xref\":\"paper\",\"x\":0.5},{\"yanchor\":\"bottom\",\"xanchor\":\"center\",\"y\":1.0,\"font\":{\"size\":16},\"showarrow\":false,\"yref\":\"paper\",\"text\":\"Policy 1.3\",\"xref\":\"paper\",\"x\":0.8555555555555556},{\"yanchor\":\"bottom\",\"xanchor\":\"center\",\"y\":0.6055555555555555,\"font\":{\"size\":16},\"showarrow\":false,\"yref\":\"paper\",\"text\":\"Policy 2.1\",\"xref\":\"paper\",\"x\":0.14444444444444446},{\"yanchor\":\"bottom\",\"xanchor\":\"center\",\"y\":0.6055555555555555,\"font\":{\"size\":16},\"showarrow\":false,\"yref\":\"paper\",\"text\":\"Policy 2.2\",\"xref\":\"paper\",\"x\":0.5},{\"yanchor\":\"bottom\",\"xanchor\":\"center\",\"y\":0.6055555555555555,\"font\":{\"size\":16},\"showarrow\":false,\"yref\":\"paper\",\"text\":\"Policy 2.3\",\"xref\":\"paper\",\"x\":0.8555555555555556},{\"yanchor\":\"bottom\",\"xanchor\":\"center\",\"y\":0.21111111111111103,\"font\":{\"size\":16},\"showarrow\":false,\"yref\":\"paper\",\"text\":\"Policy 3.1\",\"xref\":\"paper\",\"x\":0.14444444444444446},{\"yanchor\":\"bottom\",\"xanchor\":\"center\",\"y\":0.21111111111111103,\"font\":{\"size\":16},\"showarrow\":false,\"yref\":\"paper\",\"text\":\"Policy 3.2\",\"xref\":\"paper\",\"x\":0.5},{\"yanchor\":\"bottom\",\"xanchor\":\"center\",\"y\":0.21111111111111103,\"font\":{\"size\":16},\"showarrow\":false,\"yref\":\"paper\",\"text\":\"Policy 3.3\",\"xref\":\"paper\",\"x\":0.8555555555555556}],\"yaxis6\":{\"showticklabels\":false,\"range\":[0.0,0.3],\"domain\":[0.3944444444444444,0.6055555555555555],\"anchor\":\"x6\"},\"title\":{\"text\":\"Single Curb End States\"},\"xaxis5\":{\"dtick\":10,\"ticks\":\"outside\",\"domain\":[0.35555555555555557,0.6444444444444445],\"tick0\":0,\"anchor\":\"y5\"},\"showlegend\":false,\"xaxis9\":{\"dtick\":10,\"ticks\":\"outside\",\"domain\":[0.7111111111111111,1.0],\"tick0\":0,\"anchor\":\"y9\"},\"xaxis1\":{\"dtick\":10,\"ticks\":\"outside\",\"domain\":[0.0,0.2888888888888889],\"tick0\":0,\"anchor\":\"y1\"},\"yaxis8\":{\"showticklabels\":false,\"range\":[0.0,0.3],\"domain\":[-8.326672684688674e-17,0.21111111111111103],\"anchor\":\"x8\"},\"yaxis3\":{\"showticklabels\":false,\"range\":[0.0,0.3],\"domain\":[0.7888888888888889,1.0],\"anchor\":\"x3\"},\"yaxis9\":{\"showticklabels\":false,\"range\":[0.0,0.3],\"domain\":[-8.326672684688674e-17,0.21111111111111103],\"anchor\":\"x9\"},\"yaxis5\":{\"showticklabels\":false,\"range\":[0.0,0.3],\"domain\":[0.3944444444444444,0.6055555555555555],\"anchor\":\"x5\"},\"yaxis7\":{\"showticklabels\":false,\"range\":[0.0,0.3],\"domain\":[-8.326672684688674e-17,0.21111111111111103],\"anchor\":\"x7\"},\"xaxis2\":{\"dtick\":10,\"ticks\":\"outside\",\"domain\":[0.35555555555555557,0.6444444444444445],\"tick0\":0,\"anchor\":\"y2\"},\"xaxis6\":{\"dtick\":10,\"ticks\":\"outside\",\"domain\":[0.7111111111111111,1.0],\"tick0\":0,\"anchor\":\"y6\"},\"margin\":{\"l\":50,\"b\":50,\"r\":50,\"t\":60}}]}}},\"children\":[{\"props\":{\"id\":\"plot-e9fe16d5-64f2-436a-95a1-967ddc542514\"},\"nodeType\":\"DOM\",\"type\":\"node\",\"instanceArgs\":{\"namespace\":\"html\",\"tag\":\"div\"},\"children\":[]}]},\n",
       "        window,\n",
       "    );\n",
       "    })()\n",
       "    </script>\n",
       "</div>\n"
      ],
      "text/plain": [
       "data: [\n",
       "  \"scatter with fields line, mode, type, x, xaxis, y, and yaxis\",\n",
       "  \"scatter with fields label, line, mode, text, type, x, xaxis, y, and yaxis\",\n",
       "  \"scatter with fields label, line, mode, text, type, x, xaxis, y, and yaxis\",\n",
       "  \"scatter with fields label, line, mode, text, type, x, xaxis, y, and yaxis\",\n",
       "  \"scatter with fields label, line, mode, text, type, x, xaxis, y, and yaxis\",\n",
       "  \"scatter with fields label, line, mode, text, type, x, xaxis, y, and yaxis\",\n",
       "  \"scatter with fields label, line, mode, text, type, x, xaxis, y, and yaxis\",\n",
       "  \"scatter with fields line, mode, type, x, xaxis, y, and yaxis\",\n",
       "  \"scatter with fields label, line, mode, text, type, x, xaxis, y, and yaxis\",\n",
       "  \"scatter with fields label, line, mode, text, type, x, xaxis, y, and yaxis\",\n",
       "  \"scatter with fields label, line, mode, text, type, x, xaxis, y, and yaxis\",\n",
       "  \"scatter with fields label, line, mode, text, type, x, xaxis, y, and yaxis\",\n",
       "  \"scatter with fields label, line, mode, text, type, x, xaxis, y, and yaxis\",\n",
       "  \"scatter with fields label, line, mode, text, type, x, xaxis, y, and yaxis\",\n",
       "  \"scatter with fields line, mode, type, x, xaxis, y, and yaxis\",\n",
       "  \"scatter with fields label, line, mode, text, type, x, xaxis, y, and yaxis\",\n",
       "  \"scatter with fields label, line, mode, text, type, x, xaxis, y, and yaxis\",\n",
       "  \"scatter with fields label, line, mode, text, type, x, xaxis, y, and yaxis\",\n",
       "  \"scatter with fields label, line, mode, text, type, x, xaxis, y, and yaxis\",\n",
       "  \"scatter with fields label, line, mode, text, type, x, xaxis, y, and yaxis\",\n",
       "  \"scatter with fields label, line, mode, text, type, x, xaxis, y, and yaxis\",\n",
       "  \"scatter with fields label, line, mode, text, type, x, xaxis, y, and yaxis\",\n",
       "  \"scatter with fields label, line, mode, text, type, x, xaxis, y, and yaxis\",\n",
       "  \"scatter with fields line, mode, type, x, xaxis, y, and yaxis\",\n",
       "  \"scatter with fields label, line, mode, text, type, x, xaxis, y, and yaxis\",\n",
       "  \"scatter with fields label, line, mode, text, type, x, xaxis, y, and yaxis\",\n",
       "  \"scatter with fields label, line, mode, text, type, x, xaxis, y, and yaxis\",\n",
       "  \"scatter with fields label, line, mode, text, type, x, xaxis, y, and yaxis\",\n",
       "  \"scatter with fields label, line, mode, text, type, x, xaxis, y, and yaxis\",\n",
       "  \"scatter with fields label, line, mode, text, type, x, xaxis, y, and yaxis\",\n",
       "  \"scatter with fields label, line, mode, text, type, x, xaxis, y, and yaxis\",\n",
       "  \"scatter with fields line, mode, type, x, xaxis, y, and yaxis\",\n",
       "  \"scatter with fields label, line, mode, text, type, x, xaxis, y, and yaxis\",\n",
       "  \"scatter with fields label, line, mode, text, type, x, xaxis, y, and yaxis\",\n",
       "  \"scatter with fields label, line, mode, text, type, x, xaxis, y, and yaxis\",\n",
       "  \"scatter with fields label, line, mode, text, type, x, xaxis, y, and yaxis\",\n",
       "  \"scatter with fields label, line, mode, text, type, x, xaxis, y, and yaxis\",\n",
       "  \"scatter with fields label, line, mode, text, type, x, xaxis, y, and yaxis\",\n",
       "  \"scatter with fields line, mode, type, x, xaxis, y, and yaxis\",\n",
       "  \"scatter with fields label, line, mode, text, type, x, xaxis, y, and yaxis\",\n",
       "  \"scatter with fields label, line, mode, text, type, x, xaxis, y, and yaxis\",\n",
       "  \"scatter with fields label, line, mode, text, type, x, xaxis, y, and yaxis\",\n",
       "  \"scatter with fields label, line, mode, text, type, x, xaxis, y, and yaxis\",\n",
       "  \"scatter with fields label, line, mode, text, type, x, xaxis, y, and yaxis\",\n",
       "  \"scatter with fields label, line, mode, text, type, x, xaxis, y, and yaxis\",\n",
       "  \"scatter with fields label, line, mode, text, type, x, xaxis, y, and yaxis\",\n",
       "  \"scatter with fields line, mode, type, x, xaxis, y, and yaxis\",\n",
       "  \"scatter with fields label, line, mode, text, type, x, xaxis, y, and yaxis\",\n",
       "  \"scatter with fields label, line, mode, text, type, x, xaxis, y, and yaxis\",\n",
       "  \"scatter with fields label, line, mode, text, type, x, xaxis, y, and yaxis\",\n",
       "  \"scatter with fields label, line, mode, text, type, x, xaxis, y, and yaxis\",\n",
       "  \"scatter with fields label, line, mode, text, type, x, xaxis, y, and yaxis\",\n",
       "  \"scatter with fields label, line, mode, text, type, x, xaxis, y, and yaxis\",\n",
       "  \"scatter with fields label, line, mode, text, type, x, xaxis, y, and yaxis\",\n",
       "  \"scatter with fields label, line, mode, text, type, x, xaxis, y, and yaxis\",\n",
       "  \"scatter with fields line, mode, type, x, xaxis, y, and yaxis\",\n",
       "  \"scatter with fields label, line, mode, text, type, x, xaxis, y, and yaxis\",\n",
       "  \"scatter with fields label, line, mode, text, type, x, xaxis, y, and yaxis\",\n",
       "  \"scatter with fields label, line, mode, text, type, x, xaxis, y, and yaxis\",\n",
       "  \"scatter with fields label, line, mode, text, type, x, xaxis, y, and yaxis\",\n",
       "  \"scatter with fields label, line, mode, text, type, x, xaxis, y, and yaxis\",\n",
       "  \"scatter with fields label, line, mode, text, type, x, xaxis, y, and yaxis\",\n",
       "  \"scatter with fields line, mode, type, x, xaxis, y, and yaxis\",\n",
       "  \"scatter with fields label, line, mode, text, type, x, xaxis, y, and yaxis\",\n",
       "  \"scatter with fields label, line, mode, text, type, x, xaxis, y, and yaxis\",\n",
       "  \"scatter with fields label, line, mode, text, type, x, xaxis, y, and yaxis\",\n",
       "  \"scatter with fields label, line, mode, text, type, x, xaxis, y, and yaxis\",\n",
       "  \"scatter with fields label, line, mode, text, type, x, xaxis, y, and yaxis\",\n",
       "  \"scatter with fields label, line, mode, text, type, x, xaxis, y, and yaxis\"\n",
       "]\n",
       "\n",
       "layout: \"layout with fields annotations, margin, showlegend, template, title, xaxis1, xaxis2, xaxis3, xaxis4, xaxis5, xaxis6, xaxis7, xaxis8, xaxis9, yaxis1, yaxis2, yaxis3, yaxis4, yaxis5, yaxis6, yaxis7, yaxis8, and yaxis9\"\n",
       "\n"
      ]
     },
     "metadata": {},
     "output_type": "display_data"
    }
   ],
   "source": [
    "plot_cars(policies, 40.0, 200, title = \"Single Curb End States\")"
   ]
  },
  {
   "cell_type": "code",
   "execution_count": 68,
   "metadata": {},
   "outputs": [
    {
     "data": {
      "text/plain": [
       "check_overlap! (generic function with 1 method)"
      ]
     },
     "metadata": {},
     "output_type": "display_data"
    }
   ],
   "source": [
    "function check_overlap!(result::Dict)\n",
    "    sorted_cars = sort(result[\"parked_cars\"], by = x -> x[1])\n",
    "    last_rear = 0\n",
    "    for (i, (front, rear, _, _)) in enumerate(sorted_cars)\n",
    "        if i != 1\n",
    "            (front - last_rear < 0) && error(\"Overlap at index \", i-1, \" and \", i, \".\" )  \n",
    "        end\n",
    "        last_rear = rear\n",
    "    end\n",
    "    print(\"No overlap!\")\n",
    "    return Nothing\n",
    "end\n"
   ]
  },
  {
   "cell_type": "code",
   "execution_count": 69,
   "metadata": {},
   "outputs": [
    {
     "name": "stdout",
     "output_type": "stream",
     "text": [
      "No overlap!"
     ]
    }
   ],
   "source": [
    "check_overlap!(result);"
   ]
  }
 ],
 "metadata": {
  "kernelspec": {
   "display_name": "Julia 1.8.5",
   "language": "julia",
   "name": "julia-1.8"
  },
  "language_info": {
   "file_extension": ".jl",
   "mimetype": "application/julia",
   "name": "julia",
   "version": "1.8.5"
  },
  "orig_nbformat": 4
 },
 "nbformat": 4,
 "nbformat_minor": 2
}
