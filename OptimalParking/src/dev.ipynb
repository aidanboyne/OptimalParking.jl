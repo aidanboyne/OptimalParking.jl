{
 "cells": [
  {
   "attachments": {},
   "cell_type": "markdown",
   "metadata": {},
   "source": [
    "# Optimal Parking\n",
    "---\n",
    "\n",
    "In crowded urban areas, attempting to find street parking near your destination can be a stressful and aggravating task. You might attempt to pull into a spot only to find you lack the space (or skill) to fit in the narrow gap. Even worse, you might find that inconsiderate drivers have managed to take up 5 potential spots with only three vehicles. Considering varying vehicle size, perfect use of curb space in a busy environment is unlikley. What we attempt to find in this paper is an optimal parking strategy, that if followed, would lead to the most vehicles finding a spot near their destination.\n",
    "\n",
    "To takle the problem, we simulate example situations of increasing complexity. Each situation consists of **drivers** and a **neighborhood**. \n",
    "\n",
    "Each **driver** is has a specified car, skill, parking duration, distance tolerance, and parking policy. \n",
    "- For simplicity, the size of each car is drawn from a gaussian distrubution with mean of 4.25m and standard-deviation of .5m. During sampling, cars with a length of less than 3 or greater than 5.5 meters are rounded up or down to these respective bounds.\n",
    "- Skill dictates what percentage greater than the length of the car is required for the driver to actually park the car if parallel parking is necessary. Though parallel parking is technically feasable in any space longer than the car itself [[1]](http://www.damtp.cam.ac.uk/user/md327/ISlecture_notes_2012.pdf), drivers will not attempt to park in any space with less than 1 meter of free-room, regardless of skill. Skill also determines how close to other cars the driver will park in the case that the space does not require parallel parking (i.e they can pull in or back in directly).\n",
    "- Parking duration is the amount of time (measured in park attempts) that the driver will remain parked. For example, a driver with `park_time = 5` will vacate their parking spot after 5 other drivers attempt to park (regardless of each attempt's success).\n",
    "- Distance tolerance is only implemented in some scenarios where paid parking is present. Under the assumption that paid parking is always available, distance tolerance determines how much further a driver will look beyond the closest paid parking (not yet implemented).\n",
    "- The driver policy is intended to capture the variability in driver mindset. For example, a driver in a rush will likley park less carefully than one with plenty of time. Some drivers may be more concious of leaving space for others, while some might not care and take up much more space than necessary. By manipulating the distribution of driver policies, we can observe how effectivley parking space is used in both ideal and real-world situations.\n",
    "\n",
    "Each **neighborhood** is defined as an undirected graph of streets (edges) and intersections (verticies). They may be as simple as a single curb or as complex as a neighborhood with both free and paid parking.\n",
    "- Drivers can only park along one side of the street (though this may be changed in the future)\n",
    "- Interruptions to a street such as fire lanes or driveways are included by adding a vertex with only two edges.\n",
    "- For now, drivers only care that they can park _somewhere_ in the neighborhood and have no preference for particular streets. This may be changed."
   ]
  },
  {
   "cell_type": "code",
   "execution_count": 1,
   "metadata": {},
   "outputs": [],
   "source": [
    "using Plots, DataFrames, LinearAlgebra"
   ]
  },
  {
   "attachments": {},
   "cell_type": "markdown",
   "metadata": {},
   "source": [
    "## Drivers"
   ]
  },
  {
   "cell_type": "code",
   "execution_count": 10,
   "metadata": {},
   "outputs": [
    {
     "data": {
      "text/plain": [
       "required_space (generic function with 1 method)"
      ]
     },
     "metadata": {},
     "output_type": "display_data"
    }
   ],
   "source": [
    "mutable struct driver\n",
    "    car_length::Float32\n",
    "    driver_skill::Float32\n",
    "    parktime::Int\n",
    "    policy::Int\n",
    "    driverNo::Int\n",
    "end\n",
    "\n",
    "num_drivers = 100\n",
    "\n",
    "# Car length distribution\n",
    "mean_len = 4.25\n",
    "len_dev = 0.5\n",
    "\n",
    "function create_driver(driverNo)\n",
    "    car_length = round(mean_len .+ len_dev * randn(), digits=1)\n",
    "    driver_skill = abs(rand(0:0.05:1))\n",
    "    parktime = rand(60:100)\n",
    "    policy = 0\n",
    "    return driver(car_length, driver_skill, parktime, policy, driverNo)\n",
    "end\n",
    "\n",
    "function create_n_drivers(n)\n",
    "    drivers = [create_driver(i) for i in 1:n]\n",
    "    return drivers\n",
    "end\n",
    "\n",
    "function required_space(driver::driver)\n",
    "    return driver.car_length + 1 + (driver.car_length * 0.2(1-driver.driver_skill))\n",
    "end"
   ]
  },
  {
   "attachments": {},
   "cell_type": "markdown",
   "metadata": {},
   "source": [
    "#### Policies"
   ]
  },
  {
   "cell_type": "code",
   "execution_count": 11,
   "metadata": {},
   "outputs": [],
   "source": []
  },
  {
   "attachments": {},
   "cell_type": "markdown",
   "metadata": {},
   "source": [
    "## The Neighborhood"
   ]
  },
  {
   "cell_type": "code",
   "execution_count": 12,
   "metadata": {},
   "outputs": [
    {
     "data": {
      "text/plain": [
       "build_hood"
      ]
     },
     "metadata": {},
     "output_type": "display_data"
    }
   ],
   "source": [
    "\"\"\"\n",
    "Input dimensions as pair tuples (nodes_across, length), (nodes_down, length).\n",
    "\n",
    "\"\"\"\n",
    "function build_hood(layout::Tuple{Int, Int},\n",
    "                    length::Tuple{Int, Int},)\n",
    "\n",
    "    rows = layout[1]; cols = layout[2]\n",
    "    row_length = length[1]; col_length = length[2]\n",
    "    n = rows * cols\n",
    "    M = zeros(Int, (n, n))\n",
    "    for r in 1:rows\n",
    "        for c in 1:cols\n",
    "            i = (r - 1) * cols + c\n",
    "            # Two inner diagonals\n",
    "            if c > 1\n",
    "                M[i - 1, i] = row_length\n",
    "                M[i, i - 1] = row_length\n",
    "            end\n",
    "            # Two outer diagonals\n",
    "            if r > 1\n",
    "                M[i - cols, i] = col_length\n",
    "                M[i, i - cols] = col_length\n",
    "            end\n",
    "        end\n",
    "    end\n",
    "    return M\n",
    "end"
   ]
  },
  {
   "cell_type": "code",
   "execution_count": 13,
   "metadata": {},
   "outputs": [
    {
     "data": {
      "text/plain": [
       "4×4 Matrix{Int64}:\n",
       "  0  50  20   0\n",
       " 50   0   0  20\n",
       " 20   0   0  50\n",
       "  0  20  50   0"
      ]
     },
     "metadata": {},
     "output_type": "display_data"
    }
   ],
   "source": [
    "# heatmap(build_hood((3,5), (50,20)))\n",
    "hood = build_hood((2,2), (50,20))"
   ]
  },
  {
   "attachments": {},
   "cell_type": "markdown",
   "metadata": {},
   "source": [
    "## Simulation\n",
    "\n",
    "#### Construct Neighborhood\n",
    "1. TODO\n",
    "\n",
    "#### Car parking\n",
    "1. select curb\n",
    "2. find length of available open spaces on curb (spot_length)\n",
    "3. if space exists that will fit car_length * driver_skill, the car will take the spot for the driver's parking duration and then vacate\n",
    "4. when excess space is available (i.e. car_length * driver_skill < spot_length), allocate the extra space according to the parking policy.\n",
    "    - Drivers will not perfectly fulfill the policy, rather, they will fail by driver_skill%, provided this will not cause them to hit another vehicle\n",
    "5. if no space is available, the a counter ticks up and the process repeats"
   ]
  },
  {
   "cell_type": "code",
   "execution_count": 14,
   "metadata": {},
   "outputs": [
    {
     "data": {
      "text/plain": [
       "park_sim (generic function with 1 method)"
      ]
     },
     "metadata": {},
     "output_type": "display_data"
    }
   ],
   "source": [
    "function park_sim(drivers::Vector{driver}, curb_length::Real)\n",
    "\n",
    "    tick = 0\n",
    "    no_spot = 0\n",
    "    available_spaces = [(0.0, Float64(curb_length), 0)] #rear, front, driver to right (0 if none)\n",
    "    parked_cars = []\n",
    "\n",
    "    while true\n",
    "        tick += 1\n",
    "\n",
    "        # end simulation once all of drivers have searched for a spot\n",
    "        if isempty(drivers)\n",
    "            break \n",
    "        end\n",
    "\n",
    "        driver = pop!(drivers) # extract last driver from list\n",
    "        req_space = required_space(driver)\n",
    "        free_space = (req_space - driver.car_length)/2 #assume driver leaves same space in front/rear (change with policy)\n",
    "        spot_index = 0 #track where on curb the current driver is parking\n",
    "        found_spot = false\n",
    "        \n",
    "        # Note: this causes drivers to look for spots from start to end of curb\n",
    "        for (i, (rear, front, dNo)) in enumerate(available_spaces)\n",
    "            spot = front - rear # calculate length of available spot\n",
    "            if spot >= req_space\n",
    "                found_spot = true # driver found spot that will fit car with sufficient room\n",
    "                spot_index = i\n",
    "                break\n",
    "            end\n",
    "        end\n",
    "\n",
    "        if found_spot\n",
    "            # update available_spaces after car has parked\n",
    "            rear, front, dNo_right = available_spaces[spot_index]\n",
    "            # add policy dependent start_end function here\n",
    "            car_start = rear+free_space\n",
    "            car_end = car_start+driver.car_length\n",
    "\n",
    "            splice!(available_spaces, spot_index, [(rear, car_start, driver.driverNo), (car_end, front, dNo_right)])\n",
    "            # add driver to list of parked cars\n",
    "            push!(parked_cars, (car_start, car_end, driver.parktime, driver.driverNo))\n",
    "        else\n",
    "            no_spot += 1 # update number of divers unable to park\n",
    "        end\n",
    "\n",
    "        # update parktime for each of the parked vehicles\n",
    "        if !isempty(parked_cars)\n",
    "            parked_cars = map(x -> (x[1], x[2], x[3] - 1, x[4]), parked_cars)\n",
    "        end\n",
    "\n",
    "        # reduce time left in spot, if zero, remove driver from parked cars list and reallocate their spot to available_spaces\n",
    "        for (i, (car_start, car_end, parktime, driverNo)) in enumerate(parked_cars)\n",
    "            if parktime <= 0\n",
    "                deleteat!(parked_cars, i)\n",
    "                parking_space = findfirst(x -> x[3] == driverNo, available_spaces)\n",
    "                now_available = (available_spaces[parking_space][1], available_spaces[parking_space+1][2], available_spaces[parking_space+1][3])\n",
    "                splice!(available_spaces, parking_space:parking_space+1, [now_available])\n",
    "            end\n",
    "        end\n",
    "    end\n",
    "\n",
    "    residual_space = curb_length - sum(map(x -> (x[2] - x[1]), parked_cars))\n",
    "    println(\"There were \", round(residual_space, digits = 3), \" meters of unused curb space. (\",\n",
    "             round(100(residual_space/curb_length), digits = 3), \"%)\")\n",
    "    println(no_spot, \" drivers were unable to find a spot.\")\n",
    "\n",
    "    park_results = Dict(\"parked_cars\" => parked_cars,\n",
    "                        \"residual_space\" => residual_space,\n",
    "                        \"no_spot\" => no_spot)\n",
    "\n",
    "    return(park_results)\n",
    "end"
   ]
  },
  {
   "cell_type": "code",
   "execution_count": 15,
   "metadata": {},
   "outputs": [
    {
     "name": "stdout",
     "output_type": "stream",
     "text": [
      "There were 25.5 meters of unused curb space. (25.5%)\n",
      "375 drivers were unable to find a spot.\n"
     ]
    }
   ],
   "source": [
    "curb_length = 100.0 # length of the long side of a \"Chicago block\" in meters\n",
    "drivers = create_n_drivers(500)\n",
    "\n",
    "result = park_sim(drivers, curb_length);"
   ]
  },
  {
   "cell_type": "code",
   "execution_count": 16,
   "metadata": {},
   "outputs": [],
   "source": [
    "# # Interactive plot with PlotlyJS backend\n",
    "# function plot_cars(curb_length, park_simulation)\n",
    "#     car_positions = park_simulation[\"parked_cars\"]\n",
    "    \n",
    "#     starts = map(x -> x[1], car_positions)\n",
    "#     ends = map(x -> x[2], car_positions)\n",
    "#     driverNo = map(x -> x[4], car_positions)\n",
    "\n",
    "#     x = [starts; ends]\n",
    "#     y = ones(2*size(x)[1])\n",
    "#     traces = [scatter(x=[0, curb_length], y=[0.1, 0.1], mode=\"lines\", line=attr(width=100, color=\"black\"))]\n",
    "    \n",
    "#     for i in eachindex(starts)\n",
    "#         trace = scatter(x=[starts[i],ends[i]], y=[0.2,0.2], text=\"Driver $(driverNo[i])\", mode=\"lines\", line=attr(width=30))\n",
    "#         push!(traces, trace)\n",
    "#     end\n",
    "\n",
    "\n",
    "#     layout = Layout(showlegend=false, xaxis=attr(ticks=\"outside\", tick0=0, dtick=10),\n",
    "#                     yaxis=attr(showticklabels=false, range=[0, 0.3]))\n",
    "    \n",
    "    \n",
    "#     plot(traces, layout)\n",
    "# end\n",
    "\n",
    "# plot_cars(curb_length, result)\n"
   ]
  },
  {
   "cell_type": "code",
   "execution_count": 17,
   "metadata": {},
   "outputs": [
    {
     "data": {
      "image/png": "[encoded data removed]",
      "image/svg+xml": [
       "<?xml version=\"1.0\" encoding=\"utf-8\"?>\n",
       "<svg xmlns=\"http://www.w3.org/2000/svg\" xmlns:xlink=\"http://www.w3.org/1999/xlink\" width=\"1200\" height=\"200\" viewBox=\"0 0 4800 800\">\n",
       "<defs>\n",
       "  <clipPath id=\"clip500\">\n",
       "    <rect x=\"0\" y=\"0\" width=\"4800\" height=\"800\"/>\n",
       "  </clipPath>\n",
       "</defs>\n",
       "<path clip-path=\"url(#clip500)\" d=\"M0 800 L4800 800 L4800 0 L0 0  Z\" fill=\"#ffffff\" fill-rule=\"evenodd\" fill-opacity=\"1\"/>\n",
       "<defs>\n",
       "  <clipPath id=\"clip501\">\n",
       "    <rect x=\"960\" y=\"0\" width=\"3361\" height=\"800\"/>\n",
       "  </clipPath>\n",
       "</defs>\n",
       "<path clip-path=\"url(#clip500)\" d=\"M180.112 720.368 L4752.76 720.368 L4752.76 47.2441 L180.112 47.2441  Z\" fill=\"#ffffff\" fill-rule=\"evenodd\" fill-opacity=\"1\"/>\n",
       "<defs>\n",
       "  <clipPath id=\"clip502\">\n",
       "    <rect x=\"180\" y=\"47\" width=\"4574\" height=\"674\"/>\n",
       "  </clipPath>\n",
       "</defs>\n",
       "<polyline clip-path=\"url(#clip502)\" style=\"stroke:#000000; stroke-linecap:round; stroke-linejoin:round; stroke-width:2; stroke-opacity:0.1; fill:none\" points=\"387.96,720.368 387.96,47.2441 \"/>\n",
       "<polyline clip-path=\"url(#clip502)\" style=\"stroke:#000000; stroke-linecap:round; stroke-linejoin:round; stroke-width:2; stroke-opacity:0.1; fill:none\" points=\"803.654,720.368 803.654,47.2441 \"/>\n",
       "<polyline clip-path=\"url(#clip502)\" style=\"stroke:#000000; stroke-linecap:round; stroke-linejoin:round; stroke-width:2; stroke-opacity:0.1; fill:none\" points=\"1219.35,720.368 1219.35,47.2441 \"/>\n",
       "<polyline clip-path=\"url(#clip502)\" style=\"stroke:#000000; stroke-linecap:round; stroke-linejoin:round; stroke-width:2; stroke-opacity:0.1; fill:none\" points=\"1635.04,720.368 1635.04,47.2441 \"/>\n",
       "<polyline clip-path=\"url(#clip502)\" style=\"stroke:#000000; stroke-linecap:round; stroke-linejoin:round; stroke-width:2; stroke-opacity:0.1; fill:none\" points=\"2050.74,720.368 2050.74,47.2441 \"/>\n",
       "<polyline clip-path=\"url(#clip502)\" style=\"stroke:#000000; stroke-linecap:round; stroke-linejoin:round; stroke-width:2; stroke-opacity:0.1; fill:none\" points=\"2466.43,720.368 2466.43,47.2441 \"/>\n",
       "<polyline clip-path=\"url(#clip502)\" style=\"stroke:#000000; stroke-linecap:round; stroke-linejoin:round; stroke-width:2; stroke-opacity:0.1; fill:none\" points=\"2882.13,720.368 2882.13,47.2441 \"/>\n",
       "<polyline clip-path=\"url(#clip502)\" style=\"stroke:#000000; stroke-linecap:round; stroke-linejoin:round; stroke-width:2; stroke-opacity:0.1; fill:none\" points=\"3297.82,720.368 3297.82,47.2441 \"/>\n",
       "<polyline clip-path=\"url(#clip502)\" style=\"stroke:#000000; stroke-linecap:round; stroke-linejoin:round; stroke-width:2; stroke-opacity:0.1; fill:none\" points=\"3713.52,720.368 3713.52,47.2441 \"/>\n",
       "<polyline clip-path=\"url(#clip502)\" style=\"stroke:#000000; stroke-linecap:round; stroke-linejoin:round; stroke-width:2; stroke-opacity:0.1; fill:none\" points=\"4129.21,720.368 4129.21,47.2441 \"/>\n",
       "<polyline clip-path=\"url(#clip502)\" style=\"stroke:#000000; stroke-linecap:round; stroke-linejoin:round; stroke-width:2; stroke-opacity:0.1; fill:none\" points=\"4544.91,720.368 4544.91,47.2441 \"/>\n",
       "<polyline clip-path=\"url(#clip500)\" style=\"stroke:#000000; stroke-linecap:round; stroke-linejoin:round; stroke-width:4; stroke-opacity:1; fill:none\" points=\"180.112,720.368 4752.76,720.368 \"/>\n",
       "<polyline clip-path=\"url(#clip500)\" style=\"stroke:#000000; stroke-linecap:round; stroke-linejoin:round; stroke-width:4; stroke-opacity:1; fill:none\" points=\"387.96,720.368 387.96,701.47 \"/>\n",
       "<polyline clip-path=\"url(#clip500)\" style=\"stroke:#000000; stroke-linecap:round; stroke-linejoin:round; stroke-width:4; stroke-opacity:1; fill:none\" points=\"803.654,720.368 803.654,701.47 \"/>\n",
       "<polyline clip-path=\"url(#clip500)\" style=\"stroke:#000000; stroke-linecap:round; stroke-linejoin:round; stroke-width:4; stroke-opacity:1; fill:none\" points=\"1219.35,720.368 1219.35,701.47 \"/>\n",
       "<polyline clip-path=\"url(#clip500)\" style=\"stroke:#000000; stroke-linecap:round; stroke-linejoin:round; stroke-width:4; stroke-opacity:1; fill:none\" points=\"1635.04,720.368 1635.04,701.47 \"/>\n",
       "<polyline clip-path=\"url(#clip500)\" style=\"stroke:#000000; stroke-linecap:round; stroke-linejoin:round; stroke-width:4; stroke-opacity:1; fill:none\" points=\"2050.74,720.368 2050.74,701.47 \"/>\n",
       "<polyline clip-path=\"url(#clip500)\" style=\"stroke:#000000; stroke-linecap:round; stroke-linejoin:round; stroke-width:4; stroke-opacity:1; fill:none\" points=\"2466.43,720.368 2466.43,701.47 \"/>\n",
       "<polyline clip-path=\"url(#clip500)\" style=\"stroke:#000000; stroke-linecap:round; stroke-linejoin:round; stroke-width:4; stroke-opacity:1; fill:none\" points=\"2882.13,720.368 2882.13,701.47 \"/>\n",
       "<polyline clip-path=\"url(#clip500)\" style=\"stroke:#000000; stroke-linecap:round; stroke-linejoin:round; stroke-width:4; stroke-opacity:1; fill:none\" points=\"3297.82,720.368 3297.82,701.47 \"/>\n",
       "<polyline clip-path=\"url(#clip500)\" style=\"stroke:#000000; stroke-linecap:round; stroke-linejoin:round; stroke-width:4; stroke-opacity:1; fill:none\" points=\"3713.52,720.368 3713.52,701.47 \"/>\n",
       "<polyline clip-path=\"url(#clip500)\" style=\"stroke:#000000; stroke-linecap:round; stroke-linejoin:round; stroke-width:4; stroke-opacity:1; fill:none\" points=\"4129.21,720.368 4129.21,701.47 \"/>\n",
       "<polyline clip-path=\"url(#clip500)\" style=\"stroke:#000000; stroke-linecap:round; stroke-linejoin:round; stroke-width:4; stroke-opacity:1; fill:none\" points=\"4544.91,720.368 4544.91,701.47 \"/>\n",
       "<path clip-path=\"url(#clip500)\" d=\"M387.96 770.487 Q384.348 770.487 382.52 774.051 Q380.714 777.593 380.714 784.723 Q380.714 791.829 382.52 795.394 Q384.348 798.935 387.96 798.935 Q391.594 798.935 393.399 795.394 Q395.228 791.829 395.228 784.723 Q395.228 777.593 393.399 774.051 Q391.594 770.487 387.96 770.487 M387.96 766.783 Q393.77 766.783 396.825 771.389 Q399.904 775.973 399.904 784.723 Q399.904 793.449 396.825 798.056 Q393.77 802.639 387.96 802.639 Q382.149 802.639 379.071 798.056 Q376.015 793.449 376.015 784.723 Q376.015 775.973 379.071 771.389 Q382.149 766.783 387.96 766.783 Z\" fill=\"#000000\" fill-rule=\"nonzero\" fill-opacity=\"1\" /><path clip-path=\"url(#clip500)\" d=\"M778.342 798.033 L785.981 798.033 L785.981 771.667 L777.671 773.334 L777.671 769.075 L785.935 767.408 L790.611 767.408 L790.611 798.033 L798.249 798.033 L798.249 801.968 L778.342 801.968 L778.342 798.033 Z\" fill=\"#000000\" fill-rule=\"nonzero\" fill-opacity=\"1\" /><path clip-path=\"url(#clip500)\" d=\"M817.694 770.487 Q814.083 770.487 812.254 774.051 Q810.448 777.593 810.448 784.723 Q810.448 791.829 812.254 795.394 Q814.083 798.935 817.694 798.935 Q821.328 798.935 823.134 795.394 Q824.962 791.829 824.962 784.723 Q824.962 777.593 823.134 774.051 Q821.328 770.487 817.694 770.487 M817.694 766.783 Q823.504 766.783 826.559 771.389 Q829.638 775.973 829.638 784.723 Q829.638 793.449 826.559 798.056 Q823.504 802.639 817.694 802.639 Q811.884 802.639 808.805 798.056 Q805.749 793.449 805.749 784.723 Q805.749 775.973 808.805 771.389 Q811.884 766.783 817.694 766.783 Z\" fill=\"#000000\" fill-rule=\"nonzero\" fill-opacity=\"1\" /><path clip-path=\"url(#clip500)\" d=\"M1198.12 798.033 L1214.44 798.033 L1214.44 801.968 L1192.5 801.968 L1192.5 798.033 Q1195.16 795.278 1199.74 790.648 Q1204.35 785.996 1205.53 784.653 Q1207.78 782.13 1208.65 780.394 Q1209.56 778.635 1209.56 776.945 Q1209.56 774.19 1207.61 772.454 Q1205.69 770.718 1202.59 770.718 Q1200.39 770.718 1197.94 771.482 Q1195.51 772.246 1192.73 773.797 L1192.73 769.075 Q1195.55 767.94 1198.01 767.362 Q1200.46 766.783 1202.5 766.783 Q1207.87 766.783 1211.06 769.468 Q1214.26 772.153 1214.26 776.644 Q1214.26 778.774 1213.45 780.695 Q1212.66 782.593 1210.55 785.186 Q1209.97 785.857 1206.87 789.074 Q1203.77 792.269 1198.12 798.033 Z\" fill=\"#000000\" fill-rule=\"nonzero\" fill-opacity=\"1\" /><path clip-path=\"url(#clip500)\" d=\"M1234.26 770.487 Q1230.65 770.487 1228.82 774.051 Q1227.01 777.593 1227.01 784.723 Q1227.01 791.829 1228.82 795.394 Q1230.65 798.935 1234.26 798.935 Q1237.89 798.935 1239.7 795.394 Q1241.53 791.829 1241.53 784.723 Q1241.53 777.593 1239.7 774.051 Q1237.89 770.487 1234.26 770.487 M1234.26 766.783 Q1240.07 766.783 1243.12 771.389 Q1246.2 775.973 1246.2 784.723 Q1246.2 793.449 1243.12 798.056 Q1240.07 802.639 1234.26 802.639 Q1228.45 802.639 1225.37 798.056 Q1222.31 793.449 1222.31 784.723 Q1222.31 775.973 1225.37 771.389 Q1228.45 766.783 1234.26 766.783 Z\" fill=\"#000000\" fill-rule=\"nonzero\" fill-opacity=\"1\" /><path clip-path=\"url(#clip500)\" d=\"M1623.89 783.334 Q1627.24 784.051 1629.12 786.32 Q1631.02 788.588 1631.02 791.922 Q1631.02 797.037 1627.5 799.838 Q1623.98 802.639 1617.5 802.639 Q1615.32 802.639 1613.01 802.199 Q1610.72 801.783 1608.26 800.926 L1608.26 796.412 Q1610.21 797.547 1612.52 798.125 Q1614.84 798.704 1617.36 798.704 Q1621.76 798.704 1624.05 796.968 Q1626.36 795.232 1626.36 791.922 Q1626.36 788.866 1624.21 787.153 Q1622.08 785.417 1618.26 785.417 L1614.23 785.417 L1614.23 781.574 L1618.45 781.574 Q1621.9 781.574 1623.72 780.209 Q1625.55 778.82 1625.55 776.227 Q1625.55 773.565 1623.66 772.153 Q1621.78 770.718 1618.26 770.718 Q1616.34 770.718 1614.14 771.135 Q1611.94 771.551 1609.3 772.431 L1609.3 768.264 Q1611.97 767.524 1614.28 767.153 Q1616.62 766.783 1618.68 766.783 Q1624 766.783 1627.1 769.213 Q1630.21 771.621 1630.21 775.741 Q1630.21 778.612 1628.56 780.602 Q1626.92 782.57 1623.89 783.334 Z\" fill=\"#000000\" fill-rule=\"nonzero\" fill-opacity=\"1\" /><path clip-path=\"url(#clip500)\" d=\"M1649.88 770.487 Q1646.27 770.487 1644.44 774.051 Q1642.64 777.593 1642.64 784.723 Q1642.64 791.829 1644.44 795.394 Q1646.27 798.935 1649.88 798.935 Q1653.52 798.935 1655.32 795.394 Q1657.15 791.829 1657.15 784.723 Q1657.15 777.593 1655.32 774.051 Q1653.52 770.487 1649.88 770.487 M1649.88 766.783 Q1655.69 766.783 1658.75 771.389 Q1661.83 775.973 1661.83 784.723 Q1661.83 793.449 1658.75 798.056 Q1655.69 802.639 1649.88 802.639 Q1644.07 802.639 1640.99 798.056 Q1637.94 793.449 1637.94 784.723 Q1637.94 775.973 1640.99 771.389 Q1644.07 766.783 1649.88 766.783 Z\" fill=\"#000000\" fill-rule=\"nonzero\" fill-opacity=\"1\" /><path clip-path=\"url(#clip500)\" d=\"M2038.91 771.482 L2027.1 789.931 L2038.91 789.931 L2038.91 771.482 M2037.68 767.408 L2043.56 767.408 L2043.56 789.931 L2048.49 789.931 L2048.49 793.82 L2043.56 793.82 L2043.56 801.968 L2038.91 801.968 L2038.91 793.82 L2023.31 793.82 L2023.31 789.306 L2037.68 767.408 Z\" fill=\"#000000\" fill-rule=\"nonzero\" fill-opacity=\"1\" /><path clip-path=\"url(#clip500)\" d=\"M2066.23 770.487 Q2062.61 770.487 2060.79 774.051 Q2058.98 777.593 2058.98 784.723 Q2058.98 791.829 2060.79 795.394 Q2062.61 798.935 2066.23 798.935 Q2069.86 798.935 2071.66 795.394 Q2073.49 791.829 2073.49 784.723 Q2073.49 777.593 2071.66 774.051 Q2069.86 770.487 2066.23 770.487 M2066.23 766.783 Q2072.04 766.783 2075.09 771.389 Q2078.17 775.973 2078.17 784.723 Q2078.17 793.449 2075.09 798.056 Q2072.04 802.639 2066.23 802.639 Q2060.42 802.639 2057.34 798.056 Q2054.28 793.449 2054.28 784.723 Q2054.28 775.973 2057.34 771.389 Q2060.42 766.783 2066.23 766.783 Z\" fill=\"#000000\" fill-rule=\"nonzero\" fill-opacity=\"1\" /><path clip-path=\"url(#clip500)\" d=\"M2441.13 767.408 L2459.49 767.408 L2459.49 771.343 L2445.42 771.343 L2445.42 779.815 Q2446.43 779.468 2447.45 779.306 Q2448.47 779.121 2449.49 779.121 Q2455.28 779.121 2458.66 782.292 Q2462.04 785.463 2462.04 790.88 Q2462.04 796.459 2458.56 799.56 Q2455.09 802.639 2448.77 802.639 Q2446.6 802.639 2444.33 802.269 Q2442.08 801.898 2439.67 801.158 L2439.67 796.459 Q2441.76 797.593 2443.98 798.148 Q2446.2 798.704 2448.68 798.704 Q2452.68 798.704 2455.02 796.598 Q2457.36 794.491 2457.36 790.88 Q2457.36 787.269 2455.02 785.162 Q2452.68 783.056 2448.68 783.056 Q2446.8 783.056 2444.93 783.473 Q2443.08 783.889 2441.13 784.769 L2441.13 767.408 Z\" fill=\"#000000\" fill-rule=\"nonzero\" fill-opacity=\"1\" /><path clip-path=\"url(#clip500)\" d=\"M2481.25 770.487 Q2477.64 770.487 2475.81 774.051 Q2474 777.593 2474 784.723 Q2474 791.829 2475.81 795.394 Q2477.64 798.935 2481.25 798.935 Q2484.88 798.935 2486.69 795.394 Q2488.52 791.829 2488.52 784.723 Q2488.52 777.593 2486.69 774.051 Q2484.88 770.487 2481.25 770.487 M2481.25 766.783 Q2487.06 766.783 2490.11 771.389 Q2493.19 775.973 2493.19 784.723 Q2493.19 793.449 2490.11 798.056 Q2487.06 802.639 2481.25 802.639 Q2475.44 802.639 2472.36 798.056 Q2469.3 793.449 2469.3 784.723 Q2469.3 775.973 2472.36 771.389 Q2475.44 766.783 2481.25 766.783 Z\" fill=\"#000000\" fill-rule=\"nonzero\" fill-opacity=\"1\" /><path clip-path=\"url(#clip500)\" d=\"M2867.53 782.824 Q2864.39 782.824 2862.53 784.977 Q2860.71 787.13 2860.71 790.88 Q2860.71 794.607 2862.53 796.783 Q2864.39 798.935 2867.53 798.935 Q2870.68 798.935 2872.51 796.783 Q2874.36 794.607 2874.36 790.88 Q2874.36 787.13 2872.51 784.977 Q2870.68 782.824 2867.53 782.824 M2876.82 768.172 L2876.82 772.431 Q2875.06 771.598 2873.25 771.158 Q2871.47 770.718 2869.71 770.718 Q2865.08 770.718 2862.63 773.843 Q2860.2 776.968 2859.85 783.287 Q2861.21 781.274 2863.27 780.209 Q2865.34 779.121 2867.81 779.121 Q2873.02 779.121 2876.03 782.292 Q2879.06 785.44 2879.06 790.88 Q2879.06 796.204 2875.91 799.422 Q2872.77 802.639 2867.53 802.639 Q2861.54 802.639 2858.37 798.056 Q2855.2 793.449 2855.2 784.723 Q2855.2 776.528 2859.09 771.667 Q2862.97 766.783 2869.52 766.783 Q2871.28 766.783 2873.07 767.13 Q2874.87 767.477 2876.82 768.172 Z\" fill=\"#000000\" fill-rule=\"nonzero\" fill-opacity=\"1\" /><path clip-path=\"url(#clip500)\" d=\"M2897.12 770.487 Q2893.51 770.487 2891.68 774.051 Q2889.87 777.593 2889.87 784.723 Q2889.87 791.829 2891.68 795.394 Q2893.51 798.935 2897.12 798.935 Q2900.75 798.935 2902.56 795.394 Q2904.39 791.829 2904.39 784.723 Q2904.39 777.593 2902.56 774.051 Q2900.75 770.487 2897.12 770.487 M2897.12 766.783 Q2902.93 766.783 2905.98 771.389 Q2909.06 775.973 2909.06 784.723 Q2909.06 793.449 2905.98 798.056 Q2902.93 802.639 2897.12 802.639 Q2891.31 802.639 2888.23 798.056 Q2885.17 793.449 2885.17 784.723 Q2885.17 775.973 2888.23 771.389 Q2891.31 766.783 2897.12 766.783 Z\" fill=\"#000000\" fill-rule=\"nonzero\" fill-opacity=\"1\" /><path clip-path=\"url(#clip500)\" d=\"M3271.18 767.408 L3293.4 767.408 L3293.4 769.399 L3280.86 801.968 L3275.97 801.968 L3287.78 771.343 L3271.18 771.343 L3271.18 767.408 Z\" fill=\"#000000\" fill-rule=\"nonzero\" fill-opacity=\"1\" /><path clip-path=\"url(#clip500)\" d=\"M3312.52 770.487 Q3308.91 770.487 3307.08 774.051 Q3305.28 777.593 3305.28 784.723 Q3305.28 791.829 3307.08 795.394 Q3308.91 798.935 3312.52 798.935 Q3316.16 798.935 3317.96 795.394 Q3319.79 791.829 3319.79 784.723 Q3319.79 777.593 3317.96 774.051 Q3316.16 770.487 3312.52 770.487 M3312.52 766.783 Q3318.33 766.783 3321.39 771.389 Q3324.47 775.973 3324.47 784.723 Q3324.47 793.449 3321.39 798.056 Q3318.33 802.639 3312.52 802.639 Q3306.71 802.639 3303.63 798.056 Q3300.58 793.449 3300.58 784.723 Q3300.58 775.973 3303.63 771.389 Q3306.71 766.783 3312.52 766.783 Z\" fill=\"#000000\" fill-rule=\"nonzero\" fill-opacity=\"1\" /><path clip-path=\"url(#clip500)\" d=\"M3698.39 785.556 Q3695.06 785.556 3693.14 787.338 Q3691.24 789.121 3691.24 792.246 Q3691.24 795.371 3693.14 797.153 Q3695.06 798.935 3698.39 798.935 Q3701.72 798.935 3703.65 797.153 Q3705.57 795.348 3705.57 792.246 Q3705.57 789.121 3703.65 787.338 Q3701.75 785.556 3698.39 785.556 M3693.72 783.565 Q3690.71 782.824 3689.02 780.764 Q3687.35 778.704 3687.35 775.741 Q3687.35 771.598 3690.29 769.19 Q3693.25 766.783 3698.39 766.783 Q3703.55 766.783 3706.49 769.19 Q3709.43 771.598 3709.43 775.741 Q3709.43 778.704 3707.74 780.764 Q3706.08 782.824 3703.09 783.565 Q3706.47 784.352 3708.35 786.644 Q3710.24 788.936 3710.24 792.246 Q3710.24 797.269 3707.16 799.954 Q3704.11 802.639 3698.39 802.639 Q3692.67 802.639 3689.6 799.954 Q3686.54 797.269 3686.54 792.246 Q3686.54 788.936 3688.44 786.644 Q3690.34 784.352 3693.72 783.565 M3692 776.181 Q3692 778.866 3693.67 780.371 Q3695.36 781.875 3698.39 781.875 Q3701.4 781.875 3703.09 780.371 Q3704.8 778.866 3704.8 776.181 Q3704.8 773.496 3703.09 771.991 Q3701.4 770.487 3698.39 770.487 Q3695.36 770.487 3693.67 771.991 Q3692 773.496 3692 776.181 Z\" fill=\"#000000\" fill-rule=\"nonzero\" fill-opacity=\"1\" /><path clip-path=\"url(#clip500)\" d=\"M3728.55 770.487 Q3724.94 770.487 3723.11 774.051 Q3721.31 777.593 3721.31 784.723 Q3721.31 791.829 3723.11 795.394 Q3724.94 798.935 3728.55 798.935 Q3732.19 798.935 3733.99 795.394 Q3735.82 791.829 3735.82 784.723 Q3735.82 777.593 3733.99 774.051 Q3732.19 770.487 3728.55 770.487 M3728.55 766.783 Q3734.36 766.783 3737.42 771.389 Q3740.5 775.973 3740.5 784.723 Q3740.5 793.449 3737.42 798.056 Q3734.36 802.639 3728.55 802.639 Q3722.74 802.639 3719.66 798.056 Q3716.61 793.449 3716.61 784.723 Q3716.61 775.973 3719.66 771.389 Q3722.74 766.783 3728.55 766.783 Z\" fill=\"#000000\" fill-rule=\"nonzero\" fill-opacity=\"1\" /><path clip-path=\"url(#clip500)\" d=\"M4104.34 801.25 L4104.34 796.991 Q4106.1 797.824 4107.91 798.264 Q4109.71 798.704 4111.45 798.704 Q4116.08 798.704 4118.51 795.602 Q4120.96 792.477 4121.31 786.135 Q4119.97 788.125 4117.91 789.19 Q4115.85 790.255 4113.35 790.255 Q4108.16 790.255 4105.13 787.13 Q4102.12 783.982 4102.12 778.542 Q4102.12 773.218 4105.27 770 Q4108.42 766.783 4113.65 766.783 Q4119.64 766.783 4122.79 771.389 Q4125.96 775.973 4125.96 784.723 Q4125.96 792.894 4122.07 797.778 Q4118.21 802.639 4111.66 802.639 Q4109.9 802.639 4108.09 802.292 Q4106.29 801.945 4104.34 801.25 M4113.65 786.598 Q4116.79 786.598 4118.62 784.445 Q4120.48 782.292 4120.48 778.542 Q4120.48 774.815 4118.62 772.662 Q4116.79 770.487 4113.65 770.487 Q4110.5 770.487 4108.65 772.662 Q4106.82 774.815 4106.82 778.542 Q4106.82 782.292 4108.65 784.445 Q4110.5 786.598 4113.65 786.598 Z\" fill=\"#000000\" fill-rule=\"nonzero\" fill-opacity=\"1\" /><path clip-path=\"url(#clip500)\" d=\"M4144.36 770.487 Q4140.75 770.487 4138.92 774.051 Q4137.12 777.593 4137.12 784.723 Q4137.12 791.829 4138.92 795.394 Q4140.75 798.935 4144.36 798.935 Q4148 798.935 4149.8 795.394 Q4151.63 791.829 4151.63 784.723 Q4151.63 777.593 4149.8 774.051 Q4148 770.487 4144.36 770.487 M4144.36 766.783 Q4150.17 766.783 4153.23 771.389 Q4156.31 775.973 4156.31 784.723 Q4156.31 793.449 4153.23 798.056 Q4150.17 802.639 4144.36 802.639 Q4138.55 802.639 4135.48 798.056 Q4132.42 793.449 4132.42 784.723 Q4132.42 775.973 4135.48 771.389 Q4138.55 766.783 4144.36 766.783 Z\" fill=\"#000000\" fill-rule=\"nonzero\" fill-opacity=\"1\" /><path clip-path=\"url(#clip500)\" d=\"M4504.52 798.033 L4512.15 798.033 L4512.15 771.667 L4503.84 773.334 L4503.84 769.075 L4512.11 767.408 L4516.78 767.408 L4516.78 798.033 L4524.42 798.033 L4524.42 801.968 L4504.52 801.968 L4504.52 798.033 Z\" fill=\"#000000\" fill-rule=\"nonzero\" fill-opacity=\"1\" /><path clip-path=\"url(#clip500)\" d=\"M4543.87 770.487 Q4540.26 770.487 4538.43 774.051 Q4536.62 777.593 4536.62 784.723 Q4536.62 791.829 4538.43 795.394 Q4540.26 798.935 4543.87 798.935 Q4547.5 798.935 4549.31 795.394 Q4551.14 791.829 4551.14 784.723 Q4551.14 777.593 4549.31 774.051 Q4547.5 770.487 4543.87 770.487 M4543.87 766.783 Q4549.68 766.783 4552.73 771.389 Q4555.81 775.973 4555.81 784.723 Q4555.81 793.449 4552.73 798.056 Q4549.68 802.639 4543.87 802.639 Q4538.06 802.639 4534.98 798.056 Q4531.92 793.449 4531.92 784.723 Q4531.92 775.973 4534.98 771.389 Q4538.06 766.783 4543.87 766.783 Z\" fill=\"#000000\" fill-rule=\"nonzero\" fill-opacity=\"1\" /><path clip-path=\"url(#clip500)\" d=\"M4574.03 770.487 Q4570.42 770.487 4568.59 774.051 Q4566.78 777.593 4566.78 784.723 Q4566.78 791.829 4568.59 795.394 Q4570.42 798.935 4574.03 798.935 Q4577.66 798.935 4579.47 795.394 Q4581.3 791.829 4581.3 784.723 Q4581.3 777.593 4579.47 774.051 Q4577.66 770.487 4574.03 770.487 M4574.03 766.783 Q4579.84 766.783 4582.89 771.389 Q4585.97 775.973 4585.97 784.723 Q4585.97 793.449 4582.89 798.056 Q4579.84 802.639 4574.03 802.639 Q4568.22 802.639 4565.14 798.056 Q4562.08 793.449 4562.08 784.723 Q4562.08 775.973 4565.14 771.389 Q4568.22 766.783 4574.03 766.783 Z\" fill=\"#000000\" fill-rule=\"nonzero\" fill-opacity=\"1\" /><polyline clip-path=\"url(#clip502)\" style=\"stroke:#000000; stroke-linecap:round; stroke-linejoin:round; stroke-width:2; stroke-opacity:0.1; fill:none\" points=\"180.112,720.368 4752.76,720.368 \"/>\n",
       "<polyline clip-path=\"url(#clip502)\" style=\"stroke:#000000; stroke-linecap:round; stroke-linejoin:round; stroke-width:2; stroke-opacity:0.1; fill:none\" points=\"180.112,552.087 4752.76,552.087 \"/>\n",
       "<polyline clip-path=\"url(#clip502)\" style=\"stroke:#000000; stroke-linecap:round; stroke-linejoin:round; stroke-width:2; stroke-opacity:0.1; fill:none\" points=\"180.112,383.806 4752.76,383.806 \"/>\n",
       "<polyline clip-path=\"url(#clip502)\" style=\"stroke:#000000; stroke-linecap:round; stroke-linejoin:round; stroke-width:2; stroke-opacity:0.1; fill:none\" points=\"180.112,215.525 4752.76,215.525 \"/>\n",
       "<polyline clip-path=\"url(#clip502)\" style=\"stroke:#000000; stroke-linecap:round; stroke-linejoin:round; stroke-width:2; stroke-opacity:0.1; fill:none\" points=\"180.112,47.2441 4752.76,47.2441 \"/>\n",
       "<polyline clip-path=\"url(#clip502)\" style=\"stroke:#009af9; stroke-linecap:round; stroke-linejoin:round; stroke-width:20; stroke-opacity:1; fill:none\" points=\"2552.46,383.806 2706.27,383.806 \"/>\n",
       "<polyline clip-path=\"url(#clip502)\" style=\"stroke:#e26f46; stroke-linecap:round; stroke-linejoin:round; stroke-width:20; stroke-opacity:1; fill:none\" points=\"1426.22,383.806 1596.65,383.806 \"/>\n",
       "<polyline clip-path=\"url(#clip502)\" style=\"stroke:#3da44d; stroke-linecap:round; stroke-linejoin:round; stroke-width:20; stroke-opacity:1; fill:none\" points=\"2727.86,383.806 2889.99,383.806 \"/>\n",
       "<polyline clip-path=\"url(#clip502)\" style=\"stroke:#c271d2; stroke-linecap:round; stroke-linejoin:round; stroke-width:20; stroke-opacity:1; fill:none\" points=\"1147.37,383.806 1301.18,383.806 \"/>\n",
       "<polyline clip-path=\"url(#clip502)\" style=\"stroke:#ac8d18; stroke-linecap:round; stroke-linejoin:round; stroke-width:20; stroke-opacity:1; fill:none\" points=\"1849.94,383.806 2049.47,383.806 \"/>\n",
       "<polyline clip-path=\"url(#clip502)\" style=\"stroke:#00a9ad; stroke-linecap:round; stroke-linejoin:round; stroke-width:20; stroke-opacity:1; fill:none\" points=\"762.501,383.806 920.465,383.806 \"/>\n",
       "<polyline clip-path=\"url(#clip502)\" style=\"stroke:#ed5d92; stroke-linecap:round; stroke-linejoin:round; stroke-width:20; stroke-opacity:1; fill:none\" points=\"2281.51,383.806 2456.1,383.806 \"/>\n",
       "<polyline clip-path=\"url(#clip502)\" style=\"stroke:#c68125; stroke-linecap:round; stroke-linejoin:round; stroke-width:20; stroke-opacity:1; fill:none\" points=\"3946.37,383.806 4108.49,383.806 \"/>\n",
       "<polyline clip-path=\"url(#clip502)\" style=\"stroke:#00a98d; stroke-linecap:round; stroke-linejoin:round; stroke-width:20; stroke-opacity:1; fill:none\" points=\"1623.55,383.806 1798.14,383.806 \"/>\n",
       "<polyline clip-path=\"url(#clip502)\" style=\"stroke:#8e971d; stroke-linecap:round; stroke-linejoin:round; stroke-width:20; stroke-opacity:1; fill:none\" points=\"3575.74,383.806 3729.54,383.806 \"/>\n",
       "<polyline clip-path=\"url(#clip502)\" style=\"stroke:#00a8cb; stroke-linecap:round; stroke-linejoin:round; stroke-width:20; stroke-opacity:1; fill:none\" points=\"3755.28,383.806 3896.61,383.806 \"/>\n",
       "<polyline clip-path=\"url(#clip502)\" style=\"stroke:#9b7fe8; stroke-linecap:round; stroke-linejoin:round; stroke-width:20; stroke-opacity:1; fill:none\" points=\"4340.68,383.806 4494.48,383.806 \"/>\n",
       "<polyline clip-path=\"url(#clip502)\" style=\"stroke:#608cf6; stroke-linecap:round; stroke-linejoin:round; stroke-width:20; stroke-opacity:1; fill:none\" points=\"2078.11,383.806 2252.7,383.806 \"/>\n",
       "<polyline clip-path=\"url(#clip502)\" style=\"stroke:#f05f73; stroke-linecap:round; stroke-linejoin:round; stroke-width:20; stroke-opacity:1; fill:none\" points=\"415.229,383.806 577.35,383.806 \"/>\n",
       "<polyline clip-path=\"url(#clip502)\" style=\"stroke:#dd64b5; stroke-linecap:round; stroke-linejoin:round; stroke-width:20; stroke-opacity:1; fill:none\" points=\"3156.86,383.806 3323.14,383.806 \"/>\n",
       "<polyline clip-path=\"url(#clip502)\" style=\"stroke:#6b9e32; stroke-linecap:round; stroke-linejoin:round; stroke-width:20; stroke-opacity:1; fill:none\" points=\"2925.61,383.806 3100.2,383.806 \"/>\n",
       "<polyline clip-path=\"url(#clip502)\" style=\"stroke:#009af9; stroke-linecap:round; stroke-linejoin:round; stroke-width:20; stroke-opacity:1; fill:none\" points=\"3355.56,383.806 3521.84,383.806 \"/>\n",
       "<polyline clip-path=\"url(#clip502)\" style=\"stroke:#e26f46; stroke-linecap:round; stroke-linejoin:round; stroke-width:20; stroke-opacity:1; fill:none\" points=\"4134.08,383.806 4271.26,383.806 \"/>\n",
       "<polyline clip-path=\"url(#clip502)\" style=\"stroke:#3da44d; stroke-linecap:round; stroke-linejoin:round; stroke-width:20; stroke-opacity:1; fill:none\" points=\"949.937,383.806 1107.9,383.806 \"/>\n",
       "<polyline clip-path=\"url(#clip502)\" style=\"stroke:#000000; stroke-linecap:round; stroke-linejoin:round; stroke-width:16; stroke-opacity:1; fill:none\" points=\"387.96,686.712 4544.91,686.712 \"/>\n",
       "</svg>\n"
      ],
      "text/html": [
       "<?xml version=\"1.0\" encoding=\"utf-8\"?>\n",
       "<svg xmlns=\"http://www.w3.org/2000/svg\" xmlns:xlink=\"http://www.w3.org/1999/xlink\" width=\"1200\" height=\"200\" viewBox=\"0 0 4800 800\">\n",
       "<defs>\n",
       "  <clipPath id=\"clip550\">\n",
       "    <rect x=\"0\" y=\"0\" width=\"4800\" height=\"800\"/>\n",
       "  </clipPath>\n",
       "</defs>\n",
       "<path clip-path=\"url(#clip550)\" d=\"M0 800 L4800 800 L4800 0 L0 0  Z\" fill=\"#ffffff\" fill-rule=\"evenodd\" fill-opacity=\"1\"/>\n",
       "<defs>\n",
       "  <clipPath id=\"clip551\">\n",
       "    <rect x=\"960\" y=\"0\" width=\"3361\" height=\"800\"/>\n",
       "  </clipPath>\n",
       "</defs>\n",
       "<path clip-path=\"url(#clip550)\" d=\"M180.112 720.368 L4752.76 720.368 L4752.76 47.2441 L180.112 47.2441  Z\" fill=\"#ffffff\" fill-rule=\"evenodd\" fill-opacity=\"1\"/>\n",
       "<defs>\n",
       "  <clipPath id=\"clip552\">\n",
       "    <rect x=\"180\" y=\"47\" width=\"4574\" height=\"674\"/>\n",
       "  </clipPath>\n",
       "</defs>\n",
       "<polyline clip-path=\"url(#clip552)\" style=\"stroke:#000000; stroke-linecap:round; stroke-linejoin:round; stroke-width:2; stroke-opacity:0.1; fill:none\" points=\"387.96,720.368 387.96,47.2441 \"/>\n",
       "<polyline clip-path=\"url(#clip552)\" style=\"stroke:#000000; stroke-linecap:round; stroke-linejoin:round; stroke-width:2; stroke-opacity:0.1; fill:none\" points=\"803.654,720.368 803.654,47.2441 \"/>\n",
       "<polyline clip-path=\"url(#clip552)\" style=\"stroke:#000000; stroke-linecap:round; stroke-linejoin:round; stroke-width:2; stroke-opacity:0.1; fill:none\" points=\"1219.35,720.368 1219.35,47.2441 \"/>\n",
       "<polyline clip-path=\"url(#clip552)\" style=\"stroke:#000000; stroke-linecap:round; stroke-linejoin:round; stroke-width:2; stroke-opacity:0.1; fill:none\" points=\"1635.04,720.368 1635.04,47.2441 \"/>\n",
       "<polyline clip-path=\"url(#clip552)\" style=\"stroke:#000000; stroke-linecap:round; stroke-linejoin:round; stroke-width:2; stroke-opacity:0.1; fill:none\" points=\"2050.74,720.368 2050.74,47.2441 \"/>\n",
       "<polyline clip-path=\"url(#clip552)\" style=\"stroke:#000000; stroke-linecap:round; stroke-linejoin:round; stroke-width:2; stroke-opacity:0.1; fill:none\" points=\"2466.43,720.368 2466.43,47.2441 \"/>\n",
       "<polyline clip-path=\"url(#clip552)\" style=\"stroke:#000000; stroke-linecap:round; stroke-linejoin:round; stroke-width:2; stroke-opacity:0.1; fill:none\" points=\"2882.13,720.368 2882.13,47.2441 \"/>\n",
       "<polyline clip-path=\"url(#clip552)\" style=\"stroke:#000000; stroke-linecap:round; stroke-linejoin:round; stroke-width:2; stroke-opacity:0.1; fill:none\" points=\"3297.82,720.368 3297.82,47.2441 \"/>\n",
       "<polyline clip-path=\"url(#clip552)\" style=\"stroke:#000000; stroke-linecap:round; stroke-linejoin:round; stroke-width:2; stroke-opacity:0.1; fill:none\" points=\"3713.52,720.368 3713.52,47.2441 \"/>\n",
       "<polyline clip-path=\"url(#clip552)\" style=\"stroke:#000000; stroke-linecap:round; stroke-linejoin:round; stroke-width:2; stroke-opacity:0.1; fill:none\" points=\"4129.21,720.368 4129.21,47.2441 \"/>\n",
       "<polyline clip-path=\"url(#clip552)\" style=\"stroke:#000000; stroke-linecap:round; stroke-linejoin:round; stroke-width:2; stroke-opacity:0.1; fill:none\" points=\"4544.91,720.368 4544.91,47.2441 \"/>\n",
       "<polyline clip-path=\"url(#clip550)\" style=\"stroke:#000000; stroke-linecap:round; stroke-linejoin:round; stroke-width:4; stroke-opacity:1; fill:none\" points=\"180.112,720.368 4752.76,720.368 \"/>\n",
       "<polyline clip-path=\"url(#clip550)\" style=\"stroke:#000000; stroke-linecap:round; stroke-linejoin:round; stroke-width:4; stroke-opacity:1; fill:none\" points=\"387.96,720.368 387.96,701.47 \"/>\n",
       "<polyline clip-path=\"url(#clip550)\" style=\"stroke:#000000; stroke-linecap:round; stroke-linejoin:round; stroke-width:4; stroke-opacity:1; fill:none\" points=\"803.654,720.368 803.654,701.47 \"/>\n",
       "<polyline clip-path=\"url(#clip550)\" style=\"stroke:#000000; stroke-linecap:round; stroke-linejoin:round; stroke-width:4; stroke-opacity:1; fill:none\" points=\"1219.35,720.368 1219.35,701.47 \"/>\n",
       "<polyline clip-path=\"url(#clip550)\" style=\"stroke:#000000; stroke-linecap:round; stroke-linejoin:round; stroke-width:4; stroke-opacity:1; fill:none\" points=\"1635.04,720.368 1635.04,701.47 \"/>\n",
       "<polyline clip-path=\"url(#clip550)\" style=\"stroke:#000000; stroke-linecap:round; stroke-linejoin:round; stroke-width:4; stroke-opacity:1; fill:none\" points=\"2050.74,720.368 2050.74,701.47 \"/>\n",
       "<polyline clip-path=\"url(#clip550)\" style=\"stroke:#000000; stroke-linecap:round; stroke-linejoin:round; stroke-width:4; stroke-opacity:1; fill:none\" points=\"2466.43,720.368 2466.43,701.47 \"/>\n",
       "<polyline clip-path=\"url(#clip550)\" style=\"stroke:#000000; stroke-linecap:round; stroke-linejoin:round; stroke-width:4; stroke-opacity:1; fill:none\" points=\"2882.13,720.368 2882.13,701.47 \"/>\n",
       "<polyline clip-path=\"url(#clip550)\" style=\"stroke:#000000; stroke-linecap:round; stroke-linejoin:round; stroke-width:4; stroke-opacity:1; fill:none\" points=\"3297.82,720.368 3297.82,701.47 \"/>\n",
       "<polyline clip-path=\"url(#clip550)\" style=\"stroke:#000000; stroke-linecap:round; stroke-linejoin:round; stroke-width:4; stroke-opacity:1; fill:none\" points=\"3713.52,720.368 3713.52,701.47 \"/>\n",
       "<polyline clip-path=\"url(#clip550)\" style=\"stroke:#000000; stroke-linecap:round; stroke-linejoin:round; stroke-width:4; stroke-opacity:1; fill:none\" points=\"4129.21,720.368 4129.21,701.47 \"/>\n",
       "<polyline clip-path=\"url(#clip550)\" style=\"stroke:#000000; stroke-linecap:round; stroke-linejoin:round; stroke-width:4; stroke-opacity:1; fill:none\" points=\"4544.91,720.368 4544.91,701.47 \"/>\n",
       "<path clip-path=\"url(#clip550)\" d=\"M387.96 770.487 Q384.348 770.487 382.52 774.051 Q380.714 777.593 380.714 784.723 Q380.714 791.829 382.52 795.394 Q384.348 798.935 387.96 798.935 Q391.594 798.935 393.399 795.394 Q395.228 791.829 395.228 784.723 Q395.228 777.593 393.399 774.051 Q391.594 770.487 387.96 770.487 M387.96 766.783 Q393.77 766.783 396.825 771.389 Q399.904 775.973 399.904 784.723 Q399.904 793.449 396.825 798.056 Q393.77 802.639 387.96 802.639 Q382.149 802.639 379.071 798.056 Q376.015 793.449 376.015 784.723 Q376.015 775.973 379.071 771.389 Q382.149 766.783 387.96 766.783 Z\" fill=\"#000000\" fill-rule=\"nonzero\" fill-opacity=\"1\" /><path clip-path=\"url(#clip550)\" d=\"M778.342 798.033 L785.981 798.033 L785.981 771.667 L777.671 773.334 L777.671 769.075 L785.935 767.408 L790.611 767.408 L790.611 798.033 L798.249 798.033 L798.249 801.968 L778.342 801.968 L778.342 798.033 Z\" fill=\"#000000\" fill-rule=\"nonzero\" fill-opacity=\"1\" /><path clip-path=\"url(#clip550)\" d=\"M817.694 770.487 Q814.083 770.487 812.254 774.051 Q810.448 777.593 810.448 784.723 Q810.448 791.829 812.254 795.394 Q814.083 798.935 817.694 798.935 Q821.328 798.935 823.134 795.394 Q824.962 791.829 824.962 784.723 Q824.962 777.593 823.134 774.051 Q821.328 770.487 817.694 770.487 M817.694 766.783 Q823.504 766.783 826.559 771.389 Q829.638 775.973 829.638 784.723 Q829.638 793.449 826.559 798.056 Q823.504 802.639 817.694 802.639 Q811.884 802.639 808.805 798.056 Q805.749 793.449 805.749 784.723 Q805.749 775.973 808.805 771.389 Q811.884 766.783 817.694 766.783 Z\" fill=\"#000000\" fill-rule=\"nonzero\" fill-opacity=\"1\" /><path clip-path=\"url(#clip550)\" d=\"M1198.12 798.033 L1214.44 798.033 L1214.44 801.968 L1192.5 801.968 L1192.5 798.033 Q1195.16 795.278 1199.74 790.648 Q1204.35 785.996 1205.53 784.653 Q1207.78 782.13 1208.65 780.394 Q1209.56 778.635 1209.56 776.945 Q1209.56 774.19 1207.61 772.454 Q1205.69 770.718 1202.59 770.718 Q1200.39 770.718 1197.94 771.482 Q1195.51 772.246 1192.73 773.797 L1192.73 769.075 Q1195.55 767.94 1198.01 767.362 Q1200.46 766.783 1202.5 766.783 Q1207.87 766.783 1211.06 769.468 Q1214.26 772.153 1214.26 776.644 Q1214.26 778.774 1213.45 780.695 Q1212.66 782.593 1210.55 785.186 Q1209.97 785.857 1206.87 789.074 Q1203.77 792.269 1198.12 798.033 Z\" fill=\"#000000\" fill-rule=\"nonzero\" fill-opacity=\"1\" /><path clip-path=\"url(#clip550)\" d=\"M1234.26 770.487 Q1230.65 770.487 1228.82 774.051 Q1227.01 777.593 1227.01 784.723 Q1227.01 791.829 1228.82 795.394 Q1230.65 798.935 1234.26 798.935 Q1237.89 798.935 1239.7 795.394 Q1241.53 791.829 1241.53 784.723 Q1241.53 777.593 1239.7 774.051 Q1237.89 770.487 1234.26 770.487 M1234.26 766.783 Q1240.07 766.783 1243.12 771.389 Q1246.2 775.973 1246.2 784.723 Q1246.2 793.449 1243.12 798.056 Q1240.07 802.639 1234.26 802.639 Q1228.45 802.639 1225.37 798.056 Q1222.31 793.449 1222.31 784.723 Q1222.31 775.973 1225.37 771.389 Q1228.45 766.783 1234.26 766.783 Z\" fill=\"#000000\" fill-rule=\"nonzero\" fill-opacity=\"1\" /><path clip-path=\"url(#clip550)\" d=\"M1623.89 783.334 Q1627.24 784.051 1629.12 786.32 Q1631.02 788.588 1631.02 791.922 Q1631.02 797.037 1627.5 799.838 Q1623.98 802.639 1617.5 802.639 Q1615.32 802.639 1613.01 802.199 Q1610.72 801.783 1608.26 800.926 L1608.26 796.412 Q1610.21 797.547 1612.52 798.125 Q1614.84 798.704 1617.36 798.704 Q1621.76 798.704 1624.05 796.968 Q1626.36 795.232 1626.36 791.922 Q1626.36 788.866 1624.21 787.153 Q1622.08 785.417 1618.26 785.417 L1614.23 785.417 L1614.23 781.574 L1618.45 781.574 Q1621.9 781.574 1623.72 780.209 Q1625.55 778.82 1625.55 776.227 Q1625.55 773.565 1623.66 772.153 Q1621.78 770.718 1618.26 770.718 Q1616.34 770.718 1614.14 771.135 Q1611.94 771.551 1609.3 772.431 L1609.3 768.264 Q1611.97 767.524 1614.28 767.153 Q1616.62 766.783 1618.68 766.783 Q1624 766.783 1627.1 769.213 Q1630.21 771.621 1630.21 775.741 Q1630.21 778.612 1628.56 780.602 Q1626.92 782.57 1623.89 783.334 Z\" fill=\"#000000\" fill-rule=\"nonzero\" fill-opacity=\"1\" /><path clip-path=\"url(#clip550)\" d=\"M1649.88 770.487 Q1646.27 770.487 1644.44 774.051 Q1642.64 777.593 1642.64 784.723 Q1642.64 791.829 1644.44 795.394 Q1646.27 798.935 1649.88 798.935 Q1653.52 798.935 1655.32 795.394 Q1657.15 791.829 1657.15 784.723 Q1657.15 777.593 1655.32 774.051 Q1653.52 770.487 1649.88 770.487 M1649.88 766.783 Q1655.69 766.783 1658.75 771.389 Q1661.83 775.973 1661.83 784.723 Q1661.83 793.449 1658.75 798.056 Q1655.69 802.639 1649.88 802.639 Q1644.07 802.639 1640.99 798.056 Q1637.94 793.449 1637.94 784.723 Q1637.94 775.973 1640.99 771.389 Q1644.07 766.783 1649.88 766.783 Z\" fill=\"#000000\" fill-rule=\"nonzero\" fill-opacity=\"1\" /><path clip-path=\"url(#clip550)\" d=\"M2038.91 771.482 L2027.1 789.931 L2038.91 789.931 L2038.91 771.482 M2037.68 767.408 L2043.56 767.408 L2043.56 789.931 L2048.49 789.931 L2048.49 793.82 L2043.56 793.82 L2043.56 801.968 L2038.91 801.968 L2038.91 793.82 L2023.31 793.82 L2023.31 789.306 L2037.68 767.408 Z\" fill=\"#000000\" fill-rule=\"nonzero\" fill-opacity=\"1\" /><path clip-path=\"url(#clip550)\" d=\"M2066.23 770.487 Q2062.61 770.487 2060.79 774.051 Q2058.98 777.593 2058.98 784.723 Q2058.98 791.829 2060.79 795.394 Q2062.61 798.935 2066.23 798.935 Q2069.86 798.935 2071.66 795.394 Q2073.49 791.829 2073.49 784.723 Q2073.49 777.593 2071.66 774.051 Q2069.86 770.487 2066.23 770.487 M2066.23 766.783 Q2072.04 766.783 2075.09 771.389 Q2078.17 775.973 2078.17 784.723 Q2078.17 793.449 2075.09 798.056 Q2072.04 802.639 2066.23 802.639 Q2060.42 802.639 2057.34 798.056 Q2054.28 793.449 2054.28 784.723 Q2054.28 775.973 2057.34 771.389 Q2060.42 766.783 2066.23 766.783 Z\" fill=\"#000000\" fill-rule=\"nonzero\" fill-opacity=\"1\" /><path clip-path=\"url(#clip550)\" d=\"M2441.13 767.408 L2459.49 767.408 L2459.49 771.343 L2445.42 771.343 L2445.42 779.815 Q2446.43 779.468 2447.45 779.306 Q2448.47 779.121 2449.49 779.121 Q2455.28 779.121 2458.66 782.292 Q2462.04 785.463 2462.04 790.88 Q2462.04 796.459 2458.56 799.56 Q2455.09 802.639 2448.77 802.639 Q2446.6 802.639 2444.33 802.269 Q2442.08 801.898 2439.67 801.158 L2439.67 796.459 Q2441.76 797.593 2443.98 798.148 Q2446.2 798.704 2448.68 798.704 Q2452.68 798.704 2455.02 796.598 Q2457.36 794.491 2457.36 790.88 Q2457.36 787.269 2455.02 785.162 Q2452.68 783.056 2448.68 783.056 Q2446.8 783.056 2444.93 783.473 Q2443.08 783.889 2441.13 784.769 L2441.13 767.408 Z\" fill=\"#000000\" fill-rule=\"nonzero\" fill-opacity=\"1\" /><path clip-path=\"url(#clip550)\" d=\"M2481.25 770.487 Q2477.64 770.487 2475.81 774.051 Q2474 777.593 2474 784.723 Q2474 791.829 2475.81 795.394 Q2477.64 798.935 2481.25 798.935 Q2484.88 798.935 2486.69 795.394 Q2488.52 791.829 2488.52 784.723 Q2488.52 777.593 2486.69 774.051 Q2484.88 770.487 2481.25 770.487 M2481.25 766.783 Q2487.06 766.783 2490.11 771.389 Q2493.19 775.973 2493.19 784.723 Q2493.19 793.449 2490.11 798.056 Q2487.06 802.639 2481.25 802.639 Q2475.44 802.639 2472.36 798.056 Q2469.3 793.449 2469.3 784.723 Q2469.3 775.973 2472.36 771.389 Q2475.44 766.783 2481.25 766.783 Z\" fill=\"#000000\" fill-rule=\"nonzero\" fill-opacity=\"1\" /><path clip-path=\"url(#clip550)\" d=\"M2867.53 782.824 Q2864.39 782.824 2862.53 784.977 Q2860.71 787.13 2860.71 790.88 Q2860.71 794.607 2862.53 796.783 Q2864.39 798.935 2867.53 798.935 Q2870.68 798.935 2872.51 796.783 Q2874.36 794.607 2874.36 790.88 Q2874.36 787.13 2872.51 784.977 Q2870.68 782.824 2867.53 782.824 M2876.82 768.172 L2876.82 772.431 Q2875.06 771.598 2873.25 771.158 Q2871.47 770.718 2869.71 770.718 Q2865.08 770.718 2862.63 773.843 Q2860.2 776.968 2859.85 783.287 Q2861.21 781.274 2863.27 780.209 Q2865.34 779.121 2867.81 779.121 Q2873.02 779.121 2876.03 782.292 Q2879.06 785.44 2879.06 790.88 Q2879.06 796.204 2875.91 799.422 Q2872.77 802.639 2867.53 802.639 Q2861.54 802.639 2858.37 798.056 Q2855.2 793.449 2855.2 784.723 Q2855.2 776.528 2859.09 771.667 Q2862.97 766.783 2869.52 766.783 Q2871.28 766.783 2873.07 767.13 Q2874.87 767.477 2876.82 768.172 Z\" fill=\"#000000\" fill-rule=\"nonzero\" fill-opacity=\"1\" /><path clip-path=\"url(#clip550)\" d=\"M2897.12 770.487 Q2893.51 770.487 2891.68 774.051 Q2889.87 777.593 2889.87 784.723 Q2889.87 791.829 2891.68 795.394 Q2893.51 798.935 2897.12 798.935 Q2900.75 798.935 2902.56 795.394 Q2904.39 791.829 2904.39 784.723 Q2904.39 777.593 2902.56 774.051 Q2900.75 770.487 2897.12 770.487 M2897.12 766.783 Q2902.93 766.783 2905.98 771.389 Q2909.06 775.973 2909.06 784.723 Q2909.06 793.449 2905.98 798.056 Q2902.93 802.639 2897.12 802.639 Q2891.31 802.639 2888.23 798.056 Q2885.17 793.449 2885.17 784.723 Q2885.17 775.973 2888.23 771.389 Q2891.31 766.783 2897.12 766.783 Z\" fill=\"#000000\" fill-rule=\"nonzero\" fill-opacity=\"1\" /><path clip-path=\"url(#clip550)\" d=\"M3271.18 767.408 L3293.4 767.408 L3293.4 769.399 L3280.86 801.968 L3275.97 801.968 L3287.78 771.343 L3271.18 771.343 L3271.18 767.408 Z\" fill=\"#000000\" fill-rule=\"nonzero\" fill-opacity=\"1\" /><path clip-path=\"url(#clip550)\" d=\"M3312.52 770.487 Q3308.91 770.487 3307.08 774.051 Q3305.28 777.593 3305.28 784.723 Q3305.28 791.829 3307.08 795.394 Q3308.91 798.935 3312.52 798.935 Q3316.16 798.935 3317.96 795.394 Q3319.79 791.829 3319.79 784.723 Q3319.79 777.593 3317.96 774.051 Q3316.16 770.487 3312.52 770.487 M3312.52 766.783 Q3318.33 766.783 3321.39 771.389 Q3324.47 775.973 3324.47 784.723 Q3324.47 793.449 3321.39 798.056 Q3318.33 802.639 3312.52 802.639 Q3306.71 802.639 3303.63 798.056 Q3300.58 793.449 3300.58 784.723 Q3300.58 775.973 3303.63 771.389 Q3306.71 766.783 3312.52 766.783 Z\" fill=\"#000000\" fill-rule=\"nonzero\" fill-opacity=\"1\" /><path clip-path=\"url(#clip550)\" d=\"M3698.39 785.556 Q3695.06 785.556 3693.14 787.338 Q3691.24 789.121 3691.24 792.246 Q3691.24 795.371 3693.14 797.153 Q3695.06 798.935 3698.39 798.935 Q3701.72 798.935 3703.65 797.153 Q3705.57 795.348 3705.57 792.246 Q3705.57 789.121 3703.65 787.338 Q3701.75 785.556 3698.39 785.556 M3693.72 783.565 Q3690.71 782.824 3689.02 780.764 Q3687.35 778.704 3687.35 775.741 Q3687.35 771.598 3690.29 769.19 Q3693.25 766.783 3698.39 766.783 Q3703.55 766.783 3706.49 769.19 Q3709.43 771.598 3709.43 775.741 Q3709.43 778.704 3707.74 780.764 Q3706.08 782.824 3703.09 783.565 Q3706.47 784.352 3708.35 786.644 Q3710.24 788.936 3710.24 792.246 Q3710.24 797.269 3707.16 799.954 Q3704.11 802.639 3698.39 802.639 Q3692.67 802.639 3689.6 799.954 Q3686.54 797.269 3686.54 792.246 Q3686.54 788.936 3688.44 786.644 Q3690.34 784.352 3693.72 783.565 M3692 776.181 Q3692 778.866 3693.67 780.371 Q3695.36 781.875 3698.39 781.875 Q3701.4 781.875 3703.09 780.371 Q3704.8 778.866 3704.8 776.181 Q3704.8 773.496 3703.09 771.991 Q3701.4 770.487 3698.39 770.487 Q3695.36 770.487 3693.67 771.991 Q3692 773.496 3692 776.181 Z\" fill=\"#000000\" fill-rule=\"nonzero\" fill-opacity=\"1\" /><path clip-path=\"url(#clip550)\" d=\"M3728.55 770.487 Q3724.94 770.487 3723.11 774.051 Q3721.31 777.593 3721.31 784.723 Q3721.31 791.829 3723.11 795.394 Q3724.94 798.935 3728.55 798.935 Q3732.19 798.935 3733.99 795.394 Q3735.82 791.829 3735.82 784.723 Q3735.82 777.593 3733.99 774.051 Q3732.19 770.487 3728.55 770.487 M3728.55 766.783 Q3734.36 766.783 3737.42 771.389 Q3740.5 775.973 3740.5 784.723 Q3740.5 793.449 3737.42 798.056 Q3734.36 802.639 3728.55 802.639 Q3722.74 802.639 3719.66 798.056 Q3716.61 793.449 3716.61 784.723 Q3716.61 775.973 3719.66 771.389 Q3722.74 766.783 3728.55 766.783 Z\" fill=\"#000000\" fill-rule=\"nonzero\" fill-opacity=\"1\" /><path clip-path=\"url(#clip550)\" d=\"M4104.34 801.25 L4104.34 796.991 Q4106.1 797.824 4107.91 798.264 Q4109.71 798.704 4111.45 798.704 Q4116.08 798.704 4118.51 795.602 Q4120.96 792.477 4121.31 786.135 Q4119.97 788.125 4117.91 789.19 Q4115.85 790.255 4113.35 790.255 Q4108.16 790.255 4105.13 787.13 Q4102.12 783.982 4102.12 778.542 Q4102.12 773.218 4105.27 770 Q4108.42 766.783 4113.65 766.783 Q4119.64 766.783 4122.79 771.389 Q4125.96 775.973 4125.96 784.723 Q4125.96 792.894 4122.07 797.778 Q4118.21 802.639 4111.66 802.639 Q4109.9 802.639 4108.09 802.292 Q4106.29 801.945 4104.34 801.25 M4113.65 786.598 Q4116.79 786.598 4118.62 784.445 Q4120.48 782.292 4120.48 778.542 Q4120.48 774.815 4118.62 772.662 Q4116.79 770.487 4113.65 770.487 Q4110.5 770.487 4108.65 772.662 Q4106.82 774.815 4106.82 778.542 Q4106.82 782.292 4108.65 784.445 Q4110.5 786.598 4113.65 786.598 Z\" fill=\"#000000\" fill-rule=\"nonzero\" fill-opacity=\"1\" /><path clip-path=\"url(#clip550)\" d=\"M4144.36 770.487 Q4140.75 770.487 4138.92 774.051 Q4137.12 777.593 4137.12 784.723 Q4137.12 791.829 4138.92 795.394 Q4140.75 798.935 4144.36 798.935 Q4148 798.935 4149.8 795.394 Q4151.63 791.829 4151.63 784.723 Q4151.63 777.593 4149.8 774.051 Q4148 770.487 4144.36 770.487 M4144.36 766.783 Q4150.17 766.783 4153.23 771.389 Q4156.31 775.973 4156.31 784.723 Q4156.31 793.449 4153.23 798.056 Q4150.17 802.639 4144.36 802.639 Q4138.55 802.639 4135.48 798.056 Q4132.42 793.449 4132.42 784.723 Q4132.42 775.973 4135.48 771.389 Q4138.55 766.783 4144.36 766.783 Z\" fill=\"#000000\" fill-rule=\"nonzero\" fill-opacity=\"1\" /><path clip-path=\"url(#clip550)\" d=\"M4504.52 798.033 L4512.15 798.033 L4512.15 771.667 L4503.84 773.334 L4503.84 769.075 L4512.11 767.408 L4516.78 767.408 L4516.78 798.033 L4524.42 798.033 L4524.42 801.968 L4504.52 801.968 L4504.52 798.033 Z\" fill=\"#000000\" fill-rule=\"nonzero\" fill-opacity=\"1\" /><path clip-path=\"url(#clip550)\" d=\"M4543.87 770.487 Q4540.26 770.487 4538.43 774.051 Q4536.62 777.593 4536.62 784.723 Q4536.62 791.829 4538.43 795.394 Q4540.26 798.935 4543.87 798.935 Q4547.5 798.935 4549.31 795.394 Q4551.14 791.829 4551.14 784.723 Q4551.14 777.593 4549.31 774.051 Q4547.5 770.487 4543.87 770.487 M4543.87 766.783 Q4549.68 766.783 4552.73 771.389 Q4555.81 775.973 4555.81 784.723 Q4555.81 793.449 4552.73 798.056 Q4549.68 802.639 4543.87 802.639 Q4538.06 802.639 4534.98 798.056 Q4531.92 793.449 4531.92 784.723 Q4531.92 775.973 4534.98 771.389 Q4538.06 766.783 4543.87 766.783 Z\" fill=\"#000000\" fill-rule=\"nonzero\" fill-opacity=\"1\" /><path clip-path=\"url(#clip550)\" d=\"M4574.03 770.487 Q4570.42 770.487 4568.59 774.051 Q4566.78 777.593 4566.78 784.723 Q4566.78 791.829 4568.59 795.394 Q4570.42 798.935 4574.03 798.935 Q4577.66 798.935 4579.47 795.394 Q4581.3 791.829 4581.3 784.723 Q4581.3 777.593 4579.47 774.051 Q4577.66 770.487 4574.03 770.487 M4574.03 766.783 Q4579.84 766.783 4582.89 771.389 Q4585.97 775.973 4585.97 784.723 Q4585.97 793.449 4582.89 798.056 Q4579.84 802.639 4574.03 802.639 Q4568.22 802.639 4565.14 798.056 Q4562.08 793.449 4562.08 784.723 Q4562.08 775.973 4565.14 771.389 Q4568.22 766.783 4574.03 766.783 Z\" fill=\"#000000\" fill-rule=\"nonzero\" fill-opacity=\"1\" /><polyline clip-path=\"url(#clip552)\" style=\"stroke:#000000; stroke-linecap:round; stroke-linejoin:round; stroke-width:2; stroke-opacity:0.1; fill:none\" points=\"180.112,720.368 4752.76,720.368 \"/>\n",
       "<polyline clip-path=\"url(#clip552)\" style=\"stroke:#000000; stroke-linecap:round; stroke-linejoin:round; stroke-width:2; stroke-opacity:0.1; fill:none\" points=\"180.112,552.087 4752.76,552.087 \"/>\n",
       "<polyline clip-path=\"url(#clip552)\" style=\"stroke:#000000; stroke-linecap:round; stroke-linejoin:round; stroke-width:2; stroke-opacity:0.1; fill:none\" points=\"180.112,383.806 4752.76,383.806 \"/>\n",
       "<polyline clip-path=\"url(#clip552)\" style=\"stroke:#000000; stroke-linecap:round; stroke-linejoin:round; stroke-width:2; stroke-opacity:0.1; fill:none\" points=\"180.112,215.525 4752.76,215.525 \"/>\n",
       "<polyline clip-path=\"url(#clip552)\" style=\"stroke:#000000; stroke-linecap:round; stroke-linejoin:round; stroke-width:2; stroke-opacity:0.1; fill:none\" points=\"180.112,47.2441 4752.76,47.2441 \"/>\n",
       "<polyline clip-path=\"url(#clip552)\" style=\"stroke:#009af9; stroke-linecap:round; stroke-linejoin:round; stroke-width:20; stroke-opacity:1; fill:none\" points=\"2552.46,383.806 2706.27,383.806 \"/>\n",
       "<polyline clip-path=\"url(#clip552)\" style=\"stroke:#e26f46; stroke-linecap:round; stroke-linejoin:round; stroke-width:20; stroke-opacity:1; fill:none\" points=\"1426.22,383.806 1596.65,383.806 \"/>\n",
       "<polyline clip-path=\"url(#clip552)\" style=\"stroke:#3da44d; stroke-linecap:round; stroke-linejoin:round; stroke-width:20; stroke-opacity:1; fill:none\" points=\"2727.86,383.806 2889.99,383.806 \"/>\n",
       "<polyline clip-path=\"url(#clip552)\" style=\"stroke:#c271d2; stroke-linecap:round; stroke-linejoin:round; stroke-width:20; stroke-opacity:1; fill:none\" points=\"1147.37,383.806 1301.18,383.806 \"/>\n",
       "<polyline clip-path=\"url(#clip552)\" style=\"stroke:#ac8d18; stroke-linecap:round; stroke-linejoin:round; stroke-width:20; stroke-opacity:1; fill:none\" points=\"1849.94,383.806 2049.47,383.806 \"/>\n",
       "<polyline clip-path=\"url(#clip552)\" style=\"stroke:#00a9ad; stroke-linecap:round; stroke-linejoin:round; stroke-width:20; stroke-opacity:1; fill:none\" points=\"762.501,383.806 920.465,383.806 \"/>\n",
       "<polyline clip-path=\"url(#clip552)\" style=\"stroke:#ed5d92; stroke-linecap:round; stroke-linejoin:round; stroke-width:20; stroke-opacity:1; fill:none\" points=\"2281.51,383.806 2456.1,383.806 \"/>\n",
       "<polyline clip-path=\"url(#clip552)\" style=\"stroke:#c68125; stroke-linecap:round; stroke-linejoin:round; stroke-width:20; stroke-opacity:1; fill:none\" points=\"3946.37,383.806 4108.49,383.806 \"/>\n",
       "<polyline clip-path=\"url(#clip552)\" style=\"stroke:#00a98d; stroke-linecap:round; stroke-linejoin:round; stroke-width:20; stroke-opacity:1; fill:none\" points=\"1623.55,383.806 1798.14,383.806 \"/>\n",
       "<polyline clip-path=\"url(#clip552)\" style=\"stroke:#8e971d; stroke-linecap:round; stroke-linejoin:round; stroke-width:20; stroke-opacity:1; fill:none\" points=\"3575.74,383.806 3729.54,383.806 \"/>\n",
       "<polyline clip-path=\"url(#clip552)\" style=\"stroke:#00a8cb; stroke-linecap:round; stroke-linejoin:round; stroke-width:20; stroke-opacity:1; fill:none\" points=\"3755.28,383.806 3896.61,383.806 \"/>\n",
       "<polyline clip-path=\"url(#clip552)\" style=\"stroke:#9b7fe8; stroke-linecap:round; stroke-linejoin:round; stroke-width:20; stroke-opacity:1; fill:none\" points=\"4340.68,383.806 4494.48,383.806 \"/>\n",
       "<polyline clip-path=\"url(#clip552)\" style=\"stroke:#608cf6; stroke-linecap:round; stroke-linejoin:round; stroke-width:20; stroke-opacity:1; fill:none\" points=\"2078.11,383.806 2252.7,383.806 \"/>\n",
       "<polyline clip-path=\"url(#clip552)\" style=\"stroke:#f05f73; stroke-linecap:round; stroke-linejoin:round; stroke-width:20; stroke-opacity:1; fill:none\" points=\"415.229,383.806 577.35,383.806 \"/>\n",
       "<polyline clip-path=\"url(#clip552)\" style=\"stroke:#dd64b5; stroke-linecap:round; stroke-linejoin:round; stroke-width:20; stroke-opacity:1; fill:none\" points=\"3156.86,383.806 3323.14,383.806 \"/>\n",
       "<polyline clip-path=\"url(#clip552)\" style=\"stroke:#6b9e32; stroke-linecap:round; stroke-linejoin:round; stroke-width:20; stroke-opacity:1; fill:none\" points=\"2925.61,383.806 3100.2,383.806 \"/>\n",
       "<polyline clip-path=\"url(#clip552)\" style=\"stroke:#009af9; stroke-linecap:round; stroke-linejoin:round; stroke-width:20; stroke-opacity:1; fill:none\" points=\"3355.56,383.806 3521.84,383.806 \"/>\n",
       "<polyline clip-path=\"url(#clip552)\" style=\"stroke:#e26f46; stroke-linecap:round; stroke-linejoin:round; stroke-width:20; stroke-opacity:1; fill:none\" points=\"4134.08,383.806 4271.26,383.806 \"/>\n",
       "<polyline clip-path=\"url(#clip552)\" style=\"stroke:#3da44d; stroke-linecap:round; stroke-linejoin:round; stroke-width:20; stroke-opacity:1; fill:none\" points=\"949.937,383.806 1107.9,383.806 \"/>\n",
       "<polyline clip-path=\"url(#clip552)\" style=\"stroke:#000000; stroke-linecap:round; stroke-linejoin:round; stroke-width:16; stroke-opacity:1; fill:none\" points=\"387.96,686.712 4544.91,686.712 \"/>\n",
       "</svg>\n"
      ]
     },
     "metadata": {},
     "output_type": "display_data"
    }
   ],
   "source": [
    "# Static plot, will require kernel restart and switch to Plots (GS) backend\n",
    "function plot_cars(curb_length, park_simulation)\n",
    "\n",
    "    car_positions = park_simulation[\"parked_cars\"]\n",
    "    plot(size=(1200, 200), legend=false)\n",
    "\n",
    "    starts = map(x -> x[1], car_positions)\n",
    "    ends = map(x -> x[2], car_positions)\n",
    "\n",
    "    for i in eachindex(starts) # plot each car on the curb\n",
    "        plot!([starts[i], ends[i]], [1,1], linewidth=5, label=\"\")\n",
    "    end\n",
    "\n",
    "    xticks!(0:10:curb_length)\n",
    "    yaxis!(:off)\n",
    "    plot!([0, curb_length], [0.1, 0.1], linewidth=4, color=:black)  # Plot the \"curb\" as black line\n",
    "    xlims!(-5, curb_length+5)  # Set the x-axis limits slightly wider than the number line range\n",
    "    ylims!(0, 2)  # Set the y-axis limits to center the number line\n",
    "end\n",
    "\n",
    "plot_cars(curb_length, result)"
   ]
  },
  {
   "cell_type": "code",
   "execution_count": 3,
   "metadata": {},
   "outputs": [
    {
     "data": {
      "text/plain": [
       "4×4 Matrix{Int64}:\n",
       " 0  2  1  0\n",
       " 2  0  0  1\n",
       " 1  0  0  2\n",
       " 0  1  2  0"
      ]
     },
     "metadata": {},
     "output_type": "display_data"
    }
   ],
   "source": [
    "a =[0 2 1 0\n",
    "    2 0 0 1\n",
    "    1 0 0 2\n",
    "    0 1 2 0]"
   ]
  },
  {
   "cell_type": "code",
   "execution_count": null,
   "metadata": {},
   "outputs": [],
   "source": [
    "b =[0 2 0 1 0 0\n",
    "    2 0 2 0 1 0\n",
    "    0 2 0 0 0 1\n",
    "    1 0 0 0 2 0\n",
    "    0 1 0 2 0 2\n",
    "    0 0 1 0 2 0]"
   ]
  },
  {
   "cell_type": "code",
   "execution_count": null,
   "metadata": {},
   "outputs": [],
   "source": [
    "c =[0 2 0 0 1 0 0 0 0 0 0\n",
    "    2 0 2 0 0 1 0 0 0 0 0\n",
    "    0 2 0 2 0 0 1 0 0 0 0\n",
    "    1 0 0 0 ]"
   ]
  },
  {
   "attachments": {},
   "cell_type": "markdown",
   "metadata": {},
   "source": [
    "# TODO\n",
    "\n",
    "1. Add option to `park` so that drivers prefer bigger spaces (right now they always take the first spot that fits their car and skill level)\n",
    "2. Create driver policies to determine how they will chose a spot\n",
    "3. Compartmentalize functions as much as possible\n",
    "4. Create gif animation of parking lot over time"
   ]
  },
  {
   "attachments": {},
   "cell_type": "markdown",
   "metadata": {},
   "source": []
  }
 ],
 "metadata": {
  "kernelspec": {
   "display_name": "Julia 1.8.5",
   "language": "julia",
   "name": "julia-1.8"
  },
  "language_info": {
   "file_extension": ".jl",
   "mimetype": "application/julia",
   "name": "julia",
   "version": "1.8.5"
  },
  "orig_nbformat": 4
 },
 "nbformat": 4,
 "nbformat_minor": 2
}
