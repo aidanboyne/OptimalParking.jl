{
 "cells": [
  {
   "attachments": {},
   "cell_type": "markdown",
   "metadata": {},
   "source": [
    "# Optimal Parking\n",
    "---\n",
    "\n",
    "In crowded urban areas, attempting to find street parking near your destination can be a stressful and aggravating task. You might attempt to pull into a spot only to find you lack the space (or skill) to fit in the narrow gap. Even worse, you might find that inconsiderate drivers have managed to take up 5 potential spots with only three vehicles. Considering varying vehicle size, perfect use of curb space in a busy environment is unlikley. What we attempt to find in this paper is an optimal parking strategy, that if followed, would lead to the most vehicles finding a spot near their destination.\n",
    "\n",
    "To takle the problem, we simulate example situations of increasing complexity. Each situation consists of **drivers** and a **neighborhood**. \n",
    "\n",
    "Each **driver** is has a specified car, skill, parking duration, distance tolerance, and parking policy. \n",
    "- For simplicity, the size of each car is modeled as a gaussian distrubution with mean of 4.25m and standard-deviation of .5m. During sampling, cars with a length of less than 3 or greater than 5.5 meters are rounded up or down to these respective bounds.\n",
    "- Skill dictates what percentage greater than the length of the car is required for the driver to actually park the car if parallel parking is necessary. Though parallel parking is technically feasable in any space longer than the car itself [[1]](http://www.damtp.cam.ac.uk/user/md327/ISlecture_notes_2012.pdf), drivers will not attempt to park in any space with less than 1 meter of free-room, regardless of skill. Skill also determines how close to other cars the driver will park in the case that the space does not require parallel parking (i.e they can pull in or back in directly).\n",
    "- Parking duration is the amount of time (measured in park attempts) that the driver will remain parked. For example, a driver with `park_time = 5` will vacate their parking spot after 5 other drivers attempt to park (regardless of each attempt's success).\n",
    "- Distance tolerance is only implemented in some scenarios where paid parking is present. Under the assumption that paid parking is always available, distance tolerance determines how much further a driver will look beyond the closest paid parking (not yet implemented).\n",
    "- The driver policy is intended to capture the variability in driver mindset. For example, a driver in a rush will likley park less carefully than one with plenty of time. Some drivers may be more concious of leaving space for others, while some might not care and take up much more space than necessary. By manipulating the distribution of driver policies, we can observe how effectivley parking space is used in both ideal and real-world situations.\n",
    "\n",
    "Each **neighborhood** is defined as an undirected graph of streets (edges) and intersections (verticies). They may be as simple as a single curb or as complex as a neighborhood with both free and paid parking.\n",
    "- Drivers can only park along one side of the street (though this may be changed in the future)\n",
    "- Interruptions to a street such as fire lanes or driveways are included by adding a vertex with only two edges.\n",
    "- For now, drivers only care that they can park _somewhere_ in the neighborhood and have no preference for particular streets. This may be changed."
   ]
  },
  {
   "cell_type": "code",
   "execution_count": 6,
   "metadata": {},
   "outputs": [],
   "source": [
    "using Plots, DataFrames, LinearAlgebra"
   ]
  },
  {
   "attachments": {},
   "cell_type": "markdown",
   "metadata": {},
   "source": [
    "## Drivers"
   ]
  },
  {
   "cell_type": "code",
   "execution_count": 7,
   "metadata": {},
   "outputs": [
    {
     "data": {
      "text/plain": [
       "required_space (generic function with 1 method)"
      ]
     },
     "metadata": {},
     "output_type": "display_data"
    }
   ],
   "source": [
    "mutable struct driver\n",
    "    car_length::Float32\n",
    "    driver_skill::Float32\n",
    "    parktime::Int\n",
    "    policy::Int\n",
    "    driverNo::Int\n",
    "end\n",
    "\n",
    "num_drivers = 100\n",
    "\n",
    "# Car length distribution\n",
    "mean_len = 4.25\n",
    "len_dev = 0.5\n",
    "\n",
    "function create_driver(driverNo)\n",
    "    car_length = round(mean_len .+ len_dev * randn(), digits=1)\n",
    "    driver_skill = abs(rand(0:0.05:1))\n",
    "    parktime = rand(60:100)\n",
    "    policy = 0\n",
    "    return driver(car_length, driver_skill, parktime, policy, driverNo)\n",
    "end\n",
    "\n",
    "function create_n_drivers(n)\n",
    "    drivers = [create_driver(i) for i in 1:n]\n",
    "    return drivers\n",
    "end\n",
    "\n",
    "function required_space(driver::driver)\n",
    "    return driver.car_length + 1 + (driver.car_length * 0.2(1-driver.driver_skill))\n",
    "end"
   ]
  },
  {
   "attachments": {},
   "cell_type": "markdown",
   "metadata": {},
   "source": [
    "## The Neighborhood"
   ]
  },
  {
   "cell_type": "code",
   "execution_count": 48,
   "metadata": {},
   "outputs": [
    {
     "data": {
      "text/plain": [
       "build_hood"
      ]
     },
     "metadata": {},
     "output_type": "display_data"
    }
   ],
   "source": [
    "\"\"\"\n",
    "Input dimensions as pair tuples (nodes_across, length), (nodes_down, length).\n",
    "\n",
    "\"\"\"\n",
    "function build_hood(horizontal::Tuple{Int, Int}, vertical::Tuple{Int, Int})\n",
    "\n",
    "    rows, cols = horizontal[1], vertical[1]\n",
    "    vertical_length = horizontal[2]\n",
    "    horizontal_length = vertical[2]\n",
    "    num_vertices = rows * cols\n",
    "    adjacency_matrix = zeros(Int, num_vertices, num_vertices)\n",
    "    \n",
    "    for i in 1:rows\n",
    "        for j in 1:cols\n",
    "            vertex = (i - 1) * cols + j\n",
    "            \n",
    "            if i > 1\n",
    "                adjacency_matrix[vertex, vertex - cols] = vertical_length\n",
    "                adjacency_matrix[vertex - cols, vertex] = vertical_length\n",
    "            end\n",
    "            \n",
    "            if i < rows\n",
    "                adjacency_matrix[vertex, vertex + cols] = vertical_length\n",
    "                adjacency_matrix[vertex + cols, vertex] = vertical_length\n",
    "            end\n",
    "            \n",
    "            if j > 1\n",
    "                adjacency_matrix[vertex, vertex - 1] = horizontal_length\n",
    "                adjacency_matrix[vertex - 1, vertex] = horizontal_length\n",
    "            end\n",
    "            \n",
    "            if j < cols\n",
    "                adjacency_matrix[vertex, vertex + 1] = horizontal_length\n",
    "                adjacency_matrix[vertex + 1, vertex] = horizontal_length\n",
    "            end\n",
    "        end\n",
    "    end\n",
    "    \n",
    "    return adjacency_matrix\n",
    "end\n"
   ]
  },
  {
   "cell_type": "code",
   "execution_count": 49,
   "metadata": {},
   "outputs": [
    {
     "data": {
      "text/plain": [
       "6×6 Matrix{Int64}:\n",
       " 0  2  4  0  0  0\n",
       " 2  0  0  4  0  0\n",
       " 4  0  0  2  4  0\n",
       " 0  4  2  0  0  4\n",
       " 0  0  4  0  0  2\n",
       " 0  0  0  4  2  0"
      ]
     },
     "metadata": {},
     "output_type": "display_data"
    }
   ],
   "source": [
    "build_hood((3,4), (2,2))"
   ]
  },
  {
   "attachments": {},
   "cell_type": "markdown",
   "metadata": {},
   "source": [
    "## Simulation\n",
    "\n",
    "#### Construct Neighborhood\n",
    "1. TODO\n",
    "\n",
    "#### Car parking\n",
    "1. select curb\n",
    "2. find length of available open spaces on curb (spot_length)\n",
    "3. if space exists that will fit car_length * driver_skill, the car will take the spot for the driver's parking duration and then vacate\n",
    "4. when excess space is available (i.e. car_length * driver_skill < spot_length), allocate the extra space according to the parking policy.\n",
    "    - Drivers will not perfectly fulfill the policy, rather, they will fail by driver_skill%, provided this will not cause them to hit another vehicle\n",
    "5. if no space is available, the a counter ticks up and the process repeats"
   ]
  },
  {
   "cell_type": "code",
   "execution_count": 10,
   "metadata": {},
   "outputs": [
    {
     "data": {
      "text/plain": [
       "park (generic function with 1 method)"
      ]
     },
     "metadata": {},
     "output_type": "display_data"
    }
   ],
   "source": [
    "function park(drivers::Vector{driver}, curb_length::Real)\n",
    "\n",
    "    tick = 0\n",
    "    no_spot = 0\n",
    "    available_spaces = [(0.0, Float64(curb_length), 0)] #rear, front, driver to right (0 if none)\n",
    "    parked_cars = []\n",
    "\n",
    "    while true\n",
    "        tick += 1\n",
    "\n",
    "        # end simulation once all of drivers have searched for a spot\n",
    "        if isempty(drivers)\n",
    "            break \n",
    "        end\n",
    "\n",
    "        driver = pop!(drivers) # extract last driver from list\n",
    "        req_space = required_space(driver)\n",
    "        free_space = (req_space - driver.car_length)/2 #assume driver leaves same space in front/rear (change with policy)\n",
    "        spot_index = 0 #track where on curb the current driver is parking\n",
    "        found_spot = false\n",
    "        \n",
    "        # Note: this causes drivers to look for spots from start to end of curb\n",
    "        for (i, (rear, front, dNo)) in enumerate(available_spaces)\n",
    "            spot = front - rear # calculate length of available spot\n",
    "            if spot >= req_space\n",
    "                found_spot = true # driver found spot that will fit car with sufficient room\n",
    "                spot_index = i\n",
    "                break\n",
    "            end\n",
    "        end\n",
    "\n",
    "        if found_spot\n",
    "            # update available_spaces after car has parked\n",
    "            rear, front, dNo_right = available_spaces[spot_index]\n",
    "            car_start = rear+free_space\n",
    "            car_end = car_start+driver.car_length\n",
    "            splice!(available_spaces, spot_index, [(rear, car_start, driver.driverNo), (car_end, front, dNo_right)])\n",
    "            # add driver to list of parked cars\n",
    "            push!(parked_cars, (car_start, car_end, driver.parktime, driver.driverNo))\n",
    "        else\n",
    "            no_spot += 1 # update number of divers unable to park\n",
    "        end\n",
    "\n",
    "        # update parktime for each of the parked vehicles\n",
    "        if !isempty(parked_cars)\n",
    "            parked_cars = map(x -> (x[1], x[2], x[3] - 1, x[4]), parked_cars)\n",
    "        end\n",
    "\n",
    "        # reduce time left in spot, if zero, remove driver from parked cars list and reallocate their spot to available_spaces\n",
    "        for (i, (car_start, car_end, parktime, driverNo)) in enumerate(parked_cars)\n",
    "            if parktime <= 0\n",
    "                deleteat!(parked_cars, i)\n",
    "                parking_space = findfirst(x -> x[3] == driverNo, available_spaces)\n",
    "                now_available = (available_spaces[parking_space][1], available_spaces[parking_space+1][2], available_spaces[parking_space+1][3])\n",
    "                splice!(available_spaces, parking_space:parking_space+1, [now_available])\n",
    "            end\n",
    "        end\n",
    "    end\n",
    "\n",
    "    residual_space = curb_length - sum(map(x -> (x[2] - x[1]), parked_cars))\n",
    "    println(\"There were \", round(residual_space, digits = 3), \" meters of unused curb space. (\",\n",
    "             round(100(residual_space/curb_length), digits = 3), \"%)\")\n",
    "    println(no_spot, \" drivers were unable to find a spot.\")\n",
    "\n",
    "    park_results = Dict(\"parked_cars\" => parked_cars,\n",
    "                        \"residual_space\" => residual_space,\n",
    "                        \"no_spot\" => no_spot)\n",
    "\n",
    "    return(park_results)\n",
    "end"
   ]
  },
  {
   "cell_type": "code",
   "execution_count": 11,
   "metadata": {},
   "outputs": [
    {
     "name": "stdout",
     "output_type": "stream",
     "text": [
      "There were 24.5 meters of unused curb space. (24.5%)\n",
      "374 drivers were unable to find a spot.\n"
     ]
    }
   ],
   "source": [
    "curb_length = 100.0 # length of the long side of a \"Chicago block\" in meters\n",
    "drivers = create_n_drivers(500)\n",
    "\n",
    "result = park(drivers, curb_length);"
   ]
  },
  {
   "cell_type": "code",
   "execution_count": 12,
   "metadata": {},
   "outputs": [
    {
     "data": {
      "application/vnd.plotly.v1+json": {
       "config": {
        "editable": false,
        "responsive": true,
        "scrollZoom": true,
        "showLink": false,
        "staticPlot": false
       },
       "data": [
        {
         "line": {
          "color": "black",
          "width": 100
         },
         "mode": "lines",
         "type": "scatter",
         "x": [
          0,
          100
         ],
         "y": [
          0.1,
          0.1
         ]
        },
        {
         "line": {
          "width": 30
         },
         "mode": "lines",
         "text": "Driver 88",
         "type": "scatter",
         "x": [
          49.90700053560734,
          54.507000440239906
         ],
         "y": [
          0.2,
          0.2
         ]
        },
        {
         "line": {
          "width": 30
         },
         "mode": "lines",
         "text": "Driver 87",
         "type": "scatter",
         "x": [
          18.211500262379648,
          22.411500071644785
         ],
         "y": [
          0.2,
          0.2
         ]
        },
        {
         "line": {
          "width": 30
         },
         "mode": "lines",
         "text": "Driver 84",
         "type": "scatter",
         "x": [
          66.73049924445152,
          70.93049905371666
         ],
         "y": [
          0.2,
          0.2
         ]
        },
        {
         "line": {
          "width": 30
         },
         "mode": "lines",
         "text": "Driver 83",
         "type": "scatter",
         "x": [
          28.3080002464056,
          31.90800015103817
         ],
         "y": [
          0.2,
          0.2
         ]
        },
        {
         "line": {
          "width": 30
         },
         "mode": "lines",
         "text": "Driver 72",
         "type": "scatter",
         "x": [
          76.38599945092201,
          80.38599945092201
         ],
         "y": [
          0.2,
          0.2
         ]
        },
        {
         "line": {
          "width": 30
         },
         "mode": "lines",
         "text": "Driver 66",
         "type": "scatter",
         "x": [
          3.882499998807907,
          7.382499998807907
         ],
         "y": [
          0.2,
          0.2
         ]
        },
        {
         "line": {
          "width": 30
         },
         "mode": "lines",
         "text": "Driver 65",
         "type": "scatter",
         "x": [
          8.242500004172324,
          12.742500004172324
         ],
         "y": [
          0.2,
          0.2
         ]
        },
        {
         "line": {
          "width": 30
         },
         "mode": "lines",
         "text": "Driver 61",
         "type": "scatter",
         "x": [
          85.25900044775008,
          89.65900054311751
         ],
         "y": [
          0.2,
          0.2
         ]
        },
        {
         "line": {
          "width": 30
         },
         "mode": "lines",
         "text": "Driver 56",
         "type": "scatter",
         "x": [
          55.164500436067584,
          58.664500436067584
         ],
         "y": [
          0.2,
          0.2
         ]
        },
        {
         "line": {
          "width": 30
         },
         "mode": "lines",
         "text": "Driver 55",
         "type": "scatter",
         "x": [
          90.44700053977965,
          94.04700044441222
         ],
         "y": [
          0.2,
          0.2
         ]
        },
        {
         "line": {
          "width": 30
         },
         "mode": "lines",
         "text": "Driver 47",
         "type": "scatter",
         "x": [
          80.91999945998192,
          84.31999955534936
         ],
         "y": [
          0.2,
          0.2
         ]
        },
        {
         "line": {
          "width": 30
         },
         "mode": "lines",
         "text": "Driver 41",
         "type": "scatter",
         "x": [
          22.958500080943107,
          27.658499890208244
         ],
         "y": [
          0.2,
          0.2
         ]
        },
        {
         "line": {
          "width": 30
         },
         "mode": "lines",
         "text": "Driver 40",
         "type": "scatter",
         "x": [
          94.74700044441222,
          98.74700044441222
         ],
         "y": [
          0.2,
          0.2
         ]
        },
        {
         "line": {
          "width": 30
         },
         "mode": "lines",
         "text": "Driver 37",
         "type": "scatter",
         "x": [
          71.45199905979634,
          75.7519992505312
         ],
         "y": [
          0.2,
          0.2
         ]
        },
        {
         "line": {
          "width": 30
         },
         "mode": "lines",
         "text": "Driver 34",
         "type": "scatter",
         "x": [
          59.204500445604324,
          63.204500445604324
         ],
         "y": [
          0.2,
          0.2
         ]
        },
        {
         "line": {
          "width": 30
         },
         "mode": "lines",
         "text": "Driver 27",
         "type": "scatter",
         "x": [
          39.42400056636333,
          43.324000661730764
         ],
         "y": [
          0.2,
          0.2
         ]
        },
        {
         "line": {
          "width": 30
         },
         "mode": "lines",
         "text": "Driver 25",
         "type": "scatter",
         "x": [
          13.242500123381614,
          17.042500075697898
         ],
         "y": [
          0.2,
          0.2
         ]
        },
        {
         "line": {
          "width": 30
         },
         "mode": "lines",
         "text": "Driver 19",
         "type": "scatter",
         "x": [
          32.57450002956391,
          36.27450007724762
         ],
         "y": [
          0.2,
          0.2
         ]
        },
        {
         "line": {
          "width": 30
         },
         "mode": "lines",
         "text": "Driver 15",
         "type": "scatter",
         "x": [
          43.86000066936016,
          47.46000057399273
         ],
         "y": [
          0.2,
          0.2
         ]
        }
       ],
       "frames": [],
       "layout": {
        "margin": {
         "b": 50,
         "l": 50,
         "r": 50,
         "t": 60
        },
        "showlegend": false,
        "template": {
         "data": {
          "bar": [
           {
            "error_x": {
             "color": "#2a3f5f"
            },
            "error_y": {
             "color": "#2a3f5f"
            },
            "marker": {
             "line": {
              "color": "#E5ECF6",
              "width": 0.5
             }
            },
            "type": "bar"
           }
          ],
          "barpolar": [
           {
            "marker": {
             "line": {
              "color": "#E5ECF6",
              "width": 0.5
             }
            },
            "type": "barpolar"
           }
          ],
          "carpet": [
           {
            "aaxis": {
             "endlinecolor": "#2a3f5f",
             "gridcolor": "white",
             "linecolor": "white",
             "minorgridcolor": "white",
             "startlinecolor": "#2a3f5f"
            },
            "baxis": {
             "endlinecolor": "#2a3f5f",
             "gridcolor": "white",
             "linecolor": "white",
             "minorgridcolor": "white",
             "startlinecolor": "#2a3f5f"
            },
            "type": "carpet"
           }
          ],
          "choropleth": [
           {
            "colorbar": {
             "outlinewidth": 0,
             "ticks": ""
            },
            "type": "choropleth"
           }
          ],
          "contour": [
           {
            "colorbar": {
             "outlinewidth": 0,
             "ticks": ""
            },
            "colorscale": [
             [
              0,
              "#0d0887"
             ],
             [
              0.1111111111111111,
              "#46039f"
             ],
             [
              0.2222222222222222,
              "#7201a8"
             ],
             [
              0.3333333333333333,
              "#9c179e"
             ],
             [
              0.4444444444444444,
              "#bd3786"
             ],
             [
              0.5555555555555556,
              "#d8576b"
             ],
             [
              0.6666666666666666,
              "#ed7953"
             ],
             [
              0.7777777777777778,
              "#fb9f3a"
             ],
             [
              0.8888888888888888,
              "#fdca26"
             ],
             [
              1,
              "#f0f921"
             ]
            ],
            "type": "contour"
           }
          ],
          "contourcarpet": [
           {
            "colorbar": {
             "outlinewidth": 0,
             "ticks": ""
            },
            "type": "contourcarpet"
           }
          ],
          "heatmap": [
           {
            "colorbar": {
             "outlinewidth": 0,
             "ticks": ""
            },
            "colorscale": [
             [
              0,
              "#0d0887"
             ],
             [
              0.1111111111111111,
              "#46039f"
             ],
             [
              0.2222222222222222,
              "#7201a8"
             ],
             [
              0.3333333333333333,
              "#9c179e"
             ],
             [
              0.4444444444444444,
              "#bd3786"
             ],
             [
              0.5555555555555556,
              "#d8576b"
             ],
             [
              0.6666666666666666,
              "#ed7953"
             ],
             [
              0.7777777777777778,
              "#fb9f3a"
             ],
             [
              0.8888888888888888,
              "#fdca26"
             ],
             [
              1,
              "#f0f921"
             ]
            ],
            "type": "heatmap"
           }
          ],
          "heatmapgl": [
           {
            "colorbar": {
             "outlinewidth": 0,
             "ticks": ""
            },
            "colorscale": [
             [
              0,
              "#0d0887"
             ],
             [
              0.1111111111111111,
              "#46039f"
             ],
             [
              0.2222222222222222,
              "#7201a8"
             ],
             [
              0.3333333333333333,
              "#9c179e"
             ],
             [
              0.4444444444444444,
              "#bd3786"
             ],
             [
              0.5555555555555556,
              "#d8576b"
             ],
             [
              0.6666666666666666,
              "#ed7953"
             ],
             [
              0.7777777777777778,
              "#fb9f3a"
             ],
             [
              0.8888888888888888,
              "#fdca26"
             ],
             [
              1,
              "#f0f921"
             ]
            ],
            "type": "heatmapgl"
           }
          ],
          "histogram": [
           {
            "marker": {
             "colorbar": {
              "outlinewidth": 0,
              "ticks": ""
             }
            },
            "type": "histogram"
           }
          ],
          "histogram2d": [
           {
            "colorbar": {
             "outlinewidth": 0,
             "ticks": ""
            },
            "colorscale": [
             [
              0,
              "#0d0887"
             ],
             [
              0.1111111111111111,
              "#46039f"
             ],
             [
              0.2222222222222222,
              "#7201a8"
             ],
             [
              0.3333333333333333,
              "#9c179e"
             ],
             [
              0.4444444444444444,
              "#bd3786"
             ],
             [
              0.5555555555555556,
              "#d8576b"
             ],
             [
              0.6666666666666666,
              "#ed7953"
             ],
             [
              0.7777777777777778,
              "#fb9f3a"
             ],
             [
              0.8888888888888888,
              "#fdca26"
             ],
             [
              1,
              "#f0f921"
             ]
            ],
            "type": "histogram2d"
           }
          ],
          "histogram2dcontour": [
           {
            "colorbar": {
             "outlinewidth": 0,
             "ticks": ""
            },
            "colorscale": [
             [
              0,
              "#0d0887"
             ],
             [
              0.1111111111111111,
              "#46039f"
             ],
             [
              0.2222222222222222,
              "#7201a8"
             ],
             [
              0.3333333333333333,
              "#9c179e"
             ],
             [
              0.4444444444444444,
              "#bd3786"
             ],
             [
              0.5555555555555556,
              "#d8576b"
             ],
             [
              0.6666666666666666,
              "#ed7953"
             ],
             [
              0.7777777777777778,
              "#fb9f3a"
             ],
             [
              0.8888888888888888,
              "#fdca26"
             ],
             [
              1,
              "#f0f921"
             ]
            ],
            "type": "histogram2dcontour"
           }
          ],
          "mesh3d": [
           {
            "colorbar": {
             "outlinewidth": 0,
             "ticks": ""
            },
            "type": "mesh3d"
           }
          ],
          "parcoords": [
           {
            "line": {
             "colorbar": {
              "outlinewidth": 0,
              "ticks": ""
             }
            },
            "type": "parcoords"
           }
          ],
          "pie": [
           {
            "automargin": true,
            "type": "pie"
           }
          ],
          "scatter": [
           {
            "marker": {
             "colorbar": {
              "outlinewidth": 0,
              "ticks": ""
             }
            },
            "type": "scatter"
           }
          ],
          "scatter3d": [
           {
            "line": {
             "colorbar": {
              "outlinewidth": 0,
              "ticks": ""
             }
            },
            "marker": {
             "colorbar": {
              "outlinewidth": 0,
              "ticks": ""
             }
            },
            "type": "scatter3d"
           }
          ],
          "scattercarpet": [
           {
            "marker": {
             "colorbar": {
              "outlinewidth": 0,
              "ticks": ""
             }
            },
            "type": "scattercarpet"
           }
          ],
          "scattergeo": [
           {
            "marker": {
             "colorbar": {
              "outlinewidth": 0,
              "ticks": ""
             }
            },
            "type": "scattergeo"
           }
          ],
          "scattergl": [
           {
            "marker": {
             "colorbar": {
              "outlinewidth": 0,
              "ticks": ""
             }
            },
            "type": "scattergl"
           }
          ],
          "scattermapbox": [
           {
            "marker": {
             "colorbar": {
              "outlinewidth": 0,
              "ticks": ""
             }
            },
            "type": "scattermapbox"
           }
          ],
          "scatterpolar": [
           {
            "marker": {
             "colorbar": {
              "outlinewidth": 0,
              "ticks": ""
             }
            },
            "type": "scatterpolar"
           }
          ],
          "scatterpolargl": [
           {
            "marker": {
             "colorbar": {
              "outlinewidth": 0,
              "ticks": ""
             }
            },
            "type": "scatterpolargl"
           }
          ],
          "scatterternary": [
           {
            "marker": {
             "colorbar": {
              "outlinewidth": 0,
              "ticks": ""
             }
            },
            "type": "scatterternary"
           }
          ],
          "surface": [
           {
            "colorbar": {
             "outlinewidth": 0,
             "ticks": ""
            },
            "colorscale": [
             [
              0,
              "#0d0887"
             ],
             [
              0.1111111111111111,
              "#46039f"
             ],
             [
              0.2222222222222222,
              "#7201a8"
             ],
             [
              0.3333333333333333,
              "#9c179e"
             ],
             [
              0.4444444444444444,
              "#bd3786"
             ],
             [
              0.5555555555555556,
              "#d8576b"
             ],
             [
              0.6666666666666666,
              "#ed7953"
             ],
             [
              0.7777777777777778,
              "#fb9f3a"
             ],
             [
              0.8888888888888888,
              "#fdca26"
             ],
             [
              1,
              "#f0f921"
             ]
            ],
            "type": "surface"
           }
          ],
          "table": [
           {
            "cells": {
             "fill": {
              "color": "#EBF0F8"
             },
             "line": {
              "color": "white"
             }
            },
            "header": {
             "fill": {
              "color": "#C8D4E3"
             },
             "line": {
              "color": "white"
             }
            },
            "type": "table"
           }
          ]
         },
         "layout": {
          "annotationdefaults": {
           "arrowcolor": "#2a3f5f",
           "arrowhead": 0,
           "arrowwidth": 1
          },
          "autotypenumbers": "strict",
          "coloraxis": {
           "colorbar": {
            "outlinewidth": 0,
            "ticks": ""
           }
          },
          "colorscale": {
           "diverging": [
            [
             0,
             "#8e0152"
            ],
            [
             0.1,
             "#c51b7d"
            ],
            [
             0.2,
             "#de77ae"
            ],
            [
             0.3,
             "#f1b6da"
            ],
            [
             0.4,
             "#fde0ef"
            ],
            [
             0.5,
             "#f7f7f7"
            ],
            [
             0.6,
             "#e6f5d0"
            ],
            [
             0.7,
             "#b8e186"
            ],
            [
             0.8,
             "#7fbc41"
            ],
            [
             0.9,
             "#4d9221"
            ],
            [
             1,
             "#276419"
            ]
           ],
           "sequential": [
            [
             0,
             "#0d0887"
            ],
            [
             0.1111111111111111,
             "#46039f"
            ],
            [
             0.2222222222222222,
             "#7201a8"
            ],
            [
             0.3333333333333333,
             "#9c179e"
            ],
            [
             0.4444444444444444,
             "#bd3786"
            ],
            [
             0.5555555555555556,
             "#d8576b"
            ],
            [
             0.6666666666666666,
             "#ed7953"
            ],
            [
             0.7777777777777778,
             "#fb9f3a"
            ],
            [
             0.8888888888888888,
             "#fdca26"
            ],
            [
             1,
             "#f0f921"
            ]
           ],
           "sequentialminus": [
            [
             0,
             "#0d0887"
            ],
            [
             0.1111111111111111,
             "#46039f"
            ],
            [
             0.2222222222222222,
             "#7201a8"
            ],
            [
             0.3333333333333333,
             "#9c179e"
            ],
            [
             0.4444444444444444,
             "#bd3786"
            ],
            [
             0.5555555555555556,
             "#d8576b"
            ],
            [
             0.6666666666666666,
             "#ed7953"
            ],
            [
             0.7777777777777778,
             "#fb9f3a"
            ],
            [
             0.8888888888888888,
             "#fdca26"
            ],
            [
             1,
             "#f0f921"
            ]
           ]
          },
          "colorway": [
           "#636efa",
           "#EF553B",
           "#00cc96",
           "#ab63fa",
           "#FFA15A",
           "#19d3f3",
           "#FF6692",
           "#B6E880",
           "#FF97FF",
           "#FECB52"
          ],
          "font": {
           "color": "#2a3f5f"
          },
          "geo": {
           "bgcolor": "white",
           "lakecolor": "white",
           "landcolor": "#E5ECF6",
           "showlakes": true,
           "showland": true,
           "subunitcolor": "white"
          },
          "hoverlabel": {
           "align": "left"
          },
          "hovermode": "closest",
          "mapbox": {
           "style": "light"
          },
          "paper_bgcolor": "white",
          "plot_bgcolor": "#E5ECF6",
          "polar": {
           "angularaxis": {
            "gridcolor": "white",
            "linecolor": "white",
            "ticks": ""
           },
           "bgcolor": "#E5ECF6",
           "radialaxis": {
            "gridcolor": "white",
            "linecolor": "white",
            "ticks": ""
           }
          },
          "scene": {
           "xaxis": {
            "backgroundcolor": "#E5ECF6",
            "gridcolor": "white",
            "gridwidth": 2,
            "linecolor": "white",
            "showbackground": true,
            "ticks": "",
            "zerolinecolor": "white"
           },
           "yaxis": {
            "backgroundcolor": "#E5ECF6",
            "gridcolor": "white",
            "gridwidth": 2,
            "linecolor": "white",
            "showbackground": true,
            "ticks": "",
            "zerolinecolor": "white"
           },
           "zaxis": {
            "backgroundcolor": "#E5ECF6",
            "gridcolor": "white",
            "gridwidth": 2,
            "linecolor": "white",
            "showbackground": true,
            "ticks": "",
            "zerolinecolor": "white"
           }
          },
          "shapedefaults": {
           "line": {
            "color": "#2a3f5f"
           }
          },
          "ternary": {
           "aaxis": {
            "gridcolor": "white",
            "linecolor": "white",
            "ticks": ""
           },
           "baxis": {
            "gridcolor": "white",
            "linecolor": "white",
            "ticks": ""
           },
           "bgcolor": "#E5ECF6",
           "caxis": {
            "gridcolor": "white",
            "linecolor": "white",
            "ticks": ""
           }
          },
          "title": {
           "x": 0.05
          },
          "xaxis": {
           "automargin": true,
           "gridcolor": "white",
           "linecolor": "white",
           "ticks": "",
           "title": {
            "standoff": 15
           },
           "zerolinecolor": "white",
           "zerolinewidth": 2
          },
          "yaxis": {
           "automargin": true,
           "gridcolor": "white",
           "linecolor": "white",
           "ticks": "",
           "title": {
            "standoff": 15
           },
           "zerolinecolor": "white",
           "zerolinewidth": 2
          }
         }
        },
        "xaxis": {
         "dtick": 10,
         "tick0": 0,
         "ticks": "outside"
        },
        "yaxis": {
         "range": [
          0,
          0.3
         ],
         "showticklabels": false
        }
       }
      },
      "image/png": "[encoded data removed]",
      "image/svg+xml": [
       "<svg class=\"main-svg\" xmlns=\"http://www.w3.org/2000/svg\" xmlns:xlink=\"http://www.w3.org/1999/xlink\" width=\"700\" height=\"500\" style=\"\" viewBox=\"0 0 700 500\"><rect x=\"0\" y=\"0\" width=\"700\" height=\"500\" style=\"fill: rgb(255, 255, 255); fill-opacity: 1;\"/><defs id=\"defs-1f4428\"><g class=\"clips\"><clipPath id=\"clip1f4428xyplot\" class=\"plotclip\"><rect width=\"600\" height=\"390\"/></clipPath><clipPath class=\"axesclip\" id=\"clip1f4428x\"><rect x=\"50\" y=\"0\" width=\"600\" height=\"500\"/></clipPath><clipPath class=\"axesclip\" id=\"clip1f4428y\"><rect x=\"0\" y=\"60\" width=\"700\" height=\"390\"/></clipPath><clipPath class=\"axesclip\" id=\"clip1f4428xy\"><rect x=\"50\" y=\"60\" width=\"600\" height=\"390\"/></clipPath></g><g class=\"gradients\"/></defs><g class=\"bglayer\"><rect class=\"bg\" x=\"50\" y=\"60\" width=\"600\" height=\"390\" style=\"fill: rgb(229, 236, 246); fill-opacity: 1; stroke-width: 0;\"/></g><g class=\"layer-below\"><g class=\"imagelayer\"/><g class=\"shapelayer\"/></g><g class=\"cartesianlayer\"><g class=\"subplot xy\"><g class=\"layer-subplot\"><g class=\"shapelayer\"/><g class=\"imagelayer\"/></g><g class=\"gridlayer\"><g class=\"x\"><path class=\"xgrid crisp\" transform=\"translate(110,0)\" d=\"M0,60v390\" style=\"stroke: rgb(255, 255, 255); stroke-opacity: 1; stroke-width: 1px;\"/><path class=\"xgrid crisp\" transform=\"translate(170,0)\" d=\"M0,60v390\" style=\"stroke: rgb(255, 255, 255); stroke-opacity: 1; stroke-width: 1px;\"/><path class=\"xgrid crisp\" transform=\"translate(230,0)\" d=\"M0,60v390\" style=\"stroke: rgb(255, 255, 255); stroke-opacity: 1; stroke-width: 1px;\"/><path class=\"xgrid crisp\" transform=\"translate(290,0)\" d=\"M0,60v390\" style=\"stroke: rgb(255, 255, 255); stroke-opacity: 1; stroke-width: 1px;\"/><path class=\"xgrid crisp\" transform=\"translate(350,0)\" d=\"M0,60v390\" style=\"stroke: rgb(255, 255, 255); stroke-opacity: 1; stroke-width: 1px;\"/><path class=\"xgrid crisp\" transform=\"translate(410,0)\" d=\"M0,60v390\" style=\"stroke: rgb(255, 255, 255); stroke-opacity: 1; stroke-width: 1px;\"/><path class=\"xgrid crisp\" transform=\"translate(470,0)\" d=\"M0,60v390\" style=\"stroke: rgb(255, 255, 255); stroke-opacity: 1; stroke-width: 1px;\"/><path class=\"xgrid crisp\" transform=\"translate(530,0)\" d=\"M0,60v390\" style=\"stroke: rgb(255, 255, 255); stroke-opacity: 1; stroke-width: 1px;\"/><path class=\"xgrid crisp\" transform=\"translate(590,0)\" d=\"M0,60v390\" style=\"stroke: rgb(255, 255, 255); stroke-opacity: 1; stroke-width: 1px;\"/></g><g class=\"y\"><path class=\"ygrid crisp\" transform=\"translate(0,385)\" d=\"M50,0h600\" style=\"stroke: rgb(255, 255, 255); stroke-opacity: 1; stroke-width: 1px;\"/><path class=\"ygrid crisp\" transform=\"translate(0,320)\" d=\"M50,0h600\" style=\"stroke: rgb(255, 255, 255); stroke-opacity: 1; stroke-width: 1px;\"/><path class=\"ygrid crisp\" transform=\"translate(0,255)\" d=\"M50,0h600\" style=\"stroke: rgb(255, 255, 255); stroke-opacity: 1; stroke-width: 1px;\"/><path class=\"ygrid crisp\" transform=\"translate(0,190)\" d=\"M50,0h600\" style=\"stroke: rgb(255, 255, 255); stroke-opacity: 1; stroke-width: 1px;\"/><path class=\"ygrid crisp\" transform=\"translate(0,125)\" d=\"M50,0h600\" style=\"stroke: rgb(255, 255, 255); stroke-opacity: 1; stroke-width: 1px;\"/></g></g><g class=\"zerolinelayer\"><path class=\"xzl zl crisp\" transform=\"translate(50,0)\" d=\"M0,60v390\" style=\"stroke: rgb(255, 255, 255); stroke-opacity: 1; stroke-width: 2px;\"/><path class=\"yzl zl crisp\" transform=\"translate(0,450)\" d=\"M50,0h600\" style=\"stroke: rgb(255, 255, 255); stroke-opacity: 1; stroke-width: 2px;\"/></g><path class=\"xlines-below\"/><path class=\"ylines-below\"/><g class=\"overlines-below\"/><g class=\"xaxislayer-below\"/><g class=\"yaxislayer-below\"/><g class=\"overaxes-below\"/><g class=\"plot\" transform=\"translate(50,60)\" clip-path=\"url('#clip1f4428xyplot')\"><g class=\"scatterlayer mlayer\"><g class=\"trace scatter trace062ed0\" style=\"stroke-miterlimit: 2; opacity: 1;\"><g class=\"fills\"/><g class=\"errorbars\"/><g class=\"lines\"><path class=\"js-line\" d=\"M0,260L600,260\" style=\"vector-effect: non-scaling-stroke; fill: none; stroke: rgb(0, 0, 0); stroke-opacity: 1; stroke-width: 100px; opacity: 1;\"/></g><g class=\"points\"/><g class=\"text\"/></g><g class=\"trace scatter trace050d49\" style=\"stroke-miterlimit: 2; opacity: 1;\"><g class=\"fills\"/><g class=\"errorbars\"/><g class=\"lines\"><path class=\"js-line\" d=\"M299.44,130L327.04,130\" style=\"vector-effect: non-scaling-stroke; fill: none; stroke: rgb(239, 85, 59); stroke-opacity: 1; stroke-width: 30px; opacity: 1;\"/></g><g class=\"points\"/><g class=\"text\"/></g><g class=\"trace scatter trace1cbc3c\" style=\"stroke-miterlimit: 2; opacity: 1;\"><g class=\"fills\"/><g class=\"errorbars\"/><g class=\"lines\"><path class=\"js-line\" d=\"M109.27,130L134.47,130\" style=\"vector-effect: non-scaling-stroke; fill: none; stroke: rgb(0, 204, 150); stroke-opacity: 1; stroke-width: 30px; opacity: 1;\"/></g><g class=\"points\"/><g class=\"text\"/></g><g class=\"trace scatter trace4e8586\" style=\"stroke-miterlimit: 2; opacity: 1;\"><g class=\"fills\"/><g class=\"errorbars\"/><g class=\"lines\"><path class=\"js-line\" d=\"M400.38,130L425.58,130\" style=\"vector-effect: non-scaling-stroke; fill: none; stroke: rgb(171, 99, 250); stroke-opacity: 1; stroke-width: 30px; opacity: 1;\"/></g><g class=\"points\"/><g class=\"text\"/></g><g class=\"trace scatter trace926017\" style=\"stroke-miterlimit: 2; opacity: 1;\"><g class=\"fills\"/><g class=\"errorbars\"/><g class=\"lines\"><path class=\"js-line\" d=\"M169.85,130L191.45,130\" style=\"vector-effect: non-scaling-stroke; fill: none; stroke: rgb(255, 161, 90); stroke-opacity: 1; stroke-width: 30px; opacity: 1;\"/></g><g class=\"points\"/><g class=\"text\"/></g><g class=\"trace scatter trace7094a2\" style=\"stroke-miterlimit: 2; opacity: 1;\"><g class=\"fills\"/><g class=\"errorbars\"/><g class=\"lines\"><path class=\"js-line\" d=\"M458.32,130L482.32,130\" style=\"vector-effect: non-scaling-stroke; fill: none; stroke: rgb(25, 211, 243); stroke-opacity: 1; stroke-width: 30px; opacity: 1;\"/></g><g class=\"points\"/><g class=\"text\"/></g><g class=\"trace scatter trace5c29db\" style=\"stroke-miterlimit: 2; opacity: 1;\"><g class=\"fills\"/><g class=\"errorbars\"/><g class=\"lines\"><path class=\"js-line\" d=\"M23.29,130L44.29,130\" style=\"vector-effect: non-scaling-stroke; fill: none; stroke: rgb(255, 102, 146); stroke-opacity: 1; stroke-width: 30px; opacity: 1;\"/></g><g class=\"points\"/><g class=\"text\"/></g><g class=\"trace scatter tracebf213a\" style=\"stroke-miterlimit: 2; opacity: 1;\"><g class=\"fills\"/><g class=\"errorbars\"/><g class=\"lines\"><path class=\"js-line\" d=\"M49.46,130L76.46,130\" style=\"vector-effect: non-scaling-stroke; fill: none; stroke: rgb(182, 232, 128); stroke-opacity: 1; stroke-width: 30px; opacity: 1;\"/></g><g class=\"points\"/><g class=\"text\"/></g><g class=\"trace scatter tracebc5881\" style=\"stroke-miterlimit: 2; opacity: 1;\"><g class=\"fills\"/><g class=\"errorbars\"/><g class=\"lines\"><path class=\"js-line\" d=\"M511.55,130L537.95,130\" style=\"vector-effect: non-scaling-stroke; fill: none; stroke: rgb(255, 151, 255); stroke-opacity: 1; stroke-width: 30px; opacity: 1;\"/></g><g class=\"points\"/><g class=\"text\"/></g><g class=\"trace scatter trace27d4a3\" style=\"stroke-miterlimit: 2; opacity: 1;\"><g class=\"fills\"/><g class=\"errorbars\"/><g class=\"lines\"><path class=\"js-line\" d=\"M330.99,130L351.99,130\" style=\"vector-effect: non-scaling-stroke; fill: none; stroke: rgb(254, 203, 82); stroke-opacity: 1; stroke-width: 30px; opacity: 1;\"/></g><g class=\"points\"/><g class=\"text\"/></g><g class=\"trace scatter trace1f2e58\" style=\"stroke-miterlimit: 2; opacity: 1;\"><g class=\"fills\"/><g class=\"errorbars\"/><g class=\"lines\"><path class=\"js-line\" d=\"M542.68,130L564.28,130\" style=\"vector-effect: non-scaling-stroke; fill: none; stroke: rgb(99, 110, 250); stroke-opacity: 1; stroke-width: 30px; opacity: 1;\"/></g><g class=\"points\"/><g class=\"text\"/></g><g class=\"trace scatter trace3d441e\" style=\"stroke-miterlimit: 2; opacity: 1;\"><g class=\"fills\"/><g class=\"errorbars\"/><g class=\"lines\"><path class=\"js-line\" d=\"M485.52,130L505.92,130\" style=\"vector-effect: non-scaling-stroke; fill: none; stroke: rgb(239, 85, 59); stroke-opacity: 1; stroke-width: 30px; opacity: 1;\"/></g><g class=\"points\"/><g class=\"text\"/></g><g class=\"trace scatter trace051a92\" style=\"stroke-miterlimit: 2; opacity: 1;\"><g class=\"fills\"/><g class=\"errorbars\"/><g class=\"lines\"><path class=\"js-line\" d=\"M137.75,130L165.95,130\" style=\"vector-effect: non-scaling-stroke; fill: none; stroke: rgb(0, 204, 150); stroke-opacity: 1; stroke-width: 30px; opacity: 1;\"/></g><g class=\"points\"/><g class=\"text\"/></g><g class=\"trace scatter trace9a6cfa\" style=\"stroke-miterlimit: 2; opacity: 1;\"><g class=\"fills\"/><g class=\"errorbars\"/><g class=\"lines\"><path class=\"js-line\" d=\"M568.48,130L592.48,130\" style=\"vector-effect: non-scaling-stroke; fill: none; stroke: rgb(171, 99, 250); stroke-opacity: 1; stroke-width: 30px; opacity: 1;\"/></g><g class=\"points\"/><g class=\"text\"/></g><g class=\"trace scatter trace8b281d\" style=\"stroke-miterlimit: 2; opacity: 1;\"><g class=\"fills\"/><g class=\"errorbars\"/><g class=\"lines\"><path class=\"js-line\" d=\"M428.71,130L454.51,130\" style=\"vector-effect: non-scaling-stroke; fill: none; stroke: rgb(255, 161, 90); stroke-opacity: 1; stroke-width: 30px; opacity: 1;\"/></g><g class=\"points\"/><g class=\"text\"/></g><g class=\"trace scatter tracec8f350\" style=\"stroke-miterlimit: 2; opacity: 1;\"><g class=\"fills\"/><g class=\"errorbars\"/><g class=\"lines\"><path class=\"js-line\" d=\"M355.23,130L379.23,130\" style=\"vector-effect: non-scaling-stroke; fill: none; stroke: rgb(25, 211, 243); stroke-opacity: 1; stroke-width: 30px; opacity: 1;\"/></g><g class=\"points\"/><g class=\"text\"/></g><g class=\"trace scatter trace8f66b1\" style=\"stroke-miterlimit: 2; opacity: 1;\"><g class=\"fills\"/><g class=\"errorbars\"/><g class=\"lines\"><path class=\"js-line\" d=\"M236.54,130L259.94,130\" style=\"vector-effect: non-scaling-stroke; fill: none; stroke: rgb(255, 102, 146); stroke-opacity: 1; stroke-width: 30px; opacity: 1;\"/></g><g class=\"points\"/><g class=\"text\"/></g><g class=\"trace scatter trace7733c5\" style=\"stroke-miterlimit: 2; opacity: 1;\"><g class=\"fills\"/><g class=\"errorbars\"/><g class=\"lines\"><path class=\"js-line\" d=\"M79.46,130L102.26,130\" style=\"vector-effect: non-scaling-stroke; fill: none; stroke: rgb(182, 232, 128); stroke-opacity: 1; stroke-width: 30px; opacity: 1;\"/></g><g class=\"points\"/><g class=\"text\"/></g><g class=\"trace scatter tracebc431c\" style=\"stroke-miterlimit: 2; opacity: 1;\"><g class=\"fills\"/><g class=\"errorbars\"/><g class=\"lines\"><path class=\"js-line\" d=\"M195.45,130L217.65,130\" style=\"vector-effect: non-scaling-stroke; fill: none; stroke: rgb(255, 151, 255); stroke-opacity: 1; stroke-width: 30px; opacity: 1;\"/></g><g class=\"points\"/><g class=\"text\"/></g><g class=\"trace scatter traceb445e7\" style=\"stroke-miterlimit: 2; opacity: 1;\"><g class=\"fills\"/><g class=\"errorbars\"/><g class=\"lines\"><path class=\"js-line\" d=\"M263.16,130L284.76,130\" style=\"vector-effect: non-scaling-stroke; fill: none; stroke: rgb(254, 203, 82); stroke-opacity: 1; stroke-width: 30px; opacity: 1;\"/></g><g class=\"points\"/><g class=\"text\"/></g></g></g><g class=\"overplot\"/><path class=\"xlines-above crisp\" d=\"\" style=\"fill: none; stroke-width: 1px; stroke: rgb(0, 0, 0); stroke-opacity: 0;\"/><path class=\"ylines-above crisp\" d=\"M0,0\" style=\"fill: none;\"/><g class=\"overlines-above\"/><g class=\"xaxislayer-above\"><path class=\"xtick ticks crisp\" d=\"M0,451v5\" transform=\"translate(50,0)\" style=\"stroke: rgb(68, 68, 68); stroke-opacity: 1; stroke-width: 1px;\"/><path class=\"xtick ticks crisp\" d=\"M0,451v5\" transform=\"translate(110,0)\" style=\"stroke: rgb(68, 68, 68); stroke-opacity: 1; stroke-width: 1px;\"/><path class=\"xtick ticks crisp\" d=\"M0,451v5\" transform=\"translate(170,0)\" style=\"stroke: rgb(68, 68, 68); stroke-opacity: 1; stroke-width: 1px;\"/><path class=\"xtick ticks crisp\" d=\"M0,451v5\" transform=\"translate(230,0)\" style=\"stroke: rgb(68, 68, 68); stroke-opacity: 1; stroke-width: 1px;\"/><path class=\"xtick ticks crisp\" d=\"M0,451v5\" transform=\"translate(290,0)\" style=\"stroke: rgb(68, 68, 68); stroke-opacity: 1; stroke-width: 1px;\"/><path class=\"xtick ticks crisp\" d=\"M0,451v5\" transform=\"translate(350,0)\" style=\"stroke: rgb(68, 68, 68); stroke-opacity: 1; stroke-width: 1px;\"/><path class=\"xtick ticks crisp\" d=\"M0,451v5\" transform=\"translate(410,0)\" style=\"stroke: rgb(68, 68, 68); stroke-opacity: 1; stroke-width: 1px;\"/><path class=\"xtick ticks crisp\" d=\"M0,451v5\" transform=\"translate(470,0)\" style=\"stroke: rgb(68, 68, 68); stroke-opacity: 1; stroke-width: 1px;\"/><path class=\"xtick ticks crisp\" d=\"M0,451v5\" transform=\"translate(530,0)\" style=\"stroke: rgb(68, 68, 68); stroke-opacity: 1; stroke-width: 1px;\"/><path class=\"xtick ticks crisp\" d=\"M0,451v5\" transform=\"translate(590,0)\" style=\"stroke: rgb(68, 68, 68); stroke-opacity: 1; stroke-width: 1px;\"/><path class=\"xtick ticks crisp\" d=\"M0,451v5\" transform=\"translate(650,0)\" style=\"stroke: rgb(68, 68, 68); stroke-opacity: 1; stroke-width: 1px;\"/><g class=\"xtick\"><text text-anchor=\"middle\" x=\"0\" y=\"470.4\" transform=\"translate(50,0)\" style=\"font-family: 'Open Sans', verdana, arial, sans-serif; font-size: 12px; fill: rgb(42, 63, 95); fill-opacity: 1; white-space: pre;\">0</text></g><g class=\"xtick\"><text text-anchor=\"middle\" x=\"0\" y=\"470.4\" transform=\"translate(110,0)\" style=\"font-family: 'Open Sans', verdana, arial, sans-serif; font-size: 12px; fill: rgb(42, 63, 95); fill-opacity: 1; white-space: pre;\">10</text></g><g class=\"xtick\"><text text-anchor=\"middle\" x=\"0\" y=\"470.4\" transform=\"translate(170,0)\" style=\"font-family: 'Open Sans', verdana, arial, sans-serif; font-size: 12px; fill: rgb(42, 63, 95); fill-opacity: 1; white-space: pre;\">20</text></g><g class=\"xtick\"><text text-anchor=\"middle\" x=\"0\" y=\"470.4\" transform=\"translate(230,0)\" style=\"font-family: 'Open Sans', verdana, arial, sans-serif; font-size: 12px; fill: rgb(42, 63, 95); fill-opacity: 1; white-space: pre;\">30</text></g><g class=\"xtick\"><text text-anchor=\"middle\" x=\"0\" y=\"470.4\" transform=\"translate(290,0)\" style=\"font-family: 'Open Sans', verdana, arial, sans-serif; font-size: 12px; fill: rgb(42, 63, 95); fill-opacity: 1; white-space: pre;\">40</text></g><g class=\"xtick\"><text text-anchor=\"middle\" x=\"0\" y=\"470.4\" transform=\"translate(350,0)\" style=\"font-family: 'Open Sans', verdana, arial, sans-serif; font-size: 12px; fill: rgb(42, 63, 95); fill-opacity: 1; white-space: pre;\">50</text></g><g class=\"xtick\"><text text-anchor=\"middle\" x=\"0\" y=\"470.4\" transform=\"translate(410,0)\" style=\"font-family: 'Open Sans', verdana, arial, sans-serif; font-size: 12px; fill: rgb(42, 63, 95); fill-opacity: 1; white-space: pre;\">60</text></g><g class=\"xtick\"><text text-anchor=\"middle\" x=\"0\" y=\"470.4\" transform=\"translate(470,0)\" style=\"font-family: 'Open Sans', verdana, arial, sans-serif; font-size: 12px; fill: rgb(42, 63, 95); fill-opacity: 1; white-space: pre;\">70</text></g><g class=\"xtick\"><text text-anchor=\"middle\" x=\"0\" y=\"470.4\" transform=\"translate(530,0)\" style=\"font-family: 'Open Sans', verdana, arial, sans-serif; font-size: 12px; fill: rgb(42, 63, 95); fill-opacity: 1; white-space: pre;\">80</text></g><g class=\"xtick\"><text text-anchor=\"middle\" x=\"0\" y=\"470.4\" transform=\"translate(590,0)\" style=\"font-family: 'Open Sans', verdana, arial, sans-serif; font-size: 12px; fill: rgb(42, 63, 95); fill-opacity: 1; white-space: pre;\">90</text></g><g class=\"xtick\"><text text-anchor=\"middle\" x=\"0\" y=\"470.4\" transform=\"translate(650,0)\" style=\"font-family: 'Open Sans', verdana, arial, sans-serif; font-size: 12px; fill: rgb(42, 63, 95); fill-opacity: 1; white-space: pre;\">100</text></g></g><g class=\"yaxislayer-above\"/><g class=\"overaxes-above\"/></g></g><g class=\"polarlayer\"/><g class=\"ternarylayer\"/><g class=\"geolayer\"/><g class=\"funnelarealayer\"/><g class=\"pielayer\"/><g class=\"treemaplayer\"/><g class=\"sunburstlayer\"/><g class=\"glimages\"/><defs id=\"topdefs-1f4428\"><g class=\"clips\"/></defs><g class=\"layer-above\"><g class=\"imagelayer\"/><g class=\"shapelayer\"/></g><g class=\"infolayer\"><g class=\"g-gtitle\"/><g class=\"g-xtitle\"/><g class=\"g-ytitle\"/></g></svg>"
      ],
      "text/html": [
       "<div\n",
       "    class=\"webio-mountpoint\"\n",
       "    data-webio-mountpoint=\"2767186720482310991\"\n",
       ">\n",
       "    <script>\n",
       "    (function(){\n",
       "    // Some integrations (namely, IJulia/Jupyter) use an alternate render pathway than\n",
       "    // just putting the html on the page. If WebIO isn't defined, then it's pretty likely\n",
       "    // that we're in one of those situations and the integration just isn't installed\n",
       "    // correctly.\n",
       "    if (typeof window.WebIO === \"undefined\") {\n",
       "        document\n",
       "            .querySelector('[data-webio-mountpoint=\"2767186720482310991\"]')\n",
       "            .innerHTML = (\n",
       "                '<div style=\"padding: 1em; background-color: #f8d6da; border: 1px solid #f5c6cb; font-weight: bold;\">' +\n",
       "                '<p><strong>WebIO not detected.</strong></p>' +\n",
       "                '<p>Please read ' +\n",
       "                '<a href=\"https://juliagizmos.github.io/WebIO.jl/latest/troubleshooting/not-detected/\" target=\"_blank\">the troubleshooting guide</a> ' +\n",
       "                'for more information on how to resolve this issue.</p>' +\n",
       "                '<p><a href=\"https://juliagizmos.github.io/WebIO.jl/latest/troubleshooting/not-detected/\" target=\"_blank\">https://juliagizmos.github.io/WebIO.jl/latest/troubleshooting/not-detected/</a></p>' +\n",
       "                '</div>'\n",
       "            );\n",
       "        return;\n",
       "    }\n",
       "    WebIO.mount(\n",
       "        document.querySelector('[data-webio-mountpoint=\"2767186720482310991\"]'),\n",
       "        {\"props\":{},\"nodeType\":\"Scope\",\"type\":\"node\",\"instanceArgs\":{\"imports\":{\"data\":[{\"name\":\"Plotly\",\"type\":\"js\",\"url\":\"\\/assetserver\\/5369e54fe8d828ab0ae82f146492a98dbe6f40df-plotly.min.js\"},{\"name\":null,\"type\":\"js\",\"url\":\"\\/assetserver\\/23e257f104a73815a6c1d51a939a2bc0d6e8d7c9-plotly_webio.bundle.js\"}],\"type\":\"async_block\"},\"id\":\"4389100568562325015\",\"handlers\":{\"_toImage\":[\"(function (options){return this.Plotly.toImage(this.plotElem,options).then((function (data){return WebIO.setval({\\\"name\\\":\\\"image\\\",\\\"scope\\\":\\\"4389100568562325015\\\",\\\"id\\\":\\\"5237560509031765787\\\",\\\"type\\\":\\\"observable\\\"},data)}))})\"],\"__get_gd_contents\":[\"(function (prop){prop==\\\"data\\\" ? (WebIO.setval({\\\"name\\\":\\\"__gd_contents\\\",\\\"scope\\\":\\\"4389100568562325015\\\",\\\"id\\\":\\\"8831312842309567688\\\",\\\"type\\\":\\\"observable\\\"},this.plotElem.data)) : undefined; return prop==\\\"layout\\\" ? (WebIO.setval({\\\"name\\\":\\\"__gd_contents\\\",\\\"scope\\\":\\\"4389100568562325015\\\",\\\"id\\\":\\\"8831312842309567688\\\",\\\"type\\\":\\\"observable\\\"},this.plotElem.layout)) : undefined})\"],\"_downloadImage\":[\"(function (options){return this.Plotly.downloadImage(this.plotElem,options)})\"],\"_commands\":[\"(function (args){var fn=args.shift(); var elem=this.plotElem; var Plotly=this.Plotly; args.unshift(elem); return Plotly[fn].apply(this,args)})\"]},\"systemjs_options\":null,\"mount_callbacks\":[\"function () {\\n    var handler = ((function (Plotly,PlotlyWebIO){PlotlyWebIO.init(WebIO); var gd=this.dom.querySelector(\\\"#plot-2df5a37b-94a4-4213-be63-d0d0baead979\\\"); this.plotElem=gd; this.Plotly=Plotly; (window.Blink!==undefined) ? (gd.style.width=\\\"100%\\\", gd.style.height=\\\"100vh\\\", gd.style.marginLeft=\\\"0%\\\", gd.style.marginTop=\\\"0vh\\\") : undefined; window.onresize=(function (){return Plotly.Plots.resize(gd)}); Plotly.newPlot(gd,[{\\\"mode\\\":\\\"lines\\\",\\\"line\\\":{\\\"color\\\":\\\"black\\\",\\\"width\\\":100},\\\"y\\\":[0.1,0.1],\\\"type\\\":\\\"scatter\\\",\\\"x\\\":[0.0,100.0]},{\\\"mode\\\":\\\"lines\\\",\\\"line\\\":{\\\"width\\\":30},\\\"y\\\":[0.2,0.2],\\\"type\\\":\\\"scatter\\\",\\\"text\\\":\\\"Driver 88\\\",\\\"x\\\":[49.90700053560734,54.507000440239906]},{\\\"mode\\\":\\\"lines\\\",\\\"line\\\":{\\\"width\\\":30},\\\"y\\\":[0.2,0.2],\\\"type\\\":\\\"scatter\\\",\\\"text\\\":\\\"Driver 87\\\",\\\"x\\\":[18.211500262379648,22.411500071644785]},{\\\"mode\\\":\\\"lines\\\",\\\"line\\\":{\\\"width\\\":30},\\\"y\\\":[0.2,0.2],\\\"type\\\":\\\"scatter\\\",\\\"text\\\":\\\"Driver 84\\\",\\\"x\\\":[66.73049924445152,70.93049905371666]},{\\\"mode\\\":\\\"lines\\\",\\\"line\\\":{\\\"width\\\":30},\\\"y\\\":[0.2,0.2],\\\"type\\\":\\\"scatter\\\",\\\"text\\\":\\\"Driver 83\\\",\\\"x\\\":[28.3080002464056,31.90800015103817]},{\\\"mode\\\":\\\"lines\\\",\\\"line\\\":{\\\"width\\\":30},\\\"y\\\":[0.2,0.2],\\\"type\\\":\\\"scatter\\\",\\\"text\\\":\\\"Driver 72\\\",\\\"x\\\":[76.38599945092201,80.38599945092201]},{\\\"mode\\\":\\\"lines\\\",\\\"line\\\":{\\\"width\\\":30},\\\"y\\\":[0.2,0.2],\\\"type\\\":\\\"scatter\\\",\\\"text\\\":\\\"Driver 66\\\",\\\"x\\\":[3.882499998807907,7.382499998807907]},{\\\"mode\\\":\\\"lines\\\",\\\"line\\\":{\\\"width\\\":30},\\\"y\\\":[0.2,0.2],\\\"type\\\":\\\"scatter\\\",\\\"text\\\":\\\"Driver 65\\\",\\\"x\\\":[8.242500004172324,12.742500004172324]},{\\\"mode\\\":\\\"lines\\\",\\\"line\\\":{\\\"width\\\":30},\\\"y\\\":[0.2,0.2],\\\"type\\\":\\\"scatter\\\",\\\"text\\\":\\\"Driver 61\\\",\\\"x\\\":[85.25900044775008,89.65900054311751]},{\\\"mode\\\":\\\"lines\\\",\\\"line\\\":{\\\"width\\\":30},\\\"y\\\":[0.2,0.2],\\\"type\\\":\\\"scatter\\\",\\\"text\\\":\\\"Driver 56\\\",\\\"x\\\":[55.164500436067584,58.664500436067584]},{\\\"mode\\\":\\\"lines\\\",\\\"line\\\":{\\\"width\\\":30},\\\"y\\\":[0.2,0.2],\\\"type\\\":\\\"scatter\\\",\\\"text\\\":\\\"Driver 55\\\",\\\"x\\\":[90.44700053977965,94.04700044441222]},{\\\"mode\\\":\\\"lines\\\",\\\"line\\\":{\\\"width\\\":30},\\\"y\\\":[0.2,0.2],\\\"type\\\":\\\"scatter\\\",\\\"text\\\":\\\"Driver 47\\\",\\\"x\\\":[80.91999945998192,84.31999955534936]},{\\\"mode\\\":\\\"lines\\\",\\\"line\\\":{\\\"width\\\":30},\\\"y\\\":[0.2,0.2],\\\"type\\\":\\\"scatter\\\",\\\"text\\\":\\\"Driver 41\\\",\\\"x\\\":[22.958500080943107,27.658499890208244]},{\\\"mode\\\":\\\"lines\\\",\\\"line\\\":{\\\"width\\\":30},\\\"y\\\":[0.2,0.2],\\\"type\\\":\\\"scatter\\\",\\\"text\\\":\\\"Driver 40\\\",\\\"x\\\":[94.74700044441222,98.74700044441222]},{\\\"mode\\\":\\\"lines\\\",\\\"line\\\":{\\\"width\\\":30},\\\"y\\\":[0.2,0.2],\\\"type\\\":\\\"scatter\\\",\\\"text\\\":\\\"Driver 37\\\",\\\"x\\\":[71.45199905979634,75.7519992505312]},{\\\"mode\\\":\\\"lines\\\",\\\"line\\\":{\\\"width\\\":30},\\\"y\\\":[0.2,0.2],\\\"type\\\":\\\"scatter\\\",\\\"text\\\":\\\"Driver 34\\\",\\\"x\\\":[59.204500445604324,63.204500445604324]},{\\\"mode\\\":\\\"lines\\\",\\\"line\\\":{\\\"width\\\":30},\\\"y\\\":[0.2,0.2],\\\"type\\\":\\\"scatter\\\",\\\"text\\\":\\\"Driver 27\\\",\\\"x\\\":[39.42400056636333,43.324000661730764]},{\\\"mode\\\":\\\"lines\\\",\\\"line\\\":{\\\"width\\\":30},\\\"y\\\":[0.2,0.2],\\\"type\\\":\\\"scatter\\\",\\\"text\\\":\\\"Driver 25\\\",\\\"x\\\":[13.242500123381614,17.042500075697898]},{\\\"mode\\\":\\\"lines\\\",\\\"line\\\":{\\\"width\\\":30},\\\"y\\\":[0.2,0.2],\\\"type\\\":\\\"scatter\\\",\\\"text\\\":\\\"Driver 19\\\",\\\"x\\\":[32.57450002956391,36.27450007724762]},{\\\"mode\\\":\\\"lines\\\",\\\"line\\\":{\\\"width\\\":30},\\\"y\\\":[0.2,0.2],\\\"type\\\":\\\"scatter\\\",\\\"text\\\":\\\"Driver 15\\\",\\\"x\\\":[43.86000066936016,47.46000057399273]}],{\\\"showlegend\\\":false,\\\"xaxis\\\":{\\\"dtick\\\":10,\\\"ticks\\\":\\\"outside\\\",\\\"tick0\\\":0},\\\"template\\\":{\\\"layout\\\":{\\\"coloraxis\\\":{\\\"colorbar\\\":{\\\"ticks\\\":\\\"\\\",\\\"outlinewidth\\\":0}},\\\"xaxis\\\":{\\\"gridcolor\\\":\\\"white\\\",\\\"zerolinewidth\\\":2,\\\"title\\\":{\\\"standoff\\\":15},\\\"ticks\\\":\\\"\\\",\\\"zerolinecolor\\\":\\\"white\\\",\\\"automargin\\\":true,\\\"linecolor\\\":\\\"white\\\"},\\\"hovermode\\\":\\\"closest\\\",\\\"paper_bgcolor\\\":\\\"white\\\",\\\"geo\\\":{\\\"showlakes\\\":true,\\\"showland\\\":true,\\\"landcolor\\\":\\\"#E5ECF6\\\",\\\"bgcolor\\\":\\\"white\\\",\\\"subunitcolor\\\":\\\"white\\\",\\\"lakecolor\\\":\\\"white\\\"},\\\"colorscale\\\":{\\\"sequential\\\":[[0.0,\\\"#0d0887\\\"],[0.1111111111111111,\\\"#46039f\\\"],[0.2222222222222222,\\\"#7201a8\\\"],[0.3333333333333333,\\\"#9c179e\\\"],[0.4444444444444444,\\\"#bd3786\\\"],[0.5555555555555556,\\\"#d8576b\\\"],[0.6666666666666666,\\\"#ed7953\\\"],[0.7777777777777778,\\\"#fb9f3a\\\"],[0.8888888888888888,\\\"#fdca26\\\"],[1.0,\\\"#f0f921\\\"]],\\\"diverging\\\":[[0,\\\"#8e0152\\\"],[0.1,\\\"#c51b7d\\\"],[0.2,\\\"#de77ae\\\"],[0.3,\\\"#f1b6da\\\"],[0.4,\\\"#fde0ef\\\"],[0.5,\\\"#f7f7f7\\\"],[0.6,\\\"#e6f5d0\\\"],[0.7,\\\"#b8e186\\\"],[0.8,\\\"#7fbc41\\\"],[0.9,\\\"#4d9221\\\"],[1,\\\"#276419\\\"]],\\\"sequentialminus\\\":[[0.0,\\\"#0d0887\\\"],[0.1111111111111111,\\\"#46039f\\\"],[0.2222222222222222,\\\"#7201a8\\\"],[0.3333333333333333,\\\"#9c179e\\\"],[0.4444444444444444,\\\"#bd3786\\\"],[0.5555555555555556,\\\"#d8576b\\\"],[0.6666666666666666,\\\"#ed7953\\\"],[0.7777777777777778,\\\"#fb9f3a\\\"],[0.8888888888888888,\\\"#fdca26\\\"],[1.0,\\\"#f0f921\\\"]]},\\\"yaxis\\\":{\\\"gridcolor\\\":\\\"white\\\",\\\"zerolinewidth\\\":2,\\\"title\\\":{\\\"standoff\\\":15},\\\"ticks\\\":\\\"\\\",\\\"zerolinecolor\\\":\\\"white\\\",\\\"automargin\\\":true,\\\"linecolor\\\":\\\"white\\\"},\\\"shapedefaults\\\":{\\\"line\\\":{\\\"color\\\":\\\"#2a3f5f\\\"}},\\\"hoverlabel\\\":{\\\"align\\\":\\\"left\\\"},\\\"mapbox\\\":{\\\"style\\\":\\\"light\\\"},\\\"polar\\\":{\\\"angularaxis\\\":{\\\"gridcolor\\\":\\\"white\\\",\\\"ticks\\\":\\\"\\\",\\\"linecolor\\\":\\\"white\\\"},\\\"bgcolor\\\":\\\"#E5ECF6\\\",\\\"radialaxis\\\":{\\\"gridcolor\\\":\\\"white\\\",\\\"ticks\\\":\\\"\\\",\\\"linecolor\\\":\\\"white\\\"}},\\\"autotypenumbers\\\":\\\"strict\\\",\\\"font\\\":{\\\"color\\\":\\\"#2a3f5f\\\"},\\\"ternary\\\":{\\\"baxis\\\":{\\\"gridcolor\\\":\\\"white\\\",\\\"ticks\\\":\\\"\\\",\\\"linecolor\\\":\\\"white\\\"},\\\"bgcolor\\\":\\\"#E5ECF6\\\",\\\"caxis\\\":{\\\"gridcolor\\\":\\\"white\\\",\\\"ticks\\\":\\\"\\\",\\\"linecolor\\\":\\\"white\\\"},\\\"aaxis\\\":{\\\"gridcolor\\\":\\\"white\\\",\\\"ticks\\\":\\\"\\\",\\\"linecolor\\\":\\\"white\\\"}},\\\"annotationdefaults\\\":{\\\"arrowhead\\\":0,\\\"arrowwidth\\\":1,\\\"arrowcolor\\\":\\\"#2a3f5f\\\"},\\\"plot_bgcolor\\\":\\\"#E5ECF6\\\",\\\"title\\\":{\\\"x\\\":0.05},\\\"scene\\\":{\\\"xaxis\\\":{\\\"gridcolor\\\":\\\"white\\\",\\\"gridwidth\\\":2,\\\"backgroundcolor\\\":\\\"#E5ECF6\\\",\\\"ticks\\\":\\\"\\\",\\\"showbackground\\\":true,\\\"zerolinecolor\\\":\\\"white\\\",\\\"linecolor\\\":\\\"white\\\"},\\\"zaxis\\\":{\\\"gridcolor\\\":\\\"white\\\",\\\"gridwidth\\\":2,\\\"backgroundcolor\\\":\\\"#E5ECF6\\\",\\\"ticks\\\":\\\"\\\",\\\"showbackground\\\":true,\\\"zerolinecolor\\\":\\\"white\\\",\\\"linecolor\\\":\\\"white\\\"},\\\"yaxis\\\":{\\\"gridcolor\\\":\\\"white\\\",\\\"gridwidth\\\":2,\\\"backgroundcolor\\\":\\\"#E5ECF6\\\",\\\"ticks\\\":\\\"\\\",\\\"showbackground\\\":true,\\\"zerolinecolor\\\":\\\"white\\\",\\\"linecolor\\\":\\\"white\\\"}},\\\"colorway\\\":[\\\"#636efa\\\",\\\"#EF553B\\\",\\\"#00cc96\\\",\\\"#ab63fa\\\",\\\"#FFA15A\\\",\\\"#19d3f3\\\",\\\"#FF6692\\\",\\\"#B6E880\\\",\\\"#FF97FF\\\",\\\"#FECB52\\\"]},\\\"data\\\":{\\\"barpolar\\\":[{\\\"type\\\":\\\"barpolar\\\",\\\"marker\\\":{\\\"line\\\":{\\\"color\\\":\\\"#E5ECF6\\\",\\\"width\\\":0.5}}}],\\\"carpet\\\":[{\\\"aaxis\\\":{\\\"gridcolor\\\":\\\"white\\\",\\\"endlinecolor\\\":\\\"#2a3f5f\\\",\\\"minorgridcolor\\\":\\\"white\\\",\\\"startlinecolor\\\":\\\"#2a3f5f\\\",\\\"linecolor\\\":\\\"white\\\"},\\\"type\\\":\\\"carpet\\\",\\\"baxis\\\":{\\\"gridcolor\\\":\\\"white\\\",\\\"endlinecolor\\\":\\\"#2a3f5f\\\",\\\"minorgridcolor\\\":\\\"white\\\",\\\"startlinecolor\\\":\\\"#2a3f5f\\\",\\\"linecolor\\\":\\\"white\\\"}}],\\\"scatterpolar\\\":[{\\\"type\\\":\\\"scatterpolar\\\",\\\"marker\\\":{\\\"colorbar\\\":{\\\"ticks\\\":\\\"\\\",\\\"outlinewidth\\\":0}}}],\\\"parcoords\\\":[{\\\"line\\\":{\\\"colorbar\\\":{\\\"ticks\\\":\\\"\\\",\\\"outlinewidth\\\":0}},\\\"type\\\":\\\"parcoords\\\"}],\\\"scatter\\\":[{\\\"type\\\":\\\"scatter\\\",\\\"marker\\\":{\\\"colorbar\\\":{\\\"ticks\\\":\\\"\\\",\\\"outlinewidth\\\":0}}}],\\\"histogram2dcontour\\\":[{\\\"colorbar\\\":{\\\"ticks\\\":\\\"\\\",\\\"outlinewidth\\\":0},\\\"type\\\":\\\"histogram2dcontour\\\",\\\"colorscale\\\":[[0.0,\\\"#0d0887\\\"],[0.1111111111111111,\\\"#46039f\\\"],[0.2222222222222222,\\\"#7201a8\\\"],[0.3333333333333333,\\\"#9c179e\\\"],[0.4444444444444444,\\\"#bd3786\\\"],[0.5555555555555556,\\\"#d8576b\\\"],[0.6666666666666666,\\\"#ed7953\\\"],[0.7777777777777778,\\\"#fb9f3a\\\"],[0.8888888888888888,\\\"#fdca26\\\"],[1.0,\\\"#f0f921\\\"]]}],\\\"contour\\\":[{\\\"colorbar\\\":{\\\"ticks\\\":\\\"\\\",\\\"outlinewidth\\\":0},\\\"type\\\":\\\"contour\\\",\\\"colorscale\\\":[[0.0,\\\"#0d0887\\\"],[0.1111111111111111,\\\"#46039f\\\"],[0.2222222222222222,\\\"#7201a8\\\"],[0.3333333333333333,\\\"#9c179e\\\"],[0.4444444444444444,\\\"#bd3786\\\"],[0.5555555555555556,\\\"#d8576b\\\"],[0.6666666666666666,\\\"#ed7953\\\"],[0.7777777777777778,\\\"#fb9f3a\\\"],[0.8888888888888888,\\\"#fdca26\\\"],[1.0,\\\"#f0f921\\\"]]}],\\\"scattercarpet\\\":[{\\\"type\\\":\\\"scattercarpet\\\",\\\"marker\\\":{\\\"colorbar\\\":{\\\"ticks\\\":\\\"\\\",\\\"outlinewidth\\\":0}}}],\\\"mesh3d\\\":[{\\\"colorbar\\\":{\\\"ticks\\\":\\\"\\\",\\\"outlinewidth\\\":0},\\\"type\\\":\\\"mesh3d\\\"}],\\\"surface\\\":[{\\\"colorbar\\\":{\\\"ticks\\\":\\\"\\\",\\\"outlinewidth\\\":0},\\\"type\\\":\\\"surface\\\",\\\"colorscale\\\":[[0.0,\\\"#0d0887\\\"],[0.1111111111111111,\\\"#46039f\\\"],[0.2222222222222222,\\\"#7201a8\\\"],[0.3333333333333333,\\\"#9c179e\\\"],[0.4444444444444444,\\\"#bd3786\\\"],[0.5555555555555556,\\\"#d8576b\\\"],[0.6666666666666666,\\\"#ed7953\\\"],[0.7777777777777778,\\\"#fb9f3a\\\"],[0.8888888888888888,\\\"#fdca26\\\"],[1.0,\\\"#f0f921\\\"]]}],\\\"scattermapbox\\\":[{\\\"type\\\":\\\"scattermapbox\\\",\\\"marker\\\":{\\\"colorbar\\\":{\\\"ticks\\\":\\\"\\\",\\\"outlinewidth\\\":0}}}],\\\"scattergeo\\\":[{\\\"type\\\":\\\"scattergeo\\\",\\\"marker\\\":{\\\"colorbar\\\":{\\\"ticks\\\":\\\"\\\",\\\"outlinewidth\\\":0}}}],\\\"histogram\\\":[{\\\"type\\\":\\\"histogram\\\",\\\"marker\\\":{\\\"colorbar\\\":{\\\"ticks\\\":\\\"\\\",\\\"outlinewidth\\\":0}}}],\\\"pie\\\":[{\\\"type\\\":\\\"pie\\\",\\\"automargin\\\":true}],\\\"choropleth\\\":[{\\\"colorbar\\\":{\\\"ticks\\\":\\\"\\\",\\\"outlinewidth\\\":0},\\\"type\\\":\\\"choropleth\\\"}],\\\"heatmapgl\\\":[{\\\"colorbar\\\":{\\\"ticks\\\":\\\"\\\",\\\"outlinewidth\\\":0},\\\"type\\\":\\\"heatmapgl\\\",\\\"colorscale\\\":[[0.0,\\\"#0d0887\\\"],[0.1111111111111111,\\\"#46039f\\\"],[0.2222222222222222,\\\"#7201a8\\\"],[0.3333333333333333,\\\"#9c179e\\\"],[0.4444444444444444,\\\"#bd3786\\\"],[0.5555555555555556,\\\"#d8576b\\\"],[0.6666666666666666,\\\"#ed7953\\\"],[0.7777777777777778,\\\"#fb9f3a\\\"],[0.8888888888888888,\\\"#fdca26\\\"],[1.0,\\\"#f0f921\\\"]]}],\\\"bar\\\":[{\\\"type\\\":\\\"bar\\\",\\\"error_y\\\":{\\\"color\\\":\\\"#2a3f5f\\\"},\\\"error_x\\\":{\\\"color\\\":\\\"#2a3f5f\\\"},\\\"marker\\\":{\\\"line\\\":{\\\"color\\\":\\\"#E5ECF6\\\",\\\"width\\\":0.5}}}],\\\"heatmap\\\":[{\\\"colorbar\\\":{\\\"ticks\\\":\\\"\\\",\\\"outlinewidth\\\":0},\\\"type\\\":\\\"heatmap\\\",\\\"colorscale\\\":[[0.0,\\\"#0d0887\\\"],[0.1111111111111111,\\\"#46039f\\\"],[0.2222222222222222,\\\"#7201a8\\\"],[0.3333333333333333,\\\"#9c179e\\\"],[0.4444444444444444,\\\"#bd3786\\\"],[0.5555555555555556,\\\"#d8576b\\\"],[0.6666666666666666,\\\"#ed7953\\\"],[0.7777777777777778,\\\"#fb9f3a\\\"],[0.8888888888888888,\\\"#fdca26\\\"],[1.0,\\\"#f0f921\\\"]]}],\\\"contourcarpet\\\":[{\\\"colorbar\\\":{\\\"ticks\\\":\\\"\\\",\\\"outlinewidth\\\":0},\\\"type\\\":\\\"contourcarpet\\\"}],\\\"table\\\":[{\\\"type\\\":\\\"table\\\",\\\"header\\\":{\\\"line\\\":{\\\"color\\\":\\\"white\\\"},\\\"fill\\\":{\\\"color\\\":\\\"#C8D4E3\\\"}},\\\"cells\\\":{\\\"line\\\":{\\\"color\\\":\\\"white\\\"},\\\"fill\\\":{\\\"color\\\":\\\"#EBF0F8\\\"}}}],\\\"scatter3d\\\":[{\\\"line\\\":{\\\"colorbar\\\":{\\\"ticks\\\":\\\"\\\",\\\"outlinewidth\\\":0}},\\\"type\\\":\\\"scatter3d\\\",\\\"marker\\\":{\\\"colorbar\\\":{\\\"ticks\\\":\\\"\\\",\\\"outlinewidth\\\":0}}}],\\\"scattergl\\\":[{\\\"type\\\":\\\"scattergl\\\",\\\"marker\\\":{\\\"colorbar\\\":{\\\"ticks\\\":\\\"\\\",\\\"outlinewidth\\\":0}}}],\\\"histogram2d\\\":[{\\\"colorbar\\\":{\\\"ticks\\\":\\\"\\\",\\\"outlinewidth\\\":0},\\\"type\\\":\\\"histogram2d\\\",\\\"colorscale\\\":[[0.0,\\\"#0d0887\\\"],[0.1111111111111111,\\\"#46039f\\\"],[0.2222222222222222,\\\"#7201a8\\\"],[0.3333333333333333,\\\"#9c179e\\\"],[0.4444444444444444,\\\"#bd3786\\\"],[0.5555555555555556,\\\"#d8576b\\\"],[0.6666666666666666,\\\"#ed7953\\\"],[0.7777777777777778,\\\"#fb9f3a\\\"],[0.8888888888888888,\\\"#fdca26\\\"],[1.0,\\\"#f0f921\\\"]]}],\\\"scatterternary\\\":[{\\\"type\\\":\\\"scatterternary\\\",\\\"marker\\\":{\\\"colorbar\\\":{\\\"ticks\\\":\\\"\\\",\\\"outlinewidth\\\":0}}}],\\\"scatterpolargl\\\":[{\\\"type\\\":\\\"scatterpolargl\\\",\\\"marker\\\":{\\\"colorbar\\\":{\\\"ticks\\\":\\\"\\\",\\\"outlinewidth\\\":0}}}]}},\\\"margin\\\":{\\\"l\\\":50,\\\"b\\\":50,\\\"r\\\":50,\\\"t\\\":60},\\\"yaxis\\\":{\\\"showticklabels\\\":false,\\\"range\\\":[0.0,0.3]}},{\\\"showLink\\\":false,\\\"editable\\\":false,\\\"responsive\\\":true,\\\"staticPlot\\\":false,\\\"scrollZoom\\\":true}); gd.on(\\\"plotly_hover\\\",(function (data){var filtered_data=WebIO.PlotlyCommands.filterEventData(gd,data,\\\"hover\\\"); return !(filtered_data.isnil) ? (WebIO.setval({\\\"name\\\":\\\"hover\\\",\\\"scope\\\":\\\"4389100568562325015\\\",\\\"id\\\":\\\"6700414177318329805\\\",\\\"type\\\":\\\"observable\\\"},filtered_data.out)) : undefined})); gd.on(\\\"plotly_unhover\\\",(function (){return WebIO.setval({\\\"name\\\":\\\"hover\\\",\\\"scope\\\":\\\"4389100568562325015\\\",\\\"id\\\":\\\"6700414177318329805\\\",\\\"type\\\":\\\"observable\\\"},{})})); gd.on(\\\"plotly_selected\\\",(function (data){var filtered_data=WebIO.PlotlyCommands.filterEventData(gd,data,\\\"selected\\\"); return !(filtered_data.isnil) ? (WebIO.setval({\\\"name\\\":\\\"selected\\\",\\\"scope\\\":\\\"4389100568562325015\\\",\\\"id\\\":\\\"12562642420627652274\\\",\\\"type\\\":\\\"observable\\\"},filtered_data.out)) : undefined})); gd.on(\\\"plotly_deselect\\\",(function (){return WebIO.setval({\\\"name\\\":\\\"selected\\\",\\\"scope\\\":\\\"4389100568562325015\\\",\\\"id\\\":\\\"12562642420627652274\\\",\\\"type\\\":\\\"observable\\\"},{})})); gd.on(\\\"plotly_relayout\\\",(function (data){var filtered_data=WebIO.PlotlyCommands.filterEventData(gd,data,\\\"relayout\\\"); return !(filtered_data.isnil) ? (WebIO.setval({\\\"name\\\":\\\"relayout\\\",\\\"scope\\\":\\\"4389100568562325015\\\",\\\"id\\\":\\\"3459629493610280182\\\",\\\"type\\\":\\\"observable\\\"},filtered_data.out)) : undefined})); return gd.on(\\\"plotly_click\\\",(function (data){var filtered_data=WebIO.PlotlyCommands.filterEventData(gd,data,\\\"click\\\"); return !(filtered_data.isnil) ? (WebIO.setval({\\\"name\\\":\\\"click\\\",\\\"scope\\\":\\\"4389100568562325015\\\",\\\"id\\\":\\\"1743787723744552531\\\",\\\"type\\\":\\\"observable\\\"},filtered_data.out)) : undefined}))}));\\n    (WebIO.importBlock({\\\"data\\\":[{\\\"name\\\":\\\"Plotly\\\",\\\"type\\\":\\\"js\\\",\\\"url\\\":\\\"\\/assetserver\\/5369e54fe8d828ab0ae82f146492a98dbe6f40df-plotly.min.js\\\"},{\\\"name\\\":null,\\\"type\\\":\\\"js\\\",\\\"url\\\":\\\"\\/assetserver\\/23e257f104a73815a6c1d51a939a2bc0d6e8d7c9-plotly_webio.bundle.js\\\"}],\\\"type\\\":\\\"async_block\\\"})).then((imports) => handler.apply(this, imports));\\n}\\n\"],\"observables\":{\"_toImage\":{\"sync\":false,\"id\":\"9232345039266800521\",\"value\":{}},\"hover\":{\"sync\":false,\"id\":\"6700414177318329805\",\"value\":{}},\"selected\":{\"sync\":false,\"id\":\"12562642420627652274\",\"value\":{}},\"__gd_contents\":{\"sync\":false,\"id\":\"8831312842309567688\",\"value\":{}},\"click\":{\"sync\":false,\"id\":\"1743787723744552531\",\"value\":{}},\"image\":{\"sync\":true,\"id\":\"5237560509031765787\",\"value\":\"\"},\"__get_gd_contents\":{\"sync\":false,\"id\":\"17830923433047685847\",\"value\":\"\"},\"_downloadImage\":{\"sync\":false,\"id\":\"15335534240917630244\",\"value\":{}},\"relayout\":{\"sync\":false,\"id\":\"3459629493610280182\",\"value\":{}},\"_commands\":{\"sync\":false,\"id\":\"12106346662551316168\",\"value\":[]}}},\"children\":[{\"props\":{\"id\":\"plot-2df5a37b-94a4-4213-be63-d0d0baead979\"},\"nodeType\":\"DOM\",\"type\":\"node\",\"instanceArgs\":{\"namespace\":\"html\",\"tag\":\"div\"},\"children\":[]}]},\n",
       "        window,\n",
       "    );\n",
       "    })()\n",
       "    </script>\n",
       "</div>\n"
      ],
      "text/plain": [
       "data: [\n",
       "  \"scatter with fields line, mode, type, x, and y\",\n",
       "  \"scatter with fields line, mode, text, type, x, and y\",\n",
       "  \"scatter with fields line, mode, text, type, x, and y\",\n",
       "  \"scatter with fields line, mode, text, type, x, and y\",\n",
       "  \"scatter with fields line, mode, text, type, x, and y\",\n",
       "  \"scatter with fields line, mode, text, type, x, and y\",\n",
       "  \"scatter with fields line, mode, text, type, x, and y\",\n",
       "  \"scatter with fields line, mode, text, type, x, and y\",\n",
       "  \"scatter with fields line, mode, text, type, x, and y\",\n",
       "  \"scatter with fields line, mode, text, type, x, and y\",\n",
       "  \"scatter with fields line, mode, text, type, x, and y\",\n",
       "  \"scatter with fields line, mode, text, type, x, and y\",\n",
       "  \"scatter with fields line, mode, text, type, x, and y\",\n",
       "  \"scatter with fields line, mode, text, type, x, and y\",\n",
       "  \"scatter with fields line, mode, text, type, x, and y\",\n",
       "  \"scatter with fields line, mode, text, type, x, and y\",\n",
       "  \"scatter with fields line, mode, text, type, x, and y\",\n",
       "  \"scatter with fields line, mode, text, type, x, and y\",\n",
       "  \"scatter with fields line, mode, text, type, x, and y\",\n",
       "  \"scatter with fields line, mode, text, type, x, and y\"\n",
       "]\n",
       "\n",
       "layout: \"layout with fields margin, showlegend, template, xaxis, and yaxis\"\n",
       "\n"
      ]
     },
     "metadata": {},
     "output_type": "display_data"
    }
   ],
   "source": [
    "# Interactive plot with PlotlyJS backend\n",
    "function plot_cars(curb_length, park_simulation)\n",
    "    car_positions = park_simulation[\"parked_cars\"]\n",
    "    \n",
    "    starts = map(x -> x[1], car_positions)\n",
    "    ends = map(x -> x[2], car_positions)\n",
    "    driverNo = map(x -> x[4], car_positions)\n",
    "\n",
    "    x = [starts; ends]\n",
    "    y = ones(2*size(x)[1])\n",
    "    traces = [scatter(x=[0, curb_length], y=[0.1, 0.1], mode=\"lines\", line=attr(width=100, color=\"black\"))]\n",
    "    \n",
    "    for i in eachindex(starts)\n",
    "        trace = scatter(x=[starts[i],ends[i]], y=[0.2,0.2], text=\"Driver $(driverNo[i])\", mode=\"lines\", line=attr(width=30))\n",
    "        push!(traces, trace)\n",
    "    end\n",
    "\n",
    "\n",
    "    layout = Layout(showlegend=false, xaxis=attr(ticks=\"outside\", tick0=0, dtick=10),\n",
    "                    yaxis=attr(showticklabels=false, range=[0, 0.3]))\n",
    "    \n",
    "    \n",
    "    plot(traces, layout)\n",
    "end\n",
    "\n",
    "plot_cars(curb_length, result)\n"
   ]
  },
  {
   "cell_type": "code",
   "execution_count": null,
   "metadata": {},
   "outputs": [],
   "source": [
    "function overlap_test(park_simulation)\n",
    "    starts = map(x -> x[1], car_positions)\n",
    "    ends = map(x -> x[2], car_positions)\n",
    "    driverNo = map(x -> x[4], car_positions)"
   ]
  },
  {
   "cell_type": "code",
   "execution_count": 7,
   "metadata": {},
   "outputs": [],
   "source": [
    "# Static plot, will require kernel restart and switch to Plots (GS) backend\n",
    "# function plot_cars(curb_length, park_simulation)\n",
    "\n",
    "#     car_positions = park_simulation[\"parked_cars\"]\n",
    "#     plot(size=(1200, 200), legend=false)\n",
    "\n",
    "#     starts = map(x -> x[1], car_positions)\n",
    "#     ends = map(x -> x[2], car_positions)\n",
    "\n",
    "#     for i in eachindex(starts) # plot each car on the curb\n",
    "#         plot!([starts[i], ends[i]], [1,1], linewidth=5, label=\"\")\n",
    "#     end\n",
    "\n",
    "#     xticks!(0:10:curb_length)\n",
    "#     yaxis!(:off)\n",
    "#     plot!([0, curb_length], [0.1, 0.1], linewidth=4, color=:black)  # Plot the \"curb\" as black line\n",
    "#     xlims!(-5, curb_length+5)  # Set the x-axis limits slightly wider than the number line range\n",
    "#     ylims!(0, 2)  # Set the y-axis limits to center the number line\n",
    "# end\n",
    "\n",
    "# plot_cars(curb_length, result)"
   ]
  },
  {
   "cell_type": "code",
   "execution_count": 3,
   "metadata": {},
   "outputs": [
    {
     "data": {
      "text/plain": [
       "4×4 Matrix{Int64}:\n",
       " 0  2  1  0\n",
       " 2  0  0  1\n",
       " 1  0  0  2\n",
       " 0  1  2  0"
      ]
     },
     "metadata": {},
     "output_type": "display_data"
    }
   ],
   "source": [
    "a =[0 2 1 0\n",
    "    2 0 0 1\n",
    "    1 0 0 2\n",
    "    0 1 2 0]"
   ]
  },
  {
   "cell_type": "code",
   "execution_count": null,
   "metadata": {},
   "outputs": [],
   "source": [
    "b =[0 2 0 1 0 0\n",
    "    2 0 2 0 1 0\n",
    "    0 2 0 0 0 1\n",
    "    1 0 0 0 2 0\n",
    "    0 1 0 2 0 2\n",
    "    0 0 1 0 2 0]"
   ]
  },
  {
   "cell_type": "code",
   "execution_count": null,
   "metadata": {},
   "outputs": [],
   "source": [
    "c =[0 2 0 0 1 0 0 0 0 0 0\n",
    "    2 0 2 0 0 1 0 0 0 0 0\n",
    "    0 2 0 2 0 0 1 0 0 0 0\n",
    "    1 0 0 0 ]"
   ]
  },
  {
   "attachments": {},
   "cell_type": "markdown",
   "metadata": {},
   "source": [
    "# TODO\n",
    "\n",
    "1. Add option to `park` so that drivers prefer bigger spaces (right now they always take the first spot that fits their car and skill level)\n",
    "2. Create driver policies to determine how they will chose a spot\n",
    "3. Compartmentalize functions as much as possible\n",
    "4. Create gif animation of parking lot over time"
   ]
  },
  {
   "attachments": {},
   "cell_type": "markdown",
   "metadata": {},
   "source": []
  }
 ],
 "metadata": {
  "kernelspec": {
   "display_name": "Julia 1.8.5",
   "language": "julia",
   "name": "julia-1.8"
  },
  "language_info": {
   "file_extension": ".jl",
   "mimetype": "application/julia",
   "name": "julia",
   "version": "1.8.5"
  },
  "orig_nbformat": 4
 },
 "nbformat": 4,
 "nbformat_minor": 2
}
